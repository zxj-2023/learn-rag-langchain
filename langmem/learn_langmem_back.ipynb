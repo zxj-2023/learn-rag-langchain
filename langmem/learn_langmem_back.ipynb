{
 "cells": [
  {
   "cell_type": "code",
   "execution_count": 1,
   "id": "3b1a635e",
   "metadata": {},
   "outputs": [],
   "source": [
    "from langchain.chat_models import init_chat_model \n",
    "from langgraph.func import entrypoint \n",
    "from langgraph.store.memory import InMemoryStore \n",
    "\n",
    "from langmem import ReflectionExecutor, create_memory_store_manager \n"
   ]
  },
  {
   "cell_type": "code",
   "execution_count": 2,
   "id": "706fd3e3",
   "metadata": {},
   "outputs": [],
   "source": [
    "from langchain_openai import OpenAIEmbeddings\n",
    "embedding=OpenAIEmbeddings(\n",
    "    api_key=\"sk-081025394d9e4f35adbb67ea07c3dae1\", \n",
    "    base_url=\"https://dashscope.aliyuncs.com/compatible-mode/v1\",\n",
    "    model=\"text-embedding-v4\",\n",
    "    check_embedding_ctx_length = False,\n",
    "    dimensions=1536 \n",
    ")\n",
    "store = InMemoryStore(\n",
    "    index={ # 存储提取的记忆 \n",
    "        \"dims\": 1536,\n",
    "        \"embed\": embedding,\n",
    "    }\n",
    ") "
   ]
  },
  {
   "cell_type": "code",
   "execution_count": 3,
   "id": "d823835c",
   "metadata": {},
   "outputs": [],
   "source": [
    "from langchain_openai import ChatOpenAI\n",
    "model_qwen=ChatOpenAI(\n",
    "    api_key=\"sk-081025394d9e4f35adbb67ea07c3dae1\", \n",
    "    base_url=\"https://dashscope.aliyuncs.com/compatible-mode/v1\",\n",
    "    model=\"qwen3-30b-a3b-instruct-2507\",\n",
    ")"
   ]
  },
  {
   "cell_type": "code",
   "execution_count": 17,
   "id": "90d067ae",
   "metadata": {},
   "outputs": [],
   "source": [
    "# 创建记忆管理器 Runnable 来从对话中提取记忆\n",
    "memory_manager = create_memory_store_manager( \n",
    "    model_qwen, \n",
    "    # 将记忆存储在 \"memories\" 命名空间（即目录）中\n",
    "    namespace=(\"memories\",),  \n",
    "    instructions=\"用中文存储记忆。\"\n",
    ") \n"
   ]
  },
  {
   "cell_type": "code",
   "execution_count": null,
   "id": "36fde217",
   "metadata": {},
   "outputs": [
    {
     "name": "stdout",
     "output_type": "stream",
     "text": [
      "好的，张熙浚，我已经记住了你的名字。有什么我可以帮你的吗？\n"
     ]
    }
   ],
   "source": [
    "@entrypoint(store=store)  # 创建一个 LangGraph 工作流\n",
    "async def chat(message: str): \n",
    "    response = model_qwen.invoke(message) \n",
    "\n",
    "    # memory_manager 从对话历史中提取记忆\n",
    "    # 我们将以 OpenAI 的消息格式提供它\n",
    "    to_process = {\"messages\": [{\"role\": \"user\", \"content\": message}] + [response]} \n",
    "    await memory_manager.ainvoke(to_process)  \n",
    "    return response.content \n",
    "\n",
    "# 正常运行对话\n",
    "response = await chat.ainvoke( \n",
    "    \"记住我是张熙浚\", \n",
    ") \n",
    "print(response) \n"
   ]
  },
  {
   "cell_type": "code",
   "execution_count": 21,
   "id": "375202ff",
   "metadata": {},
   "outputs": [
    {
     "name": "stdout",
     "output_type": "stream",
     "text": [
      "[Item(namespace=['memories'], key='fe8fe312-182d-4170-869e-1cc41b44c729', value={'kind': 'Memory', 'content': {'content': \"User's name is Zhang Xijun. This is a direct statement from the user in the current session, confirmed by the agent's acknowledgment. The information is explicit and unambiguous, with p(1.0). The agent has successfully stored this personal identifier for future personalized interactions.\"}}, created_at='2025-08-14T08:54:05.841039+00:00', updated_at='2025-08-14T08:54:05.841043+00:00', score=None), Item(namespace=['memories'], key='f19c540d-69cc-46e8-870a-91a3231e01a4', value={'kind': 'Memory', 'content': {'content': \"User expressed a positive sentiment toward dogs, stating '我喜欢狗' (I like dogs). This is a direct expression of preference. The agent responded with enthusiasm and attempted to deepen the conversation by asking about pet ownership and specific dog breeds. The user's preference for dogs is explicit and unambiguous, with p(1.0). The agent has successfully recorded this as a personal interest for future personalized interactions.\"}}, created_at='2025-08-14T08:54:36.660610+00:00', updated_at='2025-08-14T08:54:36.660614+00:00', score=None), Item(namespace=['memories'], key='eba213de-6e31-4d84-a5b3-e15d3ae9c5bc', value={'kind': 'Memory', 'content': {'content': \"User expressed a positive sentiment toward dogs, stating '我喜欢狗' (I like dogs). This is a direct expression of preference. The agent responded with enthusiasm and attempted to deepen the conversation by asking about pet ownership and specific dog breeds. The user's preference for dogs is explicit and unambiguous, with p(1.0). The agent has successfully recorded this as a personal interest for future personalized interactions.\"}}, created_at='2025-08-14T08:59:20.134148+00:00', updated_at='2025-08-14T08:59:20.134153+00:00', score=None), Item(namespace=['memories'], key='75c150b2-04a7-43e3-b038-e59847f235da', value={'kind': 'Memory', 'content': {'content': \"User expressed a positive sentiment toward dogs, stating '我喜欢狗' (I like dogs). This is a direct expression of preference. The agent responded with enthusiasm and attempted to deepen the conversation by asking about pet ownership and specific dog breeds. The user's preference for dogs is explicit and unambiguous, with p(1.0). The agent has successfully recorded this as a personal interest for future personalized interactions.\"}}, created_at='2025-08-14T09:01:36.015044+00:00', updated_at='2025-08-14T09:01:36.015052+00:00', score=None), Item(namespace=['memories'], key='3fc5f3b2-518e-4a54-a045-976138dddcff', value={'kind': 'Memory', 'content': {'content': \"User's name is Zhang Xijun. This is a direct statement from the user in the current session, confirmed by the agent's acknowledgment. The information is explicit and unambiguous, with p(1.0). The agent has successfully stored this personal identifier for future personalized interactions.\"}}, created_at='2025-08-14T09:01:57.915069+00:00', updated_at='2025-08-14T09:01:57.915076+00:00', score=None), Item(namespace=['memories'], key='cfb89702-0801-4412-9817-f90dc6a661c5', value={'kind': 'Memory', 'content': {'content': \"User expressed a positive sentiment toward dogs, stating '我喜欢狗' (I like dogs). The user further specified that their dog's name is Mike. This is a direct and explicit statement about a specific pet. The agent responded with enthusiasm and asked about the breed of Mike to deepen the conversation. The user's preference for dogs is explicit and unambiguous, with p(1.0). The agent has successfully recorded this as a personal interest for future personalized interactions, now including the specific name of the dog, Mike.\"}}, created_at='2025-08-14T09:02:32.590362+00:00', updated_at='2025-08-14T09:02:32.590366+00:00', score=None), Item(namespace=['memories'], key='9ea59643-3087-4c9c-b120-52b6648522b1', value={'kind': 'Memory', 'content': {'content': \"User's name is Zhang Xijun. This is a direct statement from the user in the current session, confirmed by the agent's acknowledgment. The information is explicit and unambiguous, with p(1.0). The agent has successfully stored this personal identifier for future personalized interactions.\"}}, created_at='2025-08-14T09:02:52.059589+00:00', updated_at='2025-08-14T09:02:52.059594+00:00', score=None)]\n"
     ]
    }
   ],
   "source": [
    "print(store.search((\"memories\",)))"
   ]
  },
  {
   "cell_type": "code",
   "execution_count": 22,
   "id": "adba0b59",
   "metadata": {},
   "outputs": [
    {
     "data": {
      "text/plain": [
       "7"
      ]
     },
     "execution_count": 22,
     "metadata": {},
     "output_type": "execute_result"
    }
   ],
   "source": [
    "len(store.search((\"memories\",)))"
   ]
  }
 ],
 "metadata": {
  "kernelspec": {
   "display_name": "Python 3",
   "language": "python",
   "name": "python3"
  },
  "language_info": {
   "codemirror_mode": {
    "name": "ipython",
    "version": 3
   },
   "file_extension": ".py",
   "mimetype": "text/x-python",
   "name": "python",
   "nbconvert_exporter": "python",
   "pygments_lexer": "ipython3",
   "version": "3.11.1"
  }
 },
 "nbformat": 4,
 "nbformat_minor": 5
}
