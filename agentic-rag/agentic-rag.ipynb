{
 "cells": [
  {
   "cell_type": "code",
   "execution_count": 1,
   "metadata": {},
   "outputs": [
    {
     "name": "stdout",
     "output_type": "stream",
     "text": [
      "\u001b[33mWARNING: Running pip as the 'root' user can result in broken permissions and conflicting behaviour with the system package manager, possibly rendering your system unusable. It is recommended to use a virtual environment instead: https://pip.pypa.io/warnings/venv. Use the --root-user-action option if you know what you are doing and want to suppress this warning.\u001b[0m\u001b[33m\n",
      "\u001b[0m\n",
      "\u001b[1m[\u001b[0m\u001b[34;49mnotice\u001b[0m\u001b[1;39;49m]\u001b[0m\u001b[39;49m A new release of pip is available: \u001b[0m\u001b[31;49m25.0.1\u001b[0m\u001b[39;49m -> \u001b[0m\u001b[32;49m25.2\u001b[0m\n",
      "\u001b[1m[\u001b[0m\u001b[34;49mnotice\u001b[0m\u001b[1;39;49m]\u001b[0m\u001b[39;49m To update, run: \u001b[0m\u001b[32;49mpip install --upgrade pip\u001b[0m\n",
      "Note: you may need to restart the kernel to use updated packages.\n"
     ]
    }
   ],
   "source": [
    "\n",
    "%pip install -U --quiet langgraph \"langchain[openai]\" langchain-community langchain-text-splitters"
   ]
  },
  {
   "cell_type": "code",
   "execution_count": 1,
   "metadata": {},
   "outputs": [
    {
     "name": "stderr",
     "output_type": "stream",
     "text": [
      "USER_AGENT environment variable not set, consider setting it to identify your requests.\n"
     ]
    }
   ],
   "source": [
    "from langchain_community.document_loaders import WebBaseLoader\n",
    "\n",
    "urls = [\n",
    "    \"https://lilianweng.github.io/posts/2024-11-28-reward-hacking/\",\n",
    "    \"https://lilianweng.github.io/posts/2024-07-07-hallucination/\",\n",
    "    \"https://lilianweng.github.io/posts/2024-04-12-diffusion-video/\",\n",
    "]\n",
    "\n",
    "docs = [WebBaseLoader(url).load() for url in urls]"
   ]
  },
  {
   "cell_type": "code",
   "execution_count": 3,
   "metadata": {},
   "outputs": [
    {
     "data": {
      "text/plain": [
       "\"Reward Hacking in Reinforcement Learning | Lil'Log\\n\\n\\n\\n\\n\\n\\n\\n\\n\\n\\n\\n\\n\\n\\n\\n\\n\\n\\n\\n\\n\\n\\n\\n\\n\\n\\n\\n\\n\\n\\n\\n\\n\\n\\n\\n\\n\\n\\n\\n\\nLil'Log\\n\\n\\n\\n\\n\\n\\n\\n\\n\\n\\n\\n\\n\\n\\n\\n\\n\\n|\\n\\n\\n\\n\\n\\n\\nPosts\\n\\n\\n\\n\\nArchive\\n\\n\\n\\n\\nSearch\\n\\n\\n\\n\\nTags\\n\\n\\n\\n\\nFAQ\\n\\n\\n\\n\\n\\n\\n\\n\\n\\n      Reward Hacking in Reinforcement Learning\\n    \\nDate: November 28, 2024  |  Estimated Reading Time: 37 min  |  Author: Lilian Weng\\n\\n\\n \\n\\n\\nTable of Contents\\n\\n\\n\\nBackground\\n\\nReward Function in RL\\n\\nSpurious Correlation\\n\\n\\nLet’s Define Reward Hacking\\n\\nList of Examples\\n\\nReward hacking examples in RL tasks\\n\\nReward hacking examples in LLM tasks\\n\\nReward hacking examples in real life\\n\\n\\nWhy does Reward Hacking Exist?\\n\\n\\nHacking RL Environment\\n\\nHacking RLHF of LLMs\\n\\nHacking the Training Process\\n\\nHacking the Evaluator\\n\\nIn-Context Reward Hacking\\n\\n\\nGeneralization of Hacking Skills\\n\\nPeek into Mitigations\\n\\nRL Algorithm Improvement\\n\\nDetecting Reward Hacking\\n\\nData Analysis of RLHF\\n\\n\\nCitation\\n\\nReferences\\n\\n\\n\\n\\n\\nReward hacking occurs when a reinforcement learning (RL) agent exploits flaws or ambiguities in the reward function to ac\""
      ]
     },
     "execution_count": 3,
     "metadata": {},
     "output_type": "execute_result"
    }
   ],
   "source": [
    "docs[0][0].page_content.strip()[:1000]"
   ]
  },
  {
   "cell_type": "code",
   "execution_count": 2,
   "metadata": {},
   "outputs": [],
   "source": [
    "from langchain_text_splitters import RecursiveCharacterTextSplitter\n",
    "\n",
    "docs_list = [item for sublist in docs for item in sublist]\n",
    "\n",
    "text_splitter = RecursiveCharacterTextSplitter.from_tiktoken_encoder(\n",
    "    chunk_size=100, chunk_overlap=50\n",
    ")\n",
    "doc_splits = text_splitter.split_documents(docs_list)"
   ]
  },
  {
   "cell_type": "code",
   "execution_count": 5,
   "metadata": {},
   "outputs": [
    {
     "data": {
      "text/plain": [
       "\"Reward Hacking in Reinforcement Learning | Lil'Log\\n\\n\\n\\n\\n\\n\\n\\n\\n\\n\\n\\n\\n\\n\\n\\n\\n\\n\\n\\n\\n\\n\\n\\n\\n\\n\\n\\n\\n\\n\\n\\n\\n\\n\\n\\n\\n\\n\\n\\n\\nLil'Log\\n\\n\\n\\n\\n\\n\\n\\n\\n\\n\\n\\n\\n\\n\\n\\n\\n\\n|\\n\\n\\n\\n\\n\\n\\nPosts\\n\\n\\n\\n\\nArchive\\n\\n\\n\\n\\nSearch\\n\\n\\n\\n\\nTags\\n\\n\\n\\n\\nFAQ\""
      ]
     },
     "execution_count": 5,
     "metadata": {},
     "output_type": "execute_result"
    }
   ],
   "source": [
    "doc_splits[0].page_content.strip()"
   ]
  },
  {
   "cell_type": "code",
   "execution_count": 6,
   "metadata": {},
   "outputs": [],
   "source": [
    "from langchain_core.vectorstores import InMemoryVectorStore\n",
    "from langchain_openai import OpenAIEmbeddings\n",
    "\n",
    "embedding = OpenAIEmbeddings(\n",
    "api_key=\"sk-081025394d9e4f35adbb67ea07c3dae1\", \n",
    "base_url=\"https://dashscope.aliyuncs.com/compatible-mode/v1\",\n",
    "model=\"text-embedding-v4\",\n",
    "check_embedding_ctx_length = False,\n",
    "dimensions=1536,\n",
    "    chunk_size=5  # 设置为10或更小\n",
    ")\n",
    "\n",
    "vectorstore = InMemoryVectorStore.from_documents(\n",
    "    documents=doc_splits, embedding=embedding\n",
    ")\n",
    "retriever = vectorstore.as_retriever()"
   ]
  },
  {
   "cell_type": "code",
   "execution_count": 9,
   "metadata": {},
   "outputs": [],
   "source": [
    "from langchain_chroma import Chroma  # 导入 Chroma\n",
    "from langchain_openai import OpenAIEmbeddings\n",
    "import os\n",
    "\n",
    "# 确保安装了 langchain-chroma\n",
    "# pip install langchain-chroma\n",
    "\n",
    "embedding = OpenAIEmbeddings(\n",
    "    api_key=\"sk-081025394d9e4f35adbb67ea07c3dae1\", \n",
    "    base_url=\"https://dashscope.aliyuncs.com/compatible-mode/v1\",\n",
    "    model=\"text-embedding-v4\",\n",
    "    check_embedding_ctx_length=False,\n",
    "    dimensions=1536,\n",
    "    chunk_size=5  # 设置较小的批次大小\n",
    ")\n",
    "\n",
    "# 使用 Chroma 替代 InMemoryVectorStore\n",
    "vectorstore = Chroma.from_documents(\n",
    "    documents=doc_splits, \n",
    "    embedding=embedding,\n",
    "    persist_directory=\"./chroma_db\"  # 指定持久化目录\n",
    ")"
   ]
  },
  {
   "cell_type": "code",
   "execution_count": 1,
   "metadata": {},
   "outputs": [],
   "source": [
    "from langchain_chroma import Chroma \n",
    "from langchain_openai import OpenAIEmbeddings\n",
    "embedding = OpenAIEmbeddings(\n",
    "    api_key=\"sk-081025394d9e4f35adbb67ea07c3dae1\", \n",
    "    base_url=\"https://dashscope.aliyuncs.com/compatible-mode/v1\",\n",
    "    model=\"text-embedding-v4\",\n",
    "    check_embedding_ctx_length=False,\n",
    "    dimensions=1536,\n",
    "    chunk_size=5  # 设置较小的批次大小\n",
    ")\n",
    "# 重新加载已存在的 Chroma 数据库\n",
    "vectorstore = Chroma(\n",
    "    persist_directory=\"./chroma_db\",\n",
    "    embedding_function=embedding\n",
    ")\n",
    "\n",
    "retriever = vectorstore.as_retriever()"
   ]
  },
  {
   "cell_type": "code",
   "execution_count": 2,
   "metadata": {},
   "outputs": [],
   "source": [
    "from langchain.tools.retriever import create_retriever_tool\n",
    "\n",
    "retriever_tool = create_retriever_tool(\n",
    "    retriever,                    # 【输入】一个已经配置好的检索器（例如：向量数据库的检索器）\n",
    "    \"retrieve_blog_posts\",        # 【工具名称】这个工具的唯一标识名（供模型内部调用）\n",
    "    \"Search and return information about Lilian Weng blog posts.\"  # 【工具描述】模型看到的说明，用于决定是否调用它\n",
    ")"
   ]
  },
  {
   "cell_type": "code",
   "execution_count": 14,
   "metadata": {},
   "outputs": [
    {
     "data": {
      "text/plain": [
       "'Why does Reward Hacking Exist?#\\n\\nReward hacking occurs when a reinforcement learning (RL) agent exploits flaws or ambiguities in the reward function to achieve high rewards, without genuinely learning or completing the intended task. Reward hacking exists because RL environments are often imperfect, and it is fundamentally challenging to accurately specify a reward function.\\n\\nDetecting Reward Hacking#\\n\\nIn-Context Reward Hacking#'"
      ]
     },
     "execution_count": 14,
     "metadata": {},
     "output_type": "execute_result"
    }
   ],
   "source": [
    "retriever_tool.invoke({\"query\": \"types of reward hacking\"})"
   ]
  },
  {
   "cell_type": "code",
   "execution_count": 5,
   "metadata": {},
   "outputs": [],
   "source": [
    "from langchain_qwq import ChatQwen,ChatQwQ\n",
    "llm=ChatQwen(\n",
    "    model=\"qwen3-235b-a22b\",\n",
    "    api_key=\"sk-081025394d9e4f35adbb67ea07c3dae1\",\n",
    "    base_url=\"https://dashscope.aliyuncs.com/compatible-mode/v1\",\n",
    "    enable_thinking=False\n",
    ")"
   ]
  },
  {
   "cell_type": "code",
   "execution_count": 6,
   "metadata": {},
   "outputs": [
    {
     "data": {
      "text/plain": [
       "AIMessage(content='你好！有什么问题我可以帮助你吗？😊', additional_kwargs={'refusal': None, 'reasoning_content': ''}, response_metadata={'token_usage': {'completion_tokens': 10, 'prompt_tokens': 13, 'total_tokens': 23, 'completion_tokens_details': None, 'prompt_tokens_details': None}, 'model_name': 'qwen3-235b-a22b', 'system_fingerprint': None, 'id': 'chatcmpl-7272e5b2-e1ba-97bd-8781-7fd3b2a57d09', 'service_tier': None, 'finish_reason': 'stop', 'logprobs': None}, id='run--f306a234-a743-41b5-a05d-916ecf95cab5-0', usage_metadata={'input_tokens': 13, 'output_tokens': 10, 'total_tokens': 23, 'input_token_details': {}, 'output_token_details': {}})"
      ]
     },
     "execution_count": 6,
     "metadata": {},
     "output_type": "execute_result"
    }
   ],
   "source": [
    "llm.invoke(\"你好\")"
   ]
  },
  {
   "cell_type": "code",
   "execution_count": 11,
   "metadata": {},
   "outputs": [],
   "source": [
    "from langchain_community.chat_models import ChatTongyi\n",
    "llm = ChatTongyi(\n",
    "    model=\"qwen3-235b-a22b\",\n",
    "    api_key=\"sk-081025394d9e4f35adbb67ea07c3dae1\",\n",
    "    base_url=\"https://dashscope.aliyuncs.com/compatible-mode/v1\",\n",
    "    model_kwargs={\"enable_thinking\": False}   # 关键在这里\n",
    ")"
   ]
  },
  {
   "cell_type": "code",
   "execution_count": 12,
   "metadata": {},
   "outputs": [
    {
     "data": {
      "text/plain": [
       "AIMessage(content='你好！有什么我可以帮你的吗？😊', additional_kwargs={'reasoning_content': ''}, response_metadata={'model_name': 'qwen3-235b-a22b', 'finish_reason': 'stop', 'request_id': '1150911e-e1a3-9669-9643-22e9313c28ef', 'token_usage': {'input_tokens': 13, 'output_tokens': 9, 'total_tokens': 22}}, id='run--cdf0b314-3a6b-43a4-baea-d2983ec2f0cd-0')"
      ]
     },
     "execution_count": 12,
     "metadata": {},
     "output_type": "execute_result"
    }
   ],
   "source": [
    "llm.invoke(\"你好\")"
   ]
  },
  {
   "cell_type": "code",
   "execution_count": 13,
   "metadata": {},
   "outputs": [],
   "source": [
    "from langgraph.graph import MessagesState\n",
    "\n",
    "def generate_query_or_respond(state: MessagesState):\n",
    "    \"\"\"调用模型，根据当前状态生成响应。根据问题，模型将决定是使用检索工具进行检索，还是直接回复用户。\n",
    "    \"\"\"\n",
    "    response = (\n",
    "        llm\n",
    "        .bind_tools([retriever_tool]).invoke(state[\"messages\"])\n",
    "    )\n",
    "    return {\"messages\": [response]}"
   ]
  },
  {
   "cell_type": "code",
   "execution_count": 42,
   "metadata": {},
   "outputs": [
    {
     "name": "stdout",
     "output_type": "stream",
     "text": [
      "==================================\u001b[1m Ai Message \u001b[0m==================================\n",
      "\n",
      "你好！有什么我可以帮你的吗？\n"
     ]
    }
   ],
   "source": [
    "input = {\"messages\": [{\"role\": \"user\", \"content\": \"你好!\"}]}\n",
    "generate_query_or_respond(input)[\"messages\"][-1].pretty_print()"
   ]
  },
  {
   "cell_type": "code",
   "execution_count": 14,
   "metadata": {},
   "outputs": [
    {
     "name": "stdout",
     "output_type": "stream",
     "text": [
      "==================================\u001b[1m Ai Message \u001b[0m==================================\n",
      "Tool Calls:\n",
      "  retrieve_blog_posts (call_7268dc6deb1144d18f896f)\n",
      " Call ID: call_7268dc6deb1144d18f896f\n",
      "  Args:\n",
      "    query: types of reward hacking\n"
     ]
    }
   ],
   "source": [
    "input = {\n",
    "    \"messages\": [\n",
    "        {\n",
    "            \"role\": \"user\",\n",
    "            \"content\": \"What does Lilian Weng say about types of reward hacking?\",\n",
    "        }\n",
    "    ]\n",
    "}\n",
    "generate_query_or_respond(input)[\"messages\"][-1].pretty_print()"
   ]
  },
  {
   "cell_type": "code",
   "execution_count": 24,
   "metadata": {},
   "outputs": [],
   "source": [
    "from pydantic import BaseModel, Field\n",
    "from typing import Literal\n",
    "\n",
    "# 定义评分提示模板\n",
    "GRADE_PROMPT = (\n",
    "    \"你是一个评分员，负责评估检索到的文档与用户问题的相关性。\\n \"\n",
    "    \"以下是检索到的文档内容：\\n\\n {context} \\n\\n\"\n",
    "    \"以下是用户的问题：{question} \\n\"\n",
    "    \"如果文档包含与用户问题相关的关键词或语义含义，则将其评为相关。\\n\"\n",
    "    \"请给出一个二元评分：'yes'（是）表示相关，'no'（否）表示不相关。\"\n",
    ")\n",
    "\n",
    "# 定义用于评估文档相关性的 Pydantic 模型\n",
    "class GradeDocuments(BaseModel):\n",
    "    \"\"\"使用二元评分对文档进行相关性评估。\"\"\"\n",
    "    \n",
    "    binary_score: str = Field(\n",
    "        description=\"相关性评分：'yes' 表示相关，'no' 表示不相关\"\n",
    "    )\n",
    "\n",
    "# 初始化用于评分的聊天模型\n",
    "grader_model = llm\n",
    "\n",
    "def grade_documents(\n",
    "    state: MessagesState,\n",
    ") -> Literal[\"generate_answer\", \"rewrite_question\"]:\n",
    "    \"\"\"\n",
    "    判断检索到的文档是否与用户问题相关。\n",
    "    \n",
    "    参数:\n",
    "        state: 包含消息历史的状态对象，其中第一条消息是用户问题，\n",
    "               最后一条消息是检索到的文档内容。\n",
    "    \n",
    "    返回:\n",
    "        如果文档相关，返回 \"generate_answer\"；\n",
    "        如果不相关，返回 \"rewrite_question\"，表示需要重写问题并重新检索。\n",
    "    \"\"\"\n",
    "    question = state[\"messages\"][0].content  # 获取用户问题\n",
    "    context = state[\"messages\"][-1].content  # 获取检索到的文档内容\n",
    "\n",
    "    # 将问题和文档内容填入提示模板\n",
    "    prompt = GRADE_PROMPT.format(question=question, context=context)\n",
    "    \n",
    "    # 调用模型，并以结构化输出（Pydantic 模型）的形式获取评分结果\n",
    "    response = (\n",
    "        grader_model\n",
    "        .with_structured_output(GradeDocuments)\n",
    "        .invoke([{\"role\": \"user\", \"content\": prompt}])\n",
    "    )\n",
    "    #print(response)\n",
    "    score = response.binary_score  # 获取二元评分结果\n",
    " \n",
    "    # 根据评分决定下一步操作\n",
    "    if score == \"yes\":\n",
    "        return \"generate_answer\"  # 文档相关，生成答案\n",
    "    else:\n",
    "        return \"rewrite_question\"  # 文档不相关，重写问题后重新检索"
   ]
  },
  {
   "cell_type": "code",
   "execution_count": 32,
   "metadata": {},
   "outputs": [
    {
     "name": "stdout",
     "output_type": "stream",
     "text": [
      "{'messages': [HumanMessage(content='What does Lilian Weng say about types of reward hacking?', additional_kwargs={}, response_metadata={}), AIMessage(content='', additional_kwargs={}, response_metadata={}, tool_calls=[{'name': 'retrieve_blog_posts', 'args': {'query': 'types of reward hacking'}, 'id': '1', 'type': 'tool_call'}]), ToolMessage(content='meow', tool_call_id='1')]}\n"
     ]
    },
    {
     "data": {
      "text/plain": [
       "'rewrite_question'"
      ]
     },
     "execution_count": 32,
     "metadata": {},
     "output_type": "execute_result"
    }
   ],
   "source": [
    "from langchain_core.messages import convert_to_messages\n",
    "\n",
    "input = {\n",
    "    \"messages\": convert_to_messages(\n",
    "        [\n",
    "            {\n",
    "                \"role\": \"user\",\n",
    "                \"content\": \"What does Lilian Weng say about types of reward hacking?\",\n",
    "            },\n",
    "            {\n",
    "                \"role\": \"assistant\",\n",
    "                \"content\": \"\",\n",
    "                \"tool_calls\": [\n",
    "                    {\n",
    "                        \"id\": \"1\",\n",
    "                        \"name\": \"retrieve_blog_posts\",\n",
    "                        \"args\": {\"query\": \"types of reward hacking\"},\n",
    "                    }\n",
    "                ],\n",
    "            },\n",
    "            {\"role\": \"tool\", \"content\": \"meow\", \"tool_call_id\": \"1\"},\n",
    "        ]\n",
    "    )\n",
    "}\n",
    "#print(input)\n",
    "grade_documents(input)"
   ]
  },
  {
   "cell_type": "code",
   "execution_count": 36,
   "metadata": {},
   "outputs": [],
   "source": [
    "REWRITE_PROMPT = (\n",
    "    \"Look at the input and try to reason about the underlying semantic intent / meaning.\\n\"\n",
    "    \"Here is the initial question:\"\n",
    "    \"\\n ------- \\n\"\n",
    "    \"{question}\"\n",
    "    \"\\n ------- \\n\"\n",
    "    \"Formulate an improved question:\"\n",
    ")\n",
    "\n",
    "def rewrite_question(state: MessagesState):\n",
    "    \"\"\"\n",
    "    重写用户最初的提问，以更好地表达其语义意图。\n",
    "    \n",
    "    参数:\n",
    "        state: 包含消息历史的状态对象，其中第一条消息是用户原始问题。\n",
    "    \n",
    "    返回:\n",
    "        一个字典，包含一条新的用户消息，内容为改写后的问题。\n",
    "        该消息将用于后续的检索步骤，以提高检索结果的相关性。\n",
    "    \"\"\"\n",
    "    messages = state[\"messages\"]\n",
    "    question = messages[0].content  # 获取用户最初的提问\n",
    "    prompt = REWRITE_PROMPT.format(question=question)  # 将问题填入提示模板\n",
    "    response = llm.invoke([{\"role\": \"user\", \"content\": prompt}])  # 调用模型生成改写后的问题\n",
    "    \n",
    "    # 返回新的消息结构，内容为改写后的问题\n",
    "    return {\"messages\": [{\"role\": \"user\", \"content\": response.content}]}"
   ]
  },
  {
   "cell_type": "code",
   "execution_count": 37,
   "metadata": {},
   "outputs": [
    {
     "name": "stdout",
     "output_type": "stream",
     "text": [
      "Improved question:  \n",
      "**\"What are the different types of reward hacking identified by Lilian Weng in her work on AI alignment and safety?\"**\n",
      "\n",
      "This version clarifies that the question is specifically asking about **Lilian Weng's categorization or analysis** of reward hacking types, which is a key topic in AI safety research. It also adds context about the domain (\"AI alignment and safety\") to help frame the question more precisely.\n"
     ]
    }
   ],
   "source": [
    "input = {\n",
    "    \"messages\": convert_to_messages(\n",
    "        [\n",
    "            {\n",
    "                \"role\": \"user\",\n",
    "                \"content\": \"What does Lilian Weng say about types of reward hacking?\",\n",
    "            },\n",
    "            {\n",
    "                \"role\": \"assistant\",\n",
    "                \"content\": \"\",\n",
    "                \"tool_calls\": [\n",
    "                    {\n",
    "                        \"id\": \"1\",\n",
    "                        \"name\": \"retrieve_blog_posts\",\n",
    "                        \"args\": {\"query\": \"types of reward hacking\"},\n",
    "                    }\n",
    "                ],\n",
    "            },\n",
    "            {\"role\": \"tool\", \"content\": \"meow\", \"tool_call_id\": \"1\"},\n",
    "        ]\n",
    "    )\n",
    "}\n",
    "\n",
    "response = rewrite_question(input)\n",
    "print(response[\"messages\"][-1][\"content\"])"
   ]
  },
  {
   "cell_type": "code",
   "execution_count": 38,
   "metadata": {},
   "outputs": [],
   "source": [
    "GENERATE_PROMPT = (\n",
    "    \"You are an assistant for question-answering tasks. \"\n",
    "    \"Use the following pieces of retrieved context to answer the question. \"\n",
    "    \"If you don't know the answer, just say that you don't know. \"\n",
    "    \"Use three sentences maximum and keep the answer concise.\\n\"\n",
    "    \"Question: {question} \\n\"\n",
    "    \"Context: {context}\"\n",
    ")\n",
    "\n",
    "\n",
    "def generate_answer(state: MessagesState):\n",
    "    \"\"\"Generate an answer.\"\"\"\n",
    "    question = state[\"messages\"][0].content\n",
    "    context = state[\"messages\"][-1].content\n",
    "    prompt = GENERATE_PROMPT.format(question=question, context=context)\n",
    "    response = llm.invoke([{\"role\": \"user\", \"content\": prompt}])\n",
    "    return {\"messages\": [response]}"
   ]
  },
  {
   "cell_type": "code",
   "execution_count": 39,
   "metadata": {},
   "outputs": [
    {
     "name": "stdout",
     "output_type": "stream",
     "text": [
      "==================================\u001b[1m Ai Message \u001b[0m==================================\n",
      "\n",
      "Lilian Weng categorizes reward hacking into two types: environment or goal misspecification, and reward tampering. Environment or goal misspecification occurs when the reward function is not aligned with the intended goal. Reward tampering involves the agent manipulating the reward signal directly.\n"
     ]
    }
   ],
   "source": [
    "input = {\n",
    "    \"messages\": convert_to_messages(\n",
    "        [\n",
    "            {\n",
    "                \"role\": \"user\",\n",
    "                \"content\": \"What does Lilian Weng say about types of reward hacking?\",\n",
    "            },\n",
    "            {\n",
    "                \"role\": \"assistant\",\n",
    "                \"content\": \"\",\n",
    "                \"tool_calls\": [\n",
    "                    {\n",
    "                        \"id\": \"1\",\n",
    "                        \"name\": \"retrieve_blog_posts\",\n",
    "                        \"args\": {\"query\": \"types of reward hacking\"},\n",
    "                    }\n",
    "                ],\n",
    "            },\n",
    "            {\n",
    "                \"role\": \"tool\",\n",
    "                \"content\": \"reward hacking can be categorized into two types: environment or goal misspecification, and reward tampering\",\n",
    "                \"tool_call_id\": \"1\",\n",
    "            },\n",
    "        ]\n",
    "    )\n",
    "}\n",
    "\n",
    "response = generate_answer(input)\n",
    "response[\"messages\"][-1].pretty_print()"
   ]
  },
  {
   "cell_type": "code",
   "execution_count": 40,
   "metadata": {},
   "outputs": [],
   "source": [
    "from langgraph.graph import StateGraph, START, END\n",
    "from langgraph.prebuilt import ToolNode\n",
    "from langgraph.prebuilt import tools_condition\n",
    "\n",
    "# 创建一个基于状态图（StateGraph）的流程，用于管理对话或任务的执行流程\n",
    "workflow = StateGraph(MessagesState)\n",
    "\n",
    "# 定义流程中将循环执行的各个节点\n",
    "workflow.add_node(generate_query_or_respond)          # 判断是生成检索查询还是直接回复用户\n",
    "workflow.add_node(\"retrieve\", ToolNode([retriever_tool]))  # 检索节点：使用检索工具（retriever_tool）从知识库中查找相关文档\n",
    "workflow.add_node(rewrite_question)                  # 重写问题节点：当检索结果不相关时，优化并重写用户的问题\n",
    "workflow.add_node(generate_answer)                   # 生成答案节点：基于检索到的信息生成最终回答\n",
    "\n",
    "# 设置流程的起始点：从 `generate_query_or_respond` 节点开始\n",
    "workflow.add_edge(START, \"generate_query_or_respond\")\n",
    "\n",
    "# 添加条件边：决定是否进行文档检索\n",
    "workflow.add_conditional_edges(\n",
    "    \"generate_query_or_respond\",\n",
    "    # 使用 `tools_condition` 函数判断 LLM 的输出意图：\n",
    "    # 如果 LLM 决定调用 `retriever_tool` 工具，则进入检索；如果选择直接回复，则结束流程\n",
    "    tools_condition,\n",
    "    {\n",
    "        # 将条件判断结果映射到图中的具体节点\n",
    "        \"tools\": \"retrieve\",   # 若需调用工具，则跳转到检索节点\n",
    "        END: END               # 若无需调用工具（即可以直接回答），则结束流程\n",
    "    },\n",
    ")\n",
    "\n",
    "# 在 `retrieve` 节点执行后，根据文档相关性判断下一步操作\n",
    "workflow.add_conditional_edges(\n",
    "    \"retrieve\",\n",
    "    # 调用 `grade_documents` 函数评估检索到的文档是否与问题相关\n",
    "    grade_documents,\n",
    "    # 根据评分结果决定流向：\n",
    "    # - 如果相关，进入 `generate_answer`\n",
    "    # - 如果不相关，进入 `rewrite_question`\n",
    "    # （该逻辑在 `grade_documents` 函数中返回 \"generate_answer\" 或 \"rewrite_question\"）\n",
    ")\n",
    "\n",
    "# 添加固定边：生成答案后流程结束\n",
    "workflow.add_edge(\"generate_answer\", END)\n",
    "\n",
    "# 重写问题后，回到初始节点重新判断是否需要检索\n",
    "workflow.add_edge(\"rewrite_question\", \"generate_query_or_respond\")\n",
    "\n",
    "# 编译整个工作流，生成可执行的图结构\n",
    "graph = workflow.compile()"
   ]
  },
  {
   "cell_type": "code",
   "execution_count": 41,
   "metadata": {},
   "outputs": [
    {
     "data": {
      "image/png": "[encoded data removed]",
      "text/plain": [
       "<IPython.core.display.Image object>"
      ]
     },
     "metadata": {},
     "output_type": "display_data"
    }
   ],
   "source": [
    "from IPython.display import Image, display\n",
    "\n",
    "display(Image(graph.get_graph().draw_mermaid_png()))"
   ]
  }
 ],
 "metadata": {
  "language_info": {
   "name": "python"
  }
 },
 "nbformat": 4,
 "nbformat_minor": 2
}
