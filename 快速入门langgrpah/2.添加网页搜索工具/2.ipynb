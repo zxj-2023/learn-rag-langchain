{
 "cells": [
  {
   "cell_type": "code",
   "execution_count": 3,
   "id": "5d6f3200",
   "metadata": {},
   "outputs": [
    {
     "data": {
      "text/plain": [
       "{'query': '李超是谁?',\n",
       " 'follow_up_questions': None,\n",
       " 'answer': None,\n",
       " 'images': [],\n",
       " 'results': [{'url': 'https://baike.baidu.com/item/%E6%9D%8E%E8%B6%85/4769379',\n",
       "   'title': '李超_百度百科',\n",
       "   'content': '李超，男，汉族，1965年12月出生，河南焦作人，管理学博士。曾任周小川同志秘书。现任中国证券监督管理委员会党委委员、副主席。',\n",
       "   'score': 0.8668671,\n",
       "   'raw_content': None},\n",
       "  {'url': 'https://baike.baidu.com/item/%E6%9D%8E%E8%B6%85/4769479',\n",
       "   'title': '李超_百度百科',\n",
       "   'content': '李超，1984年2月21日出生于山东省济南市，中国内地影视男演员，毕业于上海戏剧学院2001级表演系本科。2004年，出演个人首部电视剧《白银谷》，从而正式进入演艺圈。2005年，',\n",
       "   'score': 0.85825616,\n",
       "   'raw_content': None}],\n",
       " 'response_time': 0.78}"
      ]
     },
     "execution_count": 3,
     "metadata": {},
     "output_type": "execute_result"
    }
   ],
   "source": [
    "from langchain_tavily import TavilySearch\n",
    "\n",
    "tool = TavilySearch(\n",
    "    tavily_api_key=\"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\",\n",
    "    max_results=2)\n",
    "tools = [tool]\n",
    "tool.invoke(\"李超是谁?\")"
   ]
  },
  {
   "cell_type": "code",
   "execution_count": 4,
   "id": "e64641d0",
   "metadata": {},
   "outputs": [],
   "source": [
    "import os\n",
    "from langchain.chat_models import init_chat_model\n",
    "\n",
    "os.environ[\"OPENAI_API_KEY\"] = \"sk-ba2dda3817f145d7af141fdf32e31d90\"\n",
    "\n",
    "llm = init_chat_model(\"openai:qwen-plus-2025-04-28\",\n",
    "                      base_url=\"https://dashscope.aliyuncs.com/compatible-mode/v1\"\n",
    "                      )"
   ]
  },
  {
   "cell_type": "code",
   "execution_count": 5,
   "id": "36027551",
   "metadata": {},
   "outputs": [
    {
     "data": {
      "text/plain": [
       "<langgraph.graph.state.StateGraph at 0x7fbcc0fcc090>"
      ]
     },
     "execution_count": 5,
     "metadata": {},
     "output_type": "execute_result"
    }
   ],
   "source": [
    "from typing import Annotated\n",
    "\n",
    "from typing_extensions import TypedDict\n",
    "\n",
    "from langgraph.graph import StateGraph, START, END\n",
    "from langgraph.graph.message import add_messages\n",
    "\n",
    "class State(TypedDict):\n",
    "    messages: Annotated[list, add_messages]\n",
    "\n",
    "graph_builder = StateGraph(State)\n",
    "\n",
    "# 将一个或多个**工具（tools） 绑定到一个 大型语言模型（LLM）**上，从而创建一个新的、具备工具调用能力的 LLM 实例\n",
    "llm_with_tools = llm.bind_tools(tools)\n",
    "\n",
    "def chatbot(state: State):\n",
    "    return {\"messages\": [llm_with_tools.invoke(state[\"messages\"])]}\n",
    "\n",
    "graph_builder.add_node(\"chatbot\", chatbot)"
   ]
  },
  {
   "cell_type": "code",
   "execution_count": null,
   "id": "7e5148de",
   "metadata": {},
   "outputs": [],
   "source": [
    "import json\n",
    "\n",
    "from langchain_core.messages import ToolMessage\n",
    "\n",
    "\n",
    "class BasicToolNode:\n",
    "    \"\"\"A node that runs the tools requested in the last AIMessage.\"\"\"\n",
    "\n",
    "    def __init__(self, tools: list) -> None:\n",
    "        self.tools_by_name = {tool.name: tool for tool in tools}\n",
    "\n",
    "    def __call__(self, inputs: dict):\n",
    "        if messages := inputs.get(\"messages\", []):\n",
    "            message = messages[-1]\n",
    "        else:\n",
    "            raise ValueError(\"No message found in input\")\n",
    "        outputs = []\n",
    "        for tool_call in message.tool_calls:\n",
    "            tool_result = self.tools_by_name[tool_call[\"name\"]].invoke(\n",
    "                tool_call[\"args\"]\n",
    "            )\n",
    "            outputs.append(\n",
    "                ToolMessage(\n",
    "                    content=json.dumps(tool_result),\n",
    "                    name=tool_call[\"name\"],\n",
    "                    tool_call_id=tool_call[\"id\"],\n",
    "                )\n",
    "            )\n",
    "        return {\"messages\": outputs}\n",
    "\n",
    "\n",
    "tool_node = BasicToolNode(tools=[tool])\n",
    "graph_builder.add_node(\"tools\", tool_node)"
   ]
  },
  {
   "cell_type": "code",
   "execution_count": 6,
   "id": "f28a61ae",
   "metadata": {},
   "outputs": [
    {
     "data": {
      "text/plain": [
       "<langgraph.graph.state.StateGraph at 0x7fbcc0fcc090>"
      ]
     },
     "execution_count": 6,
     "metadata": {},
     "output_type": "execute_result"
    }
   ],
   "source": [
    "from langgraph.prebuilt import ToolNode\n",
    "\n",
    "tool_node = ToolNode(tools=[tool])\n",
    "graph_builder.add_node(\"tools\", tool_node)"
   ]
  },
  {
   "cell_type": "code",
   "execution_count": null,
   "id": "057f71b3",
   "metadata": {},
   "outputs": [],
   "source": [
    "def route_tools(\n",
    "    state: State,\n",
    "):\n",
    "    \"\"\"\n",
    "    Use in the conditional_edge to route to the ToolNode if the last message\n",
    "    has tool calls. Otherwise, route to the end.\n",
    "    \"\"\"\n",
    "    if isinstance(state, list):\n",
    "        ai_message = state[-1]\n",
    "    elif messages := state.get(\"messages\", []):\n",
    "        ai_message = messages[-1]\n",
    "    else:\n",
    "        raise ValueError(f\"No messages found in input state to tool_edge: {state}\")\n",
    "    if hasattr(ai_message, \"tool_calls\") and len(ai_message.tool_calls) > 0:\n",
    "        return \"tools\"\n",
    "    return END\n",
    "\n",
    "\n",
    "# The `tools_condition` function returns \"tools\" if the chatbot asks to use a tool, and \"END\" if\n",
    "# it is fine directly responding. This conditional routing defines the main agent loop.\n",
    "graph_builder.add_conditional_edges(\n",
    "    \"chatbot\",\n",
    "    route_tools,\n",
    "    # The following dictionary lets you tell the graph to interpret the condition's outputs as a specific node\n",
    "    # It defaults to the identity function, but if you\n",
    "    # want to use a node named something else apart from \"tools\",\n",
    "    # You can update the value of the dictionary to something else\n",
    "    # e.g., \"tools\": \"my_tools\"\n",
    "    {\"tools\": \"tools\", END: END},\n",
    ")\n",
    "# Any time a tool is called, we return to the chatbot to decide the next step\n",
    "graph_builder.add_edge(\"tools\", \"chatbot\")\n",
    "graph_builder.add_edge(START, \"chatbot\")\n",
    "graph = graph_builder.compile()"
   ]
  },
  {
   "cell_type": "code",
   "execution_count": 8,
   "id": "ef5d7c1e",
   "metadata": {},
   "outputs": [],
   "source": [
    "from langgraph.prebuilt import tools_condition\n",
    "graph_builder.add_conditional_edges(\n",
    "    \"chatbot\",\n",
    "    tools_condition,\n",
    "    {\"tools\": \"tools\", END: END},\n",
    ")\n",
    "graph_builder.add_edge(\"tools\", \"chatbot\")\n",
    "graph_builder.add_edge(START, \"chatbot\")\n",
    "graph = graph_builder.compile()"
   ]
  },
  {
   "cell_type": "code",
   "execution_count": 9,
   "id": "2a9cdbff",
   "metadata": {},
   "outputs": [
    {
     "data": {
      "image/png": "[encoded data removed]",
      "text/plain": [
       "<IPython.core.display.Image object>"
      ]
     },
     "metadata": {},
     "output_type": "display_data"
    }
   ],
   "source": [
    "from IPython.display import Image, display\n",
    "\n",
    "try:\n",
    "    display(Image(graph.get_graph().draw_mermaid_png()))\n",
    "except Exception:\n",
    "    # This requires some extra dependencies and is optional\n",
    "    pass"
   ]
  },
  {
   "cell_type": "code",
   "execution_count": 10,
   "id": "f5d5c02c",
   "metadata": {},
   "outputs": [
    {
     "name": "stdout",
     "output_type": "stream",
     "text": [
      "Assistant: \n",
      "Assistant: {\"query\": \"今天天气怎么样\", \"follow_up_questions\": null, \"answer\": null, \"images\": [], \"results\": [{\"url\": \"https://weather.cma.cn/\", \"title\": \"天气预报: 中国气象局\", \"content\": \"[成都](https://weather.cma.cn/web/weather/S1003.html) [北京](https://weather.cma.cn/web/weather/54511.html) [南京](https://weather.cma.cn/web/weather/58238.html) [南昌](https://weather.cma.cn/web/weather/58606.html) [合肥](https://weather.cma.cn/web/weather/58321.html) [哈尔滨](https://weather.cma.cn/web/weather/50953.html) [徐家汇](https://weather.cma.cn/web/weather/58367.html) [拉萨](https://weather.cma.cn/web/weather/55591.html) [昆明](https://weather.cma.cn/web/weather/56778.html) [杭州](https://weather.cma.cn/web/weather/58457.html) [武汉](https://weather.cma.cn/web/weather/57494.html) [沈阳](https://weather.cma.cn/web/weather/54342.html) [沙坪坝](https://weather.cma.cn/web/weather/57516.html) [海口](https://weather.cma.cn/web/weather/59758.html) [深圳](https://weather.cma.cn/web/weather/59493.html) [西宁](https://weather.cma.cn/web/weather/52866.html) [贵阳](https://weather.cma.cn/web/weather/57816.html) [郑州](https://weather.cma.cn/web/weather/57083.html) [银川](https://weather.cma.cn/web/weather/53614.html) [长春](https://weather.cma.cn/web/weather/54161.html) [长沙黄花](https://weather.cma.cn/web/weather/57679.html) [鹿泉](https://weather.cma.cn/web/weather/53698.html) [乌鲁木齐](https://weather.cma.cn/web/weather/51463.html) [兰州](https://weather.cma.cn/web/weather/52889.html) [大潭山](https://weather.cma.cn/web/weather/45011.html) [台北](https://weather.cma.cn/web/weather/58968.html) [喀土穆](https://weather.cma.cn/web/weather/062721.html) [伦敦](https://weather.cma.cn/web/weather/003772.html) [达喀尔](https://weather.cma.cn/web/weather/061641.html) [雅温得](https://weather.cma.cn/web/weather/064950.html) [卢萨卡](https://weather.cma.cn/web/weather/067665.html) [马普托](https://weather.cma.cn/web/weather/067341.html) [努瓦克肖特](https://weather.cma.cn/web/weather/061442.html) [吉布提市](https://weather.cma.cn/web/weather/063125.html) [亚的斯亚贝巴](https://weather.cma.cn/web/weather/063450.html) [内罗毕](https://weather.cma.cn/web/weather/063740.html) [阿布贾](https://weather.cma.cn/web/weather/065125.html) [恩贾梅纳](https://weather.cma.cn/web/weather/064700.html) [哈拉雷](https://weather.cma.cn/web/weather/067775.html) [阿尔及尔](https://weather.cma.cn/web/weather/060390.html) [达累斯萨拉姆](https://weather.cma.cn/web/weather/063894.html) [布琼布拉](https://weather.cma.cn/web/weather/064390.html) [坎帕拉](https://weather.cma.cn/web/weather/063705.html) [洛美](https://weather.cma.cn/web/weather/065387.html) [基加利](https://weather.cma.cn/web/weather/064387.html) [拉巴特](https://weather.cma.cn/web/weather/060135.html) [塔那那利佛](https://weather.cma.cn/web/weather/067083.html) [突尼斯市](https://weather.cma.cn/web/weather/060715.html) [的黎波里](https://weather.cma.cn/web/weather/040103.html) [的黎波里](https://weather.cma.cn/web/weather/062010.html) [马拉博](https://weather.cma.cn/web/weather/064810.html) [乌兰巴托](https://weather.cma.cn/web/weather/044292.html) [新加坡市](https://weather.cma.cn/web/weather/048698.html) [帝力](https://weather.cma.cn/web/weather/097390.html) [吉隆坡](https://weather.cma.cn/web/weather/048647.html) [金边](https://weather.cma.cn/web/weather/048991.html) [河内](https://weather.cma.cn/web/weather/048820.html) [伊斯兰堡](https://weather.cma.cn/web/weather/041571.html) [科伦坡](https://weather.cma.cn/web/weather/043466.html) [达卡](https://weather.cma.cn/web/weather/041923.html) [加德满都](https://weather.cma.cn/web/weather/044454.html) [科威特城](https://weather.cma.cn/web/weather/040582.html) [多哈](https://weather.cma.cn/web/weather/041170.html) [贝鲁特](https://weather.cma.cn/web/weather/040100.html) [利雅得](https://weather.cma.cn/web/weather/040438.html) [麦纳麦](https://weather.cma.cn/web/weather/041150.html) [德黑兰](https://weather.cma.cn/web/weather/040754.html) [巴格达](https://weather.cma.cn/web/weather/040650.html) [喀布尔](https://weather.cma.cn/web/weather/040948.html) [第比利斯](https://weather.cma.cn/web/weather/037545.html) [埃里温](https://weather.cma.cn/web/weather/037788.html) [比什凯克](https://weather.cma.cn/web/weather/038353.html) [曼谷](https://weather.cma.cn/web/weather/048455.html) [萨那](https://weather.cma.cn/web/weather/041404.html) [莫斯科](https://weather.cma.cn/web/weather/027612.html) [雅典](https://weather.cma.cn/web/weather/016716.html) [贝尔格莱德](https://weather.cma.cn/web/weather/013274.html) [布拉格](https://weather.cma.cn/web/weather/011520.html) [索非亚](https://weather.cma.cn/web/weather/015614.html) [萨格勒布](https://weather.cma.cn/web/weather/014240.html) [波德戈里察](https://weather.cma.cn/web/weather/013462.html) [塔林](https://weather.cma.cn/web/weather/026038.html) [布达佩斯](https://weather.cma.cn/web/weather/012843.html) [里加](https://weather.cma.cn/web/weather/026422.html) [基辅](https://weather.cma.cn/web/weather/033345.html) [明斯克](https://weather.cma.cn/web/weather/026850.html) [基希讷乌](https://weather.cma.cn/web/weather/033815.html) [里斯本](https://weather.cma.cn/web/weather/008535.html) [惠灵顿](https://weather.cma.cn/web/weather/093439.html) [蒙得维的亚](https://weather.cma.cn/web/weather/086580.html) [加拉加斯](https://weather.cma.cn/web/weather/080415.html) [圣何塞](https://weather.cma.cn/web/weather/078762.html) [巴拿马城](https://weather.cma.cn/web/weather/078806.html) [圣约翰](https://weather.cma.cn/web/weather/078862.html) [哈瓦那](https://weather.cma.cn/web/weather/078224.html) [东京](https://weather.cma.cn/web/weather/047662.html) [华盛顿](https://weather.cma.cn/web/weather/072405.html) [堪培拉](https://weather.cma.cn/web/weather/094926.html) [墨西哥城](https://weather.cma.cn/web/weather/076680.html) [大马士革](https://weather.cma.cn/web/weather/040080.html) [安曼](https://weather.cma.cn/web/weather/040270.html) [布宜诺斯艾利斯](https://weather.cma.cn/web/weather/087582.html) [布鲁塞尔](https://weather.cma.cn/web/weather/006451.html) [平壤](https://weather.cma.cn/web/weather/047058.html) [廷布](https://weather.cma.cn/web/weather/042299.html) [拉巴斯](https://weather.cma.cn/web/weather/076405.html) [柏林](https://weather.cma.cn/web/weather/010385.html) [班吉](https://weather.cma.cn/web/weather/064650.html) [瓦加杜古](https://weather.cma.cn/web/weather/065503.html) [罗马](https://weather.cma.cn/web/weather/016242.html) [耶路撒冷](https://weather.cma.cn/web/weather/040183.html) [莫罗尼](https://weather.cma.cn/web/weather/067001.html) [路易港](https://weather.cma.cn/web/weather/061990.html) [金沙萨](https://weather.cma.cn/web/weather/064210.html) [阿什哈巴德](https://weather.cma.cn/web/weather/038880.html) 天气预报 [更多](https://weather.cma.cn/web/text/area.html) - [x]  全国 \", \"score\": 0.46920466, \"raw_content\": null}, {\"url\": \"https://weather.com/zh-CN/weather/today/l/Miami+FL+United+States?canonicalCityId=146962bd4c383709552626d733ca604b\", \"title\": \"迈阿密, FL, 美国天气预报和情况 - The Weather Channel\", \"content\": \"迈阿密, FL, 美国今日天气 ; 高/ 低. --/23° ; 大风. 6 公里/小时 ; 湿度. 94% ; 露点. 23° ; 气压. 1016.9 毫巴.\", \"score\": 0.27372164, \"raw_content\": null}], \"response_time\": 1.45}\n",
      "Assistant: 以下是部分城市的天气信息：\n",
      "\n",
      "1. **中国气象局** 提供了多个城市的天气预报，包括成都、北京、南京、南昌、合肥、哈尔滨、徐家汇、拉萨、昆明、杭州、武汉、沈阳、沙坪坝、海口、深圳、西宁、贵阳、郑州、银川、长春、长沙黄花、鹿泉、乌鲁木齐、兰州、大潭山、台北等。\n",
      "\n",
      "2. **迈阿密, FL, 美国** 的今日天气情况：\n",
      "   - 温度：--/23°C\n",
      "   - 风速：6公里/小时\n",
      "   - 湿度：94%\n",
      "   - 露点：23°C\n",
      "   - 气压：1016.9毫巴\n",
      "\n",
      "您可以通过点击对应的链接获取更详细的天气信息。\n",
      "Assistant: \n",
      "Assistant: {\"query\": \"李超是谁\", \"follow_up_questions\": null, \"answer\": null, \"images\": [], \"results\": [{\"url\": \"https://baike.baidu.com/item/%E6%9D%8E%E8%B6%85/4769379\", \"title\": \"李超_百度百科\", \"content\": \"李超，男，汉族，1965年12月出生，河南焦作人，管理学博士。曾任周小川同志秘书。现任中国证券监督管理委员会党委委员、副主席。\", \"score\": 0.85797083, \"raw_content\": null}, {\"url\": \"https://baike.baidu.com/item/%E6%9D%8E%E8%B6%85/4769479\", \"title\": \"李超_百度百科\", \"content\": \"李超，1984年2月21日出生于山东省济南市，中国内地影视男演员，毕业于上海戏剧学院2001级表演系本科。2004年，出演个人首部电视剧《白银谷》，从而正式进入演艺圈。2005年，\", \"score\": 0.8506799, \"raw_content\": null}], \"response_time\": 1.06}\n",
      "Assistant: 根据搜索结果，名为“李超”的人物有两个不同的身份：\n",
      "\n",
      "1. **政府官员**：\n",
      "   - 男，汉族，1965年12月出生，河南焦作人，管理学博士。\n",
      "   - 曾任周小川同志秘书。\n",
      "   - 现任中国证券监督管理委员会党委委员、副主席。\n",
      "\n",
      "2. **影视演员**：\n",
      "   - 出生于1984年2月21日，山东省济南市人。\n",
      "   - 中国内地影视男演员，毕业于上海戏剧学院2001级表演系本科。\n",
      "   - 2004年出演个人首部电视剧《白银谷》，正式进入演艺圈。\n",
      "\n",
      "如果你需要更具体的信息，请提供更多的上下文！\n",
      "Assistant: Hello! How can I assist you today?\n",
      "Goodbye!\n"
     ]
    }
   ],
   "source": [
    "def stream_graph_updates(user_input: str):\n",
    "    for event in graph.stream({\"messages\": [{\"role\": \"user\", \"content\": user_input}]}):\n",
    "        for value in event.values():\n",
    "            print(\"Assistant:\", value[\"messages\"][-1].content)\n",
    "\n",
    "while True:\n",
    "    try:\n",
    "        user_input = input(\"User: \")\n",
    "        if user_input.lower() in [\"quit\", \"exit\", \"q\"]:\n",
    "            print(\"Goodbye!\")\n",
    "            break\n",
    "\n",
    "        stream_graph_updates(user_input)\n",
    "    except:\n",
    "        # fallback if input() is not available\n",
    "        user_input = \"What do you know about LangGraph?\"\n",
    "        print(\"User: \" + user_input)\n",
    "        stream_graph_updates(user_input)\n",
    "        break"
   ]
  }
 ],
 "metadata": {
  "kernelspec": {
   "display_name": "base",
   "language": "python",
   "name": "python3"
  },
  "language_info": {
   "codemirror_mode": {
    "name": "ipython",
    "version": 3
   },
   "file_extension": ".py",
   "mimetype": "text/x-python",
   "name": "python",
   "nbconvert_exporter": "python",
   "pygments_lexer": "ipython3",
   "version": "3.11.4"
  }
 },
 "nbformat": 4,
 "nbformat_minor": 5
}
