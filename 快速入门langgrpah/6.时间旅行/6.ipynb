{
 "cells": [
  {
   "cell_type": "code",
   "execution_count": 1,
   "id": "5d6f3200",
   "metadata": {},
   "outputs": [],
   "source": [
    "from langchain_tavily import TavilySearch\n",
    "\n",
    "Tavil_tool = TavilySearch(\n",
    "    tavily_api_key=\"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\",\n",
    "    max_results=2)\n",
    "\n",
    "#tool.invoke(\"李超是谁?\")"
   ]
  },
  {
   "cell_type": "code",
   "execution_count": 2,
   "id": "e64641d0",
   "metadata": {},
   "outputs": [],
   "source": [
    "import os\n",
    "from langchain.chat_models import init_chat_model\n",
    "\n",
    "os.environ[\"OPENAI_API_KEY\"] = \"sk-ba2dda3817f145d7af141fdf32e31d90\"\n",
    "\n",
    "llm = init_chat_model(\"openai:qwen-plus-2025-04-28\",\n",
    "                      base_url=\"https://dashscope.aliyuncs.com/compatible-mode/v1\"\n",
    "                      )"
   ]
  },
  {
   "cell_type": "code",
   "execution_count": 3,
   "id": "63151005",
   "metadata": {},
   "outputs": [],
   "source": [
    "from typing import Annotated\n",
    "\n",
    "from typing_extensions import TypedDict\n",
    "\n",
    "from langgraph.graph import StateGraph, START, END\n",
    "from langgraph.graph.message import add_messages\n",
    "\n",
    "class State(TypedDict):\n",
    "    messages: Annotated[list, add_messages]\n"
   ]
  },
  {
   "cell_type": "code",
   "execution_count": 4,
   "id": "36027551",
   "metadata": {},
   "outputs": [],
   "source": [
    "\n",
    "\n",
    "graph_builder = StateGraph(State)\n",
    "tools=[Tavil_tool]\n",
    "# 将一个或多个**工具（tools） 绑定到一个 大型语言模型（LLM）**上，从而创建一个新的、具备工具调用能力的 LLM 实例\n",
    "llm_with_tools = llm.bind_tools(tools)"
   ]
  },
  {
   "cell_type": "code",
   "execution_count": 5,
   "id": "d24f5d9e",
   "metadata": {},
   "outputs": [
    {
     "data": {
      "text/plain": [
       "<langgraph.graph.state.StateGraph at 0x7f2e70bdddd0>"
      ]
     },
     "execution_count": 5,
     "metadata": {},
     "output_type": "execute_result"
    }
   ],
   "source": [
    "def chatbot(state: State):\n",
    "    return {\"messages\": [llm_with_tools.invoke(state[\"messages\"])]}\n",
    "graph_builder.add_node(\"chatbot\", chatbot)"
   ]
  },
  {
   "cell_type": "code",
   "execution_count": 6,
   "id": "f28a61ae",
   "metadata": {},
   "outputs": [
    {
     "data": {
      "text/plain": [
       "<langgraph.graph.state.StateGraph at 0x7f2e70bdddd0>"
      ]
     },
     "execution_count": 6,
     "metadata": {},
     "output_type": "execute_result"
    }
   ],
   "source": [
    "from langgraph.prebuilt import ToolNode\n",
    "\n",
    "tool_node = ToolNode(tools=tools)\n",
    "graph_builder.add_node(\"tools\", tool_node)"
   ]
  },
  {
   "cell_type": "code",
   "execution_count": 7,
   "id": "203f624d",
   "metadata": {},
   "outputs": [],
   "source": [
    "from langgraph.checkpoint.memory import MemorySaver\n",
    "\n",
    "memory = MemorySaver()"
   ]
  },
  {
   "cell_type": "code",
   "execution_count": 8,
   "id": "ef5d7c1e",
   "metadata": {},
   "outputs": [
    {
     "data": {
      "text/plain": [
       "<langgraph.graph.state.StateGraph at 0x7f2e70bdddd0>"
      ]
     },
     "execution_count": 8,
     "metadata": {},
     "output_type": "execute_result"
    }
   ],
   "source": [
    "from langgraph.prebuilt import tools_condition\n",
    "graph_builder.add_conditional_edges(\n",
    "    \"chatbot\",\n",
    "    tools_condition,\n",
    "    {\"tools\": \"tools\", END: END},\n",
    ")\n",
    "graph_builder.add_edge(\"tools\", \"chatbot\")\n",
    "graph_builder.add_edge(START, \"chatbot\")\n"
   ]
  },
  {
   "cell_type": "code",
   "execution_count": 9,
   "id": "727b01e5",
   "metadata": {},
   "outputs": [],
   "source": [
    "graph = graph_builder.compile(checkpointer=memory)"
   ]
  },
  {
   "cell_type": "code",
   "execution_count": 10,
   "id": "2a9cdbff",
   "metadata": {},
   "outputs": [
    {
     "data": {
      "image/png": "[encoded data removed]",
      "text/plain": [
       "<IPython.core.display.Image object>"
      ]
     },
     "metadata": {},
     "output_type": "display_data"
    }
   ],
   "source": [
    "from IPython.display import Image, display\n",
    "\n",
    "try:\n",
    "    display(Image(graph.get_graph().draw_mermaid_png()))\n",
    "except Exception:\n",
    "    # This requires some extra dependencies and is optional\n",
    "    pass"
   ]
  },
  {
   "cell_type": "code",
   "execution_count": 11,
   "id": "d1e0654c",
   "metadata": {},
   "outputs": [
    {
     "name": "stdout",
     "output_type": "stream",
     "text": [
      "================================\u001b[1m Human Message \u001b[0m=================================\n",
      "\n",
      "我想学习LangGraph. 你能为我搜索他吗?\n",
      "==================================\u001b[1m Ai Message \u001b[0m==================================\n",
      "Tool Calls:\n",
      "  tavily_search (call_cfd0d36f37d64496ace941)\n",
      " Call ID: call_cfd0d36f37d64496ace941\n",
      "  Args:\n",
      "    query: LangGraph\n",
      "=================================\u001b[1m Tool Message \u001b[0m=================================\n",
      "Name: tavily_search\n",
      "\n",
      "{\"query\": \"LangGraph\", \"follow_up_questions\": null, \"answer\": null, \"images\": [], \"results\": [{\"url\": \"https://github.com/langchain-ai/langgraph\", \"title\": \"langchain-ai/langgraph: Build resilient language agents as graphs.\", \"content\": \"GitHub - langchain-ai/langgraph: Build resilient language agents as graphs. langchain-ai.github.io/langgraph/ Trusted by companies shaping the future of agents – including Klarna, Replit, Elastic, and more – LangGraph is a low-level orchestration framework for building, managing, and deploying long-running, stateful agents. Or, to learn how to build an agent workflow with a customizable architecture, long-term memory, and other complex task handling, see the LangGraph basics tutorials. LangGraph provides low-level supporting infrastructure for _any_ long-running, stateful workflow or agent. While LangGraph can be used standalone, it also integrates seamlessly with any LangChain product, giving developers a full suite of tools for building agents. *   LangGraph Platform — Deploy and scale agents effortlessly with a purpose-built deployment platform for long running, stateful workflows. langchain-ai.github.io/langgraph/\", \"score\": 0.9055316, \"raw_content\": null}, {\"url\": \"https://www.langchain.com/langgraph\", \"title\": \"LangGraph - LangChain\", \"content\": \"Design agent-driven user experiences with LangGraph Platform's APIs. Quickly deploy and scale your application with infrastructure built for agents. LangGraph sets the foundation for how we can build and scale AI workloads — from conversational agents, complex task automation, to custom LLM-backed experiences that 'just work'. The next chapter in building complex production-ready features with LLMs is agentic, and with LangGraph and LangSmith, LangChain delivers an out-of-the-box solution to iterate quickly, debug immediately, and scale effortlessly.” LangGraph sets the foundation for how we can build and scale AI workloads — from conversational agents, complex task automation, to custom LLM-backed experiences that 'just work'. LangGraph Platform is a service for deploying and scaling LangGraph applications, with an opinionated API for building agent UXs, plus an integrated developer studio.\", \"score\": 0.81595254, \"raw_content\": null}], \"response_time\": 1.3}\n",
      "==================================\u001b[1m Ai Message \u001b[0m==================================\n",
      "\n",
      "LangGraph 是一个用于构建、管理和部署长期运行、有状态的代理（agents）的低级编排框架。它由 LangChain 开发，并且可以与任何 LangChain 产品无缝集成，为开发人员提供了一整套工具来构建代理。\n",
      "\n",
      "### 主要特点：\n",
      "1. **构建有弹性的语言代理**：LangGraph 允许你将代理作为图形结构进行建图，使得复杂的任务处理变得更加直观和可控。\n",
      "2. **灵活的架构**：你可以使用 LangGraph 来创建具有可定制架构的代理工作流，支持长期记忆和其他复杂任务的处理。\n",
      "3. **部署平台**：LangGraph 提供了一个专门为其设计的部署平台 LangGraph Platform，能够轻松地部署和扩展代理应用。\n",
      "4. **与 LangChain 集成**：LangGraph 可以独立使用，也可以与 LangChain 的其他工具（如 LangSmith）结合使用，提供完整的解决方案来快速迭代、调试和扩展代理应用。\n",
      "\n",
      "### 使用场景：\n",
      "- **对话代理**：构建能够处理复杂对话逻辑的 AI 代理。\n",
      "- **任务自动化**：实现需要长期状态管理的自动化任务。\n",
      "- **自定义 LLM 支持的应用**：开发基于大型语言模型（LLM）的定制化体验。\n",
      "\n",
      "如果你对学习 LangGraph 感兴趣，可以从其 [GitHub 页面](https://github.com/langchain-ai/langgraph) 开始，那里提供了详细的文档和教程来帮助你入门。此外，[LangChain 官方网站](https://www.langchain.com/langgraph) 也提供了更多关于如何使用 LangGraph 进行开发的信息。\n"
     ]
    }
   ],
   "source": [
    "config = {\"configurable\": {\"thread_id\": \"1\"}}\n",
    "events = graph.stream(\n",
    "    {\n",
    "        \"messages\": [\n",
    "            {\n",
    "                \"role\": \"user\",\n",
    "                \"content\": (\n",
    "                    \"我想学习LangGraph. \"\n",
    "                    \"你能为我搜索他吗?\"\n",
    "                ),\n",
    "            },\n",
    "        ],\n",
    "    },\n",
    "    config,\n",
    "    stream_mode=\"values\",\n",
    ")\n",
    "for event in events:\n",
    "    if \"messages\" in event:\n",
    "        event[\"messages\"][-1].pretty_print()"
   ]
  },
  {
   "cell_type": "code",
   "execution_count": 12,
   "id": "c3ab3ae2",
   "metadata": {},
   "outputs": [
    {
     "name": "stdout",
     "output_type": "stream",
     "text": [
      "================================\u001b[1m Human Message \u001b[0m=================================\n",
      "\n",
      "是的，这很有帮助。也许我会用它构建一个自治智能体!\n",
      "==================================\u001b[1m Ai Message \u001b[0m==================================\n",
      "\n",
      "那太棒了！使用 LangGraph 构建自治智能体是一个非常有趣且有潜力的方向。LangGraph 的设计非常适合用来实现复杂的、需要长期状态管理和高度可扩展性的代理系统。\n",
      "\n",
      "### 你可以考虑的几个方向：\n",
      "1. **对话型 AI 代理**：构建一个能够处理多轮对话、具有上下文理解能力的聊天机器人。\n",
      "2. **自动化任务代理**：创建一个可以自动执行特定任务的代理，例如数据收集、分析和报告生成。\n",
      "3. **个性化助手**：开发一个可以根据用户需求提供个性化建议和服务的智能助手。\n",
      "4. **游戏中的 AI 代理**：在游戏环境中创建智能角色，能够根据环境变化做出决策并与玩家互动。\n",
      "5. **金融或商业流程自动化**：利用代理来监控市场动态并自动执行交易策略，或者帮助企业优化运营流程。\n",
      "\n",
      "### 开始步骤：\n",
      "1. **学习基础知识**：首先熟悉 LangGraph 的基本概念和用法。可以从官方文档和教程开始。\n",
      "2. **设置开发环境**：安装必要的依赖项，并确保你的开发环境已经准备好。\n",
      "3. **尝试示例项目**：通过运行一些简单的示例来了解如何构建和部署代理。\n",
      "4. **逐步扩展功能**：从一个小的功能模块开始，逐步增加复杂性，直到完成整个系统。\n",
      "5. **测试与优化**：不断测试你的代理，确保其性能和稳定性，并根据反馈进行优化。\n",
      "\n",
      "如果你有任何具体的想法或遇到问题，随时可以问我，我会尽力帮助你！🚀\n"
     ]
    }
   ],
   "source": [
    "events = graph.stream(\n",
    "    {\n",
    "        \"messages\": [\n",
    "            {\n",
    "                \"role\": \"user\",\n",
    "                \"content\": (\n",
    "                    \"是的，这很有帮助。也许我会\"\n",
    "                    \"用它构建一个自治智能体!\"\n",
    "                ),\n",
    "            },\n",
    "        ],\n",
    "    },\n",
    "    config,\n",
    "    stream_mode=\"values\",\n",
    ")\n",
    "for event in events:\n",
    "    if \"messages\" in event:\n",
    "        event[\"messages\"][-1].pretty_print()"
   ]
  },
  {
   "cell_type": "code",
   "execution_count": null,
   "id": "07114b66",
   "metadata": {},
   "outputs": [
    {
     "name": "stdout",
     "output_type": "stream",
     "text": [
      "Num Messages:  8 Next:  ()\n",
      "--------------------------------------------------------------------------------\n",
      "Num Messages:  7 Next:  ('chatbot',)\n",
      "--------------------------------------------------------------------------------\n",
      "Num Messages:  6 Next:  ('__start__',)\n",
      "--------------------------------------------------------------------------------\n",
      "Num Messages:  6 Next:  ()\n",
      "--------------------------------------------------------------------------------\n",
      "Num Messages:  5 Next:  ('chatbot',)\n",
      "--------------------------------------------------------------------------------\n",
      "Num Messages:  4 Next:  ('__start__',)\n",
      "--------------------------------------------------------------------------------\n",
      "Num Messages:  4 Next:  ()\n",
      "--------------------------------------------------------------------------------\n",
      "Num Messages:  3 Next:  ('chatbot',)\n",
      "--------------------------------------------------------------------------------\n",
      "Num Messages:  2 Next:  ('tools',)\n",
      "--------------------------------------------------------------------------------\n",
      "Num Messages:  1 Next:  ('chatbot',)\n",
      "--------------------------------------------------------------------------------\n",
      "Num Messages:  0 Next:  ('__start__',)\n",
      "--------------------------------------------------------------------------------\n"
     ]
    }
   ],
   "source": [
    "# 初始化一个变量 to_replay 为 None，它将用于存储我们想要“时间旅行”回去的特定状态。\n",
    "# to_replay 将在循环中被赋值为我们感兴趣的那个历史状态快照。\n",
    "to_replay = None\n",
    "\n",
    "# 遍历 `graph` 在给定 `config` 下的所有历史状态。\n",
    "# `graph.get_state_history(config)` 会返回一个迭代器，其中包含了从开始到当前的所有状态快照。\n",
    "for state in graph.get_state_history(config):\n",
    "    # 打印当前状态快照中的一些信息，以便我们观察和选择。\n",
    "    # `len(state.values[\"messages\"])` 显示了到该状态为止，对话历史中的消息总数。\n",
    "    # `state.next` 显示了在该状态之后，图将要执行的下一个节点或步骤的名称。\n",
    "    print(\"Num Messages: \", len(state.values[\"messages\"]), \"Next: \", state.next)\n",
    "    \n",
    "    # 打印一条分隔线，使输出更易读。\n",
    "    print(\"-\" * 80)\n",
    "    \n",
    "    # 这里是选择“时间旅行”目标点的关键逻辑。\n",
    "    # 我们设定一个条件：当对话历史中的消息数量正好等于4时，我们就找到了想要回到的那个点。\n",
    "    # 这是一个为了演示而设定的任意条件，在实际应用中，您可以根据需要设置更复杂的选择逻辑。\n",
    "    if len(state.values[\"messages\"]) == 4:\n",
    "        # We are somewhat arbitrarily selecting a specific state based on the number of chat messages in the state.\n",
    "        # 将当前这个符合条件的状态（state）保存到 to_replay 变量中。\n",
    "        # 循环结束后，to_replay 变量将持有我们选中的那个历史时刻的完整状态，\n",
    "        # 之后我们就可以用它来恢复或修改执行流程。\n",
    "        to_replay = state"
   ]
  },
  {
   "cell_type": "code",
   "execution_count": 23,
   "id": "c0e157ee",
   "metadata": {},
   "outputs": [
    {
     "name": "stdout",
     "output_type": "stream",
     "text": [
      "()\n",
      "{'configurable': {'thread_id': '1', 'checkpoint_ns': '', 'checkpoint_id': '1f062f09-b277-63cb-8003-bf2eb3362676'}}\n"
     ]
    }
   ],
   "source": [
    "print(to_replay.next)\n",
    "print(to_replay.config)"
   ]
  },
  {
   "cell_type": "code",
   "execution_count": 24,
   "id": "9007506a",
   "metadata": {},
   "outputs": [
    {
     "name": "stdout",
     "output_type": "stream",
     "text": [
      "==================================\u001b[1m Ai Message \u001b[0m==================================\n",
      "\n",
      "LangGraph 是一个用于构建、管理和部署长期运行、有状态的代理（agents）的低级编排框架。它由 LangChain 开发，并且可以与任何 LangChain 产品无缝集成，为开发人员提供了一整套工具来构建代理。\n",
      "\n",
      "### 主要特点：\n",
      "1. **构建有弹性的语言代理**：LangGraph 允许你将代理作为图形结构进行建图，使得复杂的任务处理变得更加直观和可控。\n",
      "2. **灵活的架构**：你可以使用 LangGraph 来创建具有可定制架构的代理工作流，支持长期记忆和其他复杂任务的处理。\n",
      "3. **部署平台**：LangGraph 提供了一个专门为其设计的部署平台 LangGraph Platform，能够轻松地部署和扩展代理应用。\n",
      "4. **与 LangChain 集成**：LangGraph 可以独立使用，也可以与 LangChain 的其他工具（如 LangSmith）结合使用，提供完整的解决方案来快速迭代、调试和扩展代理应用。\n",
      "\n",
      "### 使用场景：\n",
      "- **对话代理**：构建能够处理复杂对话逻辑的 AI 代理。\n",
      "- **任务自动化**：实现需要长期状态管理的自动化任务。\n",
      "- **自定义 LLM 支持的应用**：开发基于大型语言模型（LLM）的定制化体验。\n",
      "\n",
      "如果你对学习 LangGraph 感兴趣，可以从其 [GitHub 页面](https://github.com/langchain-ai/langgraph) 开始，那里提供了详细的文档和教程来帮助你入门。此外，[LangChain 官方网站](https://www.langchain.com/langgraph) 也提供了更多关于如何使用 LangGraph 进行开发的信息。\n"
     ]
    }
   ],
   "source": [
    "# The `checkpoint_id` in the `to_replay.config` corresponds to a state we've persisted to our checkpointer.\n",
    "for event in graph.stream(None, to_replay.config, stream_mode=\"values\"):\n",
    "    if \"messages\" in event:\n",
    "        event[\"messages\"][-1].pretty_print()"
   ]
  }
 ],
 "metadata": {
  "kernelspec": {
   "display_name": "Python 3",
   "language": "python",
   "name": "python3"
  },
  "language_info": {
   "codemirror_mode": {
    "name": "ipython",
    "version": 3
   },
   "file_extension": ".py",
   "mimetype": "text/x-python",
   "name": "python",
   "nbconvert_exporter": "python",
   "pygments_lexer": "ipython3",
   "version": "3.11.1"
  }
 },
 "nbformat": 4,
 "nbformat_minor": 5
}
