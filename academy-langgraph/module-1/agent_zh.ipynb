{
  "cells": [
    {
      "cell_type": "markdown",
      "id": "6a44f010",
      "metadata": {},
      "source": [
        "[PROTECTED$11$](https://colab.research.google.com/github/langchain-ai/langchain-academy/blob/main/module-1/agent.ipynb) [PROTECTED$12$](https://academy.langchain.com/courses/take/intro-to-langgraph/lessons/58239232-lesson-6-agent)\n",
        "\n"
      ]
    },
    {
      "attachments": {},
      "cell_type": "markdown",
      "id": "98f5e36a-da49-4ae2-8c74-b910a2f992fc",
      "metadata": {},
      "source": [
        "# 代理（Agent）\n",
        "\n",
        "## 评论（Review）\n",
        "\n",
        "We built a router.\n",
        "\n",
        "我们构建了一个路由器。\n",
        "\n",
        "* Our chat model will decide to make a tool call or not based upon the user input\n",
        "* We use a conditional edge to route to a node that will call our tool or simply end\n",
        "\n",
        "*我们的聊天模型将根据用户输入决定是否进行工具调用* 我们使用条件边来路由到一个节点，该节点将调用我们的工具或直接结束\n",
        "\n",
        "![Screenshot 2024-08-21 at 12.44.33 PM.png](https://cdn.prod.website-files.com/65b8cd72835ceeacd4449a53/66dbac0ba0bd34b541c448cc_agent1.png)\n",
        "\n",
        "## 目标（Goals）\n",
        "\n",
        "Now, we can extend this into a generic agent architecture.\n",
        "\n",
        "现在，我们可以将其扩展为一个通用的代理架构。\n",
        "\n",
        "In the above router, we invoked the model and, if it chose to call a tool, we returned a `ToolMessage` to the user.\n",
        " \n",
        "But, what if we simply pass that `ToolMessage` *back to the model*?\n",
        "\n",
        "在上面的路由中，我们调用了模型，并且如果它选择调用工具，我们会将一个 `ToolMessage` 返回给用户。\n",
        "\n",
        "但是，如果我们简单地将那个 `ToolMessage` * 返回给模型*，会怎么样呢？\n",
        "\n",
        "We can let it either (1) call another tool or (2) respond directly.\n",
        "\n",
        "我们可以让它要么 (1) 调用另一个工具，要么 (2) 直接响应。\n",
        "\n",
        "This is the intuition behind [ReAct](https://react-lm.github.io/), a general agent architecture.\n",
        "  \n",
        "* `act` - let the model call specific tools \n",
        "* `observe` - pass the tool output back to the model \n",
        "* `reason` - let the model reason about the tool output to decide what to do next (e.g., call another tool or just respond directly)\n",
        "\n",
        "这是 [ReAct](https://react-lm.github.io/) 的直觉所在，这是一种通用代理架构。\n",
        "\n",
        "*`act` - 让模型调用特定工具* `observe` - 将工具输出传递回模型  \n",
        "* `reason` - 让模型对工具输出进行推理，以决定下一步操作（例如，调用另一个工具或直接响应）\n",
        "\n",
        "This [general purpose architecture](https://blog.langchain.dev/planning-for-agents/) can be applied to many types of tools. \n",
        "\n",
        "这种 [general purpose architecture](https://blog.langchain.dev/planning-for-agents/) 可以应用于许多类型的工具。\n",
        "\n",
        "![Screenshot 2024-08-21 at 12.45.43 PM.png](https://cdn.prod.website-files.com/65b8cd72835ceeacd4449a53/66dbac0b4a2c1e5e02f3e78b_agent2.png)\n",
        "\n"
      ]
    },
    {
      "cell_type": "code",
      "execution_count": 1,
      "id": "63edff5a-724b-474d-9db8-37f0ae936c76",
      "metadata": {},
      "outputs": [],
      "source": [
        "%%capture --no-stderr\n",
        "%pip install --quiet -U langchain_openai langchain_core langgraph langgraph-prebuilt"
      ]
    },
    {
      "cell_type": "code",
      "execution_count": 2,
      "id": "356a6482",
      "metadata": {},
      "outputs": [],
      "source": [
        "import os, getpass\n",
        "\n",
        "def _set_env(var: str):\n",
        "    if not os.environ.get(var):\n",
        "        os.environ[var] = getpass.getpass(f\"{var}: \")\n",
        "\n",
        "_set_env(\"OPENAI_API_KEY\")"
      ]
    },
    {
      "cell_type": "markdown",
      "id": "dba35a12",
      "metadata": {},
      "source": [
        "Here, we'll use [LangSmith](https://docs.smith.langchain.com/) for [tracing](https://docs.smith.langchain.com/concepts/tracing).\n",
        "\n",
        "在这里，我们将使用 [LangSmith](https://docs.smith.langchain.com/) 用于 [tracing](https://docs.smith.langchain.com/concepts/tracing)。\n",
        "\n",
        "We'll log to a project, `langchain-academy`. \n",
        "\n",
        "我们将记录到一个项目中，`langchain-academy`。\n",
        "\n"
      ]
    },
    {
      "cell_type": "code",
      "execution_count": 3,
      "id": "60e6f1eb",
      "metadata": {},
      "outputs": [],
      "source": [
        "_set_env(\"LANGSMITH_API_KEY\")\n",
        "os.environ[\"LANGSMITH_TRACING\"] = \"true\"\n",
        "os.environ[\"LANGSMITH_PROJECT\"] = \"langchain-academy\""
      ]
    },
    {
      "cell_type": "code",
      "execution_count": 4,
      "id": "71795ff1-d6a7-448d-8b55-88bbd1ed3dbe",
      "metadata": {},
      "outputs": [],
      "source": [
        "from langchain_openai import ChatOpenAI\n",
        "\n",
        "def multiply(a: int, b: int) -> int:\n",
        "    \"\"\"Multiply a and b.\n",
        "\n",
        "    Args:\n",
        "        a: first int\n",
        "        b: second int\n",
        "    \"\"\"\n",
        "    return a * b\n",
        "\n",
        "# This will be a tool\n",
        "def add(a: int, b: int) -> int:\n",
        "    \"\"\"Adds a and b.\n",
        "\n",
        "    Args:\n",
        "        a: first int\n",
        "        b: second int\n",
        "    \"\"\"\n",
        "    return a + b\n",
        "\n",
        "def divide(a: int, b: int) -> float:\n",
        "    \"\"\"Divide a and b.\n",
        "\n",
        "    Args:\n",
        "        a: first int\n",
        "        b: second int\n",
        "    \"\"\"\n",
        "    return a / b\n",
        "\n",
        "tools = [add, multiply, divide]\n",
        "llm = ChatOpenAI(\n",
        "    model=\"qwen-plus-2025-04-28\",\n",
        "    api_key=\"sk-ba2dda3817f145d7af141fdf32e31d90\",\n",
        "    base_url=\"https://dashscope.aliyuncs.com/compatible-mode/v1\"\n",
        ")\n",
        "\n",
        "# 在这个 ipynb 文件中，我们将并行工具调用（parallel tool calling）设置为 false，因为数学计算通常是按顺序执行的，并且这次我们有3个可以进行数学计算的工具。\n",
        "# OpenAI 模型为了效率，默认进行并行工具调用，详情请参阅 `https://python.langchain.com/docs/how_to/tool_calling_parallel/`\n",
        "# 不妨尝试一下，看看模型在处理数学方程式时的表现！\n",
        "llm_with_tools = llm.bind_tools(tools, parallel_tool_calls=False)"
      ]
    },
    {
      "cell_type": "markdown",
      "id": "a2cec014-3023-405c-be79-de8fc7adb346",
      "metadata": {},
      "source": [
        "Let's create our LLM and prompt it with the overall desired agent behavior.\n",
        "\n",
        "让我们创建我们的LLM，并用整体期望的代理行为来提示它。\n",
        "\n"
      ]
    },
    {
      "cell_type": "code",
      "execution_count": 5,
      "id": "d061813f-ebc0-432c-91ec-3b42b15c30b6",
      "metadata": {},
      "outputs": [],
      "source": [
        "from langgraph.graph import MessagesState\n",
        "from langchain_core.messages import HumanMessage, SystemMessage\n",
        "\n",
        "# System message\n",
        "sys_msg = SystemMessage(content=\"你是一个乐于助人的助手，负责对一组输入执行算术运算。\")\n",
        "\n",
        "# Node\n",
        "def assistant(state: MessagesState):\n",
        "   return {\"messages\": [llm_with_tools.invoke([sys_msg] + state[\"messages\"])]}"
      ]
    },
    {
      "cell_type": "markdown",
      "id": "4eb43343-9a6f-42cb-86e6-4380f928633c",
      "metadata": {},
      "source": [
        "As before, we use `MessagesState` and define a `Tools` node with our list of tools.\n",
        "\n",
        "与之前一样，我们使用 `MessagesState` 并定义一个 `Tools` 节点，其中包含我们的工具列表。\n",
        "\n",
        "The `Assistant` node is just our model with bound tools.\n",
        "\n",
        "`Assistant` 节点只是我们带有绑定工具的模型。\n",
        "\n",
        "We create a graph with `Assistant` and `Tools` nodes.\n",
        "\n",
        "我们创建了一个包含 `Assistant` 和 `Tools` 节点的图。\n",
        "\n",
        "We add `tools_condition` edge, which routes to `End` or to `Tools` based on  whether the `Assistant` calls a tool.\n",
        "\n",
        "我们添加了 `tools_condition` 边，根据 `Assistant` 是否调用工具，将其路由到 `End` 或 `Tools`。\n",
        "\n",
        "Now, we add one new step:\n",
        "\n",
        "现在，我们新增一个步骤：\n",
        "\n",
        "We connect the `Tools` node *back* to the `Assistant`, forming a loop.\n",
        "\n",
        "我们将 `Tools` 节点 *回环* 连接到 `Assistant`，从而形成一个回路。\n",
        "\n",
        "* After the `assistant` node executes, `tools_condition` checks if the model's output is a tool call.\n",
        "* If it is a tool call, the flow is directed to the `tools` node.\n",
        "* The `tools` node connects back to `assistant`.\n",
        "* This loop continues as long as the model decides to call tools.\n",
        "* If the model response is not a tool call, the flow is directed to END, terminating the process.\n",
        "\n",
        "*在 `assistant` 节点执行后，`tools_condition` 检查模型的输出是否为工具调用。* 如果是工具调用，则流程被导向至 `tools` 节点。  \n",
        "*`tools` 节点重新连接到 `assistant`。* 只要模型决定调用工具，此循环就会继续。  \n",
        "* 如果模型的响应不是工具调用，则流程被导向至结束，终止该过程。\n",
        "\n"
      ]
    },
    {
      "cell_type": "code",
      "execution_count": 6,
      "id": "aef13cd4-05a6-4084-a620-2e7b91d9a72f",
      "metadata": {},
      "outputs": [
        {
          "data": {
            "image/png": "[encoded data removed]",
            "text/plain": [
              "<IPython.core.display.Image object>"
            ]
          },
          "metadata": {},
          "output_type": "display_data"
        }
      ],
      "source": [
        "from langgraph.graph import START, StateGraph\n",
        "from langgraph.prebuilt import tools_condition\n",
        "from langgraph.prebuilt import ToolNode\n",
        "from IPython.display import Image, display\n",
        "\n",
        "# Graph\n",
        "builder = StateGraph(MessagesState)\n",
        "\n",
        "# Define nodes: these do the work\n",
        "builder.add_node(\"assistant\", assistant)\n",
        "builder.add_node(\"tools\", ToolNode(tools))\n",
        "\n",
        "# Define edges: these determine how the control flow moves\n",
        "builder.add_edge(START, \"assistant\")\n",
        "builder.add_conditional_edges(\n",
        "    \"assistant\",\n",
        "    # If the latest message (result) from assistant is a tool call -> tools_condition routes to tools\n",
        "    # If the latest message (result) from assistant is a not a tool call -> tools_condition routes to END\n",
        "    tools_condition,\n",
        ")\n",
        "builder.add_edge(\"tools\", \"assistant\")\n",
        "react_graph = builder.compile()\n",
        "\n",
        "# Show\n",
        "display(Image(react_graph.get_graph(xray=True).draw_mermaid_png()))"
      ]
    },
    {
      "cell_type": "code",
      "execution_count": null,
      "id": "75602459-d8ca-47b4-9518-3f38343ebfe4",
      "metadata": {},
      "outputs": [
        {
          "name": "stderr",
          "output_type": "stream",
          "text": [
            "/root/.pyenv/versions/3.11.1/lib/python3.11/site-packages/langsmith/client.py:272: LangSmithMissingAPIKeyWarning: API key must be provided when using hosted LangSmith API\n",
            "  warnings.warn(\n",
            "Failed to multipart ingest runs: langsmith.utils.LangSmithAuthError: Authentication failed for https://api.smith.langchain.com/runs/multipart. HTTPError('401 Client Error: Unauthorized for url: https://api.smith.langchain.com/runs/multipart', '{\"error\":\"Unauthorized\"}\\n')trace=fc40d796-2dd7-4a98-8323-6fb050d24d34,id=fc40d796-2dd7-4a98-8323-6fb050d24d34; trace=fc40d796-2dd7-4a98-8323-6fb050d24d34,id=d8772bf0-77be-4e4e-910a-64d7b9292bf1; trace=fc40d796-2dd7-4a98-8323-6fb050d24d34,id=c35f8fb6-6d07-49ec-b2f2-ae42d16a4c20\n",
            "Failed to send compressed multipart ingest: langsmith.utils.LangSmithAuthError: Authentication failed for https://api.smith.langchain.com/runs/multipart. HTTPError('401 Client Error: Unauthorized for url: https://api.smith.langchain.com/runs/multipart', '{\"error\":\"Unauthorized\"}\\n')trace=fc40d796-2dd7-4a98-8323-6fb050d24d34,id=c35f8fb6-6d07-49ec-b2f2-ae42d16a4c20; trace=fc40d796-2dd7-4a98-8323-6fb050d24d34,id=4a5c80a0-27a5-40ff-9d24-74073e328d83; trace=fc40d796-2dd7-4a98-8323-6fb050d24d34,id=4a5c80a0-27a5-40ff-9d24-74073e328d83; trace=fc40d796-2dd7-4a98-8323-6fb050d24d34,id=d8772bf0-77be-4e4e-910a-64d7b9292bf1; trace=fc40d796-2dd7-4a98-8323-6fb050d24d34,id=5e59d147-1a08-49c1-b700-29dd4c8188ec; trace=fc40d796-2dd7-4a98-8323-6fb050d24d34,id=ccd52e09-8343-45db-98f3-17b49fb4a375; trace=fc40d796-2dd7-4a98-8323-6fb050d24d34,id=ccd52e09-8343-45db-98f3-17b49fb4a375; trace=fc40d796-2dd7-4a98-8323-6fb050d24d34,id=5e59d147-1a08-49c1-b700-29dd4c8188ec; trace=fc40d796-2dd7-4a98-8323-6fb050d24d34,id=46f1e26e-5e62-4753-a7cc-d4fac83dbc52; trace=fc40d796-2dd7-4a98-8323-6fb050d24d34,id=4151be57-bf9f-4b98-84da-250e1986040f\n",
            "Failed to send compressed multipart ingest: langsmith.utils.LangSmithAuthError: Authentication failed for https://api.smith.langchain.com/runs/multipart. HTTPError('401 Client Error: Unauthorized for url: https://api.smith.langchain.com/runs/multipart', '{\"error\":\"Unauthorized\"}\\n')trace=fc40d796-2dd7-4a98-8323-6fb050d24d34,id=4151be57-bf9f-4b98-84da-250e1986040f; trace=fc40d796-2dd7-4a98-8323-6fb050d24d34,id=3544195c-76b3-4fb7-93d8-1192ee523f4e; trace=fc40d796-2dd7-4a98-8323-6fb050d24d34,id=3544195c-76b3-4fb7-93d8-1192ee523f4e; trace=fc40d796-2dd7-4a98-8323-6fb050d24d34,id=46f1e26e-5e62-4753-a7cc-d4fac83dbc52; trace=fc40d796-2dd7-4a98-8323-6fb050d24d34,id=d821e7fe-4242-4f19-a6de-92acb9eac240; trace=fc40d796-2dd7-4a98-8323-6fb050d24d34,id=eddb7bac-f3d9-48f8-88bc-d38dd529fdca; trace=fc40d796-2dd7-4a98-8323-6fb050d24d34,id=eddb7bac-f3d9-48f8-88bc-d38dd529fdca; trace=fc40d796-2dd7-4a98-8323-6fb050d24d34,id=d821e7fe-4242-4f19-a6de-92acb9eac240; trace=fc40d796-2dd7-4a98-8323-6fb050d24d34,id=f6630eb1-3f71-433d-8c23-25e6e657e855; trace=fc40d796-2dd7-4a98-8323-6fb050d24d34,id=5b818404-3323-4e63-aa35-3c087cda69f6\n",
            "Failed to send compressed multipart ingest: langsmith.utils.LangSmithAuthError: Authentication failed for https://api.smith.langchain.com/runs/multipart. HTTPError('401 Client Error: Unauthorized for url: https://api.smith.langchain.com/runs/multipart', '{\"error\":\"Unauthorized\"}\\n')trace=fc40d796-2dd7-4a98-8323-6fb050d24d34,id=5b818404-3323-4e63-aa35-3c087cda69f6; trace=fc40d796-2dd7-4a98-8323-6fb050d24d34,id=7264d498-5429-42ac-b52e-f10e4d9e53a7; trace=fc40d796-2dd7-4a98-8323-6fb050d24d34,id=7264d498-5429-42ac-b52e-f10e4d9e53a7; trace=fc40d796-2dd7-4a98-8323-6fb050d24d34,id=f6630eb1-3f71-433d-8c23-25e6e657e855; trace=fc40d796-2dd7-4a98-8323-6fb050d24d34,id=b2a0a7d0-6cce-4817-bbd4-c037a9833214; trace=fc40d796-2dd7-4a98-8323-6fb050d24d34,id=90cabb25-077c-4f72-a129-f8a106e8140c; trace=fc40d796-2dd7-4a98-8323-6fb050d24d34,id=90cabb25-077c-4f72-a129-f8a106e8140c; trace=fc40d796-2dd7-4a98-8323-6fb050d24d34,id=b2a0a7d0-6cce-4817-bbd4-c037a9833214; trace=fc40d796-2dd7-4a98-8323-6fb050d24d34,id=cdad6b16-0ab0-4609-82be-1ec71d5f0d68; trace=fc40d796-2dd7-4a98-8323-6fb050d24d34,id=c73d319a-ff82-4241-9a39-11ffc88cc606\n"
          ]
        },
        {
          "name": "stderr",
          "output_type": "stream",
          "text": [
            "Failed to send compressed multipart ingest: langsmith.utils.LangSmithAuthError: Authentication failed for https://api.smith.langchain.com/runs/multipart. HTTPError('401 Client Error: Unauthorized for url: https://api.smith.langchain.com/runs/multipart', '{\"error\":\"Unauthorized\"}\\n')trace=fc40d796-2dd7-4a98-8323-6fb050d24d34,id=c73d319a-ff82-4241-9a39-11ffc88cc606; trace=fc40d796-2dd7-4a98-8323-6fb050d24d34,id=72855a9d-4b2e-4207-87fd-97523068b953; trace=fc40d796-2dd7-4a98-8323-6fb050d24d34,id=72855a9d-4b2e-4207-87fd-97523068b953; trace=fc40d796-2dd7-4a98-8323-6fb050d24d34,id=cdad6b16-0ab0-4609-82be-1ec71d5f0d68; trace=fc40d796-2dd7-4a98-8323-6fb050d24d34,id=fc40d796-2dd7-4a98-8323-6fb050d24d34\n"
          ]
        }
      ],
      "source": [
        "messages = [HumanMessage(content=\"将3和4相加。将结果乘以2。再将结果除以5。\")]\n",
        "messages = react_graph.invoke({\"messages\": messages})"
      ]
    },
    {
      "cell_type": "code",
      "execution_count": 8,
      "id": "b517142d-c40c-48bf-a5b8-c8409427aa79",
      "metadata": {},
      "outputs": [
        {
          "name": "stdout",
          "output_type": "stream",
          "text": [
            "================================\u001b[1m Human Message \u001b[0m=================================\n",
            "\n",
            "将3和4相加。将结果乘以2。再将结果除以5。\n",
            "==================================\u001b[1m Ai Message \u001b[0m==================================\n",
            "Tool Calls:\n",
            "  add (call_6c69898dba0342bfbb889e)\n",
            " Call ID: call_6c69898dba0342bfbb889e\n",
            "  Args:\n",
            "    a: 3\n",
            "    b: 4\n",
            "=================================\u001b[1m Tool Message \u001b[0m=================================\n",
            "Name: add\n",
            "\n",
            "7\n",
            "==================================\u001b[1m Ai Message \u001b[0m==================================\n",
            "Tool Calls:\n",
            "  multiply (call_9940e7603ecf4a13a5f2fb)\n",
            " Call ID: call_9940e7603ecf4a13a5f2fb\n",
            "  Args:\n",
            "    a: 7\n",
            "    b: 2\n",
            "=================================\u001b[1m Tool Message \u001b[0m=================================\n",
            "Name: multiply\n",
            "\n",
            "14\n",
            "==================================\u001b[1m Ai Message \u001b[0m==================================\n",
            "Tool Calls:\n",
            "  divide (call_d48fbbe205a14dfbaa3500)\n",
            " Call ID: call_d48fbbe205a14dfbaa3500\n",
            "  Args:\n",
            "    a: 14\n",
            "    b: 5\n",
            "=================================\u001b[1m Tool Message \u001b[0m=================================\n",
            "Name: divide\n",
            "\n",
            "2.8\n",
            "==================================\u001b[1m Ai Message \u001b[0m==================================\n",
            "\n",
            "最终结果是2.8。\n"
          ]
        }
      ],
      "source": [
        "for m in messages['messages']:\n",
        "    m.pretty_print()"
      ]
    },
    {
      "cell_type": "markdown",
      "id": "ad869f22-9bfb-4cbe-9f30-8a307c5cdda2",
      "metadata": {},
      "source": [
        "## 朗史密斯（LangSmith）\n",
        "\n",
        "We can look at traces in LangSmith.\n",
        "\n",
        "我们可以在 LangSmith 中查看轨迹。\n",
        "\n"
      ]
    }
  ],
  "metadata": {
    "kernelspec": {
      "display_name": "Python 3",
      "language": "python",
      "name": "python3"
    },
    "language_info": {
      "codemirror_mode": {
        "name": "ipython",
        "version": 3
      },
      "file_extension": ".py",
      "mimetype": "text/x-python",
      "name": "python",
      "nbconvert_exporter": "python",
      "pygments_lexer": "ipython3",
      "version": "3.11.1"
    }
  },
  "nbformat": 4,
  "nbformat_minor": 5
}
