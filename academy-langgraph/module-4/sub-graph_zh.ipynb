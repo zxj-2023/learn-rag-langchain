{
  "cells": [
    {
      "cell_type": "markdown",
      "id": "6ec1671c",
      "metadata": {},
      "source": [
        "[PROTECTED$11$](https://colab.research.google.com/github/langchain-ai/langchain-academy/blob/main/module-4/sub-graph.ipynb) [PROTECTED$12$](https://academy.langchain.com/courses/take/intro-to-langgraph/lessons/58239937-lesson-2-sub-graphs)\n",
        "\n"
      ]
    },
    {
      "attachments": {},
      "cell_type": "markdown",
      "id": "3db85080-2299-4885-a2f6-fffa6a09a238",
      "metadata": {},
      "source": [
        "# 子图（Sub-graphs）\n",
        "\n",
        "## 评论（Review）\n",
        "\n",
        "We're building up to a multi-agent research assistant that ties together all of the modules from this course.\n",
        "\n",
        "我们正在构建一个多功能的研究助理，它将本课程中的所有模块串联起来。\n",
        "\n",
        "We just covered parallelization, which is one important LangGraph controllability topic.\n",
        "\n",
        "我们刚刚介绍了并行化，这是 LangGraph 可控性的一个重要话题。\n",
        "\n",
        "## 目标（Goals）\n",
        "\n",
        "Now, we're [going to cover sub-graphs](https://langchain-ai.github.io/langgraph/how-tos/subgraph/#simple-example).\n",
        "## 状态（State）\n",
        "\n",
        "Sub-graphs allow you to create and manage different states in different parts of your graph. \n",
        "\n",
        "子图允许你在图表的不同部分创建和管理不同的状态。\n",
        "\n",
        "This is particularly useful for multi-agent systems, with teams of agents that each have their own state.\n",
        "\n",
        "这在多智能体系统中尤其有用，尤其是在每个智能体都有各自状态的智能体团队中。\n",
        "\n",
        "Let's consider a toy example:\n",
        "\n",
        "让我们考虑一个简单的例子：\n",
        "\n",
        "* I have a system that accepts logs\n",
        "* It performs two separate sub-tasks by different agents (summarize logs, find failure modes)\n",
        "* I want to perform these two operations in two different sub-graphs.\n",
        "\n",
        "*我有一个接受日志的系统* 它通过不同的代理执行两个独立的子任务（总结日志、查找故障模式）  \n",
        "* 我希望在这两个不同的子图中执行这两个操作\n",
        "\n",
        "The most critical thing to understand is how the graphs communicate! \n",
        "\n",
        "最重要的是要理解图表是如何传达信息的！\n",
        "\n",
        "In short, communication is **done with over-lapping keys**: \n",
        "\n",
        "简而言之，通信是 **通过重叠密钥** 实现的：\n",
        "\n",
        "* The sub-graphs can access `docs` from the parent\n",
        "* The parent can access `summary/failure_report` from the sub-graphs\n",
        "\n",
        "*子图可以访问 `docs` 父图中的内容* 父图可以访问 `summary/failure_report` 子图中的内容\n",
        "\n",
        "![subgraph.png](https://cdn.prod.website-files.com/65b8cd72835ceeacd4449a53/66dbb1abf89f2d847ee6f1ff_sub-graph1.png)\n",
        "\n",
        "## 输入（Input）\n",
        "\n",
        "Let's define a schema for the logs that will be input to our graph.\n",
        "\n",
        "让我们为将输入到我们图形中的日志定义一个模式。\n",
        "\n"
      ]
    },
    {
      "cell_type": "code",
      "execution_count": null,
      "id": "2954e8c6-496f-4394-b56a-681608bf65da",
      "metadata": {},
      "outputs": [],
      "source": [
        "%%capture --no-stderr\n",
        "%pip install -U  langgraph"
      ]
    },
    {
      "cell_type": "markdown",
      "id": "e7e413ba-e376-4a5f-a666-2d2154aa6fe2",
      "metadata": {},
      "source": [
        "We'll use [LangSmith](https://docs.smith.langchain.com/) for [tracing](https://docs.smith.langchain.com/concepts/tracing).\n",
        "\n",
        "我们将使用 [LangSmith](https://docs.smith.langchain.com/) 用于 [tracing](https://docs.smith.langchain.com/concepts/tracing)。\n",
        "\n"
      ]
    },
    {
      "cell_type": "code",
      "execution_count": 1,
      "id": "05b26c51",
      "metadata": {},
      "outputs": [],
      "source": [
        "import os, getpass\n",
        "\n",
        "def _set_env(var: str):\n",
        "    if not os.environ.get(var):\n",
        "        os.environ[var] = getpass.getpass(f\"{var}: \")\n",
        "\n",
        "_set_env(\"LANGSMITH_API_KEY\")\n",
        "os.environ[\"LANGSMITH_TRACING\"] = \"true\"\n",
        "os.environ[\"LANGSMITH_PROJECT\"] = \"langchain-academy\""
      ]
    },
    {
      "cell_type": "code",
      "execution_count": 2,
      "id": "3efaf8bb-f675-4c0b-a575-89c7e2987a33",
      "metadata": {},
      "outputs": [],
      "source": [
        "from operator import add\n",
        "from typing_extensions import TypedDict\n",
        "from typing import List, Optional, Annotated\n",
        "\n",
        "#logs结构\n",
        "class Log(TypedDict):\n",
        "    id: str\n",
        "    question: str\n",
        "    docs: Optional[List]\n",
        "    answer: str\n",
        "    grade: Optional[int]\n",
        "    grader: Optional[str]\n",
        "    feedback: Optional[str]"
      ]
    },
    {
      "cell_type": "markdown",
      "id": "15825627-78c2-4ba0-ad11-95e4afdb771d",
      "metadata": {},
      "source": [
        "## 子图（Sub graphs）\n",
        "\n",
        "Here is the failure analysis sub-graph, which uses `FailureAnalysisState`.\n",
        "\n",
        "这里是失败分析子图，它使用了 `FailureAnalysisState`。\n",
        "\n"
      ]
    },
    {
      "cell_type": "code",
      "execution_count": null,
      "id": "f32986a9-6d11-4646-b2c0-fbae4f524579",
      "metadata": {},
      "outputs": [
        {
          "data": {
            "image/png": "[encoded data removed]",
            "text/plain": [
              "<IPython.core.display.Image object>"
            ]
          },
          "metadata": {},
          "output_type": "display_data"
        }
      ],
      "source": [
        "from IPython.display import Image, display\n",
        "from langgraph.graph import StateGraph, START, END\n",
        "\n",
        "# 故障分析子图\n",
        "class FailureAnalysisState(TypedDict):\n",
        "    \"\"\"用于故障分析的状态。\"\"\"\n",
        "    cleaned_logs: List[Log] # 清理后的日志列表\n",
        "    failures: List[Log]     # 包含故障的日志列表\n",
        "    fa_summary: str         # 故障分析摘要\n",
        "    processed_logs: List[str] # 已处理的日志标识符列表\n",
        "\n",
        "class FailureAnalysisOutputState(TypedDict):\n",
        "    \"\"\"故障分析的输出状态。\"\"\"\n",
        "    fa_summary: str         # 故障分析摘要\n",
        "    processed_logs: List[str] # 已处理的日志标识符列表\n",
        "\n",
        "def get_failures(state):\n",
        "    \"\"\"获取包含故障的日志\"\"\"\n",
        "    cleaned_logs = state[\"cleaned_logs\"]\n",
        "    # 从清理后的日志中筛选出包含 \"grade\" 键的日志，这些被视为故障\n",
        "    failures = [log for log in cleaned_logs if \"grade\" in log]\n",
        "    return {\"failures\": failures}\n",
        "\n",
        "def generate_summary(state):\n",
        "    \"\"\"生成故障摘要\"\"\"\n",
        "    failures = state[\"failures\"]\n",
        "    # 添加功能：summary = summarize(generate_summary)\n",
        "    fa_summary = \"Chroma 文档的检索质量不佳。\"\n",
        "    # 为每个故障日志生成一个处理过的日志标识符\n",
        "    return {\"fa_summary\": fa_summary, \"processed_logs\": [f\"failure-analysis-on-log-{failure['id']}\" for failure in failures]}\n",
        "\n",
        "fa_builder = StateGraph(state_schema=FailureAnalysisState,output_schema=FailureAnalysisOutputState)\n",
        "fa_builder.add_node(\"get_failures\", get_failures)\n",
        "fa_builder.add_node(\"generate_summary\", generate_summary)\n",
        "fa_builder.add_edge(START, \"get_failures\")\n",
        "fa_builder.add_edge(\"get_failures\", \"generate_summary\")\n",
        "fa_builder.add_edge(\"generate_summary\", END)\n",
        "\n",
        "graph = fa_builder.compile()\n",
        "display(Image(graph.get_graph().draw_mermaid_png()))"
      ]
    },
    {
      "cell_type": "markdown",
      "id": "aa83f44c-0bb9-48c6-afec-dad536e608fa",
      "metadata": {},
      "source": [
        "Here is the question summarization sub-grap, which uses `QuestionSummarizationState`.\n",
        "\n",
        "这里是问题总结子图，它使用了 `QuestionSummarizationState`。\n",
        "\n"
      ]
    },
    {
      "cell_type": "code",
      "execution_count": 4,
      "id": "7149000c-ffb6-4834-bd9e-d35b36c524e7",
      "metadata": {},
      "outputs": [
        {
          "data": {
            "image/png": "[encoded data removed]",
            "text/plain": [
              "<IPython.core.display.Image object>"
            ]
          },
          "metadata": {},
          "output_type": "display_data"
        }
      ],
      "source": [
        "# 摘要生成子图\n",
        "class QuestionSummarizationState(TypedDict):\n",
        "    \"\"\"用于问题摘要的状态。\"\"\"\n",
        "    cleaned_logs: List[Log] # 清理后的日志列表\n",
        "    qs_summary: str         # 问题摘要\n",
        "    report: str             # 从摘要生成的报告\n",
        "    processed_logs: List[str] # 已处理的日志标识符列表\n",
        "\n",
        "class QuestionSummarizationOutputState(TypedDict):\n",
        "    \"\"\"问题摘要的输出状态。\"\"\"\n",
        "    report: str             # 最终报告\n",
        "    processed_logs: List[str] # 已处理的日志标识符列表\n",
        "\n",
        "def generate_summary(state):\n",
        "    \"\"\"从日志生成摘要。\"\"\"\n",
        "    cleaned_logs = state[\"cleaned_logs\"]\n",
        "    # 添加功能：summary = summarize(generate_summary)\n",
        "    summary = \"问题集中在 ChatOllama 和 Chroma 向量存储的使用上。\"\n",
        "    # 返回摘要以及已处理的日志ID\n",
        "    return {\"qs_summary\": summary, \"processed_logs\": [f\"summary-on-log-{log['id']}\" for log in cleaned_logs]}\n",
        "\n",
        "def send_to_slack(state):\n",
        "    \"\"\"模拟发送报告。\"\"\"\n",
        "    qs_summary = state[\"qs_summary\"]\n",
        "    # 添加功能：report = report_generation(qs_summary)\n",
        "    report = \"foo bar baz\"\n",
        "    return {\"report\": report}\n",
        "\n",
        "qs_builder = StateGraph(QuestionSummarizationState,output_schema=QuestionSummarizationOutputState)\n",
        "qs_builder.add_node(\"generate_summary\", generate_summary)\n",
        "qs_builder.add_node(\"send_to_slack\", send_to_slack)\n",
        "qs_builder.add_edge(START, \"generate_summary\")\n",
        "qs_builder.add_edge(\"generate_summary\", \"send_to_slack\")\n",
        "qs_builder.add_edge(\"send_to_slack\", END)\n",
        "\n",
        "graph = qs_builder.compile()\n",
        "display(Image(graph.get_graph().draw_mermaid_png()))"
      ]
    },
    {
      "cell_type": "markdown",
      "id": "f10a5baf-beab-4927-807a-3e6a5ad3d202",
      "metadata": {},
      "source": [
        "## 向父图添加子图（Adding sub graphs to our parent graph）\n",
        "\n",
        "Now, we can bring it all together.\n",
        "\n",
        "现在，我们可以将所有内容整合在一起。\n",
        "\n",
        "We create our parent graph with `EntryGraphState`. \n",
        "\n",
        "我们使用 `EntryGraphState` 创建父图。\n",
        "\n",
        "And we add our sub-graphs as nodes! \n",
        "\n",
        "并且我们将我们的子图添加为节点！\n",
        "\n",
        "```\n",
        "entry_builder.add_node(\"question_summarization\", qs_builder.compile())\n",
        "entry_builder.add_node(\"failure_analysis\", fa_builder.compile())\n",
        "```\n",
        "\n"
      ]
    },
    {
      "cell_type": "code",
      "execution_count": null,
      "id": "587c8fe1-1ae8-411e-a55d-cac299026646",
      "metadata": {},
      "outputs": [],
      "source": [
        "# 入口图\n",
        "class EntryGraphState(TypedDict):\n",
        "    raw_logs: List[Log]\n",
        "    cleaned_logs: Annotated[List[Log], add] # 这将在两个子图中使用\n",
        "    fa_summary: str # 这只会在故障分析子图中生成\n",
        "    report: str # 这只会在问题摘要子图中生成\n",
        "    processed_logs:  Annotated[List[int], add] # 这将在两个子图中生成"
      ]
    },
    {
      "cell_type": "markdown",
      "id": "5d4da397-310c-4453-969a-e0ae2cc75db8",
      "metadata": {},
      "source": [
        "But, why does `cleaned_logs` have a reducer if it only goes *into* each sub-graph as an input? It is not modified.\n",
        "\n",
        "但是，如果 `cleaned_logs` 仅作为输入 *进入* 每个子图，为什么它还需要一个 reducer？它并未被修改。\n",
        "\n",
        "```\n",
        "cleaned_logs: Annotated[List[Log], add] # This will be USED BY in BOTH sub-graphs\n",
        "```\n",
        "\n",
        "This is because the output state of the subgraphs will contain **all keys**, even if they are unmodified. \n",
        "\n",
        "这是因为子图的输出状态将包含 **所有键**，即使它们未被修改。\n",
        "\n",
        "The sub-graphs are run in parallel.\n",
        "\n",
        "子图并行运行。\n",
        "\n",
        "Because the parallel sub-graphs return the same key, it needs to have a reducer like `operator.add` to combine the incoming values from each sub-graph.\n",
        "\n",
        "因为并行子图返回相同的键，因此需要一个像 `operator.add` 这样的缩减器来合并来自每个子图的输入值。\n",
        "\n",
        "But, we can work around this by using another concept we talked about before.\n",
        "\n",
        "但是，我们可以通过使用之前讨论过的另一个概念来解决这个问题。\n",
        "\n",
        "We can simply create an output state schema for each sub-graph and ensure that the output state schema contains different keys to publish as output.\n",
        "\n",
        "我们可以为每个子图简单地创建一个输出状态模式，并确保输出状态模式包含不同的键以作为输出发布。\n",
        "\n",
        "We don't actually need each sub-graph to output `cleaned_logs`.\n",
        "\n",
        "我们实际上并不需要每个子图都输出 `cleaned_logs`。\n",
        "\n"
      ]
    },
    {
      "cell_type": "code",
      "execution_count": null,
      "id": "50092b9b-70c1-41b1-a74a-254683e28ce0",
      "metadata": {},
      "outputs": [
        {
          "data": {
            "image/png": "[encoded data removed]",
            "text/plain": [
              "<IPython.core.display.Image object>"
            ]
          },
          "metadata": {},
          "output_type": "display_data"
        }
      ],
      "source": [
        "# 入口图\n",
        "class EntryGraphState(TypedDict):\n",
        "    # 原始日志数据列表\n",
        "    raw_logs: List[Log]\n",
        "    # 经过清洗处理后的日志数据列表\n",
        "    cleaned_logs: List[Log]\n",
        "    fa_summary: str # 这只会在故障分析子图中生成\n",
        "    report: str # 这只会在问题摘要子图中生成\n",
        "    processed_logs:  Annotated[List[int], add] # 跟踪哪些日志已经被处理过 ，尤其是在子图之间共享状态时。\n",
        "\n",
        "def clean_logs(state):\n",
        "    # 获取日志\n",
        "    raw_logs = state[\"raw_logs\"]\n",
        "    # 数据清洗 raw_logs -> docs\n",
        "    cleaned_logs = raw_logs\n",
        "    return {\"cleaned_logs\": cleaned_logs}\n",
        "\n",
        "entry_builder = StateGraph(EntryGraphState)\n",
        "entry_builder.add_node(\"clean_logs\", clean_logs)\n",
        "#添加子图\n",
        "entry_builder.add_node(\"question_summarization\", qs_builder.compile())\n",
        "entry_builder.add_node(\"failure_analysis\", fa_builder.compile())\n",
        "\n",
        "entry_builder.add_edge(START, \"clean_logs\")\n",
        "entry_builder.add_edge(\"clean_logs\", \"failure_analysis\")\n",
        "entry_builder.add_edge(\"clean_logs\", \"question_summarization\")\n",
        "entry_builder.add_edge(\"failure_analysis\", END)\n",
        "entry_builder.add_edge(\"question_summarization\", END)\n",
        "\n",
        "graph = entry_builder.compile()\n",
        "\n",
        "from IPython.display import Image, display\n",
        "\n",
        "# 将 xray 设置为 1 将显示嵌套图的内部结构\n",
        "display(Image(graph.get_graph(xray=1).draw_mermaid_png()))"
      ]
    },
    {
      "cell_type": "code",
      "execution_count": 6,
      "id": "17af1254-4e75-4349-9a79-295f4ec95016",
      "metadata": {},
      "outputs": [
        {
          "data": {
            "text/plain": [
              "{'raw_logs': [{'id': '1',\n",
              "   'question': '我如何导入 ChatOllama?',\n",
              "   'answer': \"要导入 ChatOllama，请使用：'from langchain_community.chat_models import ChatOllama.'\"},\n",
              "  {'id': '2',\n",
              "   'question': '我如何使用 Chroma 向量存储?',\n",
              "   'answer': '要使用 Chroma，请定义：rag_chain = create_retrieval_chain(retriever, question_answer_chain).',\n",
              "   'grade': 0,\n",
              "   'grader': '文档相关性召回',\n",
              "   'feedback': '检索到的文档普遍讨论了向量存储，但没有具体提及 Chroma'}],\n",
              " 'cleaned_logs': [{'id': '1',\n",
              "   'question': '我如何导入 ChatOllama?',\n",
              "   'answer': \"要导入 ChatOllama，请使用：'from langchain_community.chat_models import ChatOllama.'\"},\n",
              "  {'id': '2',\n",
              "   'question': '我如何使用 Chroma 向量存储?',\n",
              "   'answer': '要使用 Chroma，请定义：rag_chain = create_retrieval_chain(retriever, question_answer_chain).',\n",
              "   'grade': 0,\n",
              "   'grader': '文档相关性召回',\n",
              "   'feedback': '检索到的文档普遍讨论了向量存储，但没有具体提及 Chroma'}],\n",
              " 'fa_summary': 'Chroma 文档的检索质量不佳。',\n",
              " 'report': 'foo bar baz',\n",
              " 'processed_logs': ['failure-analysis-on-log-2',\n",
              "  'summary-on-log-1',\n",
              "  'summary-on-log-2']}"
            ]
          },
          "execution_count": 6,
          "metadata": {},
          "output_type": "execute_result"
        }
      ],
      "source": [
        "# 模拟日志\n",
        "question_answer = Log(\n",
        "    id=\"1\",\n",
        "    question=\"我如何导入 ChatOllama?\",\n",
        "    answer=\"要导入 ChatOllama，请使用：'from langchain_community.chat_models import ChatOllama.'\",\n",
        ")\n",
        "\n",
        "question_answer_feedback = Log(\n",
        "    id=\"2\",\n",
        "    question=\"我如何使用 Chroma 向量存储?\",\n",
        "    answer=\"要使用 Chroma，请定义：rag_chain = create_retrieval_chain(retriever, question_answer_chain).\",\n",
        "    grade=0,\n",
        "    grader=\"文档相关性召回\",\n",
        "    feedback=\"检索到的文档普遍讨论了向量存储，但没有具体提及 Chroma\",\n",
        ")\n",
        "\n",
        "raw_logs = [question_answer,question_answer_feedback]\n",
        "graph.invoke({\"raw_logs\": raw_logs})"
      ]
    },
    {
      "cell_type": "code",
      "execution_count": null,
      "id": "a8e241ae",
      "metadata": {},
      "outputs": [],
      "source": []
    },
    {
      "cell_type": "markdown",
      "id": "9192d228-4d3d-4fb0-8bea-26772c3d2e0b",
      "metadata": {},
      "source": [
        "## 朗史密斯（LangSmith）\n",
        "\n",
        "Let's look at the LangSmith trace:\n",
        "\n",
        "让我们来看一下 LangSmith 跟踪记录：\n",
        "\n",
        "https://smith.langchain.com/public/f8f86f61-1b30-48cf-b055-3734dfceadf2/r\n",
        "\n"
      ]
    },
    {
      "cell_type": "markdown",
      "id": "15e836d4",
      "metadata": {},
      "source": [
        "\n"
      ]
    }
  ],
  "metadata": {
    "kernelspec": {
      "display_name": "Python 3",
      "language": "python",
      "name": "python3"
    },
    "language_info": {
      "codemirror_mode": {
        "name": "ipython",
        "version": 3
      },
      "file_extension": ".py",
      "mimetype": "text/x-python",
      "name": "python",
      "nbconvert_exporter": "python",
      "pygments_lexer": "ipython3",
      "version": "3.11.1"
    }
  },
  "nbformat": 4,
  "nbformat_minor": 5
}
