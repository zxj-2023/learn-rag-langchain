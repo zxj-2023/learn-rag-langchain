{
  "cells": [
    {
      "cell_type": "markdown",
      "id": "7a5c2153",
      "metadata": {},
      "source": [
        "[PROTECTED$11$](https://colab.research.google.com/github/langchain-ai/langchain-academy/blob/main/module-4/research-assistant.ipynb) [PROTECTED$12$](https://academy.langchain.com/courses/take/intro-to-langgraph/lessons/58239974-lesson-4-research-assistant)\n",
        "\n"
      ]
    },
    {
      "attachments": {},
      "cell_type": "markdown",
      "id": "e0a5763f-5f45-4b8f-b3e2-480f46c5721b",
      "metadata": {},
      "source": [
        "# 研究助理（Research Assistant）\n",
        "\n",
        "## 评论（Review）\n",
        "\n",
        "We've covered a few major LangGraph themes:\n",
        "\n",
        "我们已经介绍了几个主要的 LangGraph 主题：\n",
        "\n",
        "* Memory\n",
        "* Human-in-the-loop\n",
        "* Controllability\n",
        "\n",
        "*内存* 人工参与循环  \n",
        "* 可控性\n",
        "\n",
        "Now, we'll bring these ideas together to tackle one of AI's most popular applications: research automation. \n",
        "\n",
        "现在，我们将把这些想法结合起来，来应对人工智能最受欢迎的应用之一：研究自动化。\n",
        "\n",
        "Research is often laborious work offloaded to analysts. AI has considerable potential to assist with this.\n",
        "\n",
        "研究工作常常是繁琐的任务，并被分配给分析师。人工智能在协助这方面具有相当大的潜力。\n",
        "\n",
        "However, research demands customization: raw LLM outputs are often poorly suited for real-world decision-making workflows. \n",
        "\n",
        "然而，研究需要定制化：原始的 LLM 输出通常不适合用于现实世界的决策工作流程。\n",
        "\n",
        "Customized, AI-based [research and report generation](https://jxnl.co/writing/2024/06/05/predictions-for-the-future-of-rag/#reports-over-rag) workflows are a promising way to address this.\n",
        "\n",
        "定制化的、基于 AI 的 [research and report generation](https://jxnl.co/writing/2024/06/05/predictions-for-the-future-of-rag/#reports-over-rag) 工作流是解决这一问题的有前景的方法。\n",
        "\n",
        "## 目标（Goal）\n",
        "\n",
        "Our goal is to build a lightweight, multi-agent system around chat models that customizes the research process.\n",
        "\n",
        "我们的目标是围绕聊天模型构建一个轻量级、多智能体系统，以定制研究过程。\n",
        "\n",
        "`Source Selection` \n",
        "* Users can choose any set of input sources for their research.\n",
        "  \n",
        "`Planning` \n",
        "* Users provide a topic, and the system generates a team of AI analysts, each focusing on one sub-topic.\n",
        "* `Human-in-the-loop` will be used to refine these sub-topics before research begins.\n",
        "  \n",
        "`LLM Utilization`\n",
        "* Each analyst will conduct in-depth interviews with an expert AI using the selected sources.\n",
        "* The interview will be a multi-turn conversation to extract detailed insights as shown in the [STORM](https://arxiv.org/abs/2402.14207) paper.\n",
        "* These interviews will be captured in a using `sub-graphs` with their internal state. \n",
        "   \n",
        "`Research Process`\n",
        "* Experts will gather information to answer analyst questions in `parallel`.\n",
        "* And all interviews will be conducted simultaneously through `map-reduce`.\n",
        "\n",
        "`Source Selection` \n",
        "* 用户可以选择任何一组输入源进行研究。\n",
        "  \n",
        "`Planning` \n",
        "*用户提供一个主题，系统将生成一个由 AI 分析师组成的团队，每位分析师专注于一个子主题。* `Human-in-the-loop` 将在研究开始前用于优化这些子主题。\n",
        "  \n",
        "`LLM Utilization`\n",
        "*每位分析师将使用选定的来源与专家 AI 进行深入访谈。* 访谈将是一个多轮对话，以提取详细见解，如 [STORM](https://arxiv.org/abs/2402.14207) 论文中所示。\n",
        "* 这些访谈将通过 `sub-graphs` 捕获，并记录其内部状态。\n",
        "   \n",
        "`Research Process`\n",
        "*专家将在 `parallel` 中收集信息以回答分析师的问题。* 所有访谈将通过 `map-reduce` 同时进行。\n",
        "\n",
        "`Output Format` \n",
        "* The gathered insights from each interview will be synthesized into a final report.\n",
        "* We'll use customizable prompts for the report, allowing for a flexible output format. \n",
        "\n",
        "`Output Format`  \n",
        "*每次访谈收集到的见解将被整合成一份最终报告。* 我们将使用可定制的提示语来生成报告，从而实现灵活的输出格式。\n",
        "\n",
        "![Screenshot 2024-08-26 at 7.26.33 PM.png](https://cdn.prod.website-files.com/65b8cd72835ceeacd4449a53/66dbb164d61c93d48e604091_research-assistant1.png)\n",
        "\n"
      ]
    },
    {
      "cell_type": "code",
      "execution_count": null,
      "id": "f23991e9-51b3-4e9f-86a0-dec16aa7d1e6",
      "metadata": {
        "scrolled": true
      },
      "outputs": [],
      "source": [
        "%%capture --no-stderr\n",
        "%pip install --quiet -U langgraph langchain_openai langchain_community langchain_core tavily-python wikipedia"
      ]
    },
    {
      "cell_type": "markdown",
      "id": "99a1c01d-87e1-4723-b83e-ebcf937fe914",
      "metadata": {},
      "source": [
        "## 设置（Setup）\n",
        "\n"
      ]
    },
    {
      "cell_type": "code",
      "execution_count": 1,
      "id": "ba917800-10e4-4e2a-8e9e-30893b731e97",
      "metadata": {},
      "outputs": [],
      "source": [
        "import os, getpass\n",
        "\n",
        "def _set_env(var: str):\n",
        "    if not os.environ.get(var):\n",
        "        os.environ[var] = getpass.getpass(f\"{var}: \")\n",
        "\n",
        "_set_env(\"OPENAI_API_KEY\")"
      ]
    },
    {
      "cell_type": "code",
      "execution_count": 21,
      "id": "afe9ff57-0826-4669-b88b-4d0501a509f5",
      "metadata": {},
      "outputs": [],
      "source": [
        "from langchain_openai import ChatOpenAI\n",
        "llm = ChatOpenAI(\n",
        "    model=\"qwen-plus-2025-07-14\",\n",
        "    api_key=\"sk-ba2dda3817f145d7af141fdf32e31d90\",\n",
        "    base_url=\"https://dashscope.aliyuncs.com/compatible-mode/v1\"\n",
        ")"
      ]
    },
    {
      "cell_type": "markdown",
      "id": "3419257b-2c6b-4d68-ae38-4a266cc02982",
      "metadata": {},
      "source": [
        "We'll use [LangSmith](https://docs.smith.langchain.com/) for [tracing](https://docs.smith.langchain.com/concepts/tracing).\n",
        "\n",
        "我们将使用 [LangSmith](https://docs.smith.langchain.com/) 用于 [tracing](https://docs.smith.langchain.com/concepts/tracing)。\n",
        "\n"
      ]
    },
    {
      "cell_type": "code",
      "execution_count": null,
      "id": "5102cf2e-0ca9-465b-9499-67abb8132e5d",
      "metadata": {},
      "outputs": [],
      "source": [
        "_set_env(\"LANGSMITH_API_KEY\")\n",
        "os.environ[\"LANGSMITH_TRACING\"] = \"true\"\n",
        "os.environ[\"LANGSMITH_PROJECT\"] = \"langchain-academy\""
      ]
    },
    {
      "cell_type": "markdown",
      "id": "f8fe5d93-e353-44bb-be3e-434654bcb7ea",
      "metadata": {},
      "source": [
        "## 生成分析师：人类在回路中（Generate Analysts: Human-In-The-Loop）\n",
        "\n",
        "Create analysts and review them using human-in-the-loop.\n",
        "\n",
        "创建分析师并使用人工循环（human-in-the-loop）来审查他们。\n",
        "\n"
      ]
    },
    {
      "cell_type": "code",
      "execution_count": 4,
      "id": "1eee8e60-e548-49b1-88ec-a4f3aef2174e",
      "metadata": {},
      "outputs": [],
      "source": [
        "from typing import List\n",
        "from typing_extensions import TypedDict\n",
        "from pydantic import BaseModel, Field\n",
        "\n",
        "class Analyst(BaseModel):\n",
        "    \"\"\"\n",
        "    分析师模型类\n",
        "    用于定义单个分析师的基本信息和属性\n",
        "    \"\"\"\n",
        "    affiliation: str = Field(\n",
        "        description=\"分析师的主要隶属机构。\",\n",
        "    )\n",
        "    name: str = Field(\n",
        "        description=\"分析师的姓名\"\n",
        "    )\n",
        "    role: str = Field(\n",
        "        description=\"分析师在该主题背景下的角色。\",\n",
        "    )\n",
        "    description: str = Field(\n",
        "        description=\"分析师的关注点、担忧和动机的描述。\",\n",
        "    )\n",
        "    \n",
        "    @property#@property 装饰器的作用是将一个方法转换为只读属性 ，让方法可以像访问属性一样使用，而不需要加括号调用。\n",
        "    def persona(self) -> str:\n",
        "        \"\"\"\n",
        "        生成分析师的人设信息\n",
        "        返回格式化的字符串包含分析师的所有关键信息\n",
        "        \"\"\"\n",
        "        return f\"姓名: {self.name}\\n角色: {self.role}\\n隶属机构: {self.affiliation}\\n描述: {self.description}\\n\"\n",
        "\n",
        "class Perspectives(BaseModel):\n",
        "    \"\"\"\n",
        "    视角模型类\n",
        "    用于管理多个分析师的集合\n",
        "    \"\"\"\n",
        "    analysts: List[Analyst] = Field(\n",
        "        description=\"包含角色和隶属机构的分析师综合列表。\",\n",
        "    )\n",
        "\n",
        "class GenerateAnalystsState(TypedDict):\n",
        "    \"\"\"\n",
        "    生成分析师状态类型定义\n",
        "    用于类型提示，定义在生成分析师过程中需要的状态信息\n",
        "    \"\"\"\n",
        "    topic: str # 研究主题 - 用户输入的研究话题\n",
        "    max_analysts: int # 分析师数量 - 需要生成的分析师最大数量\n",
        "    human_analyst_feedback: str # 人类反馈 - 来自用户的反馈信息，用于调整分析师生成\n",
        "    analysts: List[Analyst] # 提出问题的分析师 - 已生成的分析师列表"
      ]
    },
    {
      "cell_type": "code",
      "execution_count": 5,
      "id": "fd088ff5-4c75-412c-85f0-04afd0900bfc",
      "metadata": {},
      "outputs": [
        {
          "data": {
            "image/png": "[encoded data removed]",
            "text/plain": [
              "<IPython.core.display.Image object>"
            ]
          },
          "metadata": {},
          "output_type": "display_data"
        }
      ],
      "source": [
        "from IPython.display import Image, display\n",
        "from langgraph.graph import START, END, StateGraph\n",
        "from langgraph.checkpoint.memory import MemorySaver\n",
        "from langchain_core.messages import AIMessage, HumanMessage, SystemMessage\n",
        "\n",
        "# 分析师指令模板\n",
        "analyst_instructions=\"\"\"您需要创建一组AI分析师角色。请仔细遵循以下指令：\n",
        "\n",
        "1. 首先，查看研究主题：\n",
        "{topic}\n",
        "        \n",
        "2. 检查任何可选的编辑反馈，这些反馈用于指导分析师的创建： \n",
        "        \n",
        "{human_analyst_feedback}\n",
        "    \n",
        "3. 根据上述文档和/或反馈确定最有趣的主题。\n",
        "                    \n",
        "4. 选择前 {max_analysts} 个主题。\n",
        "\n",
        "5. 为每个主题分配一个分析师。\n",
        "\n",
        "6. 重要：请以JSON格式返回您的响应，结构如下：\n",
        "   {{\n",
        "     \"analysts\": [\n",
        "       {{\n",
        "         \"name\": \"分析师姓名\",\n",
        "         \"affiliation\": \"所属机构\",\n",
        "         \"role\": \"角色描述\",\n",
        "         \"description\": \"详细描述\"\n",
        "       }}\n",
        "     ]\n",
        "   }}\n",
        "\n",
        "7. 请确保响应中包含'json'这个词，这是必需的。\"\"\"\n",
        "\n",
        "def create_analysts(state: GenerateAnalystsState):\n",
        "    \"\"\" 创建分析师 \"\"\"\n",
        "    \n",
        "    topic=state['topic']\n",
        "    max_analysts=state['max_analysts']\n",
        "    human_analyst_feedback=state.get('human_analyst_feedback', '')#防止为空\n",
        "        \n",
        "    # 强制结构化输出\n",
        "    structured_llm = llm.with_structured_output(Perspectives)\n",
        "\n",
        "    # 系统消息\n",
        "    system_message = analyst_instructions.format(topic=topic,human_analyst_feedback=human_analyst_feedback, max_analysts=max_analysts)\n",
        "\n",
        "    # 生成分析师\n",
        "    analysts = structured_llm.invoke([SystemMessage(content=system_message)]+[HumanMessage(content=\"生成分析师集合。\")])\n",
        "    \n",
        "    # 将分析师列表写入状态\n",
        "    return {\"analysts\": analysts.analysts}\n",
        "\n",
        "def human_feedback(state: GenerateAnalystsState):\n",
        "    \"\"\" 无操作节点，应该在此处中断 \"\"\"\n",
        "    pass\n",
        "\n",
        "def should_continue(state: GenerateAnalystsState):\n",
        "    \"\"\" 返回下一个要执行的节点 \"\"\"\n",
        "\n",
        "    # 检查是否有用户反馈\n",
        "    human_analyst_feedback=state.get('human_analyst_feedback', None)\n",
        "    if human_analyst_feedback:\n",
        "        return \"create_analysts\"\n",
        "    \n",
        "    # 否则结束\n",
        "    return END\n",
        "\n",
        "# 添加节点和边\n",
        "builder = StateGraph(GenerateAnalystsState)\n",
        "builder.add_node(\"create_analysts\", create_analysts)  # 添加创建分析师节点\n",
        "builder.add_node(\"human_feedback\", human_feedback)   # 添加用户反馈节点\n",
        "builder.add_edge(START, \"create_analysts\")           # 从开始到创建分析师\n",
        "builder.add_edge(\"create_analysts\", \"human_feedback\") # 从创建分析师到用户反馈\n",
        "builder.add_conditional_edges(\"human_feedback\", should_continue, [\"create_analysts\", END]) # 条件边\n",
        "\n",
        "# 编译图\n",
        "memory = MemorySaver()\n",
        "graph = builder.compile(interrupt_before=['human_feedback'], checkpointer=memory)  # 在用户反馈前中断\n",
        "\n",
        "# 显示图\n",
        "display(Image(graph.get_graph(xray=1).draw_mermaid_png()))  # 显示流程图"
      ]
    },
    {
      "cell_type": "code",
      "execution_count": 7,
      "id": "6c22cb05-c436-4358-8f7a-72d722f9b5cc",
      "metadata": {},
      "outputs": [
        {
          "name": "stdout",
          "output_type": "stream",
          "text": [
            "姓名: 艾琳·史密斯\n",
            "隶属机构: 智能系统研究所\n",
            "角色: AI代理框架分析师\n",
            "描述: 专注于LangGraph在复杂AI代理系统中的应用，特别是其在多智能体协作和可扩展性方面的优势。\n",
            "--------------------------------------------------\n",
            "姓名: 李承宇\n",
            "隶属机构: 下一代AI实验室\n",
            "角色: LangGraph性能优化专家\n",
            "描述: 研究LangGraph在代理框架中如何提升系统性能，包括其状态管理、模块化设计和运行效率。\n",
            "--------------------------------------------------\n",
            "姓名: 索菲亚·马丁内斯\n",
            "隶属机构: 人机交互与智能代理中心\n",
            "角色: 用户体验与代理交互分析师\n",
            "描述: 分析LangGraph如何改善AI代理的可解释性与用户交互体验，特别是在可视化流程和动态决策方面的潜力。\n",
            "--------------------------------------------------\n"
          ]
        }
      ],
      "source": [
        "# 输入\n",
        "max_analysts = 3  # 最大分析师数量\n",
        "topic = \"采用LangGraph作为代理框架的好处\"  # 研究主题\n",
        "thread = {\"configurable\": {\"thread_id\": \"1\"}}  # 线程配置，用于会话跟踪\n",
        "\n",
        "# 运行图直到第一次中断\n",
        "for event in graph.stream({\"topic\":topic,\"max_analysts\":max_analysts,}, thread, stream_mode=\"values\"):\n",
        "    # 审查结果\n",
        "    analysts = event.get('analysts', '')  # 获取分析师列表\n",
        "    if analysts:\n",
        "        for analyst in analysts:\n",
        "            print(f\"姓名: {analyst.name}\")        # 打印分析师姓名\n",
        "            print(f\"隶属机构: {analyst.affiliation}\")  # 打印隶属机构\n",
        "            print(f\"角色: {analyst.role}\")        # 打印角色\n",
        "            print(f\"描述: {analyst.description}\")  # 打印描述\n",
        "            print(\"-\" * 50)  # 打印分隔线"
      ]
    },
    {
      "cell_type": "code",
      "execution_count": 7,
      "id": "2f81ad23-5656-43e6-b50a-0d7a4f69a60a",
      "metadata": {},
      "outputs": [
        {
          "data": {
            "text/plain": [
              "('human_feedback',)"
            ]
          },
          "execution_count": 7,
          "metadata": {},
          "output_type": "execute_result"
        }
      ],
      "source": [
        "# Get state and look at next node\n",
        "state = graph.get_state(thread)\n",
        "state.next"
      ]
    },
    {
      "cell_type": "code",
      "execution_count": 8,
      "id": "72b2a402-fd10-4f26-9a32-3e3c0d4aaf76",
      "metadata": {},
      "outputs": [
        {
          "data": {
            "text/plain": [
              "{'configurable': {'thread_id': '1',\n",
              "  'checkpoint_ns': '',\n",
              "  'checkpoint_id': '1f068316-4eaa-618c-8002-7b25abe6580c'}}"
            ]
          },
          "execution_count": 8,
          "metadata": {},
          "output_type": "execute_result"
        }
      ],
      "source": [
        "# 我们现在像 human_feedback 节点一样更新状态\n",
        "graph.update_state(thread, {\"human_analyst_feedback\": \n",
        "                            \"添加一个来自初创公司的人，以增加企业家视角\"}, as_node=\"human_feedback\")"
      ]
    },
    {
      "cell_type": "code",
      "execution_count": 9,
      "id": "b8816eb9-9906-441b-b552-be71107db14f",
      "metadata": {},
      "outputs": [
        {
          "name": "stdout",
          "output_type": "stream",
          "text": [
            "姓名: 艾琳·史密斯\n",
            "隶属机构: 智能系统研究所\n",
            "角色: AI代理框架分析师\n",
            "描述: 专注于LangGraph在复杂AI代理系统中的应用，特别是其在多智能体协作和可扩展性方面的优势。\n",
            "--------------------------------------------------\n",
            "姓名: 李承宇\n",
            "隶属机构: 下一代AI实验室\n",
            "角色: LangGraph性能优化专家\n",
            "描述: 研究LangGraph在代理框架中如何提升系统性能，包括其状态管理、模块化设计和运行效率。\n",
            "--------------------------------------------------\n",
            "姓名: 索菲亚·马丁内斯\n",
            "隶属机构: 人机交互与智能代理中心\n",
            "角色: 用户体验与代理交互分析师\n",
            "描述: 分析LangGraph如何改善AI代理的可解释性与用户交互体验，特别是在可视化流程和动态决策方面的潜力。\n",
            "--------------------------------------------------\n",
            "姓名: 艾米丽·陈\n",
            "隶属机构: 斯坦福人工智能实验室\n",
            "角色: AI架构专家\n",
            "描述: 专注于代理框架和分布式AI系统设计，提供对LangGraph技术优势的深度分析。\n",
            "--------------------------------------------------\n",
            "姓名: 拉胡尔·帕特尔\n",
            "隶属机构: 初创公司创始人兼CEO\n",
            "角色: 企业家与技术战略家\n",
            "描述: 从初创公司视角探讨LangGraph的实用性和商业化潜力，强调其在资源受限环境下的优势。\n",
            "--------------------------------------------------\n",
            "姓名: 迈克尔·罗德里格斯\n",
            "隶属机构: 麻省理工学院计算机科学与人工智能实验室\n",
            "角色: 代理系统研究员\n",
            "描述: 研究多代理系统与LangGraph框架的集成能力，分析其对复杂任务处理的优化效果。\n",
            "--------------------------------------------------\n"
          ]
        }
      ],
      "source": [
        "# 继续图的执行\n",
        "for event in graph.stream(None, thread, stream_mode=\"values\"):\n",
        "    # 审查结果\n",
        "    analysts = event.get('analysts', '')  # 获取分析师列表\n",
        "    if analysts:\n",
        "        for analyst in analysts:\n",
        "            print(f\"姓名: {analyst.name}\")        # 打印分析师姓名\n",
        "            print(f\"隶属机构: {analyst.affiliation}\")  # 打印隶属机构\n",
        "            print(f\"角色: {analyst.role}\")        # 打印角色\n",
        "            print(f\"描述: {analyst.description}\")  # 打印描述\n",
        "            print(\"-\" * 50)  # 打印分隔线\n"
      ]
    },
    {
      "cell_type": "code",
      "execution_count": 10,
      "id": "a43ac322-5926-4932-8653-68206fec0d2c",
      "metadata": {},
      "outputs": [
        {
          "data": {
            "text/plain": [
              "{'configurable': {'thread_id': '1',\n",
              "  'checkpoint_ns': '',\n",
              "  'checkpoint_id': '1f068316-a2d4-6b70-8004-e669e52e0cff'}}"
            ]
          },
          "execution_count": 10,
          "metadata": {},
          "output_type": "execute_result"
        }
      ],
      "source": [
        "# 如果我们满意，那么就不提供任何反馈\n",
        "further_feedback = None \n",
        "graph.update_state(thread, {\"human_analyst_feedback\": \n",
        "                            further_feedback}, as_node=\"human_feedback\")"
      ]
    },
    {
      "cell_type": "code",
      "execution_count": 15,
      "id": "ab034e65-aeee-4723-8d6d-74541b548425",
      "metadata": {},
      "outputs": [
        {
          "name": "stdout",
          "output_type": "stream",
          "text": [
            "--Node--\n",
            "human_feedback\n",
            "--Node--\n",
            "create_analysts\n",
            "--Node--\n",
            "__interrupt__\n"
          ]
        }
      ],
      "source": [
        "# 继续图的执行直到结束\n",
        "for event in graph.stream(None, thread, stream_mode=\"updates\"):\n",
        "    print(\"--Node--\")\n",
        "    node_name = next(iter(event.keys()))\n",
        "    print(node_name)"
      ]
    },
    {
      "cell_type": "code",
      "execution_count": 12,
      "id": "2f204e8a-285c-4e46-8223-a695caec7764",
      "metadata": {},
      "outputs": [],
      "source": [
        "final_state = graph.get_state(thread)\n",
        "analysts = final_state.values.get('analysts')"
      ]
    },
    {
      "cell_type": "code",
      "execution_count": 13,
      "id": "59704086-cb3b-42e9-8395-37be6f0d44e9",
      "metadata": {},
      "outputs": [
        {
          "data": {
            "text/plain": [
              "()"
            ]
          },
          "execution_count": 13,
          "metadata": {},
          "output_type": "execute_result"
        }
      ],
      "source": [
        "final_state.next"
      ]
    },
    {
      "cell_type": "code",
      "execution_count": 14,
      "id": "95717ba3-aa00-48d6-bbb7-5fe4db5919bf",
      "metadata": {},
      "outputs": [
        {
          "name": "stdout",
          "output_type": "stream",
          "text": [
            "姓名: 艾米丽·陈\n",
            "隶属机构: 斯坦福人工智能实验室\n",
            "角色: AI架构专家\n",
            "描述: 专注于代理框架和分布式AI系统设计，提供对LangGraph技术优势的深度分析。\n",
            "--------------------------------------------------\n",
            "姓名: 拉胡尔·帕特尔\n",
            "隶属机构: 初创公司创始人兼CEO\n",
            "角色: 企业家与技术战略家\n",
            "描述: 从初创公司视角探讨LangGraph的实用性和商业化潜力，强调其在资源受限环境下的优势。\n",
            "--------------------------------------------------\n",
            "姓名: 迈克尔·罗德里格斯\n",
            "隶属机构: 麻省理工学院计算机科学与人工智能实验室\n",
            "角色: 代理系统研究员\n",
            "描述: 研究多代理系统与LangGraph框架的集成能力，分析其对复杂任务处理的优化效果。\n",
            "--------------------------------------------------\n"
          ]
        }
      ],
      "source": [
        "for analyst in analysts:\n",
        "    print(f\"姓名: {analyst.name}\")        # 打印分析师姓名\n",
        "    print(f\"隶属机构: {analyst.affiliation}\")  # 打印隶属机构\n",
        "    print(f\"角色: {analyst.role}\")        # 打印角色\n",
        "    print(f\"描述: {analyst.description}\")  # 打印描述\n",
        "    print(\"-\" * 50)  # 打印分隔线"
      ]
    },
    {
      "cell_type": "markdown",
      "id": "7d2498e4-20ae-4503-9dd0-a4165132b7a7",
      "metadata": {},
      "source": [
        "## 进行面试（Conduct Interview）\n",
        "\n",
        "### 生成问题（Generate Question）\n",
        "\n",
        "The analyst will ask questions to the expert.\n",
        "\n",
        "分析师将向专家提问。\n",
        "\n"
      ]
    },
    {
      "cell_type": "code",
      "execution_count": 6,
      "id": "e5d5f559-f42e-442b-87cd-dbf0a91abf9c",
      "metadata": {},
      "outputs": [],
      "source": [
        "import operator\n",
        "from typing import  Annotated\n",
        "from langgraph.graph import MessagesState\n",
        "\n",
        "class InterviewState(MessagesState):\n",
        "    \"\"\"\n",
        "    访谈状态类\n",
        "    继承自MessagesState，用于管理访谈过程中的各种状态信息\n",
        "    \"\"\"\n",
        "    max_num_turns: int # 对话轮数上限\n",
        "    context: Annotated[list, operator.add] # 源文档，使用operator.add进行合并\n",
        "    analyst: Analyst # 提问的分析师\n",
        "    interview: str # 访谈记录（文字记录）\n",
        "    sections: list # 最终章节，我们在外部状态中重复此字段以用于Send() API\n",
        "\n",
        "class SearchQuery(BaseModel):\n",
        "    \"\"\"\n",
        "    搜索查询模型\n",
        "    用于定义搜索查询的结构\n",
        "    \"\"\"\n",
        "    search_query: str = Field(None, description=\"用于检索的搜索查询。\")"
      ]
    },
    {
      "cell_type": "code",
      "execution_count": 7,
      "id": "1c2e71eb-07ad-4bea-aabc-dbaf551408c0",
      "metadata": {},
      "outputs": [],
      "source": [
        "# 问题生成指令\n",
        "question_instructions = \"\"\"你是一名分析师，任务是采访专家以了解特定主题。\n",
        "\n",
        "你的目标是提炼出与你主题相关的有趣且具体的见解。\n",
        "\n",
        "1. 有趣的：人们会感到惊讶或不明显的见解。\n",
        "        \n",
        "2. 具体的：避免泛泛而谈的见解，包含来自专家的具体例子。\n",
        "\n",
        "这是你的关注主题和目标集合：{goals}\n",
        "        \n",
        "首先使用符合你人设的名字介绍自己，然后提出你的问题。\n",
        "\n",
        "继续提问以深入挖掘和细化你对该主题的理解。\n",
        "        \n",
        "当你对理解满意时，用\"非常感谢您的帮助！\"来结束采访。\n",
        "\n",
        "记住在整个回复中保持角色特征，体现提供给你的人设和目标。\"\"\"\n",
        "\n",
        "def generate_question(state: InterviewState):\n",
        "    \"\"\" 生成问题的节点 \"\"\"\n",
        "\n",
        "    # 获取状态\n",
        "    analyst = state[\"analyst\"]      # 当前分析师\n",
        "    messages = state[\"messages\"]    # 对话历史\n",
        "\n",
        "    # 生成问题\n",
        "    system_message = question_instructions.format(goals=analyst.persona)  # 格式化系统消息\n",
        "    question = llm.invoke([SystemMessage(content=system_message)]+messages)  # 调用LLM生成问题\n",
        "        \n",
        "    # 将消息写入状态\n",
        "    return {\"messages\": [question]}  # 返回新生成的问题"
      ]
    },
    {
      "cell_type": "markdown",
      "id": "be2ff33a-6232-4a79-8a82-882a645394f5",
      "metadata": {},
      "source": [
        "### Generate Answer: Parallelization\n",
        "The expert will gather information from multiple sources in parallel to answer questions.\n",
        "\n",
        "专家将并行从多个来源收集信息以回答问题。\n",
        "\n",
        "For example, we can use:\n",
        "\n",
        "例如，我们可以使用：\n",
        "\n",
        "* Specific web sites e.g., via [PROTECTED$11$](https://python.langchain.com/v0.2/docs/integrations/document_loaders/web_base/)\n",
        "* Indexed documents e.g., via [RAG](https://python.langchain.com/v0.2/docs/tutorials/rag/)\n",
        "* Web search\n",
        "* Wikipedia search\n",
        "\n",
        "*特定网站，例如，通过 [PROTECTED$11$](https://python.langchain.com/v0.2/docs/integrations/document_loaders/web_base/)* 已索引文档，例如，通过 [RAG](https://python.langchain.com/v0.2/docs/tutorials/rag/)\n",
        "*网络搜索* Wikipedia 搜索\n",
        "\n",
        "You can try different web search tools, like [Tavily](https://tavily.com/).\n",
        "\n",
        "你可以尝试不同的网络搜索工具，比如 [Tavily](https://tavily.com/)。\n",
        "\n"
      ]
    },
    {
      "cell_type": "code",
      "execution_count": 8,
      "id": "606ea95b-e811-4299-8b66-835d4016c338",
      "metadata": {},
      "outputs": [],
      "source": [
        "def _set_env(var: str):\n",
        "    if not os.environ.get(var):\n",
        "        os.environ[var] = getpass.getpass(f\"{var}: \")\n",
        "\n",
        "_set_env(\"TAVILY_API_KEY\")"
      ]
    },
    {
      "cell_type": "code",
      "execution_count": 9,
      "id": "c61ae74a-f838-4e97-8bd5-48ccd15b7789",
      "metadata": {},
      "outputs": [
        {
          "name": "stderr",
          "output_type": "stream",
          "text": [
            "C:\\Users\\29020\\AppData\\Local\\Temp\\ipykernel_38724\\3355271073.py:4: LangChainDeprecationWarning: The class `TavilySearchResults` was deprecated in LangChain 0.3.25 and will be removed in 1.0. An updated version of the class exists in the :class:`~langchain-tavily package and should be used instead. To use it run `pip install -U :class:`~langchain-tavily` and import as `from :class:`~langchain_tavily import TavilySearch``.\n",
            "  tavily_search = TavilySearchResults(max_results=3)\n"
          ]
        }
      ],
      "source": [
        "# Web search tool\n",
        "from langchain_community.tools.tavily_search import TavilySearchResults\n",
        "from langchain_tavily import TavilySearch\n",
        "tavily_search = TavilySearchResults(max_results=3)\n",
        "#tavily_search=TavilySearch(max_results=3)"
      ]
    },
    {
      "cell_type": "code",
      "execution_count": 10,
      "id": "2d8f760b-5a1a-4fa9-a014-d3fb02bec51c",
      "metadata": {},
      "outputs": [],
      "source": [
        "# Wikipedia search tool\n",
        "from langchain_community.document_loaders import WikipediaLoader"
      ]
    },
    {
      "cell_type": "code",
      "execution_count": 12,
      "id": "81e06db2",
      "metadata": {},
      "outputs": [],
      "source": [
        "loader = WikipediaLoader(\n",
        "    query=\"LangGraph\",  # 搜索关键词\n",
        "    lang=\"en\",                        # 语言代码，默认是英文\n",
        "    load_max_docs=1,                  # 最多加载几篇文档\n",
        "    doc_content_chars_max=4000        # 每篇文档最大字符数\n",
        ")\n",
        "\n",
        "docs = loader.load()"
      ]
    },
    {
      "cell_type": "code",
      "execution_count": 55,
      "id": "c4fec7e6",
      "metadata": {},
      "outputs": [
        {
          "data": {
            "text/plain": [
              "{'id': None,\n",
              " 'metadata': {'title': 'C (programming language)',\n",
              "  'summary': 'C is a general-purpose programming language. It was created in the 1970s by Dennis Ritchie and remains widely used and influential. By design, C gives the programmer relatively direct access to the features of the typical CPU architecture; customized for the target instruction set. It has been and continues to be used to implement operating systems (especially kernels), device drivers, and protocol stacks, but its use in application software has been decreasing. C is used on computers that range from the largest supercomputers to the smallest microcontrollers and embedded systems.\\nA successor to the programming language B, C was originally developed at Bell Labs by Ritchie between 1972 and 1973 to construct utilities running on Unix. It was applied to re-implementing the kernel of the Unix operating system. During the 1980s, C gradually gained popularity. It has become one of the most widely used programming languages, with C compilers available for practically all modern computer architectures and operating systems. The book The C Programming Language, co-authored by the original language designer, served for many years as the de facto standard for the language. C has been standardized since 1989 by the American National Standards Institute (ANSI) and, subsequently, jointly by the International Organization for Standardization (ISO) and the International Electrotechnical Commission (IEC).\\nC is an imperative procedural language, supporting structured programming, lexical variable scope, and recursion, with a static type system. It was designed to be compiled to provide low-level access to memory and language constructs that map efficiently to machine instructions, all with minimal runtime support. Despite its low-level capabilities, the language was designed to encourage cross-platform programming. A standards-compliant C program written with portability in mind can be compiled for a wide variety of computer platforms and operating systems with few changes to its source code.\\nAlthough neither C nor its standard library provide some popular features found in other languages, it is flexible enough to support them. For example, object orientation and garbage collection are provided by external libraries GLib Object System and Boehm garbage collector, respectively.\\nSince 2000, C has consistently ranked among the top four languages in the TIOBE index, a measure of the popularity of programming languages. Originally, C was popular mostly due to being easier to use than other programming languages. Currently, C is popular mostly due to speed, efficiency, low memory usage, and simplicity. C uses approximately 80 times less energy than Python, Perl, and PHP.  On average, C uses less energy than Fortran, despite Fortran being faster on average.',\n",
              "  'source': 'https://en.wikipedia.org/wiki/C_(programming_language)'},\n",
              " 'page_content': 'C is a general-purpose programming language. It was created in the 1970s by Dennis Ritchie and remains widely used and influential. By design, C gives the programmer relatively direct access to the features of the typical CPU architecture; customized for the target instruction set. It has been and continues to be used to implement operating systems (especially kernels), device drivers, and protocol stacks, but its use in application software has been decreasing. C is used on computers that range from the largest supercomputers to the smallest microcontrollers and embedded systems.\\nA successor to the programming language B, C was originally developed at Bell Labs by Ritchie between 1972 and 1973 to construct utilities running on Unix. It was applied to re-implementing the kernel of the Unix operating system. During the 1980s, C gradually gained popularity. It has become one of the most widely used programming languages, with C compilers available for practically all modern computer architectures and operating systems. The book The C Programming Language, co-authored by the original language designer, served for many years as the de facto standard for the language. C has been standardized since 1989 by the American National Standards Institute (ANSI) and, subsequently, jointly by the International Organization for Standardization (ISO) and the International Electrotechnical Commission (IEC).\\nC is an imperative procedural language, supporting structured programming, lexical variable scope, and recursion, with a static type system. It was designed to be compiled to provide low-level access to memory and language constructs that map efficiently to machine instructions, all with minimal runtime support. Despite its low-level capabilities, the language was designed to encourage cross-platform programming. A standards-compliant C program written with portability in mind can be compiled for a wide variety of computer platforms and operating systems with few changes to its source code.\\nAlthough neither C nor its standard library provide some popular features found in other languages, it is flexible enough to support them. For example, object orientation and garbage collection are provided by external libraries GLib Object System and Boehm garbage collector, respectively.\\nSince 2000, C has consistently ranked among the top four languages in the TIOBE index, a measure of the popularity of programming languages. Originally, C was popular mostly due to being easier to use than other programming languages. Currently, C is popular mostly due to speed, efficiency, low memory usage, and simplicity. C uses approximately 80 times less energy than Python, Perl, and PHP.  On average, C uses less energy than Fortran, despite Fortran being faster on average.\\n\\n\\n== Characteristics ==\\n\\nThe C language exhibits the following characteristics:\\n\\nFree-form source code\\nSemicolons terminate statements\\nCurly braces group statements into blocks\\nExecutable code is contained in functions; no script-like syntax\\nParameters are passed by value; pass by-reference is achieved by passing a pointer to a value\\nRelatively small number of keywords\\nControl flow constructs, including if, for, do, while, and switch\\nArithmetic, bitwise, and logic operators, including +,+=,++,&,||, etc.\\nMultiple assignments may be performed in a single statement\\nUser-defined identifiers are not distinguished from keywords; i.e. by a sigil\\nA variable declared inside a block is accessible only in that block and only below the declaration\\nA function return value can be ignored\\nA function cannot be nested inside a function; but some translators support this\\nFunction pointers support run-time polymorphism\\nSupports recursion; a function may call itself\\nData typing is static, but weakly enforced; all variables have a type, but implicit conversion between primitive types weakens the separation of the different types\\nUser-defined data types allow for aliasing a data type specifier\\nSyntax for array definit',\n",
              " 'type': 'Document'}"
            ]
          },
          "execution_count": 55,
          "metadata": {},
          "output_type": "execute_result"
        }
      ],
      "source": [
        "vars(docs[0])"
      ]
    },
    {
      "cell_type": "code",
      "execution_count": 56,
      "id": "020ec01c",
      "metadata": {},
      "outputs": [
        {
          "name": "stdout",
          "output_type": "stream",
          "text": [
            "page_content='C is a general-purpose programming language. It was created in the 1970s by Dennis Ritchie and remains widely used and influential. By design, C gives the programmer relatively direct access to the features of the typical CPU architecture; customized for the target instruction set. It has been and continues to be used to implement operating systems (especially kernels), device drivers, and protocol stacks, but its use in application software has been decreasing. C is used on computers that range from the largest supercomputers to the smallest microcontrollers and embedded systems.\n",
            "A successor to the programming language B, C was originally developed at Bell Labs by Ritchie between 1972 and 1973 to construct utilities running on Unix. It was applied to re-implementing the kernel of the Unix operating system. During the 1980s, C gradually gained popularity. It has become one of the most widely used programming languages, with C compilers available for practically all modern computer architectures and operating systems. The book The C Programming Language, co-authored by the original language designer, served for many years as the de facto standard for the language. C has been standardized since 1989 by the American National Standards Institute (ANSI) and, subsequently, jointly by the International Organization for Standardization (ISO) and the International Electrotechnical Commission (IEC).\n",
            "C is an imperative procedural language, supporting structured programming, lexical variable scope, and recursion, with a static type system. It was designed to be compiled to provide low-level access to memory and language constructs that map efficiently to machine instructions, all with minimal runtime support. Despite its low-level capabilities, the language was designed to encourage cross-platform programming. A standards-compliant C program written with portability in mind can be compiled for a wide variety of computer platforms and operating systems with few changes to its source code.\n",
            "Although neither C nor its standard library provide some popular features found in other languages, it is flexible enough to support them. For example, object orientation and garbage collection are provided by external libraries GLib Object System and Boehm garbage collector, respectively.\n",
            "Since 2000, C has consistently ranked among the top four languages in the TIOBE index, a measure of the popularity of programming languages. Originally, C was popular mostly due to being easier to use than other programming languages. Currently, C is popular mostly due to speed, efficiency, low memory usage, and simplicity. C uses approximately 80 times less energy than Python, Perl, and PHP.  On average, C uses less energy than Fortran, despite Fortran being faster on average.\n",
            "\n",
            "\n",
            "== Characteristics ==\n",
            "\n",
            "The C language exhibits the following characteristics:\n",
            "\n",
            "Free-form source code\n",
            "Semicolons terminate statements\n",
            "Curly braces group statements into blocks\n",
            "Executable code is contained in functions; no script-like syntax\n",
            "Parameters are passed by value; pass by-reference is achieved by passing a pointer to a value\n",
            "Relatively small number of keywords\n",
            "Control flow constructs, including if, for, do, while, and switch\n",
            "Arithmetic, bitwise, and logic operators, including +,+=,++,&,||, etc.\n",
            "Multiple assignments may be performed in a single statement\n",
            "User-defined identifiers are not distinguished from keywords; i.e. by a sigil\n",
            "A variable declared inside a block is accessible only in that block and only below the declaration\n",
            "A function return value can be ignored\n",
            "A function cannot be nested inside a function; but some translators support this\n",
            "Function pointers support run-time polymorphism\n",
            "Supports recursion; a function may call itself\n",
            "Data typing is static, but weakly enforced; all variables have a type, but implicit conversion between primitive types weakens the separation of the different types\n",
            "User-defined data types allow for aliasing a data type specifier\n",
            "Syntax for array definit' metadata={'title': 'C (programming language)', 'summary': 'C is a general-purpose programming language. It was created in the 1970s by Dennis Ritchie and remains widely used and influential. By design, C gives the programmer relatively direct access to the features of the typical CPU architecture; customized for the target instruction set. It has been and continues to be used to implement operating systems (especially kernels), device drivers, and protocol stacks, but its use in application software has been decreasing. C is used on computers that range from the largest supercomputers to the smallest microcontrollers and embedded systems.\\nA successor to the programming language B, C was originally developed at Bell Labs by Ritchie between 1972 and 1973 to construct utilities running on Unix. It was applied to re-implementing the kernel of the Unix operating system. During the 1980s, C gradually gained popularity. It has become one of the most widely used programming languages, with C compilers available for practically all modern computer architectures and operating systems. The book The C Programming Language, co-authored by the original language designer, served for many years as the de facto standard for the language. C has been standardized since 1989 by the American National Standards Institute (ANSI) and, subsequently, jointly by the International Organization for Standardization (ISO) and the International Electrotechnical Commission (IEC).\\nC is an imperative procedural language, supporting structured programming, lexical variable scope, and recursion, with a static type system. It was designed to be compiled to provide low-level access to memory and language constructs that map efficiently to machine instructions, all with minimal runtime support. Despite its low-level capabilities, the language was designed to encourage cross-platform programming. A standards-compliant C program written with portability in mind can be compiled for a wide variety of computer platforms and operating systems with few changes to its source code.\\nAlthough neither C nor its standard library provide some popular features found in other languages, it is flexible enough to support them. For example, object orientation and garbage collection are provided by external libraries GLib Object System and Boehm garbage collector, respectively.\\nSince 2000, C has consistently ranked among the top four languages in the TIOBE index, a measure of the popularity of programming languages. Originally, C was popular mostly due to being easier to use than other programming languages. Currently, C is popular mostly due to speed, efficiency, low memory usage, and simplicity. C uses approximately 80 times less energy than Python, Perl, and PHP.  On average, C uses less energy than Fortran, despite Fortran being faster on average.', 'source': 'https://en.wikipedia.org/wiki/C_(programming_language)'}\n"
          ]
        }
      ],
      "source": [
        "print(docs[0])"
      ]
    },
    {
      "cell_type": "markdown",
      "id": "06cb1603",
      "metadata": {},
      "source": [
        "Now, we create nodes to search the web and wikipedia.\n",
        "\n",
        "现在，我们创建节点以搜索网络和维基百科。\n",
        "\n",
        "We'll also create a node to answer analyst questions.\n",
        "\n",
        "我们还将创建一个节点来回答分析师的问题。\n",
        "\n",
        "Finally, we'll create nodes to save the full interview and to write a summary (\"section\") of the interview.\n",
        "\n",
        "最后，我们将创建节点以保存完整的采访内容，并撰写采访的摘要（“部分”）。\n",
        "\n"
      ]
    },
    {
      "cell_type": "code",
      "execution_count": null,
      "id": "9c863768-2278-415b-aef1-96fd18c1b1cb",
      "metadata": {},
      "outputs": [
        {
          "data": {
            "image/png": "[encoded data removed]",
            "text/plain": [
              "<IPython.core.display.Image object>"
            ]
          },
          "metadata": {},
          "output_type": "display_data"
        }
      ],
      "source": [
        "from langchain_core.messages import get_buffer_string\n",
        "\n",
        "# 搜索查询编写\n",
        "search_instructions = SystemMessage(content=f\"\"\"你将获得分析师和专家之间的对话。\n",
        "\n",
        "你的目标是生成一个结构化的 JSON 对象，该对象包含一个用于网络搜索的查询字符串。\n",
        "\n",
        "请严格按照以下步骤操作：\n",
        "\n",
        "1.  仔细分析整个对话。\n",
        "2.  特别关注分析师提出的最后一个问题。\n",
        "3.  根据该问题，生成一个清晰、简洁、有效的搜索查询字符串。\n",
        "4.  **你的最终输出必须是一个严格的 JSON 对象，格式如下，不要包含任何其他文字或解释：**\n",
        "    {{\"search_query\": \"你的查询字符串放在这里\"}}\n",
        "\n",
        "**示例：**\n",
        "如果最后一个问题涉及 \"LangGraph 与其他代理框架（如 AutoGen）相比的优势\"，\n",
        "你的输出必须严格是：\n",
        "{{\"search_query\": \"LangGraph vs AutoGen agent framework advantages\"}}\n",
        "\n",
        "分析师的最后一个问题才是关键，请基于它生成查询。\n",
        "\n",
        "**你的输出：**\"\"\")\n",
        "\n",
        "def search_web(state: InterviewState):\n",
        "    \n",
        "    \"\"\" 从网络搜索中检索文档 \"\"\"\n",
        "\n",
        "    # 搜索查询\n",
        "    structured_llm = llm.with_structured_output(SearchQuery)\n",
        "    search_query = structured_llm.invoke([search_instructions]+state['messages'])\n",
        "    \n",
        "    # 搜索\n",
        "    search_docs = tavily_search.invoke(search_query.search_query)\n",
        "\n",
        "     # 格式化\n",
        "    formatted_search_docs = \"\\n\\n---\\n\\n\".join(\n",
        "        [\n",
        "            f'<Document href=\"{doc[\"url\"]}\"/>\\n{doc[\"content\"]}\\n</Document>'\n",
        "            for doc in search_docs\n",
        "        ]\n",
        "    )\n",
        "\n",
        "    return {\"context\": [formatted_search_docs]} \n",
        "\n",
        "def search_wikipedia(state: InterviewState):\n",
        "    \n",
        "    \"\"\" 从维基百科检索文档 \"\"\"\n",
        "\n",
        "    # # 搜索查询\n",
        "    # structured_llm = llm.with_structured_output(SearchQuery)\n",
        "    # search_query = structured_llm.invoke([search_instructions]+state['messages'])\n",
        "    \n",
        "    # # 搜索\n",
        "    # search_docs = WikipediaLoader(query=search_query.search_query, \n",
        "    #                               load_max_docs=2).load()\n",
        "\n",
        "    #  # 格式化\n",
        "    # formatted_search_docs = \"\\n\\n---\\n\\n\".join(\n",
        "    #     [\n",
        "    #         f'<Document source=\"{doc.metadata[\"source\"]}\" page=\"{doc.metadata.get(\"page\", \"\")}\"/>\\n{doc.page_content}\\n</Document>'\n",
        "    #         for doc in search_docs\n",
        "    #     ]\n",
        "    # )\n",
        "\n",
        "    # return {\"context\": [formatted_search_docs]} \n",
        "    return {\"context\": [\"\"]}\n",
        "\n",
        "answer_instructions = \"\"\"你是一位正在接受分析师采访的专家。\n",
        "\n",
        "这是分析师的关注领域：{goals}。\n",
        "        \n",
        "你的目标是回答面试官提出的问题。\n",
        "\n",
        "要回答问题，请使用此上下文：\n",
        "        \n",
        "{context}\n",
        "\n",
        "回答问题时，请遵循以下准则：\n",
        "        \n",
        "1. 仅使用上下文中提供的信息。\n",
        "        \n",
        "2. 不要引入外部信息或在上下文中明确说明之外进行假设。\n",
        "\n",
        "3. 上下文包含每个独立文档主题的来源。\n",
        "\n",
        "4. 在任何相关陈述旁边包含这些来源。例如，对于来源 # 1 使用 [1]。\n",
        "\n",
        "5. 在答案底部按顺序列出你的来源。 [1] 来源 1，[2] 来源 2，等等\n",
        "        \n",
        "6. 如果来源是：<Document source=\"assistant/docs/llama3_1.pdf\" page=\"7\"/>' 那么只需列出：\n",
        "        \n",
        "[1] assistant/docs/llama3_1.pdf, page 7 \n",
        "        \n",
        "并跳过括号的添加以及引用中的 Document source 前言。\"\"\"\n",
        "\n",
        "def generate_answer(state: InterviewState):\n",
        "    \n",
        "    \"\"\" 回答问题的节点 \"\"\"\n",
        "\n",
        "    # 获取状态\n",
        "    analyst = state[\"analyst\"]\n",
        "    messages = state[\"messages\"]\n",
        "    context = state[\"context\"]\n",
        "\n",
        "    # 回答问题\n",
        "    system_message = answer_instructions.format(goals=analyst.persona, context=context)\n",
        "    answer = llm.invoke([SystemMessage(content=system_message)]+messages)\n",
        "            \n",
        "    # 将消息命名为来自专家\n",
        "    answer.name = \"expert\"\n",
        "    \n",
        "    # 将其附加到状态\n",
        "    return {\"messages\": [answer]}\n",
        "\n",
        "def save_interview(state: InterviewState):\n",
        "    \n",
        "    \"\"\" 保存采访 \"\"\"\n",
        "\n",
        "    # 获取消息\n",
        "    messages = state[\"messages\"]\n",
        "    \n",
        "    # 将采访转换为字符串\n",
        "    interview = get_buffer_string(messages)\n",
        "    \n",
        "    # 保存到 interviews 键\n",
        "    return {\"interview\": interview}\n",
        "\n",
        "def route_messages(state: InterviewState, \n",
        "                   name: str = \"expert\"):\n",
        "\n",
        "    \"\"\" 在问题和答案之间路由 \"\"\"\n",
        "    \n",
        "    # 获取消息\n",
        "    messages = state[\"messages\"]\n",
        "    max_num_turns = state.get('max_num_turns',2)\n",
        "\n",
        "    # 检查专家答案的数量\n",
        "    #isinstance(m, AIMessage) ：检查当前消息 m 是否是 AIMessage 类的实例。这通常用于识别由 AI 模型生成的消息。\n",
        "    num_responses = len(\n",
        "        [m for m in messages if isinstance(m, AIMessage) and m.name == name]\n",
        "    )\n",
        "\n",
        "    # 如果专家回答的次数超过最大轮数，则结束\n",
        "    if num_responses >= max_num_turns:\n",
        "        return 'save_interview'\n",
        "\n",
        "    # 获取提出的最后一个问题，以检查它是否表示讨论结束\n",
        "    #messages[-2] ：分析师提出的 最后一个问题 。\n",
        "    #messages[-1] ：专家对这个问题的 最新回答 。\n",
        "    last_question = messages[-2]\n",
        "    \n",
        "    if \"非常感谢你的帮助\" in last_question.content:\n",
        "        return 'save_interview'\n",
        "    return \"ask_question\"\n",
        "\n",
        "section_writer_instructions = \"\"\"你是一位专业的科技作家。\n",
        "            \n",
        "你的任务是根据一组源文档创建一份简短、易于理解的报告部分。\n",
        "\n",
        "1. 分析源文档的内容：\n",
        "- 每个源文档的名称都在文档开头，带有 <Document 标签。\n",
        "        \n",
        "2. 使用 markdown 格式创建报告结构：\n",
        "- 使用 ## 作为章节标题\n",
        "- 使用 ### 作为小节标题\n",
        "        \n",
        "3. 按照此结构编写报告：\n",
        "a. 标题 (## header)\n",
        "b. 摘要 (### header)\n",
        "c. 来源 (### header)\n",
        "\n",
        "4. 根据分析师的关注领域，使你的标题引人入胜：\n",
        "{focus}\n",
        "\n",
        "5. 对于摘要部分：\n",
        "- 设置与分析师关注领域相关的通用背景/上下文的摘要\n",
        "- 强调从采访中收集到的新颖、有趣或令人惊讶的见解\n",
        "- 创建一个使用过的源文档的编号列表\n",
        "- 不要提及面试官或专家的姓名\n",
        "- 目标是最多约 400 字\n",
        "- 根据源文档中的信息，在报告中使用编号来源（例如，[1]、[2]）\n",
        "        \n",
        "6. 在来源部分：\n",
        "- 包含报告中使用的所有来源\n",
        "- 提供相关网站或特定文档路径的完整链接\n",
        "- 每个来源用换行符分隔。在每行末尾使用两个空格以在 Markdown 中创建换行符。\n",
        "- 它看起来像：\n",
        "\n",
        "### 来源\n",
        "[1] 链接或文档名称\n",
        "[2] 链接或文档名称\n",
        "\n",
        "7. 务必合并来源。例如，这不正确：\n",
        "\n",
        "[3] https://ai.meta.com/blog/meta-llama-3-1/\n",
        "[4] https://ai.meta.com/blog/meta-llama-3-1/\n",
        "\n",
        "不应有冗余来源。它应该只是：\n",
        "\n",
        "[3] https://ai.meta.com/blog/meta-llama-3-1/\n",
        "        \n",
        "8. 最终审查：\n",
        "- 确保报告遵循所需的结构\n",
        "- 在报告标题之前不包含任何前言\n",
        "- 检查所有准则是否已遵循\"\"\"\n",
        "\n",
        "def write_section(state: InterviewState):\n",
        "\n",
        "    \"\"\" 编写章节的节点 \"\"\"\n",
        "\n",
        "    # 获取状态\n",
        "    interview = state[\"interview\"]\n",
        "    context = state[\"context\"]\n",
        "    analyst = state[\"analyst\"]\n",
        "   \n",
        "    # 使用从采访（上下文）或采访本身（interview）收集的源文档编写章节\n",
        "    system_message = section_writer_instructions.format(focus=analyst.description)\n",
        "    section = llm.invoke([SystemMessage(content=system_message)]+[HumanMessage(content=f\"Use this source to write your section: {context}\")]) \n",
        "                \n",
        "    # 将其附加到状态\n",
        "    return {\"sections\": [section.content]}\n",
        "\n",
        "# 添加节点和边\n",
        "interview_builder = StateGraph(InterviewState)\n",
        "interview_builder.add_node(\"ask_question\", generate_question)\n",
        "interview_builder.add_node(\"search_web\", search_web)\n",
        "interview_builder.add_node(\"search_wikipedia\", search_wikipedia)\n",
        "interview_builder.add_node(\"answer_question\", generate_answer)\n",
        "interview_builder.add_node(\"save_interview\", save_interview)\n",
        "interview_builder.add_node(\"write_section\", write_section)\n",
        "\n",
        "# 流程\n",
        "interview_builder.add_edge(START, \"ask_question\")\n",
        "interview_builder.add_edge(\"ask_question\", \"search_web\")\n",
        "interview_builder.add_edge(\"ask_question\", \"search_wikipedia\")\n",
        "interview_builder.add_edge(\"search_web\", \"answer_question\")\n",
        "interview_builder.add_edge(\"search_wikipedia\", \"answer_question\")\n",
        "interview_builder.add_conditional_edges(\"answer_question\", route_messages,['ask_question','save_interview'])\n",
        "interview_builder.add_edge(\"save_interview\", \"write_section\")\n",
        "interview_builder.add_edge(\"write_section\", END)\n",
        "\n",
        "# 采访\n",
        "memory = MemorySaver()\n",
        "interview_graph = interview_builder.compile(checkpointer=memory).with_config(run_name=\"Conduct Interviews\")\n",
        "\n",
        "# 视图\n",
        "display(Image(interview_graph.get_graph().draw_mermaid_png()))"
      ]
    },
    {
      "cell_type": "code",
      "execution_count": 38,
      "id": "50f382f1-6e93-48d0-a44a-1094d26ccb1e",
      "metadata": {},
      "outputs": [
        {
          "data": {
            "text/plain": [
              "Analyst(affiliation='斯坦福人工智能实验室', name='艾米丽·陈', role='AI架构专家', description='专注于代理框架和分布式AI系统设计，提供对LangGraph技术优势的深度分析。')"
            ]
          },
          "execution_count": 38,
          "metadata": {},
          "output_type": "execute_result"
        }
      ],
      "source": [
        "# 选择一个分析师\n",
        "analysts[0]"
      ]
    },
    {
      "cell_type": "markdown",
      "id": "3750ac4f-f458-4b2d-8bad-32ce34895758",
      "metadata": {},
      "source": [
        "Here, we run the interview passing an index of the llama3.1 paper, which is related to our topic.\n",
        "\n",
        "在这里，我们运行采访，传递 llama3.1 论文的索引，该论文与我们的主题相关。\n",
        "\n"
      ]
    },
    {
      "cell_type": "code",
      "execution_count": 39,
      "id": "4a43d38c",
      "metadata": {},
      "outputs": [
        {
          "name": "stdout",
          "output_type": "stream",
          "text": [
            "[SystemMessage(content='You are a helpful assistant that outputs JSON.', additional_kwargs={}, response_metadata={}, id='5dd96d10-7f2a-45cc-8641-4efe4866dd90'), HumanMessage(content='所以你说你正在写一篇关于采用LangGraph作为代理框架的好处的文章？', additional_kwargs={}, response_metadata={}, id='a421d8ab-0dc2-4087-817b-a4e7e536a7cc')]\n"
          ]
        }
      ],
      "source": [
        "print(messages)"
      ]
    },
    {
      "cell_type": "code",
      "execution_count": 46,
      "id": "b2242d4e-8430-4de9-8cf7-3ad2f9a22b28",
      "metadata": {},
      "outputs": [
        {
          "data": {
            "text/markdown": [
              "## LangGraph：多智能体系统架构的革新与技术优势\n",
              "\n",
              "### 摘要\n",
              "\n",
              "随着生成式AI的快速发展，多智能体系统（Multi-Agent Systems）正从理论走向实际生产应用。LangGraph作为LangChain生态系统中的扩展框架，为构建复杂的AI代理工作流提供了强大的图结构支持。其核心优势在于引入了**循环计算能力**，突破了传统DAG（有向无环图）的线性限制，使代理能够根据动态状态进行循环推理和决策，从而实现更高级的自主行为 [3]。\n",
              "\n",
              "LangGraph通过**状态持久化**和**图结构编排**，使开发者能够构建具有多步骤、多角色、多逻辑分支的AI系统，尤其适合RAG增强检索、对话系统、任务分解与协作等场景 [5]。此外，它支持模块化设计、函数智能调用、易于调试与日志追踪等特性，显著提升了开发效率和系统的可维护性 [1]。与AutoGen相比，LangGraph以图为核心的设计理念，使复杂工作流的定义更加直观和灵活 [4]。\n",
              "\n",
              "在实际应用中，LangGraph已被用于构建可扩展的智能代理系统，例如挪威邮轮公司将其用于优化客户体验的AI解决方案 [2]。同时，LangGraph还支持与OpenTelemetry集成，为生成式AI代理提供插桩能力，实现对推理过程的可视化、监控与优化 [6]。\n",
              "\n",
              "这些特性表明，LangGraph不仅是构建多智能体系统的技术利器，也为AI工程化落地提供了坚实基础。\n",
              "\n",
              "### 来源  \n",
              "[1] https://metadesignsolutions.com/how-to-build-multi-agent-systems-using-langgraph-and-openai-functions/  \n",
              "[2] https://www.ibm.com/think/topics/langgraph  \n",
              "[3] https://medium.com/pythoneers/building-ai-agent-systems-with-langgraph-9d85537a6326  \n",
              "[4] https://hub.baai.ac.cn/view/36671  \n",
              "[5] https://kilong31442.medium.com/langgraph-lowlevel-important-concepts-2b8a61499cc5  \n",
              "[6] https://cloud.google.com/stackdriver/docs/instrumentation/ai-agent-overview?hl=zh-cn"
            ],
            "text/plain": [
              "<IPython.core.display.Markdown object>"
            ]
          },
          "execution_count": 46,
          "metadata": {},
          "output_type": "execute_result"
        }
      ],
      "source": [
        "from IPython.display import Markdown\n",
        "\n",
        "messages = [\n",
        "    SystemMessage(\"You are a helpful assistant that outputs JSON.\"), # 添加这一行\n",
        "    HumanMessage(f\"所以你说你正在写一篇关于{topic}的文章？\")\n",
        "]\n",
        "thread = {\"configurable\": {\"thread_id\": \"1\"}}\n",
        "interview = interview_graph.invoke({\"analyst\": analysts[0], \"messages\": messages, \"max_num_turns\": 2}, thread)\n",
        "Markdown(interview['sections'][0])"
      ]
    },
    {
      "cell_type": "markdown",
      "id": "3b739e87-68bb-4e96-a86a-704e84240a6c",
      "metadata": {},
      "source": [
        "### 并行化访谈：Map-Reduce（Parallelze interviews: Map-Reduce）\n",
        "\n",
        "We parallelize the interviews via the `Send()` API, a map step.\n",
        "\n",
        "我们通过 `Send()` API 并行化处理访谈，这是一个映射步骤。\n",
        "\n",
        "We combine them into the report body in a reduce step.\n",
        "\n",
        "我们将它们在 reduce 步骤中组合成报告正文。\n",
        "\n",
        "### 最终确定（Finalize）\n",
        "\n",
        "We add a final step to write an intro and conclusion to the final report.\n",
        "\n",
        "我们添加最后一个步骤，为最终报告撰写引言和结论。\n",
        "\n"
      ]
    },
    {
      "cell_type": "code",
      "execution_count": 14,
      "id": "6a0042f9-5b9f-441a-9e8d-7d8189f44140",
      "metadata": {},
      "outputs": [],
      "source": [
        "import operator\n",
        "from typing import List, Annotated\n",
        "from typing_extensions import TypedDict\n",
        "\n",
        "class ResearchGraphState(TypedDict):\n",
        "    topic: str                           # 研究主题 (字符串类型)\n",
        "    max_analysts: int                   # 分析师数量 (整数类型)\n",
        "    human_analyst_feedback: str         # 人类分析师的反馈 (字符串类型)\n",
        "    analysts: List[Analyst]             # 提问的分析师列表 (Analyst 对象的列表)\n",
        "    sections: Annotated[list, operator.add] # 报告章节列表 (使用 operator.add 作为 Send() API 的键，意味着列表可以通过相加来合并)\n",
        "    introduction: str                   # 最终报告的引言部分 (字符串类型)\n",
        "    content: str                        # 最终报告的内容主体部分 (字符串类型)\n",
        "    conclusion: str                     # 最终报告的结论部分 (字符串类型)\n",
        "    final_report: str                   # 最终完整的报告 (字符串类型)"
      ]
    },
    {
      "cell_type": "code",
      "execution_count": 15,
      "id": "c2224592-d2ff-469d-97bd-928809f896d7",
      "metadata": {},
      "outputs": [
        {
          "data": {
            "image/png": "[encoded data removed]",
            "text/plain": [
              "<IPython.core.display.Image object>"
            ]
          },
          "metadata": {},
          "output_type": "display_data"
        }
      ],
      "source": [
        "# 从 langgraph.constants 导入 Send 类\n",
        "from langgraph.constants import Send\n",
        "\n",
        "def initiate_all_interviews(state: ResearchGraphState):\n",
        "    \"\"\" 这是“map”（映射）步骤，我们使用 Send API 并行运行每个采访子图 \"\"\"\n",
        "\n",
        "    # 检查是否存在人类反馈\n",
        "    human_analyst_feedback = state.get('human_analyst_feedback')\n",
        "    if human_analyst_feedback:\n",
        "        # 如果有反馈，则返回到 \"create_analysts\" 节点进行调整\n",
        "        return \"create_analysts\"\n",
        "\n",
        "    # 否则，通过 Send() API 并行启动所有采访\n",
        "    else:\n",
        "        topic = state[\"topic\"]\n",
        "        # 为每个分析师创建一个 Send 对象\n",
        "        # 目标是 \"conduct_interview\" 节点\n",
        "        # 传递的参数包括该分析师对象和一条初始消息\n",
        "        return [Send(\"conduct_interview\", {\"analyst\": analyst,\n",
        "                                           \"messages\": [HumanMessage(\n",
        "                                               content=f\"所以你说你正在写一篇关于 {topic} 的文章？\"\n",
        "                                           )\n",
        "                                                       ]}) for analyst in state[\"analysts\"]]\n",
        "\n",
        "# 定义用于撰写最终报告的指令模板\n",
        "report_writer_instructions = \"\"\"你是一位正在撰写关于以下主题报告的技术作家：\n",
        "\n",
        "{topic}\n",
        "    \n",
        "你有一个分析师团队。每个分析师做了两件事：\n",
        "\n",
        "1. 他们就一个特定的子主题与专家进行了采访。\n",
        "2. 他们将他们的发现写成了一份备忘录。\n",
        "\n",
        "你的任务：\n",
        "\n",
        "1. 你将得到一份来自你所有分析师的备忘录集合。\n",
        "2. 仔细思考每份备忘录中的见解。\n",
        "3. 将这些见解整合成一个清晰的整体摘要，把所有备忘录中的核心思想联系起来。\n",
        "4. 将每份备忘录中的要点总结成一个连贯的单一叙述。\n",
        "\n",
        "报告格式要求：\n",
        " \n",
        "1. 使用 Markdown 格式。\n",
        "2. 报告开头不要有前言。\n",
        "3. 不要使用子标题。\n",
        "4. 报告开头使用一个一级标题：## Insights （## 见解）\n",
        "5. 在报告中不要提及任何分析师的名字。\n",
        "6. 保留备忘录中的所有引用，这些引用会用方括号标注，例如 [1] 或 [2]。\n",
        "7. 创建一个最终的、合并的来源列表，并添加到以 `## Sources` 为标题的部分。\n",
        "8. 按顺序列出你的来源，不要重复。\n",
        "\n",
        "[1] 来源 1\n",
        "[2] 来源 2\n",
        "\n",
        "以下是你的分析师提供的备忘录，你需要根据它们来撰写报告：\n",
        "\n",
        "{context}\"\"\"\n",
        "\n",
        "def write_report(state: ResearchGraphState):\n",
        "    \"\"\" 撰写报告主体内容的节点函数 \"\"\"\n",
        "    # 获取所有章节（备忘录）\n",
        "    sections = state[\"sections\"]\n",
        "    topic = state[\"topic\"]\n",
        "\n",
        "    # 将所有章节（备忘录）连接成一个字符串\n",
        "    formatted_str_sections = \"\\n\\n\".join([f\"{section}\" for section in sections])\n",
        "    \n",
        "    # 使用指令模板和备忘录内容，调用 LLM 生成最终报告\n",
        "    system_message = report_writer_instructions.format(topic=topic, context=formatted_str_sections)    \n",
        "    report = llm.invoke([SystemMessage(content=system_message)] + [HumanMessage(content=\"根据这些备忘录写一份报告。\")]) \n",
        "    # 返回报告内容\n",
        "    return {\"content\": report.content}\n",
        "\n",
        "# 定义用于撰写引言和结论的指令模板\n",
        "intro_conclusion_instructions = \"\"\"你是一位正在完成关于 {topic} 报告的技术作家。\n",
        "\n",
        "你将得到报告的所有章节。\n",
        "\n",
        "你的工作是撰写一个清晰且有说服力的引言或结论部分。\n",
        "\n",
        "用户会指示你是写引言还是结论。\n",
        "\n",
        "两个部分都不要有前言。\n",
        "\n",
        "目标大约 100 个词，简洁地预览（对于引言）或回顾（对于结论）报告的所有章节。\n",
        "\n",
        "使用 Markdown 格式。\n",
        "\n",
        "对于你的引言，创建一个引人注目的标题，并使用 # 标题级别。\n",
        "对于你的引言，使用 ## Introduction （## 引言） 作为部分标题。\n",
        "\n",
        "对于你的结论，使用 ## Conclusion （## 结论） 作为部分标题。\n",
        "\n",
        "以下是供你参考以撰写相应部分的章节：{formatted_str_sections}\"\"\"\n",
        "\n",
        "def write_introduction(state: ResearchGraphState):\n",
        "    \"\"\" 撰写报告引言的节点函数 \"\"\"\n",
        "    # 获取所有章节\n",
        "    sections = state[\"sections\"]\n",
        "    topic = state[\"topic\"]\n",
        "\n",
        "    # 将所有章节连接成一个字符串\n",
        "    formatted_str_sections = \"\\n\\n\".join([f\"{section}\" for section in sections])\n",
        "    \n",
        "    # 使用指令模板和章节内容，调用 LLM 生成引言\n",
        "    instructions = intro_conclusion_instructions.format(topic=topic, formatted_str_sections=formatted_str_sections)    \n",
        "    intro = llm.invoke([instructions] + [HumanMessage(content=\"写报告的引言\")]) \n",
        "    # 返回引言内容\n",
        "    return {\"introduction\": intro.content}\n",
        "\n",
        "def write_conclusion(state: ResearchGraphState):\n",
        "    \"\"\" 撰写报告结论的节点函数 \"\"\"\n",
        "    # 获取所有章节\n",
        "    sections = state[\"sections\"]\n",
        "    topic = state[\"topic\"]\n",
        "\n",
        "    # 将所有章节连接成一个字符串\n",
        "    formatted_str_sections = \"\\n\\n\".join([f\"{section}\" for section in sections])\n",
        "    \n",
        "    # 使用指令模板和章节内容，调用 LLM 生成结论\n",
        "    instructions = intro_conclusion_instructions.format(topic=topic, formatted_str_sections=formatted_str_sections)    \n",
        "    conclusion = llm.invoke([instructions] + [HumanMessage(content=\"写报告的结论\")]) \n",
        "    # 返回结论内容\n",
        "    return {\"conclusion\": conclusion.content}\n",
        "\n",
        "def finalize_report(state: ResearchGraphState):\n",
        "    \"\"\" 这是“reduce”（归约）步骤，我们收集所有部分，将它们组合起来，并进行反思以写出引言/结论 \"\"\"\n",
        "    \"\"\" 最终整合报告的节点函数 \"\"\"\n",
        "    # 获取报告主体内容\n",
        "    content = state[\"content\"]\n",
        "    # 如果内容以 \"## Insights\" 开头，则移除这个标题\n",
        "    if content.startswith(\"## Insights\"):\n",
        "        content = content.strip(\"## Insights\")\n",
        "    # 尝试分离报告主体和来源部分\n",
        "    if \"## Sources\" in content:\n",
        "        try:\n",
        "            content, sources = content.split(\"\\n## Sources\\n\")\n",
        "        except:\n",
        "            sources = None # 如果分离失败，则来源部分为空\n",
        "    else:\n",
        "        sources = None\n",
        "\n",
        "    # 将引言、主体内容和结论连接起来形成最终报告\n",
        "    final_report = state[\"introduction\"] + \"\\n\\n---\\n\\n\" + content + \"\\n\\n---\\n\\n\" + state[\"conclusion\"]\n",
        "    # 如果存在来源部分，则将其附加到最终报告末尾\n",
        "    if sources is not None:\n",
        "        final_report += \"\\n\\n## Sources\\n\" + sources\n",
        "    # 返回最终报告\n",
        "    return {\"final_report\": final_report}\n",
        "\n",
        "# 添加节点和边\n",
        "builder = StateGraph(ResearchGraphState)\n",
        "builder.add_node(\"create_analysts\", create_analysts)\n",
        "builder.add_node(\"human_feedback\", human_feedback)\n",
        "builder.add_node(\"conduct_interview\", interview_builder.compile()) # 将之前定义的采访图编译后作为一个节点\n",
        "builder.add_node(\"write_report\", write_report)\n",
        "builder.add_node(\"write_introduction\", write_introduction)\n",
        "builder.add_node(\"write_conclusion\", write_conclusion)\n",
        "builder.add_node(\"finalize_report\", finalize_report)\n",
        "\n",
        "# 定义工作流逻辑\n",
        "builder.add_edge(START, \"create_analysts\") # 从开始到创建分析师\n",
        "builder.add_edge(\"create_analysts\", \"human_feedback\") # 创建分析师后进入人类反馈环节\n",
        "# 条件边：根据 human_feedback 节点的输出，决定是回到创建分析师还是开始采访\n",
        "builder.add_conditional_edges(\"human_feedback\", initiate_all_interviews, [\"create_analysts\", \"conduct_interview\"]) \n",
        "# 采访完成后，并行执行撰写报告、引言和结论\n",
        "builder.add_edge(\"conduct_interview\", \"write_report\")\n",
        "builder.add_edge(\"conduct_interview\", \"write_introduction\")\n",
        "builder.add_edge(\"conduct_interview\", \"write_conclusion\")\n",
        "# 撰写完报告的三个部分后，汇聚到最终整合步骤\n",
        "builder.add_edge([\"write_conclusion\", \"write_report\", \"write_introduction\"], \"finalize_report\")\n",
        "builder.add_edge(\"finalize_report\", END) # 最终整合后结束\n",
        "\n",
        "# 编译图\n",
        "memory = MemorySaver()\n",
        "# 编译图，并设置在 'human_feedback' 节点前中断，以及使用检查点保存器\n",
        "graph = builder.compile(interrupt_before=['human_feedback'], checkpointer=memory)\n",
        "# 显示图的可视化表示\n",
        "display(Image(graph.get_graph(xray=1).draw_mermaid_png()))"
      ]
    },
    {
      "cell_type": "markdown",
      "id": "1b64ba9a-2b5e-40e1-a778-0f635aa3f6d0",
      "metadata": {},
      "source": [
        "Let's ask an open-ended question about LangGraph.\n",
        "\n",
        "让我们提出一个关于 LangGraph 的开放式问题。\n",
        "\n"
      ]
    },
    {
      "cell_type": "code",
      "execution_count": 16,
      "id": "362932ee-4106-4a2d-a32d-b812eafcf9df",
      "metadata": {},
      "outputs": [
        {
          "name": "stdout",
          "output_type": "stream",
          "text": [
            "Name: 艾米丽·陈\n",
            "Affiliation: 斯坦福人工智能实验室\n",
            "Role: AI系统架构分析师\n",
            "Description: 专注于代理框架的架构设计与优化，特别是如何利用LangGraph提高复杂AI系统的模块化和可扩展性。\n",
            "--------------------------------------------------\n",
            "Name: 拉胡尔·帕特尔\n",
            "Affiliation: 麻省理工学院计算机科学与人工智能实验室\n",
            "Role: 多智能体系统分析师\n",
            "Description: 研究重点是如何使用LangGraph构建高效的多智能体系统，以实现更强大的协作与决策能力。\n",
            "--------------------------------------------------\n",
            "Name: 索菲亚·罗德里格斯\n",
            "Affiliation: 伯克利数据科学研究所\n",
            "Role: AI代理性能分析师\n",
            "Description: 致力于分析LangGraph在不同应用场景下的性能表现，评估其在效率、灵活性和可维护性方面的优势。\n",
            "--------------------------------------------------\n"
          ]
        }
      ],
      "source": [
        "# Inputs\n",
        "max_analysts = 3 \n",
        "topic = \"采用 LangGraph 作为代理框架的好处\"\n",
        "thread = {\"configurable\": {\"thread_id\": \"1\"}}\n",
        "\n",
        "# Run the graph until the first interruption\n",
        "for event in graph.stream({\"topic\":topic,\n",
        "                           \"max_analysts\":max_analysts}, \n",
        "                          thread, \n",
        "                          stream_mode=\"values\"):\n",
        "    \n",
        "    analysts = event.get('analysts', '')\n",
        "    if analysts:\n",
        "        for analyst in analysts:\n",
        "            print(f\"Name: {analyst.name}\")\n",
        "            print(f\"Affiliation: {analyst.affiliation}\")\n",
        "            print(f\"Role: {analyst.role}\")\n",
        "            print(f\"Description: {analyst.description}\")\n",
        "            print(\"-\" * 50)  "
      ]
    },
    {
      "cell_type": "code",
      "execution_count": 17,
      "id": "ac521a5f-5a4f-44f9-8af9-d05228e20882",
      "metadata": {},
      "outputs": [
        {
          "data": {
            "text/plain": [
              "{'configurable': {'thread_id': '1',\n",
              "  'checkpoint_ns': '',\n",
              "  'checkpoint_id': '1f068f67-e9eb-67cb-8002-5a6dd3bcc83f'}}"
            ]
          },
          "execution_count": 17,
          "metadata": {},
          "output_type": "execute_result"
        }
      ],
      "source": [
        "# We now update the state as if we are the human_feedback node\n",
        "graph.update_state(thread, {\"human_analyst_feedback\": \n",
        "                                \"Add in the CEO of gen ai native startup\"}, as_node=\"human_feedback\")"
      ]
    },
    {
      "cell_type": "code",
      "execution_count": 18,
      "id": "a3be311f-62ee-49e7-b037-75c53d8960a8",
      "metadata": {},
      "outputs": [
        {
          "name": "stdout",
          "output_type": "stream",
          "text": [
            "Name: 艾米丽·陈\n",
            "Affiliation: 斯坦福人工智能实验室\n",
            "Role: AI系统架构分析师\n",
            "Description: 专注于代理框架的架构设计与优化，特别是如何利用LangGraph提高复杂AI系统的模块化和可扩展性。\n",
            "--------------------------------------------------\n",
            "Name: 拉胡尔·帕特尔\n",
            "Affiliation: 麻省理工学院计算机科学与人工智能实验室\n",
            "Role: 多智能体系统分析师\n",
            "Description: 研究重点是如何使用LangGraph构建高效的多智能体系统，以实现更强大的协作与决策能力。\n",
            "--------------------------------------------------\n",
            "Name: 索菲亚·罗德里格斯\n",
            "Affiliation: 伯克利数据科学研究所\n",
            "Role: AI代理性能分析师\n",
            "Description: 致力于分析LangGraph在不同应用场景下的性能表现，评估其在效率、灵活性和可维护性方面的优势。\n",
            "--------------------------------------------------\n",
            "Name: Dr. Emily Zhang\n",
            "Affiliation: AI Research Labs, Inc.\n",
            "Role: 首席人工智能分析师\n",
            "Description: 专注于代理框架与多智能体系统在企业级AI中的应用，Emily 为 LangGraph 在构建可扩展和可解释性AI架构中的作用提供深刻见解。\n",
            "--------------------------------------------------\n",
            "Name: Raj Patel\n",
            "Affiliation: NextGen AI Ventures\n",
            "Role: AI架构与工程专家\n",
            "Description: Raj 深入研究 LangGraph 在简化复杂AI系统开发流程方面的优势，特别是在分布式代理协作和实时决策中的表现。\n",
            "--------------------------------------------------\n",
            "Name: Alex Chen\n",
            "Affiliation: GenAI初创公司首席执行官\n",
            "Role: 生成式AI产品与战略领导者\n",
            "Description: 作为生成式AI原生初创公司的CEO，Alex 从商业和产品角度分析 LangGraph 在提升开发效率和部署智能代理中的实际价值。\n",
            "--------------------------------------------------\n"
          ]
        }
      ],
      "source": [
        "# Check\n",
        "for event in graph.stream(None, thread, stream_mode=\"values\"):\n",
        "    analysts = event.get('analysts', '')\n",
        "    if analysts:\n",
        "        for analyst in analysts:\n",
        "            print(f\"Name: {analyst.name}\")\n",
        "            print(f\"Affiliation: {analyst.affiliation}\")\n",
        "            print(f\"Role: {analyst.role}\")\n",
        "            print(f\"Description: {analyst.description}\")\n",
        "            print(\"-\" * 50)  "
      ]
    },
    {
      "cell_type": "code",
      "execution_count": 19,
      "id": "0af41f54-88d9-4597-98b0-444c08322095",
      "metadata": {},
      "outputs": [
        {
          "data": {
            "text/plain": [
              "{'configurable': {'thread_id': '1',\n",
              "  'checkpoint_ns': '',\n",
              "  'checkpoint_id': '1f068f68-69e8-6b52-8004-5b68450ef50a'}}"
            ]
          },
          "execution_count": 19,
          "metadata": {},
          "output_type": "execute_result"
        }
      ],
      "source": [
        "# Confirm we are happy\n",
        "graph.update_state(thread, {\"human_analyst_feedback\": \n",
        "                            None}, as_node=\"human_feedback\")"
      ]
    },
    {
      "cell_type": "code",
      "execution_count": 20,
      "id": "37123ca7-c20b-43c1-9a71-39ba344e7ca6",
      "metadata": {},
      "outputs": [
        {
          "ename": "RateLimitError",
          "evalue": "Error code: 429 - {'error': {'message': 'You exceeded your current requests list.', 'type': 'limit_requests', 'param': None, 'code': 'limit_requests'}, 'request_id': '9eee31d6-4f19-952f-a95a-f5dda4c15f73'}",
          "output_type": "error",
          "traceback": [
            "\u001b[1;31m---------------------------------------------------------------------------\u001b[0m",
            "\u001b[1;31mRateLimitError\u001b[0m                            Traceback (most recent call last)",
            "Cell \u001b[1;32mIn[20], line 2\u001b[0m\n\u001b[0;32m      1\u001b[0m \u001b[38;5;66;03m# Continue\u001b[39;00m\n\u001b[1;32m----> 2\u001b[0m \u001b[38;5;28;43;01mfor\u001b[39;49;00m\u001b[43m \u001b[49m\u001b[43mevent\u001b[49m\u001b[43m \u001b[49m\u001b[38;5;129;43;01min\u001b[39;49;00m\u001b[43m \u001b[49m\u001b[43mgraph\u001b[49m\u001b[38;5;241;43m.\u001b[39;49m\u001b[43mstream\u001b[49m\u001b[43m(\u001b[49m\u001b[38;5;28;43;01mNone\u001b[39;49;00m\u001b[43m,\u001b[49m\u001b[43m \u001b[49m\u001b[43mthread\u001b[49m\u001b[43m,\u001b[49m\u001b[43m \u001b[49m\u001b[43mstream_mode\u001b[49m\u001b[38;5;241;43m=\u001b[39;49m\u001b[38;5;124;43m\"\u001b[39;49m\u001b[38;5;124;43mupdates\u001b[39;49m\u001b[38;5;124;43m\"\u001b[39;49m\u001b[43m)\u001b[49m\u001b[43m:\u001b[49m\n\u001b[0;32m      3\u001b[0m \u001b[43m    \u001b[49m\u001b[38;5;28;43mprint\u001b[39;49m\u001b[43m(\u001b[49m\u001b[38;5;124;43m\"\u001b[39;49m\u001b[38;5;124;43m--Node--\u001b[39;49m\u001b[38;5;124;43m\"\u001b[39;49m\u001b[43m)\u001b[49m\n\u001b[0;32m      4\u001b[0m \u001b[43m    \u001b[49m\u001b[43mnode_name\u001b[49m\u001b[43m \u001b[49m\u001b[38;5;241;43m=\u001b[39;49m\u001b[43m \u001b[49m\u001b[38;5;28;43mnext\u001b[39;49m\u001b[43m(\u001b[49m\u001b[38;5;28;43miter\u001b[39;49m\u001b[43m(\u001b[49m\u001b[43mevent\u001b[49m\u001b[38;5;241;43m.\u001b[39;49m\u001b[43mkeys\u001b[49m\u001b[43m(\u001b[49m\u001b[43m)\u001b[49m\u001b[43m)\u001b[49m\u001b[43m)\u001b[49m\n",
            "File \u001b[1;32mf:\\Anconda\\Anconda\\envs\\general\\Lib\\site-packages\\langgraph\\pregel\\__init__.py:2534\u001b[0m, in \u001b[0;36mPregel.stream\u001b[1;34m(self, input, config, stream_mode, print_mode, output_keys, interrupt_before, interrupt_after, checkpoint_during, debug, subgraphs)\u001b[0m\n\u001b[0;32m   2532\u001b[0m \u001b[38;5;28;01mfor\u001b[39;00m task \u001b[38;5;129;01min\u001b[39;00m loop\u001b[38;5;241m.\u001b[39mmatch_cached_writes():\n\u001b[0;32m   2533\u001b[0m     loop\u001b[38;5;241m.\u001b[39moutput_writes(task\u001b[38;5;241m.\u001b[39mid, task\u001b[38;5;241m.\u001b[39mwrites, cached\u001b[38;5;241m=\u001b[39m\u001b[38;5;28;01mTrue\u001b[39;00m)\n\u001b[1;32m-> 2534\u001b[0m \u001b[43m\u001b[49m\u001b[38;5;28;43;01mfor\u001b[39;49;00m\u001b[43m \u001b[49m\u001b[43m_\u001b[49m\u001b[43m \u001b[49m\u001b[38;5;129;43;01min\u001b[39;49;00m\u001b[43m \u001b[49m\u001b[43mrunner\u001b[49m\u001b[38;5;241;43m.\u001b[39;49m\u001b[43mtick\u001b[49m\u001b[43m(\u001b[49m\n\u001b[0;32m   2535\u001b[0m \u001b[43m    \u001b[49m\u001b[43m[\u001b[49m\u001b[43mt\u001b[49m\u001b[43m \u001b[49m\u001b[38;5;28;43;01mfor\u001b[39;49;00m\u001b[43m \u001b[49m\u001b[43mt\u001b[49m\u001b[43m \u001b[49m\u001b[38;5;129;43;01min\u001b[39;49;00m\u001b[43m \u001b[49m\u001b[43mloop\u001b[49m\u001b[38;5;241;43m.\u001b[39;49m\u001b[43mtasks\u001b[49m\u001b[38;5;241;43m.\u001b[39;49m\u001b[43mvalues\u001b[49m\u001b[43m(\u001b[49m\u001b[43m)\u001b[49m\u001b[43m \u001b[49m\u001b[38;5;28;43;01mif\u001b[39;49;00m\u001b[43m \u001b[49m\u001b[38;5;129;43;01mnot\u001b[39;49;00m\u001b[43m \u001b[49m\u001b[43mt\u001b[49m\u001b[38;5;241;43m.\u001b[39;49m\u001b[43mwrites\u001b[49m\u001b[43m]\u001b[49m\u001b[43m,\u001b[49m\n\u001b[0;32m   2536\u001b[0m \u001b[43m    \u001b[49m\u001b[43mtimeout\u001b[49m\u001b[38;5;241;43m=\u001b[39;49m\u001b[38;5;28;43mself\u001b[39;49m\u001b[38;5;241;43m.\u001b[39;49m\u001b[43mstep_timeout\u001b[49m\u001b[43m,\u001b[49m\n\u001b[0;32m   2537\u001b[0m \u001b[43m    \u001b[49m\u001b[43mget_waiter\u001b[49m\u001b[38;5;241;43m=\u001b[39;49m\u001b[43mget_waiter\u001b[49m\u001b[43m,\u001b[49m\n\u001b[0;32m   2538\u001b[0m \u001b[43m    \u001b[49m\u001b[43mschedule_task\u001b[49m\u001b[38;5;241;43m=\u001b[39;49m\u001b[43mloop\u001b[49m\u001b[38;5;241;43m.\u001b[39;49m\u001b[43maccept_push\u001b[49m\u001b[43m,\u001b[49m\n\u001b[0;32m   2539\u001b[0m \u001b[43m\u001b[49m\u001b[43m)\u001b[49m\u001b[43m:\u001b[49m\n\u001b[0;32m   2540\u001b[0m \u001b[43m    \u001b[49m\u001b[38;5;66;43;03m# emit output\u001b[39;49;00m\n\u001b[0;32m   2541\u001b[0m \u001b[43m    \u001b[49m\u001b[38;5;28;43;01myield from\u001b[39;49;00m\u001b[43m \u001b[49m\u001b[43m_output\u001b[49m\u001b[43m(\u001b[49m\n\u001b[0;32m   2542\u001b[0m \u001b[43m        \u001b[49m\u001b[43mstream_mode\u001b[49m\u001b[43m,\u001b[49m\u001b[43m \u001b[49m\u001b[43mprint_mode\u001b[49m\u001b[43m,\u001b[49m\u001b[43m \u001b[49m\u001b[43msubgraphs\u001b[49m\u001b[43m,\u001b[49m\u001b[43m \u001b[49m\u001b[43mstream\u001b[49m\u001b[38;5;241;43m.\u001b[39;49m\u001b[43mget\u001b[49m\u001b[43m,\u001b[49m\u001b[43m \u001b[49m\u001b[43mqueue\u001b[49m\u001b[38;5;241;43m.\u001b[39;49m\u001b[43mEmpty\u001b[49m\n\u001b[0;32m   2543\u001b[0m \u001b[43m    \u001b[49m\u001b[43m)\u001b[49m\n\u001b[0;32m   2544\u001b[0m loop\u001b[38;5;241m.\u001b[39mafter_tick()\n",
            "File \u001b[1;32mf:\\Anconda\\Anconda\\envs\\general\\Lib\\site-packages\\langgraph\\pregel\\runner.py:253\u001b[0m, in \u001b[0;36mPregelRunner.tick\u001b[1;34m(self, tasks, reraise, timeout, retry_policy, get_waiter, schedule_task)\u001b[0m\n\u001b[0;32m    251\u001b[0m \u001b[38;5;66;03m# panic on failure or timeout\u001b[39;00m\n\u001b[0;32m    252\u001b[0m \u001b[38;5;28;01mtry\u001b[39;00m:\n\u001b[1;32m--> 253\u001b[0m     \u001b[43m_panic_or_proceed\u001b[49m\u001b[43m(\u001b[49m\n\u001b[0;32m    254\u001b[0m \u001b[43m        \u001b[49m\u001b[43mfutures\u001b[49m\u001b[38;5;241;43m.\u001b[39;49m\u001b[43mdone\u001b[49m\u001b[38;5;241;43m.\u001b[39;49m\u001b[43munion\u001b[49m\u001b[43m(\u001b[49m\u001b[43mf\u001b[49m\u001b[43m \u001b[49m\u001b[38;5;28;43;01mfor\u001b[39;49;00m\u001b[43m \u001b[49m\u001b[43mf\u001b[49m\u001b[43m,\u001b[49m\u001b[43m \u001b[49m\u001b[43mt\u001b[49m\u001b[43m \u001b[49m\u001b[38;5;129;43;01min\u001b[39;49;00m\u001b[43m \u001b[49m\u001b[43mfutures\u001b[49m\u001b[38;5;241;43m.\u001b[39;49m\u001b[43mitems\u001b[49m\u001b[43m(\u001b[49m\u001b[43m)\u001b[49m\u001b[43m \u001b[49m\u001b[38;5;28;43;01mif\u001b[39;49;00m\u001b[43m \u001b[49m\u001b[43mt\u001b[49m\u001b[43m \u001b[49m\u001b[38;5;129;43;01mis\u001b[39;49;00m\u001b[43m \u001b[49m\u001b[38;5;129;43;01mnot\u001b[39;49;00m\u001b[43m \u001b[49m\u001b[38;5;28;43;01mNone\u001b[39;49;00m\u001b[43m)\u001b[49m\u001b[43m,\u001b[49m\n\u001b[0;32m    255\u001b[0m \u001b[43m        \u001b[49m\u001b[43mpanic\u001b[49m\u001b[38;5;241;43m=\u001b[39;49m\u001b[43mreraise\u001b[49m\u001b[43m,\u001b[49m\n\u001b[0;32m    256\u001b[0m \u001b[43m    \u001b[49m\u001b[43m)\u001b[49m\n\u001b[0;32m    257\u001b[0m \u001b[38;5;28;01mexcept\u001b[39;00m \u001b[38;5;167;01mException\u001b[39;00m \u001b[38;5;28;01mas\u001b[39;00m exc:\n\u001b[0;32m    258\u001b[0m     \u001b[38;5;28;01mif\u001b[39;00m tb \u001b[38;5;241m:=\u001b[39m exc\u001b[38;5;241m.\u001b[39m__traceback__:\n",
            "File \u001b[1;32mf:\\Anconda\\Anconda\\envs\\general\\Lib\\site-packages\\langgraph\\pregel\\runner.py:511\u001b[0m, in \u001b[0;36m_panic_or_proceed\u001b[1;34m(futs, timeout_exc_cls, panic)\u001b[0m\n\u001b[0;32m    509\u001b[0m                 interrupts\u001b[38;5;241m.\u001b[39mappend(exc)\n\u001b[0;32m    510\u001b[0m             \u001b[38;5;28;01melif\u001b[39;00m fut \u001b[38;5;129;01mnot\u001b[39;00m \u001b[38;5;129;01min\u001b[39;00m SKIP_RERAISE_SET:\n\u001b[1;32m--> 511\u001b[0m                 \u001b[38;5;28;01mraise\u001b[39;00m exc\n\u001b[0;32m    512\u001b[0m \u001b[38;5;66;03m# raise combined interrupts\u001b[39;00m\n\u001b[0;32m    513\u001b[0m \u001b[38;5;28;01mif\u001b[39;00m interrupts:\n",
            "File \u001b[1;32mf:\\Anconda\\Anconda\\envs\\general\\Lib\\site-packages\\langgraph\\pregel\\executor.py:81\u001b[0m, in \u001b[0;36mBackgroundExecutor.done\u001b[1;34m(self, task)\u001b[0m\n\u001b[0;32m     79\u001b[0m \u001b[38;5;250m\u001b[39m\u001b[38;5;124;03m\"\"\"Remove the task from the tasks dict when it's done.\"\"\"\u001b[39;00m\n\u001b[0;32m     80\u001b[0m \u001b[38;5;28;01mtry\u001b[39;00m:\n\u001b[1;32m---> 81\u001b[0m     \u001b[43mtask\u001b[49m\u001b[38;5;241;43m.\u001b[39;49m\u001b[43mresult\u001b[49m\u001b[43m(\u001b[49m\u001b[43m)\u001b[49m\n\u001b[0;32m     82\u001b[0m \u001b[38;5;28;01mexcept\u001b[39;00m GraphBubbleUp:\n\u001b[0;32m     83\u001b[0m     \u001b[38;5;66;03m# This exception is an interruption signal, not an error\u001b[39;00m\n\u001b[0;32m     84\u001b[0m     \u001b[38;5;66;03m# so we don't want to re-raise it on exit\u001b[39;00m\n\u001b[0;32m     85\u001b[0m     \u001b[38;5;28mself\u001b[39m\u001b[38;5;241m.\u001b[39mtasks\u001b[38;5;241m.\u001b[39mpop(task)\n",
            "File \u001b[1;32mf:\\Anconda\\Anconda\\envs\\general\\Lib\\concurrent\\futures\\_base.py:449\u001b[0m, in \u001b[0;36mFuture.result\u001b[1;34m(self, timeout)\u001b[0m\n\u001b[0;32m    447\u001b[0m     \u001b[38;5;28;01mraise\u001b[39;00m CancelledError()\n\u001b[0;32m    448\u001b[0m \u001b[38;5;28;01melif\u001b[39;00m \u001b[38;5;28mself\u001b[39m\u001b[38;5;241m.\u001b[39m_state \u001b[38;5;241m==\u001b[39m FINISHED:\n\u001b[1;32m--> 449\u001b[0m     \u001b[38;5;28;01mreturn\u001b[39;00m \u001b[38;5;28;43mself\u001b[39;49m\u001b[38;5;241;43m.\u001b[39;49m\u001b[43m__get_result\u001b[49m\u001b[43m(\u001b[49m\u001b[43m)\u001b[49m\n\u001b[0;32m    451\u001b[0m \u001b[38;5;28mself\u001b[39m\u001b[38;5;241m.\u001b[39m_condition\u001b[38;5;241m.\u001b[39mwait(timeout)\n\u001b[0;32m    453\u001b[0m \u001b[38;5;28;01mif\u001b[39;00m \u001b[38;5;28mself\u001b[39m\u001b[38;5;241m.\u001b[39m_state \u001b[38;5;129;01min\u001b[39;00m [CANCELLED, CANCELLED_AND_NOTIFIED]:\n",
            "File \u001b[1;32mf:\\Anconda\\Anconda\\envs\\general\\Lib\\concurrent\\futures\\_base.py:401\u001b[0m, in \u001b[0;36mFuture.__get_result\u001b[1;34m(self)\u001b[0m\n\u001b[0;32m    399\u001b[0m \u001b[38;5;28;01mif\u001b[39;00m \u001b[38;5;28mself\u001b[39m\u001b[38;5;241m.\u001b[39m_exception:\n\u001b[0;32m    400\u001b[0m     \u001b[38;5;28;01mtry\u001b[39;00m:\n\u001b[1;32m--> 401\u001b[0m         \u001b[38;5;28;01mraise\u001b[39;00m \u001b[38;5;28mself\u001b[39m\u001b[38;5;241m.\u001b[39m_exception\n\u001b[0;32m    402\u001b[0m     \u001b[38;5;28;01mfinally\u001b[39;00m:\n\u001b[0;32m    403\u001b[0m         \u001b[38;5;66;03m# Break a reference cycle with the exception in self._exception\u001b[39;00m\n\u001b[0;32m    404\u001b[0m         \u001b[38;5;28mself\u001b[39m \u001b[38;5;241m=\u001b[39m \u001b[38;5;28;01mNone\u001b[39;00m\n",
            "File \u001b[1;32mf:\\Anconda\\Anconda\\envs\\general\\Lib\\concurrent\\futures\\thread.py:59\u001b[0m, in \u001b[0;36m_WorkItem.run\u001b[1;34m(self)\u001b[0m\n\u001b[0;32m     56\u001b[0m     \u001b[38;5;28;01mreturn\u001b[39;00m\n\u001b[0;32m     58\u001b[0m \u001b[38;5;28;01mtry\u001b[39;00m:\n\u001b[1;32m---> 59\u001b[0m     result \u001b[38;5;241m=\u001b[39m \u001b[38;5;28;43mself\u001b[39;49m\u001b[38;5;241;43m.\u001b[39;49m\u001b[43mfn\u001b[49m\u001b[43m(\u001b[49m\u001b[38;5;241;43m*\u001b[39;49m\u001b[38;5;28;43mself\u001b[39;49m\u001b[38;5;241;43m.\u001b[39;49m\u001b[43margs\u001b[49m\u001b[43m,\u001b[49m\u001b[43m \u001b[49m\u001b[38;5;241;43m*\u001b[39;49m\u001b[38;5;241;43m*\u001b[39;49m\u001b[38;5;28;43mself\u001b[39;49m\u001b[38;5;241;43m.\u001b[39;49m\u001b[43mkwargs\u001b[49m\u001b[43m)\u001b[49m\n\u001b[0;32m     60\u001b[0m \u001b[38;5;28;01mexcept\u001b[39;00m \u001b[38;5;167;01mBaseException\u001b[39;00m \u001b[38;5;28;01mas\u001b[39;00m exc:\n\u001b[0;32m     61\u001b[0m     \u001b[38;5;28mself\u001b[39m\u001b[38;5;241m.\u001b[39mfuture\u001b[38;5;241m.\u001b[39mset_exception(exc)\n",
            "File \u001b[1;32mf:\\Anconda\\Anconda\\envs\\general\\Lib\\site-packages\\langgraph\\pregel\\retry.py:42\u001b[0m, in \u001b[0;36mrun_with_retry\u001b[1;34m(task, retry_policy, configurable)\u001b[0m\n\u001b[0;32m     40\u001b[0m     task\u001b[38;5;241m.\u001b[39mwrites\u001b[38;5;241m.\u001b[39mclear()\n\u001b[0;32m     41\u001b[0m     \u001b[38;5;66;03m# run the task\u001b[39;00m\n\u001b[1;32m---> 42\u001b[0m     \u001b[38;5;28;01mreturn\u001b[39;00m \u001b[43mtask\u001b[49m\u001b[38;5;241;43m.\u001b[39;49m\u001b[43mproc\u001b[49m\u001b[38;5;241;43m.\u001b[39;49m\u001b[43minvoke\u001b[49m\u001b[43m(\u001b[49m\u001b[43mtask\u001b[49m\u001b[38;5;241;43m.\u001b[39;49m\u001b[43minput\u001b[49m\u001b[43m,\u001b[49m\u001b[43m \u001b[49m\u001b[43mconfig\u001b[49m\u001b[43m)\u001b[49m\n\u001b[0;32m     43\u001b[0m \u001b[38;5;28;01mexcept\u001b[39;00m ParentCommand \u001b[38;5;28;01mas\u001b[39;00m exc:\n\u001b[0;32m     44\u001b[0m     ns: \u001b[38;5;28mstr\u001b[39m \u001b[38;5;241m=\u001b[39m config[CONF][CONFIG_KEY_CHECKPOINT_NS]\n",
            "File \u001b[1;32mf:\\Anconda\\Anconda\\envs\\general\\Lib\\site-packages\\langgraph\\utils\\runnable.py:623\u001b[0m, in \u001b[0;36mRunnableSeq.invoke\u001b[1;34m(self, input, config, **kwargs)\u001b[0m\n\u001b[0;32m    621\u001b[0m     \u001b[38;5;66;03m# run in context\u001b[39;00m\n\u001b[0;32m    622\u001b[0m     \u001b[38;5;28;01mwith\u001b[39;00m set_config_context(config, run) \u001b[38;5;28;01mas\u001b[39;00m context:\n\u001b[1;32m--> 623\u001b[0m         \u001b[38;5;28minput\u001b[39m \u001b[38;5;241m=\u001b[39m \u001b[43mcontext\u001b[49m\u001b[38;5;241;43m.\u001b[39;49m\u001b[43mrun\u001b[49m\u001b[43m(\u001b[49m\u001b[43mstep\u001b[49m\u001b[38;5;241;43m.\u001b[39;49m\u001b[43minvoke\u001b[49m\u001b[43m,\u001b[49m\u001b[43m \u001b[49m\u001b[38;5;28;43minput\u001b[39;49m\u001b[43m,\u001b[49m\u001b[43m \u001b[49m\u001b[43mconfig\u001b[49m\u001b[43m,\u001b[49m\u001b[43m \u001b[49m\u001b[38;5;241;43m*\u001b[39;49m\u001b[38;5;241;43m*\u001b[39;49m\u001b[43mkwargs\u001b[49m\u001b[43m)\u001b[49m\n\u001b[0;32m    624\u001b[0m \u001b[38;5;28;01melse\u001b[39;00m:\n\u001b[0;32m    625\u001b[0m     \u001b[38;5;28minput\u001b[39m \u001b[38;5;241m=\u001b[39m step\u001b[38;5;241m.\u001b[39minvoke(\u001b[38;5;28minput\u001b[39m, config)\n",
            "File \u001b[1;32mf:\\Anconda\\Anconda\\envs\\general\\Lib\\site-packages\\langgraph\\pregel\\__init__.py:2844\u001b[0m, in \u001b[0;36mPregel.invoke\u001b[1;34m(self, input, config, stream_mode, print_mode, output_keys, interrupt_before, interrupt_after, **kwargs)\u001b[0m\n\u001b[0;32m   2841\u001b[0m chunks: \u001b[38;5;28mlist\u001b[39m[\u001b[38;5;28mdict\u001b[39m[\u001b[38;5;28mstr\u001b[39m, Any] \u001b[38;5;241m|\u001b[39m Any] \u001b[38;5;241m=\u001b[39m []\n\u001b[0;32m   2842\u001b[0m interrupts: \u001b[38;5;28mlist\u001b[39m[Interrupt] \u001b[38;5;241m=\u001b[39m []\n\u001b[1;32m-> 2844\u001b[0m \u001b[43m\u001b[49m\u001b[38;5;28;43;01mfor\u001b[39;49;00m\u001b[43m \u001b[49m\u001b[43mchunk\u001b[49m\u001b[43m \u001b[49m\u001b[38;5;129;43;01min\u001b[39;49;00m\u001b[43m \u001b[49m\u001b[38;5;28;43mself\u001b[39;49m\u001b[38;5;241;43m.\u001b[39;49m\u001b[43mstream\u001b[49m\u001b[43m(\u001b[49m\n\u001b[0;32m   2845\u001b[0m \u001b[43m    \u001b[49m\u001b[38;5;28;43minput\u001b[39;49m\u001b[43m,\u001b[49m\n\u001b[0;32m   2846\u001b[0m \u001b[43m    \u001b[49m\u001b[43mconfig\u001b[49m\u001b[43m,\u001b[49m\n\u001b[0;32m   2847\u001b[0m \u001b[43m    \u001b[49m\u001b[43mstream_mode\u001b[49m\u001b[38;5;241;43m=\u001b[39;49m\u001b[43m[\u001b[49m\u001b[38;5;124;43m\"\u001b[39;49m\u001b[38;5;124;43mupdates\u001b[39;49m\u001b[38;5;124;43m\"\u001b[39;49m\u001b[43m,\u001b[49m\u001b[43m \u001b[49m\u001b[38;5;124;43m\"\u001b[39;49m\u001b[38;5;124;43mvalues\u001b[39;49m\u001b[38;5;124;43m\"\u001b[39;49m\u001b[43m]\u001b[49m\n\u001b[0;32m   2848\u001b[0m \u001b[43m    \u001b[49m\u001b[38;5;28;43;01mif\u001b[39;49;00m\u001b[43m \u001b[49m\u001b[43mstream_mode\u001b[49m\u001b[43m \u001b[49m\u001b[38;5;241;43m==\u001b[39;49m\u001b[43m \u001b[49m\u001b[38;5;124;43m\"\u001b[39;49m\u001b[38;5;124;43mvalues\u001b[39;49m\u001b[38;5;124;43m\"\u001b[39;49m\n\u001b[0;32m   2849\u001b[0m \u001b[43m    \u001b[49m\u001b[38;5;28;43;01melse\u001b[39;49;00m\u001b[43m \u001b[49m\u001b[43mstream_mode\u001b[49m\u001b[43m,\u001b[49m\n\u001b[0;32m   2850\u001b[0m \u001b[43m    \u001b[49m\u001b[43mprint_mode\u001b[49m\u001b[38;5;241;43m=\u001b[39;49m\u001b[43mprint_mode\u001b[49m\u001b[43m,\u001b[49m\n\u001b[0;32m   2851\u001b[0m \u001b[43m    \u001b[49m\u001b[43moutput_keys\u001b[49m\u001b[38;5;241;43m=\u001b[39;49m\u001b[43moutput_keys\u001b[49m\u001b[43m,\u001b[49m\n\u001b[0;32m   2852\u001b[0m \u001b[43m    \u001b[49m\u001b[43minterrupt_before\u001b[49m\u001b[38;5;241;43m=\u001b[39;49m\u001b[43minterrupt_before\u001b[49m\u001b[43m,\u001b[49m\n\u001b[0;32m   2853\u001b[0m \u001b[43m    \u001b[49m\u001b[43minterrupt_after\u001b[49m\u001b[38;5;241;43m=\u001b[39;49m\u001b[43minterrupt_after\u001b[49m\u001b[43m,\u001b[49m\n\u001b[0;32m   2854\u001b[0m \u001b[43m    \u001b[49m\u001b[38;5;241;43m*\u001b[39;49m\u001b[38;5;241;43m*\u001b[39;49m\u001b[43mkwargs\u001b[49m\u001b[43m,\u001b[49m\n\u001b[0;32m   2855\u001b[0m \u001b[43m\u001b[49m\u001b[43m)\u001b[49m\u001b[43m:\u001b[49m\n\u001b[0;32m   2856\u001b[0m \u001b[43m    \u001b[49m\u001b[38;5;28;43;01mif\u001b[39;49;00m\u001b[43m \u001b[49m\u001b[43mstream_mode\u001b[49m\u001b[43m \u001b[49m\u001b[38;5;241;43m==\u001b[39;49m\u001b[43m \u001b[49m\u001b[38;5;124;43m\"\u001b[39;49m\u001b[38;5;124;43mvalues\u001b[39;49m\u001b[38;5;124;43m\"\u001b[39;49m\u001b[43m:\u001b[49m\n\u001b[0;32m   2857\u001b[0m \u001b[43m        \u001b[49m\u001b[38;5;28;43;01mif\u001b[39;49;00m\u001b[43m \u001b[49m\u001b[38;5;28;43mlen\u001b[39;49m\u001b[43m(\u001b[49m\u001b[43mchunk\u001b[49m\u001b[43m)\u001b[49m\u001b[43m \u001b[49m\u001b[38;5;241;43m==\u001b[39;49m\u001b[43m \u001b[49m\u001b[38;5;241;43m2\u001b[39;49m\u001b[43m:\u001b[49m\n",
            "File \u001b[1;32mf:\\Anconda\\Anconda\\envs\\general\\Lib\\site-packages\\langgraph\\pregel\\__init__.py:2534\u001b[0m, in \u001b[0;36mPregel.stream\u001b[1;34m(self, input, config, stream_mode, print_mode, output_keys, interrupt_before, interrupt_after, checkpoint_during, debug, subgraphs)\u001b[0m\n\u001b[0;32m   2532\u001b[0m \u001b[38;5;28;01mfor\u001b[39;00m task \u001b[38;5;129;01min\u001b[39;00m loop\u001b[38;5;241m.\u001b[39mmatch_cached_writes():\n\u001b[0;32m   2533\u001b[0m     loop\u001b[38;5;241m.\u001b[39moutput_writes(task\u001b[38;5;241m.\u001b[39mid, task\u001b[38;5;241m.\u001b[39mwrites, cached\u001b[38;5;241m=\u001b[39m\u001b[38;5;28;01mTrue\u001b[39;00m)\n\u001b[1;32m-> 2534\u001b[0m \u001b[43m\u001b[49m\u001b[38;5;28;43;01mfor\u001b[39;49;00m\u001b[43m \u001b[49m\u001b[43m_\u001b[49m\u001b[43m \u001b[49m\u001b[38;5;129;43;01min\u001b[39;49;00m\u001b[43m \u001b[49m\u001b[43mrunner\u001b[49m\u001b[38;5;241;43m.\u001b[39;49m\u001b[43mtick\u001b[49m\u001b[43m(\u001b[49m\n\u001b[0;32m   2535\u001b[0m \u001b[43m    \u001b[49m\u001b[43m[\u001b[49m\u001b[43mt\u001b[49m\u001b[43m \u001b[49m\u001b[38;5;28;43;01mfor\u001b[39;49;00m\u001b[43m \u001b[49m\u001b[43mt\u001b[49m\u001b[43m \u001b[49m\u001b[38;5;129;43;01min\u001b[39;49;00m\u001b[43m \u001b[49m\u001b[43mloop\u001b[49m\u001b[38;5;241;43m.\u001b[39;49m\u001b[43mtasks\u001b[49m\u001b[38;5;241;43m.\u001b[39;49m\u001b[43mvalues\u001b[49m\u001b[43m(\u001b[49m\u001b[43m)\u001b[49m\u001b[43m \u001b[49m\u001b[38;5;28;43;01mif\u001b[39;49;00m\u001b[43m \u001b[49m\u001b[38;5;129;43;01mnot\u001b[39;49;00m\u001b[43m \u001b[49m\u001b[43mt\u001b[49m\u001b[38;5;241;43m.\u001b[39;49m\u001b[43mwrites\u001b[49m\u001b[43m]\u001b[49m\u001b[43m,\u001b[49m\n\u001b[0;32m   2536\u001b[0m \u001b[43m    \u001b[49m\u001b[43mtimeout\u001b[49m\u001b[38;5;241;43m=\u001b[39;49m\u001b[38;5;28;43mself\u001b[39;49m\u001b[38;5;241;43m.\u001b[39;49m\u001b[43mstep_timeout\u001b[49m\u001b[43m,\u001b[49m\n\u001b[0;32m   2537\u001b[0m \u001b[43m    \u001b[49m\u001b[43mget_waiter\u001b[49m\u001b[38;5;241;43m=\u001b[39;49m\u001b[43mget_waiter\u001b[49m\u001b[43m,\u001b[49m\n\u001b[0;32m   2538\u001b[0m \u001b[43m    \u001b[49m\u001b[43mschedule_task\u001b[49m\u001b[38;5;241;43m=\u001b[39;49m\u001b[43mloop\u001b[49m\u001b[38;5;241;43m.\u001b[39;49m\u001b[43maccept_push\u001b[49m\u001b[43m,\u001b[49m\n\u001b[0;32m   2539\u001b[0m \u001b[43m\u001b[49m\u001b[43m)\u001b[49m\u001b[43m:\u001b[49m\n\u001b[0;32m   2540\u001b[0m \u001b[43m    \u001b[49m\u001b[38;5;66;43;03m# emit output\u001b[39;49;00m\n\u001b[0;32m   2541\u001b[0m \u001b[43m    \u001b[49m\u001b[38;5;28;43;01myield from\u001b[39;49;00m\u001b[43m \u001b[49m\u001b[43m_output\u001b[49m\u001b[43m(\u001b[49m\n\u001b[0;32m   2542\u001b[0m \u001b[43m        \u001b[49m\u001b[43mstream_mode\u001b[49m\u001b[43m,\u001b[49m\u001b[43m \u001b[49m\u001b[43mprint_mode\u001b[49m\u001b[43m,\u001b[49m\u001b[43m \u001b[49m\u001b[43msubgraphs\u001b[49m\u001b[43m,\u001b[49m\u001b[43m \u001b[49m\u001b[43mstream\u001b[49m\u001b[38;5;241;43m.\u001b[39;49m\u001b[43mget\u001b[49m\u001b[43m,\u001b[49m\u001b[43m \u001b[49m\u001b[43mqueue\u001b[49m\u001b[38;5;241;43m.\u001b[39;49m\u001b[43mEmpty\u001b[49m\n\u001b[0;32m   2543\u001b[0m \u001b[43m    \u001b[49m\u001b[43m)\u001b[49m\n\u001b[0;32m   2544\u001b[0m loop\u001b[38;5;241m.\u001b[39mafter_tick()\n",
            "File \u001b[1;32mf:\\Anconda\\Anconda\\envs\\general\\Lib\\site-packages\\langgraph\\pregel\\runner.py:162\u001b[0m, in \u001b[0;36mPregelRunner.tick\u001b[1;34m(self, tasks, reraise, timeout, retry_policy, get_waiter, schedule_task)\u001b[0m\n\u001b[0;32m    160\u001b[0m t \u001b[38;5;241m=\u001b[39m tasks[\u001b[38;5;241m0\u001b[39m]\n\u001b[0;32m    161\u001b[0m \u001b[38;5;28;01mtry\u001b[39;00m:\n\u001b[1;32m--> 162\u001b[0m     \u001b[43mrun_with_retry\u001b[49m\u001b[43m(\u001b[49m\n\u001b[0;32m    163\u001b[0m \u001b[43m        \u001b[49m\u001b[43mt\u001b[49m\u001b[43m,\u001b[49m\n\u001b[0;32m    164\u001b[0m \u001b[43m        \u001b[49m\u001b[43mretry_policy\u001b[49m\u001b[43m,\u001b[49m\n\u001b[0;32m    165\u001b[0m \u001b[43m        \u001b[49m\u001b[43mconfigurable\u001b[49m\u001b[38;5;241;43m=\u001b[39;49m\u001b[43m{\u001b[49m\n\u001b[0;32m    166\u001b[0m \u001b[43m            \u001b[49m\u001b[43mCONFIG_KEY_CALL\u001b[49m\u001b[43m:\u001b[49m\u001b[43m \u001b[49m\u001b[43mpartial\u001b[49m\u001b[43m(\u001b[49m\n\u001b[0;32m    167\u001b[0m \u001b[43m                \u001b[49m\u001b[43m_call\u001b[49m\u001b[43m,\u001b[49m\n\u001b[0;32m    168\u001b[0m \u001b[43m                \u001b[49m\u001b[43mweakref\u001b[49m\u001b[38;5;241;43m.\u001b[39;49m\u001b[43mref\u001b[49m\u001b[43m(\u001b[49m\u001b[43mt\u001b[49m\u001b[43m)\u001b[49m\u001b[43m,\u001b[49m\n\u001b[0;32m    169\u001b[0m \u001b[43m                \u001b[49m\u001b[43mretry_policy\u001b[49m\u001b[38;5;241;43m=\u001b[39;49m\u001b[43mretry_policy\u001b[49m\u001b[43m,\u001b[49m\n\u001b[0;32m    170\u001b[0m \u001b[43m                \u001b[49m\u001b[43mfutures\u001b[49m\u001b[38;5;241;43m=\u001b[39;49m\u001b[43mweakref\u001b[49m\u001b[38;5;241;43m.\u001b[39;49m\u001b[43mref\u001b[49m\u001b[43m(\u001b[49m\u001b[43mfutures\u001b[49m\u001b[43m)\u001b[49m\u001b[43m,\u001b[49m\n\u001b[0;32m    171\u001b[0m \u001b[43m                \u001b[49m\u001b[43mschedule_task\u001b[49m\u001b[38;5;241;43m=\u001b[39;49m\u001b[43mschedule_task\u001b[49m\u001b[43m,\u001b[49m\n\u001b[0;32m    172\u001b[0m \u001b[43m                \u001b[49m\u001b[43msubmit\u001b[49m\u001b[38;5;241;43m=\u001b[39;49m\u001b[38;5;28;43mself\u001b[39;49m\u001b[38;5;241;43m.\u001b[39;49m\u001b[43msubmit\u001b[49m\u001b[43m,\u001b[49m\n\u001b[0;32m    173\u001b[0m \u001b[43m            \u001b[49m\u001b[43m)\u001b[49m\u001b[43m,\u001b[49m\n\u001b[0;32m    174\u001b[0m \u001b[43m        \u001b[49m\u001b[43m}\u001b[49m\u001b[43m,\u001b[49m\n\u001b[0;32m    175\u001b[0m \u001b[43m    \u001b[49m\u001b[43m)\u001b[49m\n\u001b[0;32m    176\u001b[0m     \u001b[38;5;28mself\u001b[39m\u001b[38;5;241m.\u001b[39mcommit(t, \u001b[38;5;28;01mNone\u001b[39;00m)\n\u001b[0;32m    177\u001b[0m \u001b[38;5;28;01mexcept\u001b[39;00m \u001b[38;5;167;01mException\u001b[39;00m \u001b[38;5;28;01mas\u001b[39;00m exc:\n",
            "File \u001b[1;32mf:\\Anconda\\Anconda\\envs\\general\\Lib\\site-packages\\langgraph\\pregel\\retry.py:42\u001b[0m, in \u001b[0;36mrun_with_retry\u001b[1;34m(task, retry_policy, configurable)\u001b[0m\n\u001b[0;32m     40\u001b[0m     task\u001b[38;5;241m.\u001b[39mwrites\u001b[38;5;241m.\u001b[39mclear()\n\u001b[0;32m     41\u001b[0m     \u001b[38;5;66;03m# run the task\u001b[39;00m\n\u001b[1;32m---> 42\u001b[0m     \u001b[38;5;28;01mreturn\u001b[39;00m \u001b[43mtask\u001b[49m\u001b[38;5;241;43m.\u001b[39;49m\u001b[43mproc\u001b[49m\u001b[38;5;241;43m.\u001b[39;49m\u001b[43minvoke\u001b[49m\u001b[43m(\u001b[49m\u001b[43mtask\u001b[49m\u001b[38;5;241;43m.\u001b[39;49m\u001b[43minput\u001b[49m\u001b[43m,\u001b[49m\u001b[43m \u001b[49m\u001b[43mconfig\u001b[49m\u001b[43m)\u001b[49m\n\u001b[0;32m     43\u001b[0m \u001b[38;5;28;01mexcept\u001b[39;00m ParentCommand \u001b[38;5;28;01mas\u001b[39;00m exc:\n\u001b[0;32m     44\u001b[0m     ns: \u001b[38;5;28mstr\u001b[39m \u001b[38;5;241m=\u001b[39m config[CONF][CONFIG_KEY_CHECKPOINT_NS]\n",
            "File \u001b[1;32mf:\\Anconda\\Anconda\\envs\\general\\Lib\\site-packages\\langgraph\\utils\\runnable.py:623\u001b[0m, in \u001b[0;36mRunnableSeq.invoke\u001b[1;34m(self, input, config, **kwargs)\u001b[0m\n\u001b[0;32m    621\u001b[0m     \u001b[38;5;66;03m# run in context\u001b[39;00m\n\u001b[0;32m    622\u001b[0m     \u001b[38;5;28;01mwith\u001b[39;00m set_config_context(config, run) \u001b[38;5;28;01mas\u001b[39;00m context:\n\u001b[1;32m--> 623\u001b[0m         \u001b[38;5;28minput\u001b[39m \u001b[38;5;241m=\u001b[39m \u001b[43mcontext\u001b[49m\u001b[38;5;241;43m.\u001b[39;49m\u001b[43mrun\u001b[49m\u001b[43m(\u001b[49m\u001b[43mstep\u001b[49m\u001b[38;5;241;43m.\u001b[39;49m\u001b[43minvoke\u001b[49m\u001b[43m,\u001b[49m\u001b[43m \u001b[49m\u001b[38;5;28;43minput\u001b[39;49m\u001b[43m,\u001b[49m\u001b[43m \u001b[49m\u001b[43mconfig\u001b[49m\u001b[43m,\u001b[49m\u001b[43m \u001b[49m\u001b[38;5;241;43m*\u001b[39;49m\u001b[38;5;241;43m*\u001b[39;49m\u001b[43mkwargs\u001b[49m\u001b[43m)\u001b[49m\n\u001b[0;32m    624\u001b[0m \u001b[38;5;28;01melse\u001b[39;00m:\n\u001b[0;32m    625\u001b[0m     \u001b[38;5;28minput\u001b[39m \u001b[38;5;241m=\u001b[39m step\u001b[38;5;241m.\u001b[39minvoke(\u001b[38;5;28minput\u001b[39m, config)\n",
            "File \u001b[1;32mf:\\Anconda\\Anconda\\envs\\general\\Lib\\site-packages\\langgraph\\utils\\runnable.py:377\u001b[0m, in \u001b[0;36mRunnableCallable.invoke\u001b[1;34m(self, input, config, **kwargs)\u001b[0m\n\u001b[0;32m    375\u001b[0m         run_manager\u001b[38;5;241m.\u001b[39mon_chain_end(ret)\n\u001b[0;32m    376\u001b[0m \u001b[38;5;28;01melse\u001b[39;00m:\n\u001b[1;32m--> 377\u001b[0m     ret \u001b[38;5;241m=\u001b[39m \u001b[38;5;28;43mself\u001b[39;49m\u001b[38;5;241;43m.\u001b[39;49m\u001b[43mfunc\u001b[49m\u001b[43m(\u001b[49m\u001b[38;5;241;43m*\u001b[39;49m\u001b[43margs\u001b[49m\u001b[43m,\u001b[49m\u001b[43m \u001b[49m\u001b[38;5;241;43m*\u001b[39;49m\u001b[38;5;241;43m*\u001b[39;49m\u001b[43mkwargs\u001b[49m\u001b[43m)\u001b[49m\n\u001b[0;32m    378\u001b[0m \u001b[38;5;28;01mif\u001b[39;00m \u001b[38;5;28mself\u001b[39m\u001b[38;5;241m.\u001b[39mrecurse \u001b[38;5;129;01mand\u001b[39;00m \u001b[38;5;28misinstance\u001b[39m(ret, Runnable):\n\u001b[0;32m    379\u001b[0m     \u001b[38;5;28;01mreturn\u001b[39;00m ret\u001b[38;5;241m.\u001b[39minvoke(\u001b[38;5;28minput\u001b[39m, config)\n",
            "Cell \u001b[1;32mIn[7], line 29\u001b[0m, in \u001b[0;36mgenerate_question\u001b[1;34m(state)\u001b[0m\n\u001b[0;32m     27\u001b[0m \u001b[38;5;66;03m# 生成问题\u001b[39;00m\n\u001b[0;32m     28\u001b[0m system_message \u001b[38;5;241m=\u001b[39m question_instructions\u001b[38;5;241m.\u001b[39mformat(goals\u001b[38;5;241m=\u001b[39manalyst\u001b[38;5;241m.\u001b[39mpersona)  \u001b[38;5;66;03m# 格式化系统消息\u001b[39;00m\n\u001b[1;32m---> 29\u001b[0m question \u001b[38;5;241m=\u001b[39m \u001b[43mllm\u001b[49m\u001b[38;5;241;43m.\u001b[39;49m\u001b[43minvoke\u001b[49m\u001b[43m(\u001b[49m\u001b[43m[\u001b[49m\u001b[43mSystemMessage\u001b[49m\u001b[43m(\u001b[49m\u001b[43mcontent\u001b[49m\u001b[38;5;241;43m=\u001b[39;49m\u001b[43msystem_message\u001b[49m\u001b[43m)\u001b[49m\u001b[43m]\u001b[49m\u001b[38;5;241;43m+\u001b[39;49m\u001b[43mmessages\u001b[49m\u001b[43m)\u001b[49m  \u001b[38;5;66;03m# 调用LLM生成问题\u001b[39;00m\n\u001b[0;32m     31\u001b[0m \u001b[38;5;66;03m# 将消息写入状态\u001b[39;00m\n\u001b[0;32m     32\u001b[0m \u001b[38;5;28;01mreturn\u001b[39;00m {\u001b[38;5;124m\"\u001b[39m\u001b[38;5;124mmessages\u001b[39m\u001b[38;5;124m\"\u001b[39m: [question]}\n",
            "File \u001b[1;32mf:\\Anconda\\Anconda\\envs\\general\\Lib\\site-packages\\langchain_core\\language_models\\chat_models.py:378\u001b[0m, in \u001b[0;36mBaseChatModel.invoke\u001b[1;34m(self, input, config, stop, **kwargs)\u001b[0m\n\u001b[0;32m    366\u001b[0m \u001b[38;5;129m@override\u001b[39m\n\u001b[0;32m    367\u001b[0m \u001b[38;5;28;01mdef\u001b[39;00m\u001b[38;5;250m \u001b[39m\u001b[38;5;21minvoke\u001b[39m(\n\u001b[0;32m    368\u001b[0m     \u001b[38;5;28mself\u001b[39m,\n\u001b[1;32m   (...)\u001b[0m\n\u001b[0;32m    373\u001b[0m     \u001b[38;5;241m*\u001b[39m\u001b[38;5;241m*\u001b[39mkwargs: Any,\n\u001b[0;32m    374\u001b[0m ) \u001b[38;5;241m-\u001b[39m\u001b[38;5;241m>\u001b[39m BaseMessage:\n\u001b[0;32m    375\u001b[0m     config \u001b[38;5;241m=\u001b[39m ensure_config(config)\n\u001b[0;32m    376\u001b[0m     \u001b[38;5;28;01mreturn\u001b[39;00m cast(\n\u001b[0;32m    377\u001b[0m         \u001b[38;5;124m\"\u001b[39m\u001b[38;5;124mChatGeneration\u001b[39m\u001b[38;5;124m\"\u001b[39m,\n\u001b[1;32m--> 378\u001b[0m         \u001b[38;5;28;43mself\u001b[39;49m\u001b[38;5;241;43m.\u001b[39;49m\u001b[43mgenerate_prompt\u001b[49m\u001b[43m(\u001b[49m\n\u001b[0;32m    379\u001b[0m \u001b[43m            \u001b[49m\u001b[43m[\u001b[49m\u001b[38;5;28;43mself\u001b[39;49m\u001b[38;5;241;43m.\u001b[39;49m\u001b[43m_convert_input\u001b[49m\u001b[43m(\u001b[49m\u001b[38;5;28;43minput\u001b[39;49m\u001b[43m)\u001b[49m\u001b[43m]\u001b[49m\u001b[43m,\u001b[49m\n\u001b[0;32m    380\u001b[0m \u001b[43m            \u001b[49m\u001b[43mstop\u001b[49m\u001b[38;5;241;43m=\u001b[39;49m\u001b[43mstop\u001b[49m\u001b[43m,\u001b[49m\n\u001b[0;32m    381\u001b[0m \u001b[43m            \u001b[49m\u001b[43mcallbacks\u001b[49m\u001b[38;5;241;43m=\u001b[39;49m\u001b[43mconfig\u001b[49m\u001b[38;5;241;43m.\u001b[39;49m\u001b[43mget\u001b[49m\u001b[43m(\u001b[49m\u001b[38;5;124;43m\"\u001b[39;49m\u001b[38;5;124;43mcallbacks\u001b[39;49m\u001b[38;5;124;43m\"\u001b[39;49m\u001b[43m)\u001b[49m\u001b[43m,\u001b[49m\n\u001b[0;32m    382\u001b[0m \u001b[43m            \u001b[49m\u001b[43mtags\u001b[49m\u001b[38;5;241;43m=\u001b[39;49m\u001b[43mconfig\u001b[49m\u001b[38;5;241;43m.\u001b[39;49m\u001b[43mget\u001b[49m\u001b[43m(\u001b[49m\u001b[38;5;124;43m\"\u001b[39;49m\u001b[38;5;124;43mtags\u001b[39;49m\u001b[38;5;124;43m\"\u001b[39;49m\u001b[43m)\u001b[49m\u001b[43m,\u001b[49m\n\u001b[0;32m    383\u001b[0m \u001b[43m            \u001b[49m\u001b[43mmetadata\u001b[49m\u001b[38;5;241;43m=\u001b[39;49m\u001b[43mconfig\u001b[49m\u001b[38;5;241;43m.\u001b[39;49m\u001b[43mget\u001b[49m\u001b[43m(\u001b[49m\u001b[38;5;124;43m\"\u001b[39;49m\u001b[38;5;124;43mmetadata\u001b[39;49m\u001b[38;5;124;43m\"\u001b[39;49m\u001b[43m)\u001b[49m\u001b[43m,\u001b[49m\n\u001b[0;32m    384\u001b[0m \u001b[43m            \u001b[49m\u001b[43mrun_name\u001b[49m\u001b[38;5;241;43m=\u001b[39;49m\u001b[43mconfig\u001b[49m\u001b[38;5;241;43m.\u001b[39;49m\u001b[43mget\u001b[49m\u001b[43m(\u001b[49m\u001b[38;5;124;43m\"\u001b[39;49m\u001b[38;5;124;43mrun_name\u001b[39;49m\u001b[38;5;124;43m\"\u001b[39;49m\u001b[43m)\u001b[49m\u001b[43m,\u001b[49m\n\u001b[0;32m    385\u001b[0m \u001b[43m            \u001b[49m\u001b[43mrun_id\u001b[49m\u001b[38;5;241;43m=\u001b[39;49m\u001b[43mconfig\u001b[49m\u001b[38;5;241;43m.\u001b[39;49m\u001b[43mpop\u001b[49m\u001b[43m(\u001b[49m\u001b[38;5;124;43m\"\u001b[39;49m\u001b[38;5;124;43mrun_id\u001b[39;49m\u001b[38;5;124;43m\"\u001b[39;49m\u001b[43m,\u001b[49m\u001b[43m \u001b[49m\u001b[38;5;28;43;01mNone\u001b[39;49;00m\u001b[43m)\u001b[49m\u001b[43m,\u001b[49m\n\u001b[0;32m    386\u001b[0m \u001b[43m            \u001b[49m\u001b[38;5;241;43m*\u001b[39;49m\u001b[38;5;241;43m*\u001b[39;49m\u001b[43mkwargs\u001b[49m\u001b[43m,\u001b[49m\n\u001b[0;32m    387\u001b[0m \u001b[43m        \u001b[49m\u001b[43m)\u001b[49m\u001b[38;5;241m.\u001b[39mgenerations[\u001b[38;5;241m0\u001b[39m][\u001b[38;5;241m0\u001b[39m],\n\u001b[0;32m    388\u001b[0m     )\u001b[38;5;241m.\u001b[39mmessage\n",
            "File \u001b[1;32mf:\\Anconda\\Anconda\\envs\\general\\Lib\\site-packages\\langchain_core\\language_models\\chat_models.py:963\u001b[0m, in \u001b[0;36mBaseChatModel.generate_prompt\u001b[1;34m(self, prompts, stop, callbacks, **kwargs)\u001b[0m\n\u001b[0;32m    954\u001b[0m \u001b[38;5;129m@override\u001b[39m\n\u001b[0;32m    955\u001b[0m \u001b[38;5;28;01mdef\u001b[39;00m\u001b[38;5;250m \u001b[39m\u001b[38;5;21mgenerate_prompt\u001b[39m(\n\u001b[0;32m    956\u001b[0m     \u001b[38;5;28mself\u001b[39m,\n\u001b[1;32m   (...)\u001b[0m\n\u001b[0;32m    960\u001b[0m     \u001b[38;5;241m*\u001b[39m\u001b[38;5;241m*\u001b[39mkwargs: Any,\n\u001b[0;32m    961\u001b[0m ) \u001b[38;5;241m-\u001b[39m\u001b[38;5;241m>\u001b[39m LLMResult:\n\u001b[0;32m    962\u001b[0m     prompt_messages \u001b[38;5;241m=\u001b[39m [p\u001b[38;5;241m.\u001b[39mto_messages() \u001b[38;5;28;01mfor\u001b[39;00m p \u001b[38;5;129;01min\u001b[39;00m prompts]\n\u001b[1;32m--> 963\u001b[0m     \u001b[38;5;28;01mreturn\u001b[39;00m \u001b[38;5;28;43mself\u001b[39;49m\u001b[38;5;241;43m.\u001b[39;49m\u001b[43mgenerate\u001b[49m\u001b[43m(\u001b[49m\u001b[43mprompt_messages\u001b[49m\u001b[43m,\u001b[49m\u001b[43m \u001b[49m\u001b[43mstop\u001b[49m\u001b[38;5;241;43m=\u001b[39;49m\u001b[43mstop\u001b[49m\u001b[43m,\u001b[49m\u001b[43m \u001b[49m\u001b[43mcallbacks\u001b[49m\u001b[38;5;241;43m=\u001b[39;49m\u001b[43mcallbacks\u001b[49m\u001b[43m,\u001b[49m\u001b[43m \u001b[49m\u001b[38;5;241;43m*\u001b[39;49m\u001b[38;5;241;43m*\u001b[39;49m\u001b[43mkwargs\u001b[49m\u001b[43m)\u001b[49m\n",
            "File \u001b[1;32mf:\\Anconda\\Anconda\\envs\\general\\Lib\\site-packages\\langchain_core\\language_models\\chat_models.py:782\u001b[0m, in \u001b[0;36mBaseChatModel.generate\u001b[1;34m(self, messages, stop, callbacks, tags, metadata, run_name, run_id, **kwargs)\u001b[0m\n\u001b[0;32m    779\u001b[0m \u001b[38;5;28;01mfor\u001b[39;00m i, m \u001b[38;5;129;01min\u001b[39;00m \u001b[38;5;28menumerate\u001b[39m(input_messages):\n\u001b[0;32m    780\u001b[0m     \u001b[38;5;28;01mtry\u001b[39;00m:\n\u001b[0;32m    781\u001b[0m         results\u001b[38;5;241m.\u001b[39mappend(\n\u001b[1;32m--> 782\u001b[0m             \u001b[38;5;28;43mself\u001b[39;49m\u001b[38;5;241;43m.\u001b[39;49m\u001b[43m_generate_with_cache\u001b[49m\u001b[43m(\u001b[49m\n\u001b[0;32m    783\u001b[0m \u001b[43m                \u001b[49m\u001b[43mm\u001b[49m\u001b[43m,\u001b[49m\n\u001b[0;32m    784\u001b[0m \u001b[43m                \u001b[49m\u001b[43mstop\u001b[49m\u001b[38;5;241;43m=\u001b[39;49m\u001b[43mstop\u001b[49m\u001b[43m,\u001b[49m\n\u001b[0;32m    785\u001b[0m \u001b[43m                \u001b[49m\u001b[43mrun_manager\u001b[49m\u001b[38;5;241;43m=\u001b[39;49m\u001b[43mrun_managers\u001b[49m\u001b[43m[\u001b[49m\u001b[43mi\u001b[49m\u001b[43m]\u001b[49m\u001b[43m \u001b[49m\u001b[38;5;28;43;01mif\u001b[39;49;00m\u001b[43m \u001b[49m\u001b[43mrun_managers\u001b[49m\u001b[43m \u001b[49m\u001b[38;5;28;43;01melse\u001b[39;49;00m\u001b[43m \u001b[49m\u001b[38;5;28;43;01mNone\u001b[39;49;00m\u001b[43m,\u001b[49m\n\u001b[0;32m    786\u001b[0m \u001b[43m                \u001b[49m\u001b[38;5;241;43m*\u001b[39;49m\u001b[38;5;241;43m*\u001b[39;49m\u001b[43mkwargs\u001b[49m\u001b[43m,\u001b[49m\n\u001b[0;32m    787\u001b[0m \u001b[43m            \u001b[49m\u001b[43m)\u001b[49m\n\u001b[0;32m    788\u001b[0m         )\n\u001b[0;32m    789\u001b[0m     \u001b[38;5;28;01mexcept\u001b[39;00m \u001b[38;5;167;01mBaseException\u001b[39;00m \u001b[38;5;28;01mas\u001b[39;00m e:\n\u001b[0;32m    790\u001b[0m         \u001b[38;5;28;01mif\u001b[39;00m run_managers:\n",
            "File \u001b[1;32mf:\\Anconda\\Anconda\\envs\\general\\Lib\\site-packages\\langchain_core\\language_models\\chat_models.py:1028\u001b[0m, in \u001b[0;36mBaseChatModel._generate_with_cache\u001b[1;34m(self, messages, stop, run_manager, **kwargs)\u001b[0m\n\u001b[0;32m   1026\u001b[0m     result \u001b[38;5;241m=\u001b[39m generate_from_stream(\u001b[38;5;28miter\u001b[39m(chunks))\n\u001b[0;32m   1027\u001b[0m \u001b[38;5;28;01melif\u001b[39;00m inspect\u001b[38;5;241m.\u001b[39msignature(\u001b[38;5;28mself\u001b[39m\u001b[38;5;241m.\u001b[39m_generate)\u001b[38;5;241m.\u001b[39mparameters\u001b[38;5;241m.\u001b[39mget(\u001b[38;5;124m\"\u001b[39m\u001b[38;5;124mrun_manager\u001b[39m\u001b[38;5;124m\"\u001b[39m):\n\u001b[1;32m-> 1028\u001b[0m     result \u001b[38;5;241m=\u001b[39m \u001b[38;5;28;43mself\u001b[39;49m\u001b[38;5;241;43m.\u001b[39;49m\u001b[43m_generate\u001b[49m\u001b[43m(\u001b[49m\n\u001b[0;32m   1029\u001b[0m \u001b[43m        \u001b[49m\u001b[43mmessages\u001b[49m\u001b[43m,\u001b[49m\u001b[43m \u001b[49m\u001b[43mstop\u001b[49m\u001b[38;5;241;43m=\u001b[39;49m\u001b[43mstop\u001b[49m\u001b[43m,\u001b[49m\u001b[43m \u001b[49m\u001b[43mrun_manager\u001b[49m\u001b[38;5;241;43m=\u001b[39;49m\u001b[43mrun_manager\u001b[49m\u001b[43m,\u001b[49m\u001b[43m \u001b[49m\u001b[38;5;241;43m*\u001b[39;49m\u001b[38;5;241;43m*\u001b[39;49m\u001b[43mkwargs\u001b[49m\n\u001b[0;32m   1030\u001b[0m \u001b[43m    \u001b[49m\u001b[43m)\u001b[49m\n\u001b[0;32m   1031\u001b[0m \u001b[38;5;28;01melse\u001b[39;00m:\n\u001b[0;32m   1032\u001b[0m     result \u001b[38;5;241m=\u001b[39m \u001b[38;5;28mself\u001b[39m\u001b[38;5;241m.\u001b[39m_generate(messages, stop\u001b[38;5;241m=\u001b[39mstop, \u001b[38;5;241m*\u001b[39m\u001b[38;5;241m*\u001b[39mkwargs)\n",
            "File \u001b[1;32mf:\\Anconda\\Anconda\\envs\\general\\Lib\\site-packages\\langchain_openai\\chat_models\\base.py:1131\u001b[0m, in \u001b[0;36mBaseChatOpenAI._generate\u001b[1;34m(self, messages, stop, run_manager, **kwargs)\u001b[0m\n\u001b[0;32m   1129\u001b[0m     generation_info \u001b[38;5;241m=\u001b[39m {\u001b[38;5;124m\"\u001b[39m\u001b[38;5;124mheaders\u001b[39m\u001b[38;5;124m\"\u001b[39m: \u001b[38;5;28mdict\u001b[39m(raw_response\u001b[38;5;241m.\u001b[39mheaders)}\n\u001b[0;32m   1130\u001b[0m \u001b[38;5;28;01melse\u001b[39;00m:\n\u001b[1;32m-> 1131\u001b[0m     response \u001b[38;5;241m=\u001b[39m \u001b[38;5;28;43mself\u001b[39;49m\u001b[38;5;241;43m.\u001b[39;49m\u001b[43mclient\u001b[49m\u001b[38;5;241;43m.\u001b[39;49m\u001b[43mcreate\u001b[49m\u001b[43m(\u001b[49m\u001b[38;5;241;43m*\u001b[39;49m\u001b[38;5;241;43m*\u001b[39;49m\u001b[43mpayload\u001b[49m\u001b[43m)\u001b[49m\n\u001b[0;32m   1132\u001b[0m \u001b[38;5;28;01mreturn\u001b[39;00m \u001b[38;5;28mself\u001b[39m\u001b[38;5;241m.\u001b[39m_create_chat_result(response, generation_info)\n",
            "File \u001b[1;32mf:\\Anconda\\Anconda\\envs\\general\\Lib\\site-packages\\openai\\_utils\\_utils.py:287\u001b[0m, in \u001b[0;36mrequired_args.<locals>.inner.<locals>.wrapper\u001b[1;34m(*args, **kwargs)\u001b[0m\n\u001b[0;32m    285\u001b[0m             msg \u001b[38;5;241m=\u001b[39m \u001b[38;5;124mf\u001b[39m\u001b[38;5;124m\"\u001b[39m\u001b[38;5;124mMissing required argument: \u001b[39m\u001b[38;5;132;01m{\u001b[39;00mquote(missing[\u001b[38;5;241m0\u001b[39m])\u001b[38;5;132;01m}\u001b[39;00m\u001b[38;5;124m\"\u001b[39m\n\u001b[0;32m    286\u001b[0m     \u001b[38;5;28;01mraise\u001b[39;00m \u001b[38;5;167;01mTypeError\u001b[39;00m(msg)\n\u001b[1;32m--> 287\u001b[0m \u001b[38;5;28;01mreturn\u001b[39;00m \u001b[43mfunc\u001b[49m\u001b[43m(\u001b[49m\u001b[38;5;241;43m*\u001b[39;49m\u001b[43margs\u001b[49m\u001b[43m,\u001b[49m\u001b[43m \u001b[49m\u001b[38;5;241;43m*\u001b[39;49m\u001b[38;5;241;43m*\u001b[39;49m\u001b[43mkwargs\u001b[49m\u001b[43m)\u001b[49m\n",
            "File \u001b[1;32mf:\\Anconda\\Anconda\\envs\\general\\Lib\\site-packages\\openai\\resources\\chat\\completions\\completions.py:1087\u001b[0m, in \u001b[0;36mCompletions.create\u001b[1;34m(self, messages, model, audio, frequency_penalty, function_call, functions, logit_bias, logprobs, max_completion_tokens, max_tokens, metadata, modalities, n, parallel_tool_calls, prediction, presence_penalty, reasoning_effort, response_format, seed, service_tier, stop, store, stream, stream_options, temperature, tool_choice, tools, top_logprobs, top_p, user, web_search_options, extra_headers, extra_query, extra_body, timeout)\u001b[0m\n\u001b[0;32m   1044\u001b[0m \u001b[38;5;129m@required_args\u001b[39m([\u001b[38;5;124m\"\u001b[39m\u001b[38;5;124mmessages\u001b[39m\u001b[38;5;124m\"\u001b[39m, \u001b[38;5;124m\"\u001b[39m\u001b[38;5;124mmodel\u001b[39m\u001b[38;5;124m\"\u001b[39m], [\u001b[38;5;124m\"\u001b[39m\u001b[38;5;124mmessages\u001b[39m\u001b[38;5;124m\"\u001b[39m, \u001b[38;5;124m\"\u001b[39m\u001b[38;5;124mmodel\u001b[39m\u001b[38;5;124m\"\u001b[39m, \u001b[38;5;124m\"\u001b[39m\u001b[38;5;124mstream\u001b[39m\u001b[38;5;124m\"\u001b[39m])\n\u001b[0;32m   1045\u001b[0m \u001b[38;5;28;01mdef\u001b[39;00m\u001b[38;5;250m \u001b[39m\u001b[38;5;21mcreate\u001b[39m(\n\u001b[0;32m   1046\u001b[0m     \u001b[38;5;28mself\u001b[39m,\n\u001b[1;32m   (...)\u001b[0m\n\u001b[0;32m   1084\u001b[0m     timeout: \u001b[38;5;28mfloat\u001b[39m \u001b[38;5;241m|\u001b[39m httpx\u001b[38;5;241m.\u001b[39mTimeout \u001b[38;5;241m|\u001b[39m \u001b[38;5;28;01mNone\u001b[39;00m \u001b[38;5;241m|\u001b[39m NotGiven \u001b[38;5;241m=\u001b[39m NOT_GIVEN,\n\u001b[0;32m   1085\u001b[0m ) \u001b[38;5;241m-\u001b[39m\u001b[38;5;241m>\u001b[39m ChatCompletion \u001b[38;5;241m|\u001b[39m Stream[ChatCompletionChunk]:\n\u001b[0;32m   1086\u001b[0m     validate_response_format(response_format)\n\u001b[1;32m-> 1087\u001b[0m     \u001b[38;5;28;01mreturn\u001b[39;00m \u001b[38;5;28;43mself\u001b[39;49m\u001b[38;5;241;43m.\u001b[39;49m\u001b[43m_post\u001b[49m\u001b[43m(\u001b[49m\n\u001b[0;32m   1088\u001b[0m \u001b[43m        \u001b[49m\u001b[38;5;124;43m\"\u001b[39;49m\u001b[38;5;124;43m/chat/completions\u001b[39;49m\u001b[38;5;124;43m\"\u001b[39;49m\u001b[43m,\u001b[49m\n\u001b[0;32m   1089\u001b[0m \u001b[43m        \u001b[49m\u001b[43mbody\u001b[49m\u001b[38;5;241;43m=\u001b[39;49m\u001b[43mmaybe_transform\u001b[49m\u001b[43m(\u001b[49m\n\u001b[0;32m   1090\u001b[0m \u001b[43m            \u001b[49m\u001b[43m{\u001b[49m\n\u001b[0;32m   1091\u001b[0m \u001b[43m                \u001b[49m\u001b[38;5;124;43m\"\u001b[39;49m\u001b[38;5;124;43mmessages\u001b[39;49m\u001b[38;5;124;43m\"\u001b[39;49m\u001b[43m:\u001b[49m\u001b[43m \u001b[49m\u001b[43mmessages\u001b[49m\u001b[43m,\u001b[49m\n\u001b[0;32m   1092\u001b[0m \u001b[43m                \u001b[49m\u001b[38;5;124;43m\"\u001b[39;49m\u001b[38;5;124;43mmodel\u001b[39;49m\u001b[38;5;124;43m\"\u001b[39;49m\u001b[43m:\u001b[49m\u001b[43m \u001b[49m\u001b[43mmodel\u001b[49m\u001b[43m,\u001b[49m\n\u001b[0;32m   1093\u001b[0m \u001b[43m                \u001b[49m\u001b[38;5;124;43m\"\u001b[39;49m\u001b[38;5;124;43maudio\u001b[39;49m\u001b[38;5;124;43m\"\u001b[39;49m\u001b[43m:\u001b[49m\u001b[43m \u001b[49m\u001b[43maudio\u001b[49m\u001b[43m,\u001b[49m\n\u001b[0;32m   1094\u001b[0m \u001b[43m                \u001b[49m\u001b[38;5;124;43m\"\u001b[39;49m\u001b[38;5;124;43mfrequency_penalty\u001b[39;49m\u001b[38;5;124;43m\"\u001b[39;49m\u001b[43m:\u001b[49m\u001b[43m \u001b[49m\u001b[43mfrequency_penalty\u001b[49m\u001b[43m,\u001b[49m\n\u001b[0;32m   1095\u001b[0m \u001b[43m                \u001b[49m\u001b[38;5;124;43m\"\u001b[39;49m\u001b[38;5;124;43mfunction_call\u001b[39;49m\u001b[38;5;124;43m\"\u001b[39;49m\u001b[43m:\u001b[49m\u001b[43m \u001b[49m\u001b[43mfunction_call\u001b[49m\u001b[43m,\u001b[49m\n\u001b[0;32m   1096\u001b[0m \u001b[43m                \u001b[49m\u001b[38;5;124;43m\"\u001b[39;49m\u001b[38;5;124;43mfunctions\u001b[39;49m\u001b[38;5;124;43m\"\u001b[39;49m\u001b[43m:\u001b[49m\u001b[43m \u001b[49m\u001b[43mfunctions\u001b[49m\u001b[43m,\u001b[49m\n\u001b[0;32m   1097\u001b[0m \u001b[43m                \u001b[49m\u001b[38;5;124;43m\"\u001b[39;49m\u001b[38;5;124;43mlogit_bias\u001b[39;49m\u001b[38;5;124;43m\"\u001b[39;49m\u001b[43m:\u001b[49m\u001b[43m \u001b[49m\u001b[43mlogit_bias\u001b[49m\u001b[43m,\u001b[49m\n\u001b[0;32m   1098\u001b[0m \u001b[43m                \u001b[49m\u001b[38;5;124;43m\"\u001b[39;49m\u001b[38;5;124;43mlogprobs\u001b[39;49m\u001b[38;5;124;43m\"\u001b[39;49m\u001b[43m:\u001b[49m\u001b[43m \u001b[49m\u001b[43mlogprobs\u001b[49m\u001b[43m,\u001b[49m\n\u001b[0;32m   1099\u001b[0m \u001b[43m                \u001b[49m\u001b[38;5;124;43m\"\u001b[39;49m\u001b[38;5;124;43mmax_completion_tokens\u001b[39;49m\u001b[38;5;124;43m\"\u001b[39;49m\u001b[43m:\u001b[49m\u001b[43m \u001b[49m\u001b[43mmax_completion_tokens\u001b[49m\u001b[43m,\u001b[49m\n\u001b[0;32m   1100\u001b[0m \u001b[43m                \u001b[49m\u001b[38;5;124;43m\"\u001b[39;49m\u001b[38;5;124;43mmax_tokens\u001b[39;49m\u001b[38;5;124;43m\"\u001b[39;49m\u001b[43m:\u001b[49m\u001b[43m \u001b[49m\u001b[43mmax_tokens\u001b[49m\u001b[43m,\u001b[49m\n\u001b[0;32m   1101\u001b[0m \u001b[43m                \u001b[49m\u001b[38;5;124;43m\"\u001b[39;49m\u001b[38;5;124;43mmetadata\u001b[39;49m\u001b[38;5;124;43m\"\u001b[39;49m\u001b[43m:\u001b[49m\u001b[43m \u001b[49m\u001b[43mmetadata\u001b[49m\u001b[43m,\u001b[49m\n\u001b[0;32m   1102\u001b[0m \u001b[43m                \u001b[49m\u001b[38;5;124;43m\"\u001b[39;49m\u001b[38;5;124;43mmodalities\u001b[39;49m\u001b[38;5;124;43m\"\u001b[39;49m\u001b[43m:\u001b[49m\u001b[43m \u001b[49m\u001b[43mmodalities\u001b[49m\u001b[43m,\u001b[49m\n\u001b[0;32m   1103\u001b[0m \u001b[43m                \u001b[49m\u001b[38;5;124;43m\"\u001b[39;49m\u001b[38;5;124;43mn\u001b[39;49m\u001b[38;5;124;43m\"\u001b[39;49m\u001b[43m:\u001b[49m\u001b[43m \u001b[49m\u001b[43mn\u001b[49m\u001b[43m,\u001b[49m\n\u001b[0;32m   1104\u001b[0m \u001b[43m                \u001b[49m\u001b[38;5;124;43m\"\u001b[39;49m\u001b[38;5;124;43mparallel_tool_calls\u001b[39;49m\u001b[38;5;124;43m\"\u001b[39;49m\u001b[43m:\u001b[49m\u001b[43m \u001b[49m\u001b[43mparallel_tool_calls\u001b[49m\u001b[43m,\u001b[49m\n\u001b[0;32m   1105\u001b[0m \u001b[43m                \u001b[49m\u001b[38;5;124;43m\"\u001b[39;49m\u001b[38;5;124;43mprediction\u001b[39;49m\u001b[38;5;124;43m\"\u001b[39;49m\u001b[43m:\u001b[49m\u001b[43m \u001b[49m\u001b[43mprediction\u001b[49m\u001b[43m,\u001b[49m\n\u001b[0;32m   1106\u001b[0m \u001b[43m                \u001b[49m\u001b[38;5;124;43m\"\u001b[39;49m\u001b[38;5;124;43mpresence_penalty\u001b[39;49m\u001b[38;5;124;43m\"\u001b[39;49m\u001b[43m:\u001b[49m\u001b[43m \u001b[49m\u001b[43mpresence_penalty\u001b[49m\u001b[43m,\u001b[49m\n\u001b[0;32m   1107\u001b[0m \u001b[43m                \u001b[49m\u001b[38;5;124;43m\"\u001b[39;49m\u001b[38;5;124;43mreasoning_effort\u001b[39;49m\u001b[38;5;124;43m\"\u001b[39;49m\u001b[43m:\u001b[49m\u001b[43m \u001b[49m\u001b[43mreasoning_effort\u001b[49m\u001b[43m,\u001b[49m\n\u001b[0;32m   1108\u001b[0m \u001b[43m                \u001b[49m\u001b[38;5;124;43m\"\u001b[39;49m\u001b[38;5;124;43mresponse_format\u001b[39;49m\u001b[38;5;124;43m\"\u001b[39;49m\u001b[43m:\u001b[49m\u001b[43m \u001b[49m\u001b[43mresponse_format\u001b[49m\u001b[43m,\u001b[49m\n\u001b[0;32m   1109\u001b[0m \u001b[43m                \u001b[49m\u001b[38;5;124;43m\"\u001b[39;49m\u001b[38;5;124;43mseed\u001b[39;49m\u001b[38;5;124;43m\"\u001b[39;49m\u001b[43m:\u001b[49m\u001b[43m \u001b[49m\u001b[43mseed\u001b[49m\u001b[43m,\u001b[49m\n\u001b[0;32m   1110\u001b[0m \u001b[43m                \u001b[49m\u001b[38;5;124;43m\"\u001b[39;49m\u001b[38;5;124;43mservice_tier\u001b[39;49m\u001b[38;5;124;43m\"\u001b[39;49m\u001b[43m:\u001b[49m\u001b[43m \u001b[49m\u001b[43mservice_tier\u001b[49m\u001b[43m,\u001b[49m\n\u001b[0;32m   1111\u001b[0m \u001b[43m                \u001b[49m\u001b[38;5;124;43m\"\u001b[39;49m\u001b[38;5;124;43mstop\u001b[39;49m\u001b[38;5;124;43m\"\u001b[39;49m\u001b[43m:\u001b[49m\u001b[43m \u001b[49m\u001b[43mstop\u001b[49m\u001b[43m,\u001b[49m\n\u001b[0;32m   1112\u001b[0m \u001b[43m                \u001b[49m\u001b[38;5;124;43m\"\u001b[39;49m\u001b[38;5;124;43mstore\u001b[39;49m\u001b[38;5;124;43m\"\u001b[39;49m\u001b[43m:\u001b[49m\u001b[43m \u001b[49m\u001b[43mstore\u001b[49m\u001b[43m,\u001b[49m\n\u001b[0;32m   1113\u001b[0m \u001b[43m                \u001b[49m\u001b[38;5;124;43m\"\u001b[39;49m\u001b[38;5;124;43mstream\u001b[39;49m\u001b[38;5;124;43m\"\u001b[39;49m\u001b[43m:\u001b[49m\u001b[43m \u001b[49m\u001b[43mstream\u001b[49m\u001b[43m,\u001b[49m\n\u001b[0;32m   1114\u001b[0m \u001b[43m                \u001b[49m\u001b[38;5;124;43m\"\u001b[39;49m\u001b[38;5;124;43mstream_options\u001b[39;49m\u001b[38;5;124;43m\"\u001b[39;49m\u001b[43m:\u001b[49m\u001b[43m \u001b[49m\u001b[43mstream_options\u001b[49m\u001b[43m,\u001b[49m\n\u001b[0;32m   1115\u001b[0m \u001b[43m                \u001b[49m\u001b[38;5;124;43m\"\u001b[39;49m\u001b[38;5;124;43mtemperature\u001b[39;49m\u001b[38;5;124;43m\"\u001b[39;49m\u001b[43m:\u001b[49m\u001b[43m \u001b[49m\u001b[43mtemperature\u001b[49m\u001b[43m,\u001b[49m\n\u001b[0;32m   1116\u001b[0m \u001b[43m                \u001b[49m\u001b[38;5;124;43m\"\u001b[39;49m\u001b[38;5;124;43mtool_choice\u001b[39;49m\u001b[38;5;124;43m\"\u001b[39;49m\u001b[43m:\u001b[49m\u001b[43m \u001b[49m\u001b[43mtool_choice\u001b[49m\u001b[43m,\u001b[49m\n\u001b[0;32m   1117\u001b[0m \u001b[43m                \u001b[49m\u001b[38;5;124;43m\"\u001b[39;49m\u001b[38;5;124;43mtools\u001b[39;49m\u001b[38;5;124;43m\"\u001b[39;49m\u001b[43m:\u001b[49m\u001b[43m \u001b[49m\u001b[43mtools\u001b[49m\u001b[43m,\u001b[49m\n\u001b[0;32m   1118\u001b[0m \u001b[43m                \u001b[49m\u001b[38;5;124;43m\"\u001b[39;49m\u001b[38;5;124;43mtop_logprobs\u001b[39;49m\u001b[38;5;124;43m\"\u001b[39;49m\u001b[43m:\u001b[49m\u001b[43m \u001b[49m\u001b[43mtop_logprobs\u001b[49m\u001b[43m,\u001b[49m\n\u001b[0;32m   1119\u001b[0m \u001b[43m                \u001b[49m\u001b[38;5;124;43m\"\u001b[39;49m\u001b[38;5;124;43mtop_p\u001b[39;49m\u001b[38;5;124;43m\"\u001b[39;49m\u001b[43m:\u001b[49m\u001b[43m \u001b[49m\u001b[43mtop_p\u001b[49m\u001b[43m,\u001b[49m\n\u001b[0;32m   1120\u001b[0m \u001b[43m                \u001b[49m\u001b[38;5;124;43m\"\u001b[39;49m\u001b[38;5;124;43muser\u001b[39;49m\u001b[38;5;124;43m\"\u001b[39;49m\u001b[43m:\u001b[49m\u001b[43m \u001b[49m\u001b[43muser\u001b[49m\u001b[43m,\u001b[49m\n\u001b[0;32m   1121\u001b[0m \u001b[43m                \u001b[49m\u001b[38;5;124;43m\"\u001b[39;49m\u001b[38;5;124;43mweb_search_options\u001b[39;49m\u001b[38;5;124;43m\"\u001b[39;49m\u001b[43m:\u001b[49m\u001b[43m \u001b[49m\u001b[43mweb_search_options\u001b[49m\u001b[43m,\u001b[49m\n\u001b[0;32m   1122\u001b[0m \u001b[43m            \u001b[49m\u001b[43m}\u001b[49m\u001b[43m,\u001b[49m\n\u001b[0;32m   1123\u001b[0m \u001b[43m            \u001b[49m\u001b[43mcompletion_create_params\u001b[49m\u001b[38;5;241;43m.\u001b[39;49m\u001b[43mCompletionCreateParamsStreaming\u001b[49m\n\u001b[0;32m   1124\u001b[0m \u001b[43m            \u001b[49m\u001b[38;5;28;43;01mif\u001b[39;49;00m\u001b[43m \u001b[49m\u001b[43mstream\u001b[49m\n\u001b[0;32m   1125\u001b[0m \u001b[43m            \u001b[49m\u001b[38;5;28;43;01melse\u001b[39;49;00m\u001b[43m \u001b[49m\u001b[43mcompletion_create_params\u001b[49m\u001b[38;5;241;43m.\u001b[39;49m\u001b[43mCompletionCreateParamsNonStreaming\u001b[49m\u001b[43m,\u001b[49m\n\u001b[0;32m   1126\u001b[0m \u001b[43m        \u001b[49m\u001b[43m)\u001b[49m\u001b[43m,\u001b[49m\n\u001b[0;32m   1127\u001b[0m \u001b[43m        \u001b[49m\u001b[43moptions\u001b[49m\u001b[38;5;241;43m=\u001b[39;49m\u001b[43mmake_request_options\u001b[49m\u001b[43m(\u001b[49m\n\u001b[0;32m   1128\u001b[0m \u001b[43m            \u001b[49m\u001b[43mextra_headers\u001b[49m\u001b[38;5;241;43m=\u001b[39;49m\u001b[43mextra_headers\u001b[49m\u001b[43m,\u001b[49m\u001b[43m \u001b[49m\u001b[43mextra_query\u001b[49m\u001b[38;5;241;43m=\u001b[39;49m\u001b[43mextra_query\u001b[49m\u001b[43m,\u001b[49m\u001b[43m \u001b[49m\u001b[43mextra_body\u001b[49m\u001b[38;5;241;43m=\u001b[39;49m\u001b[43mextra_body\u001b[49m\u001b[43m,\u001b[49m\u001b[43m \u001b[49m\u001b[43mtimeout\u001b[49m\u001b[38;5;241;43m=\u001b[39;49m\u001b[43mtimeout\u001b[49m\n\u001b[0;32m   1129\u001b[0m \u001b[43m        \u001b[49m\u001b[43m)\u001b[49m\u001b[43m,\u001b[49m\n\u001b[0;32m   1130\u001b[0m \u001b[43m        \u001b[49m\u001b[43mcast_to\u001b[49m\u001b[38;5;241;43m=\u001b[39;49m\u001b[43mChatCompletion\u001b[49m\u001b[43m,\u001b[49m\n\u001b[0;32m   1131\u001b[0m \u001b[43m        \u001b[49m\u001b[43mstream\u001b[49m\u001b[38;5;241;43m=\u001b[39;49m\u001b[43mstream\u001b[49m\u001b[43m \u001b[49m\u001b[38;5;129;43;01mor\u001b[39;49;00m\u001b[43m \u001b[49m\u001b[38;5;28;43;01mFalse\u001b[39;49;00m\u001b[43m,\u001b[49m\n\u001b[0;32m   1132\u001b[0m \u001b[43m        \u001b[49m\u001b[43mstream_cls\u001b[49m\u001b[38;5;241;43m=\u001b[39;49m\u001b[43mStream\u001b[49m\u001b[43m[\u001b[49m\u001b[43mChatCompletionChunk\u001b[49m\u001b[43m]\u001b[49m\u001b[43m,\u001b[49m\n\u001b[0;32m   1133\u001b[0m \u001b[43m    \u001b[49m\u001b[43m)\u001b[49m\n",
            "File \u001b[1;32mf:\\Anconda\\Anconda\\envs\\general\\Lib\\site-packages\\openai\\_base_client.py:1256\u001b[0m, in \u001b[0;36mSyncAPIClient.post\u001b[1;34m(self, path, cast_to, body, options, files, stream, stream_cls)\u001b[0m\n\u001b[0;32m   1242\u001b[0m \u001b[38;5;28;01mdef\u001b[39;00m\u001b[38;5;250m \u001b[39m\u001b[38;5;21mpost\u001b[39m(\n\u001b[0;32m   1243\u001b[0m     \u001b[38;5;28mself\u001b[39m,\n\u001b[0;32m   1244\u001b[0m     path: \u001b[38;5;28mstr\u001b[39m,\n\u001b[1;32m   (...)\u001b[0m\n\u001b[0;32m   1251\u001b[0m     stream_cls: \u001b[38;5;28mtype\u001b[39m[_StreamT] \u001b[38;5;241m|\u001b[39m \u001b[38;5;28;01mNone\u001b[39;00m \u001b[38;5;241m=\u001b[39m \u001b[38;5;28;01mNone\u001b[39;00m,\n\u001b[0;32m   1252\u001b[0m ) \u001b[38;5;241m-\u001b[39m\u001b[38;5;241m>\u001b[39m ResponseT \u001b[38;5;241m|\u001b[39m _StreamT:\n\u001b[0;32m   1253\u001b[0m     opts \u001b[38;5;241m=\u001b[39m FinalRequestOptions\u001b[38;5;241m.\u001b[39mconstruct(\n\u001b[0;32m   1254\u001b[0m         method\u001b[38;5;241m=\u001b[39m\u001b[38;5;124m\"\u001b[39m\u001b[38;5;124mpost\u001b[39m\u001b[38;5;124m\"\u001b[39m, url\u001b[38;5;241m=\u001b[39mpath, json_data\u001b[38;5;241m=\u001b[39mbody, files\u001b[38;5;241m=\u001b[39mto_httpx_files(files), \u001b[38;5;241m*\u001b[39m\u001b[38;5;241m*\u001b[39moptions\n\u001b[0;32m   1255\u001b[0m     )\n\u001b[1;32m-> 1256\u001b[0m     \u001b[38;5;28;01mreturn\u001b[39;00m cast(ResponseT, \u001b[38;5;28;43mself\u001b[39;49m\u001b[38;5;241;43m.\u001b[39;49m\u001b[43mrequest\u001b[49m\u001b[43m(\u001b[49m\u001b[43mcast_to\u001b[49m\u001b[43m,\u001b[49m\u001b[43m \u001b[49m\u001b[43mopts\u001b[49m\u001b[43m,\u001b[49m\u001b[43m \u001b[49m\u001b[43mstream\u001b[49m\u001b[38;5;241;43m=\u001b[39;49m\u001b[43mstream\u001b[49m\u001b[43m,\u001b[49m\u001b[43m \u001b[49m\u001b[43mstream_cls\u001b[49m\u001b[38;5;241;43m=\u001b[39;49m\u001b[43mstream_cls\u001b[49m\u001b[43m)\u001b[49m)\n",
            "File \u001b[1;32mf:\\Anconda\\Anconda\\envs\\general\\Lib\\site-packages\\openai\\_base_client.py:1044\u001b[0m, in \u001b[0;36mSyncAPIClient.request\u001b[1;34m(self, cast_to, options, stream, stream_cls)\u001b[0m\n\u001b[0;32m   1041\u001b[0m             err\u001b[38;5;241m.\u001b[39mresponse\u001b[38;5;241m.\u001b[39mread()\n\u001b[0;32m   1043\u001b[0m         log\u001b[38;5;241m.\u001b[39mdebug(\u001b[38;5;124m\"\u001b[39m\u001b[38;5;124mRe-raising status error\u001b[39m\u001b[38;5;124m\"\u001b[39m)\n\u001b[1;32m-> 1044\u001b[0m         \u001b[38;5;28;01mraise\u001b[39;00m \u001b[38;5;28mself\u001b[39m\u001b[38;5;241m.\u001b[39m_make_status_error_from_response(err\u001b[38;5;241m.\u001b[39mresponse) \u001b[38;5;28;01mfrom\u001b[39;00m\u001b[38;5;250m \u001b[39m\u001b[38;5;28;01mNone\u001b[39;00m\n\u001b[0;32m   1046\u001b[0m     \u001b[38;5;28;01mbreak\u001b[39;00m\n\u001b[0;32m   1048\u001b[0m \u001b[38;5;28;01massert\u001b[39;00m response \u001b[38;5;129;01mis\u001b[39;00m \u001b[38;5;129;01mnot\u001b[39;00m \u001b[38;5;28;01mNone\u001b[39;00m, \u001b[38;5;124m\"\u001b[39m\u001b[38;5;124mcould not resolve response (should never happen)\u001b[39m\u001b[38;5;124m\"\u001b[39m\n",
            "\u001b[1;31mRateLimitError\u001b[0m: Error code: 429 - {'error': {'message': 'You exceeded your current requests list.', 'type': 'limit_requests', 'param': None, 'code': 'limit_requests'}, 'request_id': '9eee31d6-4f19-952f-a95a-f5dda4c15f73'}",
            "\u001b[0mDuring task with name 'ask_question' and id 'ffad4077-1b62-c716-4494-3a875230845e'",
            "\u001b[0mDuring task with name 'conduct_interview' and id '111a56b5-2f55-f71f-275a-a31e491371bd'"
          ]
        }
      ],
      "source": [
        "# Continue\n",
        "for event in graph.stream(None, thread, stream_mode=\"updates\"):\n",
        "    print(\"--Node--\")\n",
        "    node_name = next(iter(event.keys()))\n",
        "    print(node_name)"
      ]
    },
    {
      "cell_type": "code",
      "execution_count": 64,
      "id": "f8f66ad8-80fd-4eb2-96b6-6ae9dffd060c",
      "metadata": {},
      "outputs": [
        {
          "data": {
            "text/plain": [
              "<IPython.core.display.Markdown object>"
            ]
          },
          "execution_count": 64,
          "metadata": {},
          "output_type": "execute_result"
        }
      ],
      "source": [
        "from IPython.display import Markdown\n",
        "final_state = graph.get_state(thread)\n",
        "report = final_state.values.get('final_report')\n",
        "Markdown(report)"
      ]
    },
    {
      "cell_type": "markdown",
      "id": "e9bf8edd-fb42-496c-9bdb-3f5d7b4d79d3",
      "metadata": {},
      "source": [
        "We can look at the trace:\n",
        "\n",
        "我们可以查看轨迹：\n",
        "\n",
        "https://smith.langchain.com/public/2933a7bb-bcef-4d2d-9b85-cc735b22ca0c/r\n"
      ]
    },
    {
      "cell_type": "code",
      "execution_count": null,
      "id": "808bd094",
      "metadata": {},
      "outputs": [],
      "source": []
    }
  ],
  "metadata": {
    "kernelspec": {
      "display_name": "Python 3",
      "language": "python",
      "name": "python3"
    },
    "language_info": {
      "codemirror_mode": {
        "name": "ipython",
        "version": 3
      },
      "file_extension": ".py",
      "mimetype": "text/x-python",
      "name": "python",
      "nbconvert_exporter": "python",
      "pygments_lexer": "ipython3",
      "version": "3.11.1"
    }
  },
  "nbformat": 4,
  "nbformat_minor": 5
}
