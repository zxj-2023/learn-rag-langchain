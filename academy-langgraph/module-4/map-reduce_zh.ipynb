{
  "cells": [
    {
      "cell_type": "markdown",
      "id": "4cd4f701",
      "metadata": {},
      "source": [
        "[PROTECTED$11$](https://colab.research.google.com/github/langchain-ai/langchain-academy/blob/main/module-4/map-reduce.ipynb) [PROTECTED$12$](https://academy.langchain.com/courses/take/intro-to-langgraph/lessons/58239947-lesson-3-map-reduce)\n",
        "\n"
      ]
    },
    {
      "cell_type": "markdown",
      "id": "36737349-c949-4d64-9aa3-3767cbd02ad1",
      "metadata": {},
      "source": [
        "# 映射-归约（Map-reduce）\n",
        "\n",
        "## 评论（Review）\n",
        "\n",
        "We're building up to a multi-agent research assistant that ties together all of the modules from this course.\n",
        "\n",
        "我们正在构建一个多功能的研究助手，它将本课程中的所有模块串联起来。\n",
        "\n",
        "To build this multi-agent assistant, we've been introducing a few LangGraph controllability topics.\n",
        "We just covered parallelization and sub-graphs.\n",
        "\n",
        "我们刚刚介绍了并行化和子图。\n",
        "\n",
        "## 目标（Goals）\n",
        "\n",
        "Now, we're going to cover [map reduce](https://langchain-ai.github.io/langgraph/how-tos/map-reduce/).\n",
        "\n",
        "现在，我们将要讲解 [map reduce](https://langchain-ai.github.io/langgraph/how-tos/map-reduce/)。\n",
        "\n"
      ]
    },
    {
      "cell_type": "code",
      "execution_count": null,
      "id": "f24e95c8",
      "metadata": {},
      "outputs": [],
      "source": [
        "%%capture --no-stderr\n",
        "%pip install -U langchain_openai langgraph"
      ]
    },
    {
      "cell_type": "code",
      "execution_count": 1,
      "id": "ff57cbf7",
      "metadata": {},
      "outputs": [],
      "source": [
        "import os, getpass\n",
        "\n",
        "def _set_env(var: str):\n",
        "    if not os.environ.get(var):\n",
        "        os.environ[var] = getpass.getpass(f\"{var}: \")\n",
        "\n",
        "_set_env(\"OPENAI_API_KEY\")"
      ]
    },
    {
      "cell_type": "markdown",
      "id": "cbcd868a",
      "metadata": {},
      "source": [
        "We'll use [LangSmith](https://docs.smith.langchain.com/) for [tracing](https://docs.smith.langchain.com/concepts/tracing).\n",
        "\n",
        "我们将使用 [LangSmith](https://docs.smith.langchain.com/) 用于 [tracing](https://docs.smith.langchain.com/concepts/tracing)。\n",
        "\n"
      ]
    },
    {
      "cell_type": "code",
      "execution_count": 3,
      "id": "9fdc647f",
      "metadata": {},
      "outputs": [],
      "source": [
        "_set_env(\"LANGSMITH_API_KEY\")\n",
        "os.environ[\"LANGSMITH_TRACING\"] = \"true\"\n",
        "os.environ[\"LANGSMITH_PROJECT\"] = \"langchain-academy\""
      ]
    },
    {
      "cell_type": "markdown",
      "id": "2bbe9b9f-4375-4bca-8e32-7d57cb861469",
      "metadata": {},
      "source": [
        "## 问题（Problem）\n",
        "\n",
        "Map-reduce operations are essential for efficient task decomposition and parallel processing. \n",
        "\n",
        "映射-归约操作对于高效的任务分解和并行处理至关重要。\n",
        "\n",
        "It has two phases:\n",
        "\n",
        "它有两个阶段：\n",
        "\n",
        "(1) `Map` - Break a task into smaller sub-tasks, processing each sub-task in parallel.\n",
        "\n",
        "`Map` - 将任务分解为更小的子任务，并行处理每个子任务。\n",
        "\n",
        "(2) `Reduce` - Aggregate the results across all of the completed, parallelized sub-tasks.\n",
        "\n",
        "(2) `Reduce` - 汇总所有已完成的并行子任务的结果。\n",
        "\n",
        "Let's design a system that will do two things:\n",
        "\n",
        "让我们设计一个系统，该系统将完成两件事情：\n",
        "\n",
        "(1) `Map` - Create a set of jokes about a topic.\n",
        "(2) `Reduce` - Pick the best joke from the list.\n",
        "\n",
        "(2) `Reduce` - 从列表中挑选最好的笑话。\n",
        "\n",
        "We'll use an LLM to do the job generation and selection.\n",
        "\n",
        "我们将使用 LLM 来进行任务生成和选择。\n",
        "\n"
      ]
    },
    {
      "cell_type": "code",
      "execution_count": 29,
      "id": "994cf903-1ed6-4ae2-b32a-7891a2808f81",
      "metadata": {},
      "outputs": [],
      "source": [
        "from langchain_openai import ChatOpenAI\n",
        "\n",
        "# Prompts we will use\n",
        "subjects_prompt = \"\"\"生成一个包含3个子主题的列表，这些子主题都与以下总体主题相关：{topic}。返回一个JSON对象，其中包含一个'subjects'键，其值为字符串列表。\"\"\"\n",
        "joke_prompt = \"\"\"生成一个关于{subject}的笑话。返回一个JSON对象，其中包含一个'joke'键，其值为字符串。\"\"\"\n",
        "best_joke_prompt = \"\"\"以下是关于 {topic} 的一组笑话。请选出最棒的一个！返回最佳笑话的 ID，第一个笑话的 ID 为 0。响应必须是一个 JSON 对象，且仅包含一个键 'id'，其值为整数 ID。笑话：\\n\\n  {jokes}\"\"\"\n",
        "# LLM\n",
        "model = ChatOpenAI(\n",
        "    model=\"qwen-plus-2025-04-28\",\n",
        "    api_key=\"sk-ba2dda3817f145d7af141fdf32e31d90\",\n",
        "    base_url=\"https://dashscope.aliyuncs.com/compatible-mode/v1\"\n",
        ")"
      ]
    },
    {
      "cell_type": "markdown",
      "id": "f3b883cc-3469-4e96-b1a4-deadf7bf3ce5",
      "metadata": {},
      "source": [
        "## 状态（State）\n",
        "\n",
        "### 并行化笑话生成（Parallelizing joke generation）\n",
        "\n",
        "First, let's define the entry point of the graph that will:\n",
        "\n",
        "首先，让我们定义图的入口点，它将：\n",
        "\n",
        "* Take a user input topic\n",
        "* Produce a list of joke topics from it\n",
        "* Send each joke topic to our above joke generation node\n",
        "\n",
        "*接收用户输入的主题* 从该主题生成一系列笑话主题  \n",
        "* 将每个笑话主题发送到我们上述的笑话生成节点\n",
        "\n",
        "Our state has a `jokes` key, which will accumulate jokes from parallelized joke generation\n",
        "\n",
        "我们的状态有一个 `jokes` 键，它将累积来自并行化笑话生成的笑话。\n",
        "\n"
      ]
    },
    {
      "cell_type": "code",
      "execution_count": 9,
      "id": "099218ca-ee78-4291-95a1-87ee61382e3b",
      "metadata": {},
      "outputs": [],
      "source": [
        "import operator\n",
        "from typing import Annotated\n",
        "from typing_extensions import TypedDict\n",
        "from pydantic import BaseModel\n",
        "\n",
        "class Subjects(BaseModel):\n",
        "    \"\"\"定义一个Pydantic模型，用于表示主题列表。\"\"\"\n",
        "    subjects: list[str] # 主题字符串列表\n",
        "\n",
        "class BestJoke(BaseModel):\n",
        "    \"\"\"定义一个Pydantic模型，用于表示最佳笑话的ID。\"\"\"\n",
        "    id: int # 最佳笑话的索引ID\n",
        "    \n",
        "class OverallState(TypedDict):\n",
        "    \"\"\"定义整个图的总体状态，使用TypedDict以便于类型提示和状态管理。\"\"\"\n",
        "    topic: str # 当前讨论的主题\n",
        "    subjects: list # 生成的子主题列表\n",
        "    jokes: Annotated[list, operator.add] # 笑话列表，使用operator.add表示列表内容会累加而不是覆盖\n",
        "    best_selected_joke: str # 最终选出的最佳笑话"
      ]
    },
    {
      "cell_type": "markdown",
      "id": "c7176d1c-4a88-4b0f-a960-ee04a45279bd",
      "metadata": {},
      "source": [
        "Generate subjects for jokes.\n",
        "\n",
        "生成笑话的主题。\n",
        "\n"
      ]
    },
    {
      "cell_type": "code",
      "execution_count": 10,
      "id": "45010efd-ad31-4daa-b77e-aaec79ef0309",
      "metadata": {},
      "outputs": [],
      "source": [
        "#用于生成主题\n",
        "def generate_topics(state: OverallState):\n",
        "    #使用 Python 的 format() 方法来构建一个提示字符串（ prompt ）\n",
        "    prompt = subjects_prompt.format(topic=state[\"topic\"])\n",
        "    #.with_structured_output(Subjects) 它指示模型尝试将其输出格式化为 Subjects 类\n",
        "    response = model.with_structured_output(Subjects).invoke(prompt)\n",
        "    return {\"subjects\": response.subjects}"
      ]
    },
    {
      "cell_type": "code",
      "execution_count": 10,
      "id": "9cc684bc",
      "metadata": {},
      "outputs": [
        {
          "name": "stdout",
          "output_type": "stream",
          "text": [
            "生成一个包含3个子主题的列表，这些子主题都与以下总体主题相关：ai。\n"
          ]
        }
      ],
      "source": [
        "prompt = subjects_prompt.format(topic=\"ai\")\n",
        "print(prompt)"
      ]
    },
    {
      "cell_type": "code",
      "execution_count": 11,
      "id": "1cbfcc17",
      "metadata": {},
      "outputs": [
        {
          "name": "stdout",
          "output_type": "stream",
          "text": [
            "first=RunnableBinding(bound=ChatOpenAI(client=<openai.resources.chat.completions.completions.Completions object at 0x7f38c3677490>, async_client=<openai.resources.chat.completions.completions.AsyncCompletions object at 0x7f38c30eac90>, root_client=<openai.OpenAI object at 0x7f38c3811790>, root_async_client=<openai.AsyncOpenAI object at 0x7f38c30ea890>, model_name='qwen-plus-2025-04-28', model_kwargs={}, openai_api_key=SecretStr('**********'), openai_api_base='https://dashscope.aliyuncs.com/compatible-mode/v1'), kwargs={'response_format': <class '__main__.Subjects'>, 'ls_structured_output_format': {'kwargs': {'method': 'json_schema', 'strict': None}, 'schema': {'type': 'function', 'function': {'name': 'Subjects', 'description': '定义一个Pydantic模型，用于表示主题列表。', 'parameters': {'properties': {'subjects': {'items': {'type': 'string'}, 'type': 'array'}}, 'required': ['subjects'], 'type': 'object'}}}}}, config={}, config_factories=[]) middle=[] last=RunnableBinding(bound=RunnableLambda(...), kwargs={}, config={}, config_factories=[], custom_output_type=<class '__main__.Subjects'>)\n"
          ]
        }
      ],
      "source": [
        "print(model.with_structured_output(Subjects))"
      ]
    },
    {
      "cell_type": "code",
      "execution_count": 7,
      "id": "01da8f60",
      "metadata": {},
      "outputs": [],
      "source": [
        "subjects_prompt =\"\"\"生成3个与主题{topic}相关的子主题。返回一个JSON对象，其中包含一个'subjects'键，其值为字符串列表。\"\"\"\n",
        "#使用 Python 的 format() 方法来构建一个提示字符串（ prompt ）\n",
        "prompt = subjects_prompt.format(topic=\"ai\")\n",
        "#.with_structured_output(Subjects) 它指示模型尝试将其输出格式化为 Subjects 类\n",
        "response = model.with_structured_output(Subjects).invoke(prompt)"
      ]
    },
    {
      "cell_type": "code",
      "execution_count": 13,
      "id": "b96bd0e4",
      "metadata": {},
      "outputs": [
        {
          "data": {
            "text/plain": [
              "Subjects(subjects=['人工智能伦理', '机器学习算法', '自然语言处理'])"
            ]
          },
          "execution_count": 13,
          "metadata": {},
          "output_type": "execute_result"
        }
      ],
      "source": [
        "response"
      ]
    },
    {
      "cell_type": "markdown",
      "id": "e5296bb0-c163-4e5c-8181-1e305b37442a",
      "metadata": {},
      "source": [
        "Here is the magic: we use the [Send](https://langchain-ai.github.io/langgraph/concepts/low_level/#send) to create a joke for each subject.\n",
        "\n",
        "这就是关键所在：我们使用 [Send](https://langchain-ai.github.io/langgraph/concepts/low_level/#send) 为每个主题创建一个笑话。\n",
        "\n",
        "This is very useful! It can automatically parallelize joke generation for any number of subjects.\n",
        "\n",
        "这非常有用！它可以自动为任意数量的主题并行生成笑话。\n",
        "\n",
        "* `generate_joke`: the name of the node in the graph\n",
        "* `{\"subject\": s`}: the state to send\n",
        "\n",
        "*`generate_joke`: 图中节点的名称* `{\"subject\": s`}: 要发送的状态\n",
        "\n",
        "`Send` allow you to pass any state that you want to `generate_joke`! It does not have to align with `OverallState`.\n",
        "\n",
        "`Send` 允许您传递任何想要的状态给 `generate_joke`！它不需要与 `OverallState` 保持一致。\n",
        "\n",
        "In this case, `generate_joke` is using its own internal state, and we can populate this via `Send`.\n",
        "\n",
        "在这种情况下，`generate_joke` 使用其自身的内部状态，我们可以通过 `Send` 来填充它。\n",
        "\n"
      ]
    },
    {
      "cell_type": "code",
      "execution_count": 11,
      "id": "bc83e575-11f6-41a9-990a-adb571bcda06",
      "metadata": {},
      "outputs": [],
      "source": [
        "from langgraph.types import Send\n",
        "def continue_to_jokes(state: OverallState):\n",
        "    # 该函数根据当前状态中的主题列表，为每个主题生成一个 Send 对象。\n",
        "    # 每个 Send 对象都指示图将数据发送到名为 \"generate_joke\" 的节点，\n",
        "    # 并将当前主题作为 \"subject\" 参数传递，从而实现并行生成笑话。\n",
        "    return [Send(\"generate_joke\", {\"subject\": s}) for s in state[\"subjects\"]]"
      ]
    },
    {
      "cell_type": "markdown",
      "id": "9847192d-d358-411e-90c0-f06be0738717",
      "metadata": {},
      "source": [
        "### 笑话生成（映射）（Joke generation (map)）\n",
        "\n",
        "Now, we just define a node that will create our jokes, `generate_joke`!\n",
        "\n",
        "现在，我们只需定义一个节点来创建我们的笑话，`generate_joke`！\n",
        "\n",
        "We write them back out to `jokes` in `OverallState`! \n",
        "\n",
        "我们将它们写回到 `jokes` 在 `OverallState`！\n",
        "\n",
        "This key has a reducer that will combine lists.\n",
        "\n",
        "这个键有一个 reducer，它将合并列表。\n",
        "\n"
      ]
    },
    {
      "cell_type": "code",
      "execution_count": 12,
      "id": "bcddc567-73d3-4fb3-bfc5-1bea538f2aab",
      "metadata": {},
      "outputs": [],
      "source": [
        "# 定义 JokeState，用于表示生成笑话任务的输入状态。\n",
        "class JokeState(TypedDict):\n",
        "    subject: str#笑话的主题\n",
        "\n",
        "# 定义 Joke 模型，用于表示模型生成的笑话的结构。\n",
        "class Joke(BaseModel):\n",
        "    joke: str#笑话的文本内容\n",
        "\n",
        "# 定义生成笑话的函数。\n",
        "def generate_joke(state: JokeState):\n",
        "    # 根据 joke_prompt 模板和当前状态中的主题格式化提示。\n",
        "    prompt = joke_prompt.format(subject=state[\"subject\"])\n",
        "    # 调用语言模型，并指定输出应结构化为 Joke 类型。\n",
        "    response = model.with_structured_output(Joke).invoke(prompt)\n",
        "    # 返回一个包含生成的笑话的字典，键为 \"jokes\"。\n",
        "    return {\"jokes\": [response.joke]}"
      ]
    },
    {
      "cell_type": "markdown",
      "id": "02960657-d174-4076-99a8-b3f9eea015f4",
      "metadata": {},
      "source": [
        "### 最佳笑话选择（减少）（Best joke selection (reduce)）\n",
        "\n",
        "Now, we add logic to pick the best joke.\n",
        "\n",
        "现在，我们添加逻辑来挑选最好的笑话。\n",
        "\n"
      ]
    },
    {
      "cell_type": "code",
      "execution_count": 13,
      "id": "8d672870-75e3-4307-bda0-c41a86cbbaff",
      "metadata": {},
      "outputs": [],
      "source": [
        "def best_joke(state: OverallState):\n",
        "    # 将状态中所有笑话列表连接成一个字符串，每个笑话之间用两个换行符分隔\n",
        "    jokes = \"\\n\\n\".join(state[\"jokes\"])\n",
        "    # 使用主题和所有笑话格式化最佳笑话提示语\n",
        "    prompt = best_joke_prompt.format(topic=state[\"topic\"], jokes=jokes)\n",
        "    # 调用模型，期望其输出符合 BestJoke 结构（包含最佳笑话的ID）\n",
        "    response = model.with_structured_output(BestJoke).invoke(prompt)\n",
        "    # 根据模型返回的ID，从笑话列表中选择最佳笑话，并将其存储在状态的 best_selected_joke 字段中\n",
        "    return {\"best_selected_joke\": state[\"jokes\"][response.id]}"
      ]
    },
    {
      "cell_type": "markdown",
      "id": "837cd12e-5bff-426e-97f4-c774df998cfb",
      "metadata": {},
      "source": [
        "## 编译（Compile）\n",
        "\n"
      ]
    },
    {
      "cell_type": "code",
      "execution_count": 30,
      "id": "2ae6be4b-144e-483c-88ad-ce86d6477a0d",
      "metadata": {},
      "outputs": [
        {
          "data": {
            "image/png": "[encoded data removed]",
            "text/plain": [
              "<IPython.core.display.Image object>"
            ]
          },
          "execution_count": 30,
          "metadata": {},
          "output_type": "execute_result"
        }
      ],
      "source": [
        "from IPython.display import Image\n",
        "from langgraph.graph import END, StateGraph, START\n",
        "\n",
        "# 构建图：将所有组件组合在一起构建我们的流程图\n",
        "graph = StateGraph(OverallState)\n",
        "\n",
        "graph.add_node(\"generate_topics\", generate_topics)\n",
        "graph.add_node(\"generate_joke\", generate_joke)\n",
        "graph.add_node(\"best_joke\", best_joke)\n",
        "\n",
        "graph.add_edge(START, \"generate_topics\")\n",
        "# 根据条件决定是否继续生成笑话\n",
        "graph.add_conditional_edges(\"generate_topics\", continue_to_jokes, [\"generate_joke\"])\n",
        "# 生成笑话后执行选择最佳笑话\n",
        "graph.add_edge(\"generate_joke\", \"best_joke\")\n",
        "# 选择最佳笑话后流程结束\n",
        "graph.add_edge(\"best_joke\", END)\n",
        "\n",
        "\n",
        "app = graph.compile()\n",
        "Image(app.get_graph().draw_mermaid_png())"
      ]
    },
    {
      "cell_type": "code",
      "execution_count": 31,
      "id": "e21dc7c9-0add-4125-be76-af701adb874a",
      "metadata": {},
      "outputs": [
        {
          "name": "stdout",
          "output_type": "stream",
          "text": [
            "{'generate_topics': {'subjects': ['原子弹投放的历史背景与决策过程', '广岛原爆对城市与居民的影响', '战后和平运动与核裁军倡议']}}\n",
            "{'generate_joke': {'jokes': ['为什么广岛的重建计划从不担心交通堵塞？因为每个人都习惯了‘瞬间消失’！（注：此笑话为虚构创作，旨在以幽默方式引发思考，并非对历史事件的不尊重）']}}\n",
            "{'generate_joke': {'jokes': ['战后和平运动的人开会讨论核裁军，一个人站起来说：‘我们必须彻底销毁所有核武器！’ 另一个人犹豫地举手：‘那……我们保留一个吧，就一个，藏在冰箱后面，以防万一。’']}}\n",
            "{'generate_joke': {'jokes': [\"杜鲁门宣布要结束战争，顾问问是否要使用原子弹。罗斯福的棺材板突然震动了一下，丘吉尔的雪茄掉在了地上，斯大林则默默拿起了电话：'同志，我们的计划可能需要再推迟一下。'\"]}}\n",
            "{'best_joke': {'best_selected_joke': '为什么广岛的重建计划从不担心交通堵塞？因为每个人都习惯了‘瞬间消失’！（注：此笑话为虚构创作，旨在以幽默方式引发思考，并非对历史事件的不尊重）'}}\n"
          ]
        }
      ],
      "source": [
        "# Call the graph: here we call it to generate a list of jokes\n",
        "for s in app.stream({\"topic\": \"日本广岛原子弹\"}):\n",
        "    print(s)"
      ]
    },
    {
      "attachments": {},
      "cell_type": "markdown",
      "id": "2a96517e-77ab-46e2-95e2-79168c044e9c",
      "metadata": {},
      "source": [
        "## Studio\n",
        "**⚠️ DISCLAIMER**\n",
        "\n",
        "**⚠️ 免责声明**\n",
        "\n",
        "Since the filming of these videos, we've updated Studio so that it can be run locally and opened in your browser. This is now the preferred way to run Studio (rather than using the Desktop App as shown in the video). See documentation [here](https://langchain-ai.github.io/langgraph/concepts/langgraph_studio/#local-development-server) on the local development server and [here](https://langchain-ai.github.io/langgraph/how-tos/local-studio/#run-the-development-server). To start the local development server, run the following command in your terminal in the `/studio` directory in this module:\n",
        "\n",
        "自从这些视频的拍摄以来，我们已经更新了 Studio，使其可以在本地运行并在浏览器中打开。这是现在运行 Studio 的首选方式（而不是像视频中所示使用桌面应用程序）。请参阅关于本地开发服务器的文档 [here](https://langchain-ai.github.io/langgraph/concepts/langgraph_studio/#local-development-server) 和 [here](https://langchain-ai.github.io/langgraph/how-tos/local-studio/#run-the-development-server)。要启动本地开发服务器，请在本模块的 `/studio` 目录中，在终端运行以下命令：\n",
        "\n",
        "```\n",
        "langgraph dev\n",
        "```\n",
        "\n",
        "You should see the following output:\n",
        "```\n",
        "- 🚀 API: http://127.0.0.1:2024\n",
        "- 🎨 Studio UI: https://smith.langchain.com/studio/?baseUrl=http://127.0.0.1:2024\n",
        "- 📚 API Docs: http://127.0.0.1:2024/docs\n",
        "```\n",
        "\n",
        "你应该看到以下输出：  \n",
        "```\n",
        "- 🚀 API: http://127.0.0.1:2024\n",
        "- 🎨 Studio UI: https://smith.langchain.com/studio/?baseUrl=http://127.0.0.1:2024\n",
        "- 📚 API Docs: http://127.0.0.1:2024/docs\n",
        "```\n",
        "\n",
        "Open your browser and navigate to the Studio UI: `https://smith.langchain.com/studio/?baseUrl=http://127.0.0.1:2024`.\n",
        "\n",
        "打开您的浏览器并导航到 Studio UI：`https://smith.langchain.com/studio/?baseUrl=http://127.0.0.1:2024`。\n",
        "\n",
        "Let's load our the above graph in the Studio UI, which uses `module-4/studio/map_reduce.py` set in `module-4/studio/langgraph.json`.\n",
        "\n",
        "让我们在 Studio UI 中加载上述图表，它使用了 `module-4/studio/map_reduce.py` 在 `module-4/studio/langgraph.json` 中设置的内容。\n",
        "\n"
      ]
    },
    {
      "cell_type": "code",
      "execution_count": null,
      "id": "741a5e45-9a4c-43b4-8393-9298b3dcda53",
      "metadata": {},
      "outputs": [],
      "source": []
    }
  ],
  "metadata": {
    "kernelspec": {
      "display_name": "Python 3",
      "language": "python",
      "name": "python3"
    },
    "language_info": {
      "codemirror_mode": {
        "name": "ipython",
        "version": 3
      },
      "file_extension": ".py",
      "mimetype": "text/x-python",
      "name": "python",
      "nbconvert_exporter": "python",
      "pygments_lexer": "ipython3",
      "version": "3.11.1"
    }
  },
  "nbformat": 4,
  "nbformat_minor": 5
}
