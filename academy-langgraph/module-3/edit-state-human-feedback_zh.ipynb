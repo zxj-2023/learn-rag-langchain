{
  "cells": [
    {
      "cell_type": "markdown",
      "id": "147e576c",
      "metadata": {},
      "source": [
        "[PROTECTED$11$](https://colab.research.google.com/github/langchain-ai/langchain-academy/blob/main/module-3/edit-state-human-feedback.ipynb) [PROTECTED$12$](https://academy.langchain.com/courses/take/intro-to-langgraph/lessons/58239520-lesson-3-editing-state-and-human-feedback)\n",
        "\n"
      ]
    },
    {
      "cell_type": "markdown",
      "id": "3b2f2448-21c3-4196-9e61-0b47e7d0048b",
      "metadata": {},
      "source": [
        "# 编辑图状态（Editing graph state）\n",
        "\n",
        "## 评审（Review）\n",
        "\n",
        "We discussed motivations for human-in-the-loop:\n",
        "\n",
        "我们讨论了引入人工参与的动机：\n",
        "\n",
        "(1) `Approval` - We can interrupt our agent, surface state to a user, and allow the user to accept an action\n",
        "\n",
        "`Approval` - 我们可以中断代理，将状态呈现给用户，并允许用户接受某个操作\n",
        "\n",
        "(2) `Debugging` - We can rewind the graph to reproduce or avoid issues\n",
        "\n",
        "(2) `Debugging` - 我们可以回退图形以重现或避免问题\n",
        "\n",
        "(3) `Editing` - You can modify the state \n",
        "\n",
        "(3) `Editing` - 您可以修改状态\n",
        "\n",
        "We showed how breakpoints support user approval, but don't yet know how to modify our graph state once our graph is interrupted!\n",
        "\n",
        "我们展示了断点如何支持用户确认，但还不知道在图中断后如何修改图的状态！\n",
        "\n",
        "## 目标（Goals）\n",
        "\n",
        "Now, let's show how to directly edit the graph state and insert human feedback.\n",
        "\n",
        "现在，让我们展示如何直接编辑图状态并插入人工反馈。\n",
        "\n"
      ]
    },
    {
      "cell_type": "code",
      "execution_count": null,
      "id": "95d26b8c-d958-4d21-9ca4-4636d3dfe45c",
      "metadata": {},
      "outputs": [],
      "source": [
        "%%capture --no-stderr\n",
        "%pip install --quiet -U langgraph langchain_openai langgraph_sdk langgraph-prebuilt"
      ]
    },
    {
      "cell_type": "code",
      "execution_count": null,
      "id": "d5948594",
      "metadata": {},
      "outputs": [],
      "source": [
        "import os, getpass\n",
        "\n",
        "def _set_env(var: str):\n",
        "    if not os.environ.get(var):\n",
        "        os.environ[var] = getpass.getpass(f\"{var}: \")\n",
        "\n",
        "_set_env(\"OPENAI_API_KEY\")"
      ]
    },
    {
      "cell_type": "markdown",
      "id": "65a8df1f-a76a-4803-a532-ea9802106ac8",
      "metadata": {},
      "source": [
        "## 编辑状态（Editing state）\n",
        "\n",
        "Previously, we introduced breakpoints.\n",
        "\n",
        "之前，我们介绍了断点。\n",
        "\n",
        "We used them to interrupt the graph and await user approval before executing the next node.\n",
        "\n",
        "我们使用它们来中断图表，并在执行下一个节点之前等待用户批准。\n",
        "\n",
        "但断点也是[修改图状态的机会](https://langchain-ai.github.io/langgraph/how-tos/human_in_the_loop/edit-graph-state/).\n",
        "Let's set up our agent with a breakpoint before the `assistant` node.\n",
        "\n",
        "让我们在 `assistant` 节点之前为代理设置断点。\n",
        "\n"
      ]
    },
    {
      "cell_type": "code",
      "execution_count": 1,
      "id": "bcf24f05-ac2b-455e-846c-0c50ac86e1f4",
      "metadata": {},
      "outputs": [],
      "source": [
        "from langchain_openai import ChatOpenAI\n",
        "\n",
        "def multiply(a: int, b: int) -> int:\n",
        "    \"\"\"Multiply a and b.\n",
        "\n",
        "    Args:\n",
        "        a: first int\n",
        "        b: second int\n",
        "    \"\"\"\n",
        "    return a * b\n",
        "\n",
        "# This will be a tool\n",
        "def add(a: int, b: int) -> int:\n",
        "    \"\"\"Adds a and b.\n",
        "\n",
        "    Args:\n",
        "        a: first int\n",
        "        b: second int\n",
        "    \"\"\"\n",
        "    return a + b\n",
        "\n",
        "def divide(a: int, b: int) -> float:\n",
        "    \"\"\"Divide a by b.\n",
        "\n",
        "    Args:\n",
        "        a: first int\n",
        "        b: second int\n",
        "    \"\"\"\n",
        "    return a / b\n",
        "\n",
        "tools = [add, multiply, divide]\n",
        "llm = ChatOpenAI(\n",
        "    model=\"qwen-plus-2025-04-28\",\n",
        "    api_key=\"sk-ba2dda3817f145d7af141fdf32e31d90\",\n",
        "    base_url=\"https://dashscope.aliyuncs.com/compatible-mode/v1\"\n",
        ")\n",
        "llm_with_tools = llm.bind_tools(tools)"
      ]
    },
    {
      "cell_type": "code",
      "execution_count": 2,
      "id": "5dfe84af-5c62-4c3f-8ed7-96b5261f0b7b",
      "metadata": {},
      "outputs": [
        {
          "data": {
            "image/png": "[encoded data removed]",
            "text/plain": [
              "<IPython.core.display.Image object>"
            ]
          },
          "metadata": {},
          "output_type": "display_data"
        }
      ],
      "source": [
        "from IPython.display import Image, display \n",
        " \n",
        "from langgraph.checkpoint.memory import MemorySaver \n",
        "from langgraph.graph import MessagesState \n",
        "from langgraph.graph import START, StateGraph \n",
        "from langgraph.prebuilt import tools_condition, ToolNode \n",
        " \n",
        "from langchain_core.messages import HumanMessage, SystemMessage \n",
        " \n",
        "# 系统消息\n",
        "sys_msg = SystemMessage(content=\"你是一个乐于助人的助手，负责对一组输入执行算术运算。\") \n",
        " \n",
        "# 节点\n",
        "def assistant(state: MessagesState): \n",
        "   return {\"messages\": [llm_with_tools.invoke([sys_msg] + state[\"messages\"])]} \n",
        " \n",
        "# 图\n",
        "builder = StateGraph(MessagesState) \n",
        " \n",
        "# 定义节点：这些节点执行工作\n",
        "builder.add_node(\"assistant\", assistant) \n",
        "builder.add_node(\"tools\", ToolNode(tools)) \n",
        " \n",
        "# 定义边：这些边决定控制流\n",
        "builder.add_edge(START, \"assistant\") \n",
        "builder.add_conditional_edges( \n",
        "    \"assistant\", \n",
        "    # 如果助手返回的最新消息（结果）是工具调用 -> tools_condition 会路由到 tools\n",
        "    # 如果助手返回的最新消息（结果）不是工具调用 -> tools_condition 会路由到 END\n",
        "    tools_condition, \n",
        ") \n",
        "builder.add_edge(\"tools\", \"assistant\") \n",
        " \n",
        "memory = MemorySaver() \n",
        "graph = builder.compile(interrupt_before=[\"assistant\"], checkpointer=memory) \n",
        " \n",
        "# 显示\n",
        "display(Image(graph.get_graph(xray=True).draw_mermaid_png())) "
      ]
    },
    {
      "cell_type": "markdown",
      "id": "92a47fd5-1f60-41dc-9206-698ed8ece530",
      "metadata": {},
      "source": [
        "Let's run!\n",
        "\n",
        "让我们运行吧！\n",
        "\n",
        "We can see the graph is interrupted before the chat model responds. \n",
        "\n",
        "我们可以看到，在聊天模型响应之前，图被中断了。\n",
        "\n"
      ]
    },
    {
      "cell_type": "code",
      "execution_count": 6,
      "id": "a2ce488d-00e4-492e-a62c-dd98702c313f",
      "metadata": {},
      "outputs": [
        {
          "name": "stdout",
          "output_type": "stream",
          "text": [
            "================================\u001b[1m Human Message \u001b[0m=================================\n",
            "\n",
            "2乘3\n"
          ]
        }
      ],
      "source": [
        "# Input\n",
        "initial_input = {\"messages\": \"2乘3\"}\n",
        "\n",
        "# Thread\n",
        "thread = {\"configurable\": {\"thread_id\": \"1\"}}\n",
        "\n",
        "# Run the graph until the first interruption\n",
        "for event in graph.stream(initial_input, thread, stream_mode=\"values\"):\n",
        "    event['messages'][-1].pretty_print()"
      ]
    },
    {
      "cell_type": "code",
      "execution_count": 7,
      "id": "4be478ef-bd60-4d32-8a05-5f56c93a8396",
      "metadata": {},
      "outputs": [
        {
          "data": {
            "text/plain": [
              "StateSnapshot(values={'messages': [HumanMessage(content='将2和3相乘', additional_kwargs={}, response_metadata={}, id='e7aa5423-9e69-4ee9-8e64-26b3d21a3807'), HumanMessage(content='将2和3相乘', additional_kwargs={}, response_metadata={}, id='45a0d096-09a0-43ed-96e4-68f587f4454c'), HumanMessage(content='将2和3相乘', additional_kwargs={}, response_metadata={}, id='e19583e3-8027-496c-93b9-5c0dc8b4a861'), HumanMessage(content='2乘3', additional_kwargs={}, response_metadata={}, id='b96b82d7-f793-4068-9c91-72a4898e52ab')]}, next=('assistant',), config={'configurable': {'thread_id': '1', 'checkpoint_ns': '', 'checkpoint_id': '1f06638a-311b-62f1-8006-d699d1278e71'}}, metadata={'source': 'loop', 'step': 6, 'parents': {}}, created_at='2025-07-21T13:43:08.853315+00:00', parent_config={'configurable': {'thread_id': '1', 'checkpoint_ns': '', 'checkpoint_id': '1f06638a-3118-648f-8005-f5a1818a9d9c'}}, tasks=(PregelTask(id='2f90f2b0-db5d-981a-d318-a3192f420754', name='assistant', path=('__pregel_pull', 'assistant'), error=None, interrupts=(), state=None, result=None),), interrupts=())"
            ]
          },
          "execution_count": 7,
          "metadata": {},
          "output_type": "execute_result"
        }
      ],
      "source": [
        "state = graph.get_state(thread)\n",
        "state"
      ]
    },
    {
      "cell_type": "markdown",
      "id": "36ef63a1-2ab8-416d-babf-d35054e294f0",
      "metadata": {},
      "source": [
        "Now, we can directly apply a state update.\n",
        "\n",
        "现在，我们可以直接应用状态更新。\n",
        "\n",
        "Remember, updates to the `messages` key will use the `add_messages` reducer:\n",
        " \n",
        "* If we want to over-write the existing message, we can supply the message `id`.\n",
        "* If we simply want to append to our list of messages, then we can pass a message without an `id` specified, as shown below.\n",
        "\n",
        "记住，对 `messages` 键的更新将使用 `add_messages` reducer：\n",
        "\n",
        "*如果我们想覆盖现有的消息，可以提供带有 `id` 的消息。* 如果我们只想将消息添加到消息列表中，则可以传递未指定 `id` 的消息，如下所示。\n",
        "\n"
      ]
    },
    {
      "cell_type": "code",
      "execution_count": 8,
      "id": "9179cff1-e529-473a-9ce2-e23b932c2063",
      "metadata": {},
      "outputs": [
        {
          "data": {
            "text/plain": [
              "{'configurable': {'thread_id': '1',\n",
              "  'checkpoint_ns': '',\n",
              "  'checkpoint_id': '1f06638b-775a-6979-8007-174b38ec8a08'}}"
            ]
          },
          "execution_count": 8,
          "metadata": {},
          "output_type": "execute_result"
        }
      ],
      "source": [
        "graph.update_state(\n",
        "    thread,\n",
        "    {\"messages\": [HumanMessage(content=\"不要，实际上要3乘3!\")]},\n",
        ")"
      ]
    },
    {
      "cell_type": "markdown",
      "id": "d77b8d6a-8c7b-4f7a-b723-121af25ac829",
      "metadata": {},
      "source": [
        "Let's have a look.\n",
        "\n",
        "让我们来看一下。\n",
        "\n",
        "We called `update_state` with a new message. \n",
        "\n",
        "我们用新消息调用了 `update_state`。\n",
        "\n",
        "The `add_messages` reducer appends it to our state key, `messages`.\n",
        "\n",
        "`add_messages` 减少器将其附加到我们的状态键 `messages`。\n",
        "\n"
      ]
    },
    {
      "cell_type": "code",
      "execution_count": 9,
      "id": "141b6aab-ec6d-44f3-beb1-6c22ac5f2158",
      "metadata": {},
      "outputs": [
        {
          "name": "stdout",
          "output_type": "stream",
          "text": [
            "================================\u001b[1m Human Message \u001b[0m=================================\n",
            "\n",
            "将2和3相乘\n",
            "================================\u001b[1m Human Message \u001b[0m=================================\n",
            "\n",
            "将2和3相乘\n",
            "================================\u001b[1m Human Message \u001b[0m=================================\n",
            "\n",
            "将2和3相乘\n",
            "================================\u001b[1m Human Message \u001b[0m=================================\n",
            "\n",
            "2乘3\n",
            "================================\u001b[1m Human Message \u001b[0m=================================\n",
            "\n",
            "不要，实际上要3乘3!\n"
          ]
        }
      ],
      "source": [
        "new_state = graph.get_state(thread).values\n",
        "for m in new_state['messages']:\n",
        "    m.pretty_print()"
      ]
    },
    {
      "cell_type": "markdown",
      "id": "e4041959-cc3a-4168-8cf7-06d1711921d8",
      "metadata": {},
      "source": [
        "Now, let's proceed with our agent, simply by passing `None` and allowing it proceed from the current state.\n",
        "\n",
        "现在，让我们继续进行我们的代理操作，只需传递 `None` 并允许其从当前状态继续执行。\n",
        "\n",
        "We emit the current and then proceed to execute the remaining nodes.\n",
        "\n",
        "我们输出当前内容，然后继续执行剩余的节点。\n",
        "\n"
      ]
    },
    {
      "cell_type": "code",
      "execution_count": 10,
      "id": "f166bed2-87c9-41ec-b235-0305721c2d6b",
      "metadata": {},
      "outputs": [
        {
          "name": "stdout",
          "output_type": "stream",
          "text": [
            "================================\u001b[1m Human Message \u001b[0m=================================\n",
            "\n",
            "不要，实际上要3乘3!\n",
            "==================================\u001b[1m Ai Message \u001b[0m==================================\n",
            "Tool Calls:\n",
            "  multiply (call_3a405b6d9ce849c7851a6a)\n",
            " Call ID: call_3a405b6d9ce849c7851a6a\n",
            "  Args:\n",
            "    a: 3\n",
            "    b: 3\n",
            "=================================\u001b[1m Tool Message \u001b[0m=================================\n",
            "Name: multiply\n",
            "\n",
            "9\n"
          ]
        }
      ],
      "source": [
        "for event in graph.stream(None, thread, stream_mode=\"values\"):\n",
        "    event['messages'][-1].pretty_print()"
      ]
    },
    {
      "cell_type": "markdown",
      "id": "b18dc1ca",
      "metadata": {},
      "source": [
        "Now, we're back at the `assistant`, which has our `breakpoint`.\n",
        "\n",
        "现在，我们回到了 `assistant`，它包含了我们的 `breakpoint`。\n",
        "\n",
        "We can again pass `None` to proceed.\n",
        "\n",
        "我们可以再次传递 `None` 以继续。\n",
        "\n"
      ]
    },
    {
      "cell_type": "code",
      "execution_count": 11,
      "id": "f5952731-0170-4589-a399-ee787df35400",
      "metadata": {},
      "outputs": [
        {
          "name": "stdout",
          "output_type": "stream",
          "text": [
            "=================================\u001b[1m Tool Message \u001b[0m=================================\n",
            "Name: multiply\n",
            "\n",
            "9\n",
            "==================================\u001b[1m Ai Message \u001b[0m==================================\n",
            "\n",
            "3乘3的结果是9。\n"
          ]
        }
      ],
      "source": [
        "for event in graph.stream(None, thread, stream_mode=\"values\"):\n",
        "    event['messages'][-1].pretty_print()"
      ]
    },
    {
      "attachments": {},
      "cell_type": "markdown",
      "id": "bc22c3e9-b00c-4ead-b752-a682b45b3718",
      "metadata": {},
      "source": [
        "### 在 Studio 中编辑图状态（Editing graph state in Studio）\n",
        "\n",
        "**⚠️ DISCLAIMER**\n",
        "\n",
        "**⚠️ 免责声明**\n",
        "\n",
        "Since the filming of these videos, we've updated Studio so that it can be run locally and opened in your browser. This is now the preferred way to run Studio (rather than using the Desktop App as shown in the video). See documentation [here](https://langchain-ai.github.io/langgraph/concepts/langgraph_studio/#local-development-server) on the local development server and [here](https://langchain-ai.github.io/langgraph/how-tos/local-studio/#run-the-development-server). To start the local development server, run the following command in your terminal in the `/studio` directory in this module:\n",
        "\n",
        "自从这些视频的录制以来，我们已经更新了 Studio，使其可以在本地运行并在浏览器中打开。这是现在运行 Studio 的首选方式（而不是像视频中所示使用桌面应用程序）。请参阅有关 [here](https://langchain-ai.github.io/langgraph/concepts/langgraph_studio/#local-development-server) 本地开发服务器的文档和 [here](https://langchain-ai.github.io/langgraph/how-tos/local-studio/#run-the-development-server)。要启动本地开发服务器，请在本模块的 `/studio` 目录中的终端运行以下命令：\n",
        "\n",
        "```\n",
        "langgraph dev\n",
        "```\n",
        "\n",
        "You should see the following output:\n",
        "```\n",
        "- 🚀 API: http://127.0.0.1:2024\n",
        "- 🎨 Studio UI: https://smith.langchain.com/studio/?baseUrl=http://127.0.0.1:2024\n",
        "- 📚 API Docs: http://127.0.0.1:2024/docs\n",
        "```\n",
        "\n",
        "你应该看到以下输出：  \n",
        "```\n",
        "- 🚀 API: http://127.0.0.1:2024\n",
        "- 🎨 Studio UI: https://smith.langchain.com/studio/?baseUrl=http://127.0.0.1:2024\n",
        "- 📚 API Docs: http://127.0.0.1:2024/docs\n",
        "```\n",
        "\n",
        "Open your browser and navigate to the Studio UI: `https://smith.langchain.com/studio/?baseUrl=http://127.0.0.1:2024`.\n",
        "\n",
        "打开您的浏览器并导航到 Studio UI：`https://smith.langchain.com/studio/?baseUrl=http://127.0.0.1:2024`。\n",
        "\n",
        "The LangGraph API [supports editing graph state](https://langchain-ai.github.io/langgraph/cloud/how-tos/human_in_the_loop_edit_state/#initial-invocation). \n",
        "\n",
        "LangGraph API [supports editing graph state](https://langchain-ai.github.io/langgraph/cloud/how-tos/human_in_the_loop_edit_state/#initial-invocation).\n",
        "\n"
      ]
    },
    {
      "cell_type": "code",
      "execution_count": null,
      "id": "020efeba-fa80-4839-81f9-9ce228f9844e",
      "metadata": {},
      "outputs": [],
      "source": [
        "if 'google.colab' in str(get_ipython()):\n",
        "    raise Exception(\"Unfortunately LangGraph Studio is currently not supported on Google Colab\")"
      ]
    },
    {
      "cell_type": "code",
      "execution_count": 9,
      "id": "642aabab-f822-4917-9d66-3314ac5008fd",
      "metadata": {},
      "outputs": [],
      "source": [
        "# This is the URL of the local development server\n",
        "from langgraph_sdk import get_client\n",
        "client = get_client(url=\"http://127.0.0.1:2024\")"
      ]
    },
    {
      "cell_type": "markdown",
      "id": "be74cb09",
      "metadata": {},
      "source": [
        "Our agent is defined in `studio/agent.py`. \n",
        "\n",
        "我们的代理定义在 `studio/agent.py`。\n",
        "\n",
        "If you look at the code, you'll see that it *does not* have a breakpoint! \n",
        " \n",
        "Of course, we can add it to `agent.py`, but one very nice feature of the API is that we can pass in a breakpoint!\n",
        "\n",
        "如果你查看代码，你会发现它 *没有* 设置断点！  \n",
        "\n",
        "当然，我们可以将其添加到 `agent.py`，但该 API 的一个非常有用的功能是，我们可以传入一个断点！\n",
        "\n",
        "Here, we pass a `interrupt_before=[\"assistant\"]`.\n",
        "\n",
        "在这里，我们传递一个 `interrupt_before=[\"assistant\"]`.\n",
        "\n"
      ]
    },
    {
      "cell_type": "code",
      "execution_count": 10,
      "id": "1c352f9e-6a0f-4a94-a083-b85b0233efa9",
      "metadata": {},
      "outputs": [
        {
          "name": "stdout",
          "output_type": "stream",
          "text": [
            "Receiving new event of type: metadata...\n",
            "--------------------------------------------------\n",
            "Receiving new event of type: values...\n",
            "{'content': 'Multiply 2 and 3', 'additional_kwargs': {}, 'response_metadata': {}, 'type': 'human', 'name': None, 'id': '882dabe4-b877-4d71-bd09-c34cb97c4f46', 'example': False}\n",
            "--------------------------------------------------\n"
          ]
        }
      ],
      "source": [
        "initial_input = {\"messages\": \"Multiply 2 and 3\"}\n",
        "thread = await client.threads.create()\n",
        "async for chunk in client.runs.stream(\n",
        "    thread[\"thread_id\"],\n",
        "    \"agent\",\n",
        "    input=initial_input,\n",
        "    stream_mode=\"values\",\n",
        "    interrupt_before=[\"assistant\"],\n",
        "):\n",
        "    print(f\"Receiving new event of type: {chunk.event}...\")\n",
        "    messages = chunk.data.get('messages', [])\n",
        "    if messages:\n",
        "        print(messages[-1])\n",
        "    print(\"-\" * 50)"
      ]
    },
    {
      "cell_type": "markdown",
      "id": "13065dd9-5f43-47d6-ac2a-9dc15c0c54e6",
      "metadata": {},
      "source": [
        "We can get the current state\n",
        "\n",
        "我们可以获取当前状态\n",
        "\n"
      ]
    },
    {
      "cell_type": "code",
      "execution_count": 11,
      "id": "4da2c464-3e71-496a-badc-671aeee168b6",
      "metadata": {},
      "outputs": [
        {
          "data": {
            "text/plain": [
              "{'values': {'messages': [{'content': 'Multiply 2 and 3',\n",
              "    'additional_kwargs': {},\n",
              "    'response_metadata': {},\n",
              "    'type': 'human',\n",
              "    'name': None,\n",
              "    'id': '882dabe4-b877-4d71-bd09-c34cb97c4f46',\n",
              "    'example': False}]},\n",
              " 'next': ['assistant'],\n",
              " 'tasks': [{'id': 'a71c0b80-a679-57cb-aa59-a1655b763480',\n",
              "   'name': 'assistant',\n",
              "   'error': None,\n",
              "   'interrupts': [],\n",
              "   'state': None}],\n",
              " 'metadata': {'step': 0,\n",
              "  'run_id': '1ef6a41c-ea63-663f-b3e8-4f001bf0bf53',\n",
              "  'source': 'loop',\n",
              "  'writes': None,\n",
              "  'parents': {},\n",
              "  'user_id': '',\n",
              "  'graph_id': 'agent',\n",
              "  'thread_id': 'a95ffa54-2435-4a47-a9da-e886369ca8ee',\n",
              "  'created_by': 'system',\n",
              "  'assistant_id': 'fe096781-5601-53d2-b2f6-0d3403f7e9ca'},\n",
              " 'created_at': '2024-09-03T22:13:54.466695+00:00',\n",
              " 'checkpoint_id': '1ef6a41c-ead7-637b-8000-8c6a7b98379e',\n",
              " 'parent_checkpoint_id': '1ef6a41c-ead3-637d-bfff-397ebdb4f2ea'}"
            ]
          },
          "execution_count": 11,
          "metadata": {},
          "output_type": "execute_result"
        }
      ],
      "source": [
        "current_state = await client.threads.get_state(thread['thread_id'])\n",
        "current_state"
      ]
    },
    {
      "cell_type": "markdown",
      "id": "4527bbf1-0927-41a6-aeef-d15e32bbbdc3",
      "metadata": {},
      "source": [
        "We can look at the last message in state.\n",
        "\n",
        "我们可以查看状态中的最后一条消息。\n",
        "\n"
      ]
    },
    {
      "cell_type": "code",
      "execution_count": 12,
      "id": "801ae2d9-0551-46b8-aee2-82293cee4011",
      "metadata": {},
      "outputs": [
        {
          "data": {
            "text/plain": [
              "{'content': 'Multiply 2 and 3',\n",
              " 'additional_kwargs': {},\n",
              " 'response_metadata': {},\n",
              " 'type': 'human',\n",
              " 'name': None,\n",
              " 'id': '882dabe4-b877-4d71-bd09-c34cb97c4f46',\n",
              " 'example': False}"
            ]
          },
          "execution_count": 12,
          "metadata": {},
          "output_type": "execute_result"
        }
      ],
      "source": [
        "last_message = current_state['values']['messages'][-1]\n",
        "last_message"
      ]
    },
    {
      "cell_type": "markdown",
      "id": "f0581ba8-db3d-474d-9042-b1c7f3461caf",
      "metadata": {},
      "source": [
        "We can edit it!\n",
        "\n",
        "我们可以编辑它！\n",
        "\n"
      ]
    },
    {
      "cell_type": "code",
      "execution_count": 13,
      "id": "86b12be7-7e4a-40d0-8521-dced7c393c71",
      "metadata": {},
      "outputs": [
        {
          "data": {
            "text/plain": [
              "{'content': 'No, actually multiply 3 and 3!',\n",
              " 'additional_kwargs': {},\n",
              " 'response_metadata': {},\n",
              " 'type': 'human',\n",
              " 'name': None,\n",
              " 'id': '882dabe4-b877-4d71-bd09-c34cb97c4f46',\n",
              " 'example': False}"
            ]
          },
          "execution_count": 13,
          "metadata": {},
          "output_type": "execute_result"
        }
      ],
      "source": [
        "last_message['content'] = \"No, actually multiply 3 and 3!\"\n",
        "last_message"
      ]
    },
    {
      "cell_type": "code",
      "execution_count": 14,
      "id": "f84f2c24-f281-4591-90e5-de3a5547c9da",
      "metadata": {},
      "outputs": [
        {
          "data": {
            "text/plain": [
              "{'content': 'No, actually multiply 3 and 3!',\n",
              " 'additional_kwargs': {},\n",
              " 'response_metadata': {},\n",
              " 'type': 'human',\n",
              " 'name': None,\n",
              " 'id': '882dabe4-b877-4d71-bd09-c34cb97c4f46',\n",
              " 'example': False}"
            ]
          },
          "execution_count": 14,
          "metadata": {},
          "output_type": "execute_result"
        }
      ],
      "source": [
        "last_message"
      ]
    },
    {
      "cell_type": "markdown",
      "id": "ce7b4280-6ae7-4246-9c87-44e0daa6c654",
      "metadata": {},
      "source": [
        "Remember, as we said before, updates to the `messages` key will use the same `add_messages` reducer. \n",
        "\n",
        "记住，正如我们之前所说，对 `messages` 键的更新将使用相同的 `add_messages` reducer。\n",
        "\n",
        "If we want to over-write the existing message, then we can supply the message `id`.\n",
        "Here, we did that. We only modified the message `content`, as shown above.\n",
        "\n",
        "在这里，我们做到了。我们只修改了消息 `content`，如上所示。\n",
        "\n"
      ]
    },
    {
      "cell_type": "code",
      "execution_count": 15,
      "id": "84d33b6e-32ff-4eca-8114-345e508f3481",
      "metadata": {},
      "outputs": [
        {
          "data": {
            "text/plain": [
              "{'configurable': {'thread_id': 'a95ffa54-2435-4a47-a9da-e886369ca8ee',\n",
              "  'checkpoint_ns': '',\n",
              "  'checkpoint_id': '1ef6a41d-cc8e-6979-8001-8c7c283b636c'},\n",
              " 'checkpoint_id': '1ef6a41d-cc8e-6979-8001-8c7c283b636c'}"
            ]
          },
          "execution_count": 15,
          "metadata": {},
          "output_type": "execute_result"
        }
      ],
      "source": [
        "await client.threads.update_state(thread['thread_id'], {\"messages\": last_message})"
      ]
    },
    {
      "cell_type": "markdown",
      "id": "1f07f0d1-7083-4827-babd-d3702eb59a37",
      "metadata": {},
      "source": [
        "Now, we resume by passing `None`. \n",
        "\n",
        "现在，我们通过传递 `None` 继续。\n",
        "\n"
      ]
    },
    {
      "cell_type": "code",
      "execution_count": 16,
      "id": "ef18d12d-e0a6-487a-9f32-ad30e2634a20",
      "metadata": {},
      "outputs": [
        {
          "name": "stdout",
          "output_type": "stream",
          "text": [
            "Receiving new event of type: metadata...\n",
            "--------------------------------------------------\n",
            "Receiving new event of type: values...\n",
            "{'content': 'No, actually multiply 3 and 3!', 'additional_kwargs': {'additional_kwargs': {}, 'response_metadata': {}, 'example': False}, 'response_metadata': {}, 'type': 'human', 'name': None, 'id': '882dabe4-b877-4d71-bd09-c34cb97c4f46', 'example': False}\n",
            "--------------------------------------------------\n",
            "Receiving new event of type: values...\n",
            "{'content': '', 'additional_kwargs': {'tool_calls': [{'index': 0, 'id': 'call_vi16je2EIikHuT7Aue2sd1qd', 'function': {'arguments': '{\"a\":3,\"b\":3}', 'name': 'multiply'}, 'type': 'function'}]}, 'response_metadata': {'finish_reason': 'tool_calls', 'model_name': 'gpt-4o-2024-05-13', 'system_fingerprint': 'fp_157b3831f5'}, 'type': 'ai', 'name': None, 'id': 'run-775b42f7-0590-4c54-aaeb-78599b1f12d2', 'example': False, 'tool_calls': [{'name': 'multiply', 'args': {'a': 3, 'b': 3}, 'id': 'call_vi16je2EIikHuT7Aue2sd1qd', 'type': 'tool_call'}], 'invalid_tool_calls': [], 'usage_metadata': None}\n",
            "--------------------------------------------------\n",
            "Receiving new event of type: values...\n",
            "{'content': '9', 'additional_kwargs': {}, 'response_metadata': {}, 'type': 'tool', 'name': 'multiply', 'id': '226bfbad-0cea-4900-80c5-761a62bd4bc1', 'tool_call_id': 'call_vi16je2EIikHuT7Aue2sd1qd', 'artifact': None, 'status': 'success'}\n",
            "--------------------------------------------------\n"
          ]
        }
      ],
      "source": [
        "async for chunk in client.runs.stream(\n",
        "    thread[\"thread_id\"],\n",
        "    assistant_id=\"agent\",\n",
        "    input=None,\n",
        "    stream_mode=\"values\",\n",
        "    interrupt_before=[\"assistant\"],\n",
        "):\n",
        "    print(f\"Receiving new event of type: {chunk.event}...\")\n",
        "    messages = chunk.data.get('messages', [])\n",
        "    if messages:\n",
        "        print(messages[-1])\n",
        "    print(\"-\" * 50)"
      ]
    },
    {
      "cell_type": "markdown",
      "id": "6a82dd35-cbc8-486d-8e20-10d0c4d138d6",
      "metadata": {},
      "source": [
        "We get the result of the tool call as `9`, as expected.\n",
        "\n",
        "我们如预期般获得工具调用的结果为 `9`。\n",
        "\n"
      ]
    },
    {
      "cell_type": "code",
      "execution_count": 17,
      "id": "1d1bb3c7-dc26-4c32-b3df-865f41ef3c73",
      "metadata": {},
      "outputs": [
        {
          "name": "stdout",
          "output_type": "stream",
          "text": [
            "Receiving new event of type: metadata...\n",
            "--------------------------------------------------\n",
            "Receiving new event of type: values...\n",
            "{'content': '9', 'additional_kwargs': {}, 'response_metadata': {}, 'type': 'tool', 'name': 'multiply', 'id': '226bfbad-0cea-4900-80c5-761a62bd4bc1', 'tool_call_id': 'call_vi16je2EIikHuT7Aue2sd1qd', 'artifact': None, 'status': 'success'}\n",
            "--------------------------------------------------\n",
            "Receiving new event of type: values...\n",
            "{'content': 'The result of multiplying 3 by 3 is 9.', 'additional_kwargs': {}, 'response_metadata': {'finish_reason': 'stop', 'model_name': 'gpt-4o-2024-05-13', 'system_fingerprint': 'fp_157b3831f5'}, 'type': 'ai', 'name': None, 'id': 'run-859bbf47-9f35-4e71-ae98-9d93ee49d16c', 'example': False, 'tool_calls': [], 'invalid_tool_calls': [], 'usage_metadata': None}\n",
            "--------------------------------------------------\n"
          ]
        }
      ],
      "source": [
        "async for chunk in client.runs.stream(\n",
        "    thread[\"thread_id\"],\n",
        "    assistant_id=\"agent\",\n",
        "    input=None,\n",
        "    stream_mode=\"values\",\n",
        "    interrupt_before=[\"assistant\"],\n",
        "):\n",
        "    print(f\"Receiving new event of type: {chunk.event}...\")\n",
        "    messages = chunk.data.get('messages', [])\n",
        "    if messages:\n",
        "        print(messages[-1])\n",
        "    print(\"-\" * 50)"
      ]
    },
    {
      "cell_type": "markdown",
      "id": "6914c5ca-27e4-421c-835a-9e4327dac12f",
      "metadata": {},
      "source": [
        "## 等待用户输入（Awaiting user input）\n",
        "\n",
        "So, it's clear that we can edit our agent state after a breakpoint.\n",
        "\n",
        "因此，很明显，我们可以在断点后编辑代理状态。\n",
        "\n",
        "Now, what if we want to allow for human feedback to perform this state update?\n",
        "\n",
        "现在，如果我们希望允许人类反馈来执行此状态更新该怎么办？\n",
        "\n",
        "We'll add a node that [serves as a placeholder for human feedback](https://langchain-ai.github.io/langgraph/how-tos/human_in_the_loop/wait-user-input/#setup) within our agent.\n",
        "\n",
        "我们将添加一个 [serves as a placeholder for human feedback](https://langchain-ai.github.io/langgraph/how-tos/human_in_the_loop/wait-user-input/#setup) 位于我们代理中的节点。\n",
        "\n",
        "This `human_feedback` node allow the user to add feedback directly to state.\n",
        " \n",
        "We specify the breakpoint using `interrupt_before` our `human_feedback` node.\n",
        "\n",
        "此 `human_feedback` 节点允许用户直接向状态添加反馈。\n",
        "\n",
        "我们使用 `interrupt_before` 我们的 `human_feedback` 节点来指定断点。\n",
        "\n",
        "We set up a checkpointer to save the state of the graph up until this node.\n",
        "\n",
        "我们设置了一个检查点，用于保存直到该节点的图状态。\n",
        "\n"
      ]
    },
    {
      "cell_type": "code",
      "execution_count": 18,
      "id": "e4b475ff-681f-4660-80dd-d6ade7bd48e3",
      "metadata": {},
      "outputs": [
        {
          "data": {
            "image/jpeg": "[encoded data removed]",
            "text/plain": [
              "<IPython.core.display.Image object>"
            ]
          },
          "metadata": {},
          "output_type": "display_data"
        }
      ],
      "source": [
        "# System message\n",
        "sys_msg = SystemMessage(content=\"You are a helpful assistant tasked with performing arithmetic on a set of inputs.\")\n",
        "\n",
        "# no-op node that should be interrupted on\n",
        "def human_feedback(state: MessagesState):\n",
        "    pass\n",
        "\n",
        "# Assistant node\n",
        "def assistant(state: MessagesState):\n",
        "   return {\"messages\": [llm_with_tools.invoke([sys_msg] + state[\"messages\"])]}\n",
        "\n",
        "# Graph\n",
        "builder = StateGraph(MessagesState)\n",
        "\n",
        "# Define nodes: these do the work\n",
        "builder.add_node(\"assistant\", assistant)\n",
        "builder.add_node(\"tools\", ToolNode(tools))\n",
        "builder.add_node(\"human_feedback\", human_feedback)\n",
        "\n",
        "# Define edges: these determine the control flow\n",
        "builder.add_edge(START, \"human_feedback\")\n",
        "builder.add_edge(\"human_feedback\", \"assistant\")\n",
        "builder.add_conditional_edges(\n",
        "    \"assistant\",\n",
        "    # If the latest message (result) from assistant is a tool call -> tools_condition routes to tools\n",
        "    # If the latest message (result) from assistant is a not a tool call -> tools_condition routes to END\n",
        "    tools_condition,\n",
        ")\n",
        "builder.add_edge(\"tools\", \"human_feedback\")\n",
        "\n",
        "memory = MemorySaver()\n",
        "graph = builder.compile(interrupt_before=[\"human_feedback\"], checkpointer=memory)\n",
        "display(Image(graph.get_graph().draw_mermaid_png()))"
      ]
    },
    {
      "cell_type": "markdown",
      "id": "32d4ceb6-a224-4307-8196-3f53d367df5c",
      "metadata": {},
      "source": [
        "We will get feedback from the user.\n",
        "\n",
        "我们将从用户那里获得反馈。\n",
        "\n",
        "We use `.update_state` to update the state of the graph with the human response we get, as before.\n",
        "\n",
        "我们使用 `.update_state` 来根据获得的人类响应更新图的状态，就像之前一样。\n",
        "\n",
        "We use the `as_node=\"human_feedback\"` parameter to apply this state update as the specified node, `human_feedback`.\n",
        "\n",
        "我们使用 `as_node=\"human_feedback\"` 参数将此状态更新应用到指定节点 `human_feedback`。\n",
        "\n"
      ]
    },
    {
      "cell_type": "code",
      "execution_count": 19,
      "id": "3fc7bcd6-660c-4a8a-ad8d-e6698dcf6201",
      "metadata": {},
      "outputs": [
        {
          "name": "stdout",
          "output_type": "stream",
          "text": [
            "================================\u001b[1m Human Message \u001b[0m=================================\n",
            "\n",
            "Multiply 2 and 3\n",
            "================================\u001b[1m Human Message \u001b[0m=================================\n",
            "\n",
            "no, multiply 3 and 3\n",
            "==================================\u001b[1m Ai Message \u001b[0m==================================\n",
            "Tool Calls:\n",
            "  multiply (call_sewrDyCrAJBQQecusUoT6OJ6)\n",
            " Call ID: call_sewrDyCrAJBQQecusUoT6OJ6\n",
            "  Args:\n",
            "    a: 3\n",
            "    b: 3\n",
            "=================================\u001b[1m Tool Message \u001b[0m=================================\n",
            "Name: multiply\n",
            "\n",
            "9\n"
          ]
        }
      ],
      "source": [
        "# Input\n",
        "initial_input = {\"messages\": \"Multiply 2 and 3\"}\n",
        "\n",
        "# Thread\n",
        "thread = {\"configurable\": {\"thread_id\": \"5\"}}\n",
        "\n",
        "# Run the graph until the first interruption\n",
        "for event in graph.stream(initial_input, thread, stream_mode=\"values\"):\n",
        "    event[\"messages\"][-1].pretty_print()\n",
        "    \n",
        "# Get user input\n",
        "user_input = input(\"Tell me how you want to update the state: \")\n",
        "\n",
        "# We now update the state as if we are the human_feedback node\n",
        "graph.update_state(thread, {\"messages\": user_input}, as_node=\"human_feedback\")\n",
        "\n",
        "# Continue the graph execution\n",
        "for event in graph.stream(None, thread, stream_mode=\"values\"):\n",
        "    event[\"messages\"][-1].pretty_print()"
      ]
    },
    {
      "cell_type": "code",
      "execution_count": 20,
      "id": "abf4cf5f-c0cb-4fdb-be6b-271ae4e967e2",
      "metadata": {},
      "outputs": [
        {
          "name": "stdout",
          "output_type": "stream",
          "text": [
            "=================================\u001b[1m Tool Message \u001b[0m=================================\n",
            "Name: multiply\n",
            "\n",
            "9\n",
            "==================================\u001b[1m Ai Message \u001b[0m==================================\n",
            "\n",
            "The result of multiplying 3 and 3 is 9.\n"
          ]
        }
      ],
      "source": [
        "# Continue the graph execution\n",
        "for event in graph.stream(None, thread, stream_mode=\"values\"):\n",
        "    event[\"messages\"][-1].pretty_print()"
      ]
    }
  ],
  "metadata": {
    "kernelspec": {
      "display_name": "Python 3",
      "language": "python",
      "name": "python3"
    },
    "language_info": {
      "codemirror_mode": {
        "name": "ipython",
        "version": 3
      },
      "file_extension": ".py",
      "mimetype": "text/x-python",
      "name": "python",
      "nbconvert_exporter": "python",
      "pygments_lexer": "ipython3",
      "version": "3.11.1"
    }
  },
  "nbformat": 4,
  "nbformat_minor": 5
}
