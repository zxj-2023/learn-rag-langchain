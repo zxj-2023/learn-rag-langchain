{
  "cells": [
    {
      "cell_type": "markdown",
      "id": "2109e6a2",
      "metadata": {},
      "source": [
        "[PROTECTED$11$](https://colab.research.google.com/github/langchain-ai/langchain-academy/blob/main/module-3/dynamic-breakpoints.ipynb) [PROTECTED$12$](https://academy.langchain.com/courses/take/intro-to-langgraph/lessons/58239526-lesson-4-dynamic-breakpoints)\n",
        "\n"
      ]
    },
    {
      "cell_type": "markdown",
      "id": "d0cefea1-f982-4bb1-b691-27a855bfdccb",
      "metadata": {},
      "source": [
        "# 动态断点（Dynamic breakpoints）\n",
        "\n",
        "## 评论（Review）\n",
        "\n",
        "We discussed motivations for human-in-the-loop:\n",
        "\n",
        "我们讨论了引入人类参与循环的动机：\n",
        "\n",
        "(1) `Approval` - We can interrupt our agent, surface state to a user, and allow the user to accept an action\n",
        "\n",
        "`Approval` - 我们可以中断代理，将状态呈现给用户，并允许用户接受某个操作\n",
        "\n",
        "(2) `Debugging` - We can rewind the graph to reproduce or avoid issues\n",
        "\n",
        "(2) `Debugging` - 我们可以回退图形以重现或避免问题\n",
        "\n",
        "(3) `Editing` - You can modify the state \n",
        "\n",
        "(3) `Editing` - 您可以修改状态\n",
        "\n",
        "We covered breakpoints as a general way to stop the graph at specific steps, which enables use-cases like `Approval`\n",
        "\n",
        "我们介绍了断点作为一种在特定步骤停止图的通用方法，这使得像 `Approval` 这样的用例成为可能。\n",
        "\n",
        "We also showed how to edit graph state, and introduce human feedback. \n",
        "\n",
        "我们还展示了如何编辑图状态，并引入人类反馈。\n",
        "\n",
        "## 目标（Goals）\n",
        "\n",
        "Breakpoints are set by the developer on a specific node during graph compilation. \n",
        "\n",
        "开发者在图编译期间在特定节点上设置断点。\n",
        "\n",
        "But, sometimes it is helpful to allow the graph **dynamically interrupt** itself!\n",
        "\n",
        "但是，有时允许图表 **动态中断** 自身是有帮助的！\n",
        "\n",
        "This is an internal breakpoint, and [can be achieved using PROTECTED$15$](https://langchain-ai.github.io/langgraph/how-tos/human_in_the_loop/dynamic_breakpoints/#run-the-graph-with-dynamic-interrupt).\n",
        "\n",
        "这是一个内部断点，且 [can be achieved using PROTECTED$15$](https://langchain-ai.github.io/langgraph/how-tos/human_in_the_loop/dynamic_breakpoints/#run-the-graph-with-dynamic-interrupt).\n",
        "\n",
        "This has a few specific benefits: \n",
        "\n",
        "这有几个具体的好处：\n",
        "\n",
        "(1) you can do it conditionally (from inside a node based on developer-defined logic).\n",
        "\n",
        "你可以根据条件来实现它（从节点内部基于开发人员定义的逻辑）。\n",
        "\n",
        "(2) you can communicate to the user why its interrupted (by passing whatever you want to the `NodeInterrupt`).\n",
        "\n",
        "(2) 您可以向用户说明其中断原因（通过将您想传递的内容发送到 `NodeInterrupt`）。\n",
        "\n",
        "Let's create a graph where a `NodeInterrupt` is thrown based upon length of the input.\n",
        "\n",
        "让我们创建一个图表，其中根据输入的长度会抛出一个 `NodeInterrupt`。\n",
        "\n"
      ]
    },
    {
      "cell_type": "code",
      "execution_count": null,
      "id": "387d8d87-598a-485a-a99f-a9270a7c2e73",
      "metadata": {},
      "outputs": [],
      "source": [
        "%%capture --no-stderr\n",
        "%pip install --quiet -U langgraph langchain_openai langgraph_sdk"
      ]
    },
    {
      "cell_type": "code",
      "execution_count": 1,
      "id": "6248f166-2013-445a-b4ae-1fb7b92f8c32",
      "metadata": {},
      "outputs": [
        {
          "data": {
            "image/png": "[encoded data removed]",
            "text/plain": [
              "<IPython.core.display.Image object>"
            ]
          },
          "metadata": {},
          "output_type": "display_data"
        }
      ],
      "source": [
        "from IPython.display import Image, display\n",
        "\n",
        "from typing_extensions import TypedDict\n",
        "from langgraph.checkpoint.memory import MemorySaver\n",
        "from langgraph.errors import NodeInterrupt\n",
        "from langgraph.graph import START, END, StateGraph\n",
        "\n",
        "class State(TypedDict):\n",
        "    input: str\n",
        "\n",
        "def step_1(state: State) -> State:\n",
        "    print(\"---Step 1---\")\n",
        "    return state\n",
        "\n",
        "def step_2(state: State) -> State:\n",
        "    # 如果输入字符串长度超过5个字符，我们可以选择抛出NodeInterrupt异常\n",
        "    if len(state['input']) > 5:\n",
        "        raise NodeInterrupt(f\"收到长度超过5个字符的输入: {state['input']}\")\n",
        "    \n",
        "    print(\"---Step 2---\")\n",
        "    return state\n",
        "\n",
        "def step_3(state: State) -> State:\n",
        "    print(\"---Step 3---\")\n",
        "    return state\n",
        "\n",
        "builder = StateGraph(State)\n",
        "builder.add_node(\"step_1\", step_1)\n",
        "builder.add_node(\"step_2\", step_2)\n",
        "builder.add_node(\"step_3\", step_3)\n",
        "builder.add_edge(START, \"step_1\")\n",
        "builder.add_edge(\"step_1\", \"step_2\")\n",
        "builder.add_edge(\"step_2\", \"step_3\")\n",
        "builder.add_edge(\"step_3\", END)\n",
        "\n",
        "# Set up memory\n",
        "memory = MemorySaver()\n",
        "\n",
        "# Compile the graph with memory\n",
        "graph = builder.compile(checkpointer=memory)\n",
        "\n",
        "# View\n",
        "display(Image(graph.get_graph().draw_mermaid_png()))"
      ]
    },
    {
      "cell_type": "markdown",
      "id": "b2c6e5c8-0556-43d1-9eef-b3af32728f74",
      "metadata": {},
      "source": [
        "Let's run the graph with an input that's longer than 5 characters. \n",
        "\n",
        "让我们运行一个输入超过5个字符的图。\n",
        "\n"
      ]
    },
    {
      "cell_type": "code",
      "execution_count": 2,
      "id": "de73c9ce-ccc5-4ffd-8d82-7018364e7c4f",
      "metadata": {},
      "outputs": [
        {
          "name": "stdout",
          "output_type": "stream",
          "text": [
            "{'input': 'hello world'}\n",
            "---Step 1---\n",
            "{'input': 'hello world'}\n"
          ]
        }
      ],
      "source": [
        "initial_input = {\"input\": \"hello world\"}\n",
        "thread_config = {\"configurable\": {\"thread_id\": \"1\"}}\n",
        "\n",
        "# Run the graph until the first interruption\n",
        "for event in graph.stream(initial_input, thread_config, stream_mode=\"values\"):\n",
        "    print(event)"
      ]
    },
    {
      "cell_type": "markdown",
      "id": "da79063f-5b67-49dd-8ef0-3eae4c480cb5",
      "metadata": {},
      "source": [
        "If we inspect the graph state at this point, we the node set to execute next (`step_2`).\n",
        "\n",
        "\n",
        "如果我们在此时检查图形状态，我们会看到接下来要执行的节点集 (`step_2`)。\n",
        "\n"
      ]
    },
    {
      "cell_type": "code",
      "execution_count": 3,
      "id": "34706f0d-379b-4236-a42e-c8e52b27fb22",
      "metadata": {},
      "outputs": [
        {
          "name": "stdout",
          "output_type": "stream",
          "text": [
            "('step_2',)\n"
          ]
        }
      ],
      "source": [
        "state = graph.get_state(thread_config)\n",
        "print(state.next)"
      ]
    },
    {
      "cell_type": "markdown",
      "id": "3ed78755-f1e8-4c66-a4f8-a7ccff472c91",
      "metadata": {},
      "source": [
        "We can see that the `Interrupt` is logged to state.\n",
        "\n",
        "我们可以看到 `Interrupt` 已记录到状态。\n",
        "\n"
      ]
    },
    {
      "cell_type": "code",
      "execution_count": 4,
      "id": "93815a05-819a-4050-8834-73236fa910dc",
      "metadata": {},
      "outputs": [
        {
          "name": "stdout",
          "output_type": "stream",
          "text": [
            "(PregelTask(id='69ed9fed-119e-088f-40c2-ef2f64e255f0', name='step_2', path=('__pregel_pull', 'step_2'), error=None, interrupts=(Interrupt(value='收到长度超过5个字符的输入: hello world', resumable=False, ns=None),), state=None, result=None),)\n"
          ]
        }
      ],
      "source": [
        "print(state.tasks)"
      ]
    },
    {
      "cell_type": "markdown",
      "id": "27d74573-b62c-4ac1-a142-d04c2dccfd08",
      "metadata": {},
      "source": [
        "We can try to resume the graph from the breakpoint. \n",
        "\n",
        "我们可以尝试从断点恢复图。\n",
        "\n",
        "But, this just re-runs the same node! \n",
        "\n",
        "但是，这只会重新运行相同的节点！\n",
        "\n",
        "Unless state is changed we will be stuck here.\n",
        "\n",
        "除非状态发生变化，否则我们将一直卡在这里。\n",
        "\n"
      ]
    },
    {
      "cell_type": "code",
      "execution_count": 5,
      "id": "b735875e-62c6-4253-ba85-7ccf93a353b4",
      "metadata": {},
      "outputs": [
        {
          "name": "stdout",
          "output_type": "stream",
          "text": [
            "{'input': 'hello world'}\n"
          ]
        }
      ],
      "source": [
        "for event in graph.stream(None, thread_config, stream_mode=\"values\"):\n",
        "    print(event)"
      ]
    },
    {
      "cell_type": "code",
      "execution_count": 6,
      "id": "1e3bc5e3-7a2f-49a1-8bdc-fd3597bd5fae",
      "metadata": {},
      "outputs": [
        {
          "name": "stdout",
          "output_type": "stream",
          "text": [
            "('step_2',)\n"
          ]
        }
      ],
      "source": [
        "state = graph.get_state(thread_config)\n",
        "print(state.next)"
      ]
    },
    {
      "cell_type": "markdown",
      "id": "79ab61de-5c3f-44a5-b417-e36b1a2f26dd",
      "metadata": {},
      "source": [
        "Now, we can update state.\n",
        "\n",
        "现在，我们可以更新状态。\n",
        "\n"
      ]
    },
    {
      "cell_type": "code",
      "execution_count": 7,
      "id": "6f08dff4-3399-46de-a9ba-ba89b8cdb61e",
      "metadata": {},
      "outputs": [
        {
          "data": {
            "text/plain": [
              "{'configurable': {'thread_id': '1',\n",
              "  'checkpoint_ns': '',\n",
              "  'checkpoint_id': '1ef6a434-06cf-6f1e-8002-0ea6dc69e075'}}"
            ]
          },
          "execution_count": 7,
          "metadata": {},
          "output_type": "execute_result"
        }
      ],
      "source": [
        "graph.update_state(\n",
        "    thread_config,\n",
        "    {\"input\": \"hi\"},\n",
        ")"
      ]
    },
    {
      "cell_type": "code",
      "execution_count": 8,
      "id": "4cb3f62b-fccd-47c3-af1e-541969e4d804",
      "metadata": {},
      "outputs": [
        {
          "name": "stdout",
          "output_type": "stream",
          "text": [
            "{'input': 'hi'}\n",
            "---Step 2---\n",
            "{'input': 'hi'}\n",
            "---Step 3---\n",
            "{'input': 'hi'}\n"
          ]
        }
      ],
      "source": [
        "for event in graph.stream(None, thread_config, stream_mode=\"values\"):\n",
        "    print(event)"
      ]
    },
    {
      "attachments": {},
      "cell_type": "markdown",
      "id": "76e3dea8-8270-42c7-8d24-606b79b9c6aa",
      "metadata": {},
      "source": [
        "### Usage with LangGraph API\n",
        "**⚠️ DISCLAIMER**\n",
        "\n",
        "**⚠️ 免责声明**\n",
        "\n",
        "Since the filming of these videos, we've updated Studio so that it can be run locally and opened in your browser. This is now the preferred way to run Studio (rather than using the Desktop App as shown in the video). See documentation [here](https://langchain-ai.github.io/langgraph/concepts/langgraph_studio/#local-development-server) on the local development server and [here](https://langchain-ai.github.io/langgraph/how-tos/local-studio/#run-the-development-server). To start the local development server, run the following command in your terminal in the `/studio` directory in this module:\n",
        "\n",
        "自从这些视频的拍摄以来，我们已经更新了 Studio，使其可以在本地运行并在浏览器中打开。这是现在运行 Studio 的首选方式（而不是像视频中所示使用桌面应用程序）。请参阅有关 [here](https://langchain-ai.github.io/langgraph/concepts/langgraph_studio/#local-development-server) 本地开发服务器的文档和 [here](https://langchain-ai.github.io/langgraph/how-tos/local-studio/#run-the-development-server)。要启动本地开发服务器，请在本模块的 `/studio` 目录中，在终端运行以下命令：\n",
        "\n",
        "```\n",
        "langgraph dev\n",
        "```\n",
        "\n",
        "You should see the following output:\n",
        "```\n",
        "- 🚀 API: http://127.0.0.1:2024\n",
        "- 🎨 Studio UI: https://smith.langchain.com/studio/?baseUrl=http://127.0.0.1:2024\n",
        "- 📚 API Docs: http://127.0.0.1:2024/docs\n",
        "```\n",
        "\n",
        "你应该看到以下输出：  \n",
        "```\n",
        "- 🚀 API: http://127.0.0.1:2024\n",
        "- 🎨 Studio UI: https://smith.langchain.com/studio/?baseUrl=http://127.0.0.1:2024\n",
        "- 📚 API Docs: http://127.0.0.1:2024/docs\n",
        "```\n",
        "\n",
        "Open your browser and navigate to the Studio UI: `https://smith.langchain.com/studio/?baseUrl=http://127.0.0.1:2024`.\n",
        "\n",
        "打开您的浏览器并导航到 Studio UI：`https://smith.langchain.com/studio/?baseUrl=http://127.0.0.1:2024`。\n",
        "\n"
      ]
    },
    {
      "cell_type": "code",
      "execution_count": 1,
      "id": "be02c417-5adc-4789-aa90-02fd2312eb53",
      "metadata": {},
      "outputs": [],
      "source": [
        "if 'google.colab' in str(get_ipython()):\n",
        "    raise Exception(\"Unfortunately LangGraph Studio is currently not supported on Google Colab\")"
      ]
    },
    {
      "cell_type": "markdown",
      "id": "2390ff2e-6b1a-4c6e-b0ce-debd45085dc8",
      "metadata": {},
      "source": [
        "We connect to it via the SDK.\n",
        "\n",
        "我们通过 SDK 连接到它。\n",
        "\n"
      ]
    },
    {
      "cell_type": "code",
      "execution_count": 2,
      "id": "4696327d",
      "metadata": {},
      "outputs": [],
      "source": [
        "from langgraph_sdk import get_client\n",
        "\n",
        "# This is the URL of the local development server\n",
        "URL = \"http://127.0.0.1:2024\"\n",
        "client = get_client(url=URL)\n",
        "\n",
        "# Search all hosted graphs\n",
        "assistants = await client.assistants.search()"
      ]
    },
    {
      "cell_type": "code",
      "execution_count": 12,
      "id": "8cb892cb-c79c-46bb-820b-d0479e71c5c4",
      "metadata": {},
      "outputs": [
        {
          "name": "stdout",
          "output_type": "stream",
          "text": [
            "Receiving new event of type: metadata...\n",
            "{'run_id': '1ef6a43a-1b04-64d0-9a79-1caff72c8a89'}\n",
            "\n",
            "\n",
            "\n",
            "Receiving new event of type: values...\n",
            "{'input': 'hello world'}\n",
            "\n",
            "\n",
            "\n",
            "Receiving new event of type: values...\n",
            "{'input': 'hello world'}\n",
            "\n",
            "\n",
            "\n"
          ]
        }
      ],
      "source": [
        "thread = await client.threads.create()\n",
        "input_dict = {\"input\": \"hello world\"}\n",
        "\n",
        "async for chunk in client.runs.stream(\n",
        "    thread[\"thread_id\"],\n",
        "    assistant_id=\"dynamic_breakpoints\",\n",
        "    input=input_dict,\n",
        "    stream_mode=\"values\",):\n",
        "    \n",
        "    print(f\"Receiving new event of type: {chunk.event}...\")\n",
        "    print(chunk.data)\n",
        "    print(\"\\n\\n\")"
      ]
    },
    {
      "cell_type": "code",
      "execution_count": 13,
      "id": "0ba7d9da",
      "metadata": {},
      "outputs": [],
      "source": [
        "current_state = await client.threads.get_state(thread['thread_id'])"
      ]
    },
    {
      "cell_type": "code",
      "execution_count": 14,
      "id": "9610fc2b-ae39-4ffa-84af-b049e7d22cd6",
      "metadata": {},
      "outputs": [
        {
          "data": {
            "text/plain": [
              "['step_2']"
            ]
          },
          "execution_count": 14,
          "metadata": {},
          "output_type": "execute_result"
        }
      ],
      "source": [
        "current_state['next']"
      ]
    },
    {
      "cell_type": "code",
      "execution_count": 15,
      "id": "1e880cf0-18b1-4f7b-a770-24d45dd22757",
      "metadata": {},
      "outputs": [
        {
          "data": {
            "text/plain": [
              "{'configurable': {'thread_id': 'ea8c2912-987e-49d9-b890-6e81d46065f9',\n",
              "  'checkpoint_ns': '',\n",
              "  'checkpoint_id': '1ef6a43a-64b2-6e85-8002-3cf4f2873968'},\n",
              " 'checkpoint_id': '1ef6a43a-64b2-6e85-8002-3cf4f2873968'}"
            ]
          },
          "execution_count": 15,
          "metadata": {},
          "output_type": "execute_result"
        }
      ],
      "source": [
        "await client.threads.update_state(thread['thread_id'], {\"input\": \"hi!\"})"
      ]
    },
    {
      "cell_type": "code",
      "execution_count": 23,
      "id": "16dc65b9-95c0-46eb-9f73-da0a35e70034",
      "metadata": {},
      "outputs": [
        {
          "name": "stdout",
          "output_type": "stream",
          "text": [
            "Receiving new event of type: metadata...\n",
            "{'run_id': '1ef64c33-fb34-6eaf-8b59-1d85c5b8acc9'}\n",
            "\n",
            "\n",
            "\n",
            "Receiving new event of type: values...\n",
            "{'input': 'hi!'}\n",
            "\n",
            "\n",
            "\n",
            "Receiving new event of type: values...\n",
            "{'input': 'hi!'}\n",
            "\n",
            "\n",
            "\n"
          ]
        }
      ],
      "source": [
        "async for chunk in client.runs.stream(\n",
        "    thread[\"thread_id\"],\n",
        "    assistant_id=\"dynamic_breakpoints\",\n",
        "    input=None,\n",
        "    stream_mode=\"values\",):\n",
        "    \n",
        "    print(f\"Receiving new event of type: {chunk.event}...\")\n",
        "    print(chunk.data)\n",
        "    print(\"\\n\\n\")"
      ]
    },
    {
      "cell_type": "code",
      "execution_count": 16,
      "id": "5f662b10-ad4c-45c7-a420-ded8ccae8faa",
      "metadata": {},
      "outputs": [
        {
          "data": {
            "text/plain": [
              "{'values': {'input': 'hi!'},\n",
              " 'next': ['step_2'],\n",
              " 'tasks': [{'id': '858e41b2-6501-585c-9bca-55c1e729ef91',\n",
              "   'name': 'step_2',\n",
              "   'error': None,\n",
              "   'interrupts': [],\n",
              "   'state': None}],\n",
              " 'metadata': {'step': 2,\n",
              "  'source': 'update',\n",
              "  'writes': {'step_1': {'input': 'hi!'}},\n",
              "  'parents': {},\n",
              "  'graph_id': 'dynamic_breakpoints'},\n",
              " 'created_at': '2024-09-03T22:27:05.707260+00:00',\n",
              " 'checkpoint_id': '1ef6a43a-64b2-6e85-8002-3cf4f2873968',\n",
              " 'parent_checkpoint_id': '1ef6a43a-1cb8-6c3d-8001-7b11d0d34f00'}"
            ]
          },
          "execution_count": 16,
          "metadata": {},
          "output_type": "execute_result"
        }
      ],
      "source": [
        "current_state = await client.threads.get_state(thread['thread_id'])\n",
        "current_state"
      ]
    },
    {
      "cell_type": "code",
      "execution_count": null,
      "id": "873b3696-df61-4f2e-94d8-089b7072aafa",
      "metadata": {},
      "outputs": [],
      "source": []
    }
  ],
  "metadata": {
    "kernelspec": {
      "display_name": "Python 3",
      "language": "python",
      "name": "python3"
    },
    "language_info": {
      "codemirror_mode": {
        "name": "ipython",
        "version": 3
      },
      "file_extension": ".py",
      "mimetype": "text/x-python",
      "name": "python",
      "nbconvert_exporter": "python",
      "pygments_lexer": "ipython3",
      "version": "3.11.1"
    }
  },
  "nbformat": 4,
  "nbformat_minor": 5
}
