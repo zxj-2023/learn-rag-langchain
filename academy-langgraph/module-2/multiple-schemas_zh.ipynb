{
  "cells": [
    {
      "cell_type": "markdown",
      "id": "e2996fea",
      "metadata": {},
      "source": [
        "[PROTECTED$11$](https://colab.research.google.com/github/langchain-ai/langchain-academy/blob/main/module-2/multiple-schemas.ipynb) [PROTECTED$12$](https://academy.langchain.com/courses/take/intro-to-langgraph/lessons/58239434-lesson-3-multiple-schemas)\n",
        "\n"
      ]
    },
    {
      "cell_type": "markdown",
      "id": "693d9912-8d56-46a2-a445-3ee5651fe433",
      "metadata": {},
      "source": [
        "# 多个模式（Multiple Schemas）\n",
        "\n",
        "## 评审（Review）\n",
        "\n",
        "We just covered state schema and reducers.\n",
        "\n",
        "我们刚刚介绍了状态模式和 reducers。\n",
        "\n",
        "Typically, all graph nodes communicate with a single schema. \n",
        "\n",
        "通常情况下，所有图节点都与单一模式进行通信。\n",
        "\n",
        "Also, this single schema contains the graph's input and output keys / channels.\n",
        "\n",
        "此外，该单一模式还包含图形的输入和输出键/通道。\n",
        "\n",
        "## 目标（Goals）\n",
        "\n",
        "But, there are cases where we may want a bit more control over this:\n",
        "\n",
        "但是，有些情况下我们可能希望对此有更多的控制：\n",
        "\n",
        "* Internal nodes may pass information that is *not required* in the graph's input / output.\n",
        "\n",
        "*内部节点可能会传递在图的输入/输出中*不必要* 的信息。\n",
        "\n",
        "* We may also want to use different input / output schemas for the graph. The output might, for example, only contain a single relevant output key.\n",
        "\n",
        "* 我们可能还希望为图使用不同的输入/输出模式。例如，输出可能仅包含一个相关的输出键。\n",
        "\n",
        "We'll discuss a few ways to customize graphs with multiple schemas.\n",
        "\n",
        "我们将讨论几种使用多种模式定制图形的方法。\n",
        "\n"
      ]
    },
    {
      "cell_type": "code",
      "execution_count": 1,
      "id": "4d727cc2-5a43-4eb5-9d69-82bbbcc35bd9",
      "metadata": {},
      "outputs": [],
      "source": [
        "%%capture --no-stderr\n",
        "%pip install --quiet -U langgraph"
      ]
    },
    {
      "cell_type": "markdown",
      "id": "29b3d109-6bf2-4271-9775-556ee4bd900d",
      "metadata": {},
      "source": [
        "## 私有状态（Private State）\n",
        "\n",
        "First, let's cover the case of passing [private state](https://langchain-ai.github.io/langgraph/how-tos/pass_private_state/) between nodes.\n",
        "\n",
        "首先，让我们讨论在节点之间传递 [private state](https://langchain-ai.github.io/langgraph/how-tos/pass_private_state/) 的情况。\n",
        "\n",
        "This is useful for anything needed as part of the intermediate working logic of the graph, but not relevant for the overall graph input or output.\n",
        "\n",
        "这对于图形的中间计算逻辑中需要的任何内容都很有用，但与图形的整体输入或输出无关。\n",
        "\n",
        "We'll define an `OverallState` and a `PrivateState`.\n",
        "\n",
        "我们将定义一个 `OverallState` 和一个 `PrivateState`。\n",
        "\n",
        "`node_2` uses `PrivateState` as input, but writes out to `OverallState`.\n",
        "\n",
        "`node_2` 使用 `PrivateState` 作为输入，但输出写入到 `OverallState`。\n",
        "\n"
      ]
    },
    {
      "cell_type": "code",
      "execution_count": 1,
      "id": "038ca2e4-7d6d-49d5-b213-b38469cde434",
      "metadata": {},
      "outputs": [
        {
          "data": {
            "image/png": "[encoded data removed]",
            "text/plain": [
              "<IPython.core.display.Image object>"
            ]
          },
          "metadata": {},
          "output_type": "display_data"
        }
      ],
      "source": [
        "from typing_extensions import TypedDict\n",
        "from IPython.display import Image, display\n",
        "from langgraph.graph import StateGraph, START, END\n",
        "\n",
        "class OverallState(TypedDict):\n",
        "    foo: int\n",
        "\n",
        "class PrivateState(TypedDict):\n",
        "    baz: int\n",
        "\n",
        "def node_1(state: OverallState) -> PrivateState:\n",
        "    print(\"---Node 1---\")\n",
        "    return {\"baz\": state['foo'] + 1}\n",
        "\n",
        "def node_2(state: PrivateState) -> OverallState:\n",
        "    print(\"---Node 2---\")\n",
        "    return {\"foo\": state['baz'] + 1}\n",
        "\n",
        "# Build graph\n",
        "builder = StateGraph(OverallState)\n",
        "builder.add_node(\"node_1\", node_1)\n",
        "builder.add_node(\"node_2\", node_2)\n",
        "\n",
        "# Logic\n",
        "builder.add_edge(START, \"node_1\")\n",
        "builder.add_edge(\"node_1\", \"node_2\")\n",
        "builder.add_edge(\"node_2\", END)\n",
        "\n",
        "# Add\n",
        "graph = builder.compile()\n",
        "\n",
        "# View\n",
        "display(Image(graph.get_graph().draw_mermaid_png()))"
      ]
    },
    {
      "cell_type": "code",
      "execution_count": 2,
      "id": "3dc9cd64-4bd3-4c0a-8f8f-d58c551428e3",
      "metadata": {},
      "outputs": [
        {
          "name": "stdout",
          "output_type": "stream",
          "text": [
            "---Node 1---\n",
            "---Node 2---\n"
          ]
        },
        {
          "data": {
            "text/plain": [
              "{'foo': 3}"
            ]
          },
          "execution_count": 2,
          "metadata": {},
          "output_type": "execute_result"
        }
      ],
      "source": [
        "graph.invoke({\"foo\" : 1})"
      ]
    },
    {
      "cell_type": "markdown",
      "id": "50a29f37-f653-4a56-ad0a-345d7f632ea0",
      "metadata": {},
      "source": [
        "`baz` is only included in `PrivateState`.\n",
        "\n",
        "`baz` 仅包含在 `PrivateState` 中。\n",
        "\n",
        "`node_2` uses `PrivateState` as input, but writes out to `OverallState`.\n",
        "\n",
        "`node_2` 使用 `PrivateState` 作为输入，但输出到 `OverallState`。\n",
        "\n",
        "So, we can see that `baz` is excluded from the graph output because it is not in `OverallState`.\n",
        "\n",
        "因此，我们可以看到 `baz` 被排除在图形输出之外，因为它不在 `OverallState` 中。\n",
        "\n"
      ]
    },
    {
      "cell_type": "markdown",
      "id": "75a8362f-009b-4ec2-abe5-8fb318e39966",
      "metadata": {},
      "source": [
        "## 输入/输出模式（Input / Output Schema）\n",
        "\n",
        "By default, `StateGraph` takes in a single schema and all nodes are expected to communicate with that schema. \n",
        "\n",
        "默认情况下，`StateGraph` 接受单一模式，并且所有节点都应与此模式进行通信。\n",
        "\n",
        "However, it is also possible to [为图定义显式输入和输出模式](https://langchain-ai.github.io/langgraph/how-tos/input_output_schema/?h=input+outp).\n",
        "\n",
        "然而，也有可能 [为图定义显式输入和输出模式](https://langchain-ai.github.io/langgraph/how-tos/input_output_schema/?h=input+outp)。\n",
        "\n",
        "Often, in these cases, we define an \"internal\" schema that contains *all* keys relevant to graph operations.\n",
        "\n",
        "通常，这些情况下，我们定义一个“内部”模式，该模式包含 *所有* 与图形操作相关的键。\n",
        "\n",
        "But, we use specific `input` and `output` schemas to constrain the input and output.\n",
        "\n",
        "但是，我们使用特定的 `input` 和 `output` 模式来约束输入和输出。\n",
        "\n",
        "First, let's just run the graph with a single schema.\n",
        "\n",
        "首先，让我们使用单个 PROTECTED$1$ 模式运行图。\n",
        "\n"
      ]
    },
    {
      "cell_type": "code",
      "execution_count": 3,
      "id": "5323068a-907a-438c-8db5-46e5d452ad72",
      "metadata": {},
      "outputs": [
        {
          "data": {
            "image/png": "[encoded data removed]",
            "text/plain": [
              "<IPython.core.display.Image object>"
            ]
          },
          "metadata": {},
          "output_type": "display_data"
        }
      ],
      "source": [
        "class OverallState(TypedDict):\n",
        "    question: str\n",
        "    answer: str\n",
        "    notes: str\n",
        "\n",
        "def thinking_node(state: OverallState):\n",
        "    return {\"answer\": \"bye\", \"notes\": \"... his name is Lance\"}\n",
        "\n",
        "def answer_node(state: OverallState):\n",
        "    return {\"answer\": \"bye Lance\"}\n",
        "\n",
        "graph = StateGraph(OverallState)\n",
        "graph.add_node(\"answer_node\", answer_node)\n",
        "graph.add_node(\"thinking_node\", thinking_node)\n",
        "graph.add_edge(START, \"thinking_node\")\n",
        "graph.add_edge(\"thinking_node\", \"answer_node\")\n",
        "graph.add_edge(\"answer_node\", END)\n",
        "\n",
        "graph = graph.compile()\n",
        "\n",
        "# View\n",
        "display(Image(graph.get_graph().draw_mermaid_png()))"
      ]
    },
    {
      "cell_type": "markdown",
      "id": "853fc90c-bf82-4d51-b3a5-ceb0b0ae5233",
      "metadata": {},
      "source": [
        "Notice that the output of invoke contains all keys in `OverallState`. \n",
        "\n",
        "请注意，invoke 的输出包含 `OverallState` 中的所有键。\n",
        "\n"
      ]
    },
    {
      "cell_type": "code",
      "execution_count": 5,
      "id": "507d35e6-f65c-4e89-b26e-a0ef7b90be83",
      "metadata": {},
      "outputs": [
        {
          "data": {
            "text/plain": [
              "{'question': 'hi', 'answer': 'bye Lance', 'notes': '... his name is Lance'}"
            ]
          },
          "execution_count": 5,
          "metadata": {},
          "output_type": "execute_result"
        }
      ],
      "source": [
        "graph.invoke({\"question\":\"hi\"})"
      ]
    },
    {
      "cell_type": "markdown",
      "id": "e5a899c3-e1b0-48eb-9a36-8c787e378ef0",
      "metadata": {},
      "source": [
        "Now, let's use a specific `input` and `output` schema with our graph.\n",
        "\n",
        "现在，让我们在图形中使用特定的 `input` 和 `output` 模式。\n",
        "\n",
        "Here, `input` / `output` schemas perform *filtering* on what keys are permitted on the input and output of the graph. \n",
        "\n",
        "在这里，`input` / `output` 模式对图的输入和输出上允许的键进行 *过滤*。\n",
        "\n",
        "In addition, we can use a type hint `state: InputState` to specify the input schema of each of our nodes.\n",
        "\n",
        "此外，我们可以使用类型提示 `state: InputState` 来指定每个节点的输入模式。\n",
        "\n",
        "This is important when the graph is using multiple schemas.\n",
        "\n",
        "当图使用多个模式时，这一点很重要。\n",
        "\n",
        "We use type hints below to, for example, show that the output of `answer_node` will be filtered to `OutputState`. \n",
        "\n",
        "我们在下面使用类型提示来，例如，显示 `answer_node` 的输出将被过滤为 `OutputState`。\n",
        "\n"
      ]
    },
    {
      "cell_type": "code",
      "execution_count": 4,
      "id": "682b3d10-c78a-41c2-a5ff-842e1688c95f",
      "metadata": {},
      "outputs": [
        {
          "data": {
            "image/png": "[encoded data removed]",
            "text/plain": [
              "<IPython.core.display.Image object>"
            ]
          },
          "metadata": {},
          "output_type": "display_data"
        },
        {
          "data": {
            "text/plain": [
              "{'answer': 'bye Lance'}"
            ]
          },
          "execution_count": 4,
          "metadata": {},
          "output_type": "execute_result"
        }
      ],
      "source": [
        "class InputState(TypedDict):\n",
        "    question: str\n",
        "\n",
        "class OutputState(TypedDict):\n",
        "    answer: str\n",
        "\n",
        "class OverallState(TypedDict):\n",
        "    question: str\n",
        "    answer: str\n",
        "    notes: str\n",
        "\n",
        "def thinking_node(state: InputState):\n",
        "    return {\"answer\": \"bye\", \"notes\": \"... his is name is Lance\"}\n",
        "\n",
        "def answer_node(state: OverallState) -> OutputState:\n",
        "    return {\"answer\": \"bye Lance\"}\n",
        "\n",
        "graph = StateGraph(OverallState, input_schema=InputState, output_schema=OutputState)\n",
        "graph.add_node(\"answer_node\", answer_node)\n",
        "graph.add_node(\"thinking_node\", thinking_node)\n",
        "graph.add_edge(START, \"thinking_node\")\n",
        "graph.add_edge(\"thinking_node\", \"answer_node\")\n",
        "graph.add_edge(\"answer_node\", END)\n",
        "\n",
        "graph = graph.compile()\n",
        "\n",
        "# View\n",
        "display(Image(graph.get_graph().draw_mermaid_png()))\n",
        "\n",
        "graph.invoke({\"question\":\"hi\"})"
      ]
    },
    {
      "cell_type": "markdown",
      "id": "f1e5ff21",
      "metadata": {},
      "source": [
        "We can see the `output` schema constrains the output to only the `answer` key.\n",
        "\n",
        "我们可以看到 `output` 模式将输出限制为仅包含 `answer` 键。\n",
        "\n"
      ]
    },
    {
      "cell_type": "markdown",
      "id": "dad97b85",
      "metadata": {},
      "source": [
        "\n"
      ]
    }
  ],
  "metadata": {
    "kernelspec": {
      "display_name": "Python 3",
      "language": "python",
      "name": "python3"
    },
    "language_info": {
      "codemirror_mode": {
        "name": "ipython",
        "version": 3
      },
      "file_extension": ".py",
      "mimetype": "text/x-python",
      "name": "python",
      "nbconvert_exporter": "python",
      "pygments_lexer": "ipython3",
      "version": "3.11.1"
    }
  },
  "nbformat": 4,
  "nbformat_minor": 5
}
