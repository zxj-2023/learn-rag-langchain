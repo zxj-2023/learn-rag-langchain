{
  "cells": [
    {
      "cell_type": "markdown",
      "id": "cf7ccb32",
      "metadata": {},
      "source": [
        "[PROTECTED$11$](https://colab.research.google.com/github/langchain-ai/langchain-academy/blob/main/module-2/chatbot-external-memory.ipynb) [PROTECTED$12$](https://academy.langchain.com/courses/take/intro-to-langgraph/lessons/58239440-lesson-6-chatbot-w-summarizing-messages-and-external-memory)\n",
        "\n"
      ]
    },
    {
      "cell_type": "markdown",
      "id": "af6c7afe-1037-41ab-98e4-494692e47402",
      "metadata": {},
      "source": [
        "# 具有消息总结和外部数据库记忆的聊天机器人（Chatbot with message summarization & external DB memory）\n",
        "\n",
        "## 评论（Review）\n",
        "\n",
        "We've covered how to customize graph state schema and reducer. \n",
        " \n",
        "We've also shown a number of tricks for trimming or filtering messages in graph state. \n",
        "\n",
        "我们已经介绍了如何自定义图状态模式和 reducer。  \n",
        "\n",
        "我们还展示了许多修剪或过滤图状态中消息的技巧。\n",
        "\n",
        "We've used these concepts in a Chatbot with memory that produces a running summary of the conversation.\n",
        "\n",
        "我们在一个带有记忆的聊天机器人中使用了这些概念，该聊天机器人会生成对话的实时摘要。\n",
        "\n",
        "## 目标（Goals）\n",
        "\n",
        "But, what if we want our Chatbot to have memory that persists indefinitely?\n",
        "\n",
        "但是，如果我们希望我们的聊天机器人拥有持久无限的记忆，该怎么办呢？\n",
        "\n",
        "Now, we'll introduce some more advanced checkpointers that support external databases. \n",
        "\n",
        "现在，我们将介绍一些支持外部数据库的更高级检查点工具。\n",
        "\n",
        "Here, we'll show how to use [Sqlite as a checkpointer](https://langchain-ai.github.io/langgraph/concepts/low_level/#checkpointer), but other checkpointers, such as [Postgres](https://langchain-ai.github.io/langgraph/how-tos/persistence_postgres/) are available!\n",
        "\n",
        "在这里，我们将展示如何使用 [Sqlite as a checkpointer](https://langchain-ai.github.io/langgraph/concepts/low_level/#checkpointer)，但也有其他检查点工具可用，例如 [Postgres](https://langchain-ai.github.io/langgraph/how-tos/persistence_postgres/)！\n",
        "\n"
      ]
    },
    {
      "cell_type": "code",
      "execution_count": 5,
      "id": "85ed78d9-6ca2-45ac-96a9-52e341ec519d",
      "metadata": {},
      "outputs": [],
      "source": [
        "%%capture --no-stderr\n",
        "%pip install --quiet -U langgraph-checkpoint-sqlite langchain_core langgraph langchain_openai"
      ]
    },
    {
      "cell_type": "code",
      "execution_count": null,
      "id": "2e10c4d4",
      "metadata": {},
      "outputs": [],
      "source": [
        "import os, getpass\n",
        "\n",
        "def _set_env(var: str):\n",
        "    if not os.environ.get(var):\n",
        "        os.environ[var] = getpass.getpass(f\"{var}: \")\n",
        "\n",
        "_set_env(\"OPENAI_API_KEY\")"
      ]
    },
    {
      "cell_type": "markdown",
      "id": "b40d25c0-e9b5-4854-bf07-3cc3ff07122e",
      "metadata": {},
      "source": [
        "## Sqlite\n",
        "\n",
        "A good starting point here is the [SqliteSaver checkpointer](https://langchain-ai.github.io/langgraph/concepts/low_level/#checkpointer).\n",
        "\n",
        "一个很好的起点是 [SqliteSaver checkpointer](https://langchain-ai.github.io/langgraph/concepts/low_level/#checkpointer)。\n",
        "\n",
        "Sqlite is a [small, fast, highly popular](https://x.com/karpathy/status/1819490455664685297) SQL database. \n",
        " \n",
        "If we supply `\":memory:\"` it creates an in-memory Sqlite database.\n"
      ]
    },
    {
      "cell_type": "code",
      "execution_count": 1,
      "id": "fae15402-17ae-4e89-8ecf-4c89e08b22fe",
      "metadata": {},
      "outputs": [],
      "source": [
        "import sqlite3\n",
        "# In memory\n",
        "conn = sqlite3.connect(\":memory:\", check_same_thread = False)"
      ]
    },
    {
      "cell_type": "markdown",
      "id": "c2bf53ec-6d4a-42ce-8183-344795eed403",
      "metadata": {},
      "source": [
        "But, if we supply a db path, then it will create a database for us!\n",
        "\n",
        "但是，如果我们提供一个 db 路径，那么它将为我们创建一个数据库！\n",
        "\n"
      ]
    },
    {
      "cell_type": "code",
      "execution_count": null,
      "id": "58339167-920c-4994-a0a7-0a9c5d4f7cf7",
      "metadata": {},
      "outputs": [],
      "source": [
        "#在本地创建一个目录 state_db，并尝试从 GitHub 下载一个名为 example.db 的 SQLite 数据库文件\n",
        "!mkdir -p state_db && [ ! -f state_db/example.db ] && wget -P state_db https://github.com/langchain-ai/langchain-academy/raw/main/module-2/state_db/example.db\n",
        "\n",
        "db_path = \"state_db/example.db\"\n",
        "conn = sqlite3.connect(db_path, check_same_thread=False)"
      ]
    },
    {
      "cell_type": "code",
      "execution_count": 3,
      "id": "3c7736b6-a750-48f8-a838-8e7616b12250",
      "metadata": {},
      "outputs": [],
      "source": [
        "# Here is our checkpointer \n",
        "from langgraph.checkpoint.sqlite import SqliteSaver\n",
        "memory = SqliteSaver(conn)"
      ]
    },
    {
      "cell_type": "markdown",
      "id": "9d8cb629-213f-4b87-965e-19b812c42da1",
      "metadata": {},
      "source": [
        "Let's re-define our chatbot.\n",
        "\n",
        "让我们重新定义我们的聊天机器人。\n",
        "\n"
      ]
    },
    {
      "cell_type": "code",
      "execution_count": 6,
      "id": "dc414e29-2078-41a0-887c-af1a6a3d72c0",
      "metadata": {},
      "outputs": [],
      "source": [
        "from langchain_openai import ChatOpenAI\n",
        "from langchain_core.messages import SystemMessage, HumanMessage, RemoveMessage\n",
        "\n",
        "from langgraph.graph import END\n",
        "from langgraph.graph import MessagesState\n",
        "\n",
        "model = ChatOpenAI(\n",
        "    model=\"qwen-plus-2025-04-28\",\n",
        "    api_key=\"sk-ba2dda3817f145d7af141fdf32e31d90\",\n",
        "    base_url=\"https://dashscope.aliyuncs.com/compatible-mode/v1\"\n",
        ")\n",
        "\n",
        "class State(MessagesState):\n",
        "    summary: str\n",
        "\n",
        "# Define the logic to call the model\n",
        "def call_model(state: State):\n",
        "    \n",
        "    # Get summary if it exists\n",
        "    summary = state.get(\"summary\", \"\")\n",
        "\n",
        "    # If there is summary, then we add it\n",
        "    if summary:\n",
        "        \n",
        "        # Add summary to system message\n",
        "        system_message = f\"Summary of conversation earlier: {summary}\"\n",
        "\n",
        "        # Append summary to any newer messages\n",
        "        messages = [SystemMessage(content=system_message)] + state[\"messages\"]\n",
        "    \n",
        "    else:\n",
        "        messages = state[\"messages\"]\n",
        "    \n",
        "    response = model.invoke(messages)\n",
        "    return {\"messages\": response}\n",
        "\n",
        "def summarize_conversation(state: State):\n",
        "    \n",
        "    # First, we get any existing summary\n",
        "    summary = state.get(\"summary\", \"\")\n",
        "\n",
        "    # Create our summarization prompt \n",
        "    if summary:\n",
        "        \n",
        "        # A summary already exists\n",
        "        summary_message = (\n",
        "            f\"This is summary of the conversation to date: {summary}\\n\\n\"\n",
        "            \"Extend the summary by taking into account the new messages above:\"\n",
        "        )\n",
        "        \n",
        "    else:\n",
        "        summary_message = \"Create a summary of the conversation above:\"\n",
        "\n",
        "    # Add prompt to our history\n",
        "    messages = state[\"messages\"] + [HumanMessage(content=summary_message)]\n",
        "    response = model.invoke(messages)\n",
        "    \n",
        "    # Delete all but the 2 most recent messages\n",
        "    delete_messages = [RemoveMessage(id=m.id) for m in state[\"messages\"][:-2]]\n",
        "    return {\"summary\": response.content, \"messages\": delete_messages}\n",
        "\n",
        "# Determine whether to end or summarize the conversation\n",
        "def should_continue(state: State):\n",
        "    \n",
        "    \"\"\"Return the next node to execute.\"\"\"\n",
        "    \n",
        "    messages = state[\"messages\"]\n",
        "    \n",
        "    # If there are more than six messages, then we summarize the conversation\n",
        "    if len(messages) > 6:\n",
        "        return \"summarize_conversation\"\n",
        "    \n",
        "    # Otherwise we can just end\n",
        "    return END"
      ]
    },
    {
      "cell_type": "markdown",
      "id": "41c13c0b-a383-4f73-9cc1-63f0eed8f190",
      "metadata": {},
      "source": [
        "Now, we just re-compile with our sqlite checkpointer.\n",
        "\n",
        "现在，我们只需重新编译并使用我们的 sqlite 检查点。\n",
        "\n"
      ]
    },
    {
      "cell_type": "code",
      "execution_count": 7,
      "id": "e867fd95-91eb-4ce1-82fc-bb72d611a96d",
      "metadata": {},
      "outputs": [
        {
          "data": {
            "image/png": "[encoded data removed]",
            "text/plain": [
              "<IPython.core.display.Image object>"
            ]
          },
          "metadata": {},
          "output_type": "display_data"
        }
      ],
      "source": [
        "from IPython.display import Image, display\n",
        "from langgraph.graph import StateGraph, START\n",
        "\n",
        "# Define a new graph\n",
        "workflow = StateGraph(State)\n",
        "workflow.add_node(\"conversation\", call_model)\n",
        "workflow.add_node(summarize_conversation)\n",
        "\n",
        "# Set the entrypoint as conversation\n",
        "workflow.add_edge(START, \"conversation\")\n",
        "workflow.add_conditional_edges(\"conversation\", should_continue)\n",
        "workflow.add_edge(\"summarize_conversation\", END)\n",
        "\n",
        "# Compile\n",
        "graph = workflow.compile(checkpointer=memory)\n",
        "display(Image(graph.get_graph().draw_mermaid_png()))"
      ]
    },
    {
      "cell_type": "markdown",
      "id": "8769db99-3938-45e6-a594-56beb18d6c45",
      "metadata": {},
      "source": [
        "Now, we can invoke the graph several times. \n",
        "\n",
        "现在，我们可以调用该图多次。\n",
        "\n"
      ]
    },
    {
      "cell_type": "code",
      "execution_count": 8,
      "id": "0f4094a0-d240-4be8-903a-7d9f605bdc5c",
      "metadata": {},
      "outputs": [
        {
          "name": "stdout",
          "output_type": "stream",
          "text": [
            "==================================\u001b[1m Ai Message \u001b[0m==================================\n",
            "\n",
            "你好，张锡军！很高兴认识你。如果你有任何问题或想讨论的话题，无论是关于科技、文化、生活还是其他方面，都可以告诉我。我会尽力帮助你！😊\n",
            "==================================\u001b[1m Ai Message \u001b[0m==================================\n",
            "\n",
            "你叫张锡军（Zhāng Xījūn）。😊 如果你需要确认自己的名字或其他信息，随时可以告诉我，我会留意的！\n",
            "==================================\u001b[1m Ai Message \u001b[0m==================================\n",
            "\n",
            "太棒了！你也喜欢玩《英雄联盟》（League of Legends）啊！这是一款非常受欢迎的多人在线战术竞技游戏，拥有丰富的英雄角色和策略性玩法。你平时喜欢玩什么位置？有没有特别喜欢的英雄？😊\n",
            "\n",
            "如果你有兴趣，我们也可以聊聊游戏中的技巧、最新版本的改动，或者一起讨论一些有趣的对局经历！\n"
          ]
        }
      ],
      "source": [
        "# Create a thread\n",
        "config = {\"configurable\": {\"thread_id\": \"1\"}}\n",
        "\n",
        "# Start conversation\n",
        "input_message = HumanMessage(content=\"你好我是张锡军\")\n",
        "output = graph.invoke({\"messages\": [input_message]}, config) \n",
        "for m in output['messages'][-1:]:\n",
        "    m.pretty_print()\n",
        "\n",
        "input_message = HumanMessage(content=\"我叫什么\")\n",
        "output = graph.invoke({\"messages\": [input_message]}, config) \n",
        "for m in output['messages'][-1:]:\n",
        "    m.pretty_print()\n",
        "\n",
        "input_message = HumanMessage(content=\"我喜欢玩lol!\")\n",
        "output = graph.invoke({\"messages\": [input_message]}, config) \n",
        "for m in output['messages'][-1:]:\n",
        "    m.pretty_print()"
      ]
    },
    {
      "cell_type": "markdown",
      "id": "c0f3e842-4497-45e2-a924-69672a9bcb33",
      "metadata": {},
      "source": [
        "Let's confirm that our state is saved locally.\n",
        "\n",
        "让我们确认一下我们的状态是否已保存到本地。\n",
        "\n"
      ]
    },
    {
      "cell_type": "code",
      "execution_count": 9,
      "id": "d2ab158a-5a82-417a-8841-730a4cc18ea7",
      "metadata": {},
      "outputs": [
        {
          "data": {
            "text/plain": [
              "StateSnapshot(values={'messages': [HumanMessage(content='你好我是张锡军', additional_kwargs={}, response_metadata={}, id='ddf7f09b-da6f-495d-abc7-58510ddea3ae'), AIMessage(content='你好，张锡军！很高兴认识你。如果你有任何问题或想讨论的话题，无论是关于科技、文化、生活还是其他方面，都可以告诉我。我会尽力帮助你！😊', additional_kwargs={'refusal': None}, response_metadata={'token_usage': {'completion_tokens': 38, 'prompt_tokens': 371, 'total_tokens': 409, 'completion_tokens_details': None, 'prompt_tokens_details': None}, 'model_name': 'qwen-plus-2025-04-28', 'system_fingerprint': None, 'id': 'chatcmpl-25bb4cf9-5782-9d3b-ab9c-dbe014752c59', 'service_tier': None, 'finish_reason': 'stop', 'logprobs': None}, id='run--efdaa2a1-2c0b-4857-a896-ef62f22effb5-0', usage_metadata={'input_tokens': 371, 'output_tokens': 38, 'total_tokens': 409, 'input_token_details': {}, 'output_token_details': {}}), HumanMessage(content='我叫什么', additional_kwargs={}, response_metadata={}, id='4645601c-b952-4fe6-89d6-18a6ffc5555c'), AIMessage(content='你叫张锡军（Zhāng Xījūn）。😊 如果你需要确认自己的名字或其他信息，随时可以告诉我，我会留意的！', additional_kwargs={'refusal': None}, response_metadata={'token_usage': {'completion_tokens': 32, 'prompt_tokens': 312, 'total_tokens': 344, 'completion_tokens_details': None, 'prompt_tokens_details': None}, 'model_name': 'qwen-plus-2025-04-28', 'system_fingerprint': None, 'id': 'chatcmpl-5a6fc5b2-7630-911e-983b-85146d89fdbb', 'service_tier': None, 'finish_reason': 'stop', 'logprobs': None}, id='run--45457ab1-7673-40b1-ae7d-98371fbd8008-0', usage_metadata={'input_tokens': 312, 'output_tokens': 32, 'total_tokens': 344, 'input_token_details': {}, 'output_token_details': {}}), HumanMessage(content='我喜欢玩lol!', additional_kwargs={}, response_metadata={}, id='72ea9f6b-c29a-4972-aa61-656da557873c'), AIMessage(content='太棒了！你也喜欢玩《英雄联盟》（League of Legends）啊！这是一款非常受欢迎的多人在线战术竞技游戏，拥有丰富的英雄角色和策略性玩法。你平时喜欢玩什么位置？有没有特别喜欢的英雄？😊\\n\\n如果你有兴趣，我们也可以聊聊游戏中的技巧、最新版本的改动，或者一起讨论一些有趣的对局经历！', additional_kwargs={'refusal': None}, response_metadata={'token_usage': {'completion_tokens': 77, 'prompt_tokens': 358, 'total_tokens': 435, 'completion_tokens_details': None, 'prompt_tokens_details': None}, 'model_name': 'qwen-plus-2025-04-28', 'system_fingerprint': None, 'id': 'chatcmpl-1b5b1784-8b0d-96c8-8abc-a619b4858f4f', 'service_tier': None, 'finish_reason': 'stop', 'logprobs': None}, id='run--1bbf64f7-b0cf-4646-bd74-7f28048648e8-0', usage_metadata={'input_tokens': 358, 'output_tokens': 77, 'total_tokens': 435, 'input_token_details': {}, 'output_token_details': {}})], 'summary': 'Certainly! Here\\'s an updated and extended summary of the conversation to date:\\n\\nLance initially introduced himself and expressed his interest in the San Francisco 49ers, prompting the AI assistant to acknowledge his name and offer a range of topics for discussion about the team. Lance repeated his introduction, which led the AI to reiterate his name and maintain a welcoming tone.\\n\\nLater in the conversation, a new participant (or possibly Lance switching personas) entered the conversation using the name \"张锡军\" (Zhāng Xījūn) and greeted the assistant in Chinese. The AI assistant responded warmly in Chinese, welcoming 张锡军 and offering assistance across a variety of potential topics.\\n\\nThe conversation thus includes two distinct self-introductions: one from \"Lance,\" an apparent fan of the 49ers, and one from \"张锡军\" (Zhāng Xījūn), who entered the conversation in Chinese. Whether these are two separate individuals or the same person experimenting with different identities is not clear. The AI assistant maintained a polite, welcoming, and helpful tone throughout, adapting to the language and responding to each introduction accordingly.'}, next=(), config={'configurable': {'thread_id': '1', 'checkpoint_ns': '', 'checkpoint_id': '1f0655c8-7e34-6e01-801b-4ccbcfc75161'}}, metadata={'source': 'loop', 'step': 27, 'parents': {}}, created_at='2025-07-20T11:27:33.970257+00:00', parent_config={'configurable': {'thread_id': '1', 'checkpoint_ns': '', 'checkpoint_id': '1f0655c8-695d-6e67-801a-7f3aafcfc1a2'}}, tasks=(), interrupts=())"
            ]
          },
          "execution_count": 9,
          "metadata": {},
          "output_type": "execute_result"
        }
      ],
      "source": [
        "config = {\"configurable\": {\"thread_id\": \"1\"}}\n",
        "graph_state = graph.get_state(config)\n",
        "graph_state"
      ]
    },
    {
      "cell_type": "markdown",
      "id": "1e21152d-ed9c-408d-b7d5-f634c9ce81e2",
      "metadata": {},
      "source": [
        "### Persisting state\n",
        "Using database like Sqlite means state is persisted! \n",
        "\n",
        "使用像 Sqlite 这样的数据库意味着状态会被持久化！\n",
        "\n",
        "For example, we can re-start the notebook kernel and see that we can still load from Sqlite DB on disk.\n",
        "\n",
        "\n",
        "例如，我们可以重新启动笔记本内核，并查看仍然可以从磁盘上的 Sqlite 数据库加载。\n",
        "\n"
      ]
    },
    {
      "cell_type": "code",
      "execution_count": 8,
      "id": "b9a44dc5-be04-45fa-a6fc-27b0f8ee4678",
      "metadata": {},
      "outputs": [
        {
          "data": {
            "text/plain": [
              "StateSnapshot(values={'messages': [HumanMessage(content=\"hi! I'm Lance\", id='d5bb4b3f-b1e9-4f61-8c75-7a7210b30253'), AIMessage(content=\"Hello again, Lance! It's great to hear from you. Since you like the 49ers, is there a particular player or moment in their history that stands out to you? Or perhaps you'd like to discuss their current season? Let me know!\", additional_kwargs={'refusal': None}, response_metadata={'token_usage': {'completion_tokens': 50, 'prompt_tokens': 337, 'total_tokens': 387}, 'model_name': 'gpt-4o-2024-05-13', 'system_fingerprint': 'fp_157b3831f5', 'finish_reason': 'stop', 'logprobs': None}, id='run-dde04d51-d305-4a9e-8ad5-6bdf5583196e-0', usage_metadata={'input_tokens': 337, 'output_tokens': 50, 'total_tokens': 387}), HumanMessage(content=\"what's my name?\", id='d7530770-f130-4a05-a602-a96fd87859c6'), AIMessage(content='Your name is Lance! How can I assist you today? Would you like to talk more about the San Francisco 49ers or something else?', additional_kwargs={'refusal': None}, response_metadata={'token_usage': {'completion_tokens': 29, 'prompt_tokens': 243, 'total_tokens': 272}, 'model_name': 'gpt-4o-2024-05-13', 'system_fingerprint': 'fp_fde2829a40', 'finish_reason': 'stop', 'logprobs': None}, id='run-763b6387-c4c9-4658-9d01-7c018dde7a62-0', usage_metadata={'input_tokens': 243, 'output_tokens': 29, 'total_tokens': 272}), HumanMessage(content='i like the 49ers!', id='235dcec4-b656-4bee-b741-e330e1a026e2'), AIMessage(content=\"That's awesome, Lance! The San Francisco 49ers have a rich history and a passionate fan base. Is there a specific aspect of the team you'd like to discuss? For example, we could talk about:\\n\\n- Their legendary players like Joe Montana and Jerry Rice\\n- Memorable games and Super Bowl victories\\n- The current roster and season prospects\\n- Rivalries, like the one with the Seattle Seahawks\\n- Levi's Stadium and the fan experience\\n\\nLet me know what interests you!\", additional_kwargs={'refusal': None}, response_metadata={'token_usage': {'completion_tokens': 98, 'prompt_tokens': 287, 'total_tokens': 385}, 'model_name': 'gpt-4o-2024-05-13', 'system_fingerprint': 'fp_fde2829a40', 'finish_reason': 'stop', 'logprobs': None}, id='run-729860b2-16c3-46ff-ad1e-0a5475565b20-0', usage_metadata={'input_tokens': 287, 'output_tokens': 98, 'total_tokens': 385})], 'summary': 'Here\\'s an extended summary of the conversation:\\n\\nLance introduced himself multiple times during the conversation, each time stating, \"Hi! I\\'m Lance.\" He expressed his fondness for the San Francisco 49ers football team. The AI assistant acknowledged Lance\\'s name each time and showed willingness to discuss the 49ers, offering to talk about various aspects of the team such as their history, current roster, memorable games, prospects for the upcoming season, rivalries, and their home stadium, Levi\\'s Stadium. Despite the AI\\'s attempts to engage in a more detailed discussion about the 49ers, Lance reintroduced himself again without directly responding to the AI\\'s questions or prompts about the team. The conversation remained brief and somewhat repetitive, focusing mainly on Lance\\'s introductions and his interest in the 49ers.'}, next=(), config={'configurable': {'thread_id': '1', 'checkpoint_ns': '', 'checkpoint_id': '1ef6a36d-ca9c-6144-801b-6d0cf97adc73'}}, metadata={'source': 'loop', 'writes': {'conversation': {'messages': AIMessage(content=\"That's awesome, Lance! The San Francisco 49ers have a rich history and a passionate fan base. Is there a specific aspect of the team you'd like to discuss? For example, we could talk about:\\n\\n- Their legendary players like Joe Montana and Jerry Rice\\n- Memorable games and Super Bowl victories\\n- The current roster and season prospects\\n- Rivalries, like the one with the Seattle Seahawks\\n- Levi's Stadium and the fan experience\\n\\nLet me know what interests you!\", additional_kwargs={'refusal': None}, response_metadata={'token_usage': {'completion_tokens': 98, 'prompt_tokens': 287, 'total_tokens': 385}, 'model_name': 'gpt-4o-2024-05-13', 'system_fingerprint': 'fp_fde2829a40', 'finish_reason': 'stop', 'logprobs': None}, id='run-729860b2-16c3-46ff-ad1e-0a5475565b20-0', usage_metadata={'input_tokens': 287, 'output_tokens': 98, 'total_tokens': 385})}}, 'step': 27, 'parents': {}}, created_at='2024-09-03T20:55:33.466540+00:00', parent_config={'configurable': {'thread_id': '1', 'checkpoint_ns': '', 'checkpoint_id': '1ef6a36d-b8f3-6b40-801a-494776d2e9e0'}}, tasks=())"
            ]
          },
          "execution_count": 8,
          "metadata": {},
          "output_type": "execute_result"
        }
      ],
      "source": [
        "# Create a thread\n",
        "config = {\"configurable\": {\"thread_id\": \"1\"}}\n",
        "graph_state = graph.get_state(config)\n",
        "graph_state"
      ]
    },
    {
      "cell_type": "markdown",
      "id": "8466e418-1a46-4cdb-a51a-6ae14281bb85",
      "metadata": {},
      "source": [
        "## 语言图工作室（LangGraph Studio）\n",
        "\n",
        "**⚠️ DISCLAIMER**\n",
        "\n",
        "**⚠️ 免责声明**\n",
        "\n",
        "Since the filming of these videos, we've updated Studio so that it can be run locally and opened in your browser. This is now the preferred way to run Studio (rather than using the Desktop App as shown in the video). See documentation [here](https://langchain-ai.github.io/langgraph/concepts/langgraph_studio/#local-development-server) on the local development server and [here](https://langchain-ai.github.io/langgraph/how-tos/local-studio/#run-the-development-server). To start the local development server, run the following command in your terminal in the `/studio` directory in this module:\n",
        "\n",
        "自从这些视频的录制以来，我们已经更新了 Studio，使其可以本地运行并在浏览器中打开。这是现在运行 Studio 的首选方式（而不是像视频中展示的那样使用桌面应用程序）。请参见关于本地开发服务器的文档 [here](https://langchain-ai.github.io/langgraph/concepts/langgraph_studio/#local-development-server) 和 [here](https://langchain-ai.github.io/langgraph/how-tos/local-studio/#run-the-development-server)。要启动本地开发服务器，请在本模块的 `/studio` 目录下的终端中运行以下命令：\n",
        "\n",
        "```\n",
        "langgraph dev\n",
        "```\n",
        "\n",
        "You should see the following output:\n",
        "```\n",
        "- 🚀 API: http://127.0.0.1:2024\n",
        "- 🎨 Studio UI: https://smith.langchain.com/studio/?baseUrl=http://127.0.0.1:2024\n",
        "- 📚 API Docs: http://127.0.0.1:2024/docs\n",
        "```\n",
        "\n",
        "你应该看到以下输出：  \n",
        "```\n",
        "- 🚀 API: http://127.0.0.1:2024\n",
        "- 🎨 Studio UI: https://smith.langchain.com/studio/?baseUrl=http://127.0.0.1:2024\n",
        "- 📚 API Docs: http://127.0.0.1:2024/docs\n",
        "```\n",
        "\n",
        "Open your browser and navigate to the Studio UI: `https://smith.langchain.com/studio/?baseUrl=http://127.0.0.1:2024`.\n",
        "\n",
        "打开您的浏览器并导航到 Studio UI：`https://smith.langchain.com/studio/?baseUrl=http://127.0.0.1:2024`。\n",
        "\n"
      ]
    },
    {
      "cell_type": "markdown",
      "id": "c4916d8b",
      "metadata": {},
      "source": [
        "\n"
      ]
    }
  ],
  "metadata": {
    "kernelspec": {
      "display_name": "Python 3",
      "language": "python",
      "name": "python3"
    },
    "language_info": {
      "codemirror_mode": {
        "name": "ipython",
        "version": 3
      },
      "file_extension": ".py",
      "mimetype": "text/x-python",
      "name": "python",
      "nbconvert_exporter": "python",
      "pygments_lexer": "ipython3",
      "version": "3.11.1"
    }
  },
  "nbformat": 4,
  "nbformat_minor": 5
}
