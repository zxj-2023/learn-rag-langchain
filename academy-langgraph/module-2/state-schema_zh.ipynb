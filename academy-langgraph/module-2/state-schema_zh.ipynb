{
  "cells": [
    {
      "cell_type": "markdown",
      "id": "256d3948",
      "metadata": {},
      "source": [
        "[PROTECTED$11$](https://colab.research.google.com/github/langchain-ai/langchain-academy/blob/main/module-2/state-schema.ipynb) [PROTECTED$12$](https://academy.langchain.com/courses/take/intro-to-langgraph/lessons/58239426-lesson-1-state-schema)\n",
        "\n"
      ]
    },
    {
      "cell_type": "markdown",
      "id": "f118fabe-37b7-4cd4-b7a4-9b0fc3875ca3",
      "metadata": {},
      "source": [
        "# 状态模式（State Schema）\n",
        "\n",
        "## 评审（Review）\n",
        "\n",
        "In module 1, we laid the foundations! We built up to an agent that can: \n",
        "\n",
        "在模块1中，我们奠定了基础！我们逐步构建了一个能够：\n",
        "\n",
        "* `act` - let the model call specific tools \n",
        "* `observe` - pass the tool output back to the model \n",
        "* `reason` - let the model reason about the tool output to decide what to do next (e.g., call another tool or just respond directly)\n",
        "* `persist state` - use an in memory checkpointer to support long-running conversations with interruptions\n",
        " \n",
        "And, we showed how to serve it locally in LangGraph Studio or deploy it with LangGraph Cloud. \n",
        "\n",
        "*`act` - 让模型调用特定工具* `observe` - 将工具输出传递回模型  \n",
        "*`reason` - 让模型对工具输出进行推理，以决定下一步操作（例如，调用另一个工具或直接响应）* `persist state` - 使用内存检查点支持带有中断的长时间对话  \n",
        "\n",
        "并且，我们展示了如何在 LangGraph Studio 中本地部署它，或者通过 LangGraph Cloud 进行部署。\n",
        "\n",
        "## 目标（Goals）\n",
        "\n",
        "In this module, we're going to build a deeper understanding of both state and memory.\n",
        "\n",
        "在本模块中，我们将深入理解状态和内存。\n",
        "\n",
        "First, let's review a few different ways to define your state schema.\n",
        "\n",
        "首先，让我们回顾一下定义状态模式的几种不同方法。\n",
        "\n"
      ]
    },
    {
      "cell_type": "code",
      "execution_count": 1,
      "id": "b9a896f4-8509-456a-9a25-46532342f459",
      "metadata": {},
      "outputs": [],
      "source": [
        "%%capture --no-stderr\n",
        "%pip install --quiet -U langgraph"
      ]
    },
    {
      "cell_type": "markdown",
      "id": "9f7927b0-9909-4e54-b997-ac49c1aeaa09",
      "metadata": {},
      "source": [
        "## 模式（Schema）\n",
        "\n",
        "When we define a LangGraph `StateGraph`, we use a [state schema](https://langchain-ai.github.io/langgraph/concepts/low_level/#state).\n",
        "\n",
        "当我们定义一个 LangGraph `StateGraph` 时，我们使用一个 [state schema](https://langchain-ai.github.io/langgraph/concepts/low_level/#state).\n",
        "\n",
        "The state schema represents the structure and types of data that our graph will use.\n",
        "\n",
        "状态模式表示我们的图形将使用的数据的结构和类型。\n",
        "\n",
        "All nodes are expected to communicate with that schema.\n",
        "\n",
        "所有节点都应按照该模式进行通信。\n",
        "\n",
        "LangGraph offers flexibility in how you define your state schema, accommodating various Python [types](https://docs.python.org/3/library/stdtypes.html#type-objects) and validation approaches!\n",
        "\n",
        "LangGraph 在定义状态模式方面提供了灵活性，能够适应各种 Python [types](https://docs.python.org/3/library/stdtypes.html#type-objects) 和验证方法！\n",
        "\n",
        "## TypedDict\n",
        "\n",
        "As we mentioned in Module 1, we can use the `TypedDict` class from python's `typing` module.\n",
        "\n",
        "正如我们在第1模块中提到的，我们可以使用 Python 的 `typing` 模块中的 `TypedDict` 类。\n",
        "\n",
        "It allows you to specify keys and their corresponding value types.\n",
        " \n",
        "But, note that these are type hints. \n",
        "\n",
        "它允许你指定键及其对应值的类型。\n",
        "\n",
        "但是，需要注意的是，这些都是类型提示。\n",
        "\n",
        "They can be used by static type checkers (like [mypy](https://github.com/python/mypy)) or IDEs to catch potential type-related errors before the code is run. \n",
        "\n",
        "它们可以被静态类型检查器（如 [mypy](https://github.com/python/mypy)）或集成开发环境（IDE）使用，在代码运行之前捕获潜在的类型相关错误。\n",
        "\n",
        "But they are not enforced at runtime!\n",
        "\n",
        "但它们在运行时并未强制执行！\n",
        "\n"
      ]
    },
    {
      "cell_type": "code",
      "execution_count": 2,
      "id": "eedb39f0-af0f-4794-bc16-65980d278b59",
      "metadata": {},
      "outputs": [],
      "source": [
        "from typing_extensions import TypedDict\n",
        "\n",
        "class TypedDictState(TypedDict):\n",
        "    foo: str\n",
        "    bar: str"
      ]
    },
    {
      "cell_type": "markdown",
      "id": "d5a71661-1086-455f-a5e0-a6d104034a95",
      "metadata": {},
      "source": [
        "For more specific value constraints, you can use things like the `Literal` type hint.\n",
        "\n",
        "对于更具体的价值约束，您可以使用像 `Literal` 这样的类型提示。\n",
        "\n",
        "Here, `mood` can only be either \"happy\" or \"sad\".\n",
        "\n",
        "在这里，`mood` 只能是 \"happy\" 或 \"sad\"。\n",
        "\n"
      ]
    },
    {
      "cell_type": "code",
      "execution_count": 3,
      "id": "4ad9749c-b127-433f-baa3-189a9349e9f6",
      "metadata": {},
      "outputs": [],
      "source": [
        "from typing import Literal\n",
        "\n",
        "class TypedDictState(TypedDict):\n",
        "    name: str\n",
        "    mood: Literal[\"happy\",\"sad\"]"
      ]
    },
    {
      "cell_type": "markdown",
      "id": "c1a9152d-1728-4a67-9e23-1ef622525047",
      "metadata": {},
      "source": [
        "We can use our defined state class (e.g., here `TypedDictState`) in LangGraph by simply passing it to `StateGraph`.\n",
        "\n",
        "我们可以通过简单地将其传递给 `StateGraph`，在 LangGraph 中使用我们定义的状态类（例如，此处为 `TypedDictState`）。\n",
        "\n",
        "And, we can think about each state key as just a \"channel\" in our graph. \n",
        "\n",
        "并且，我们可以将每个状态键视为图中的一个“通道”。\n",
        "\n",
        "As discussed in Module 1, we overwrite the value of a specified key or \"channel\" in each node.\n",
        "\n",
        "如模块1中所述，我们覆盖每个节点中指定键或“通道”的值。\n",
        "\n"
      ]
    },
    {
      "cell_type": "code",
      "execution_count": 4,
      "id": "2f7a0d6d-f70b-44ed-86e3-7cdb39873ba4",
      "metadata": {},
      "outputs": [
        {
          "data": {
            "image/png": "[encoded data removed]",
            "text/plain": [
              "<IPython.core.display.Image object>"
            ]
          },
          "metadata": {},
          "output_type": "display_data"
        }
      ],
      "source": [
        "import random\n",
        "from IPython.display import Image, display\n",
        "from langgraph.graph import StateGraph, START, END\n",
        "\n",
        "def node_1(state):\n",
        "    print(\"---Node 1---\")\n",
        "    return {\"name\": state['name'] + \" is ... \"}\n",
        "\n",
        "def node_2(state):\n",
        "    print(\"---Node 2---\")\n",
        "    return {\"mood\": \"happy\"}\n",
        "\n",
        "def node_3(state):\n",
        "    print(\"---Node 3---\")\n",
        "    return {\"mood\": \"sad\"}\n",
        "\n",
        "def decide_mood(state) -> Literal[\"node_2\", \"node_3\"]:\n",
        "        \n",
        "    # Here, let's just do a 50 / 50 split between nodes 2, 3\n",
        "    if random.random() < 0.5:\n",
        "\n",
        "        # 50% of the time, we return Node 2\n",
        "        return \"node_2\"\n",
        "    \n",
        "    # 50% of the time, we return Node 3\n",
        "    return \"node_3\"\n",
        "\n",
        "# Build graph\n",
        "builder = StateGraph(TypedDictState)\n",
        "builder.add_node(\"node_1\", node_1)\n",
        "builder.add_node(\"node_2\", node_2)\n",
        "builder.add_node(\"node_3\", node_3)\n",
        "\n",
        "# Logic\n",
        "builder.add_edge(START, \"node_1\")\n",
        "builder.add_conditional_edges(\"node_1\", decide_mood)\n",
        "builder.add_edge(\"node_2\", END)\n",
        "builder.add_edge(\"node_3\", END)\n",
        "\n",
        "# Add\n",
        "graph = builder.compile()\n",
        "\n",
        "# View\n",
        "display(Image(graph.get_graph().draw_mermaid_png()))"
      ]
    },
    {
      "cell_type": "markdown",
      "id": "724bb640-2b0e-46c1-9416-b5bcdb9c17c8",
      "metadata": {},
      "source": [
        "Because our state is a dict, we simply invoke the graph with a dict to set an initial value of the `name` key in our state.\n",
        "\n",
        "因为我们的状态是一个字典，我们只需用一个字典调用图，以设置状态中 `name` 键的初始值。\n",
        "\n"
      ]
    },
    {
      "cell_type": "code",
      "execution_count": 13,
      "id": "74e09d32-6a08-4250-b19a-1f701828829d",
      "metadata": {},
      "outputs": [
        {
          "name": "stdout",
          "output_type": "stream",
          "text": [
            "---Node 1---\n",
            "---Node 3---\n"
          ]
        },
        {
          "data": {
            "text/plain": [
              "{'name': 'Lance is ... ', 'mood': 'sad'}"
            ]
          },
          "execution_count": 13,
          "metadata": {},
          "output_type": "execute_result"
        }
      ],
      "source": [
        "graph.invoke({\"name\":\"Lance\"})"
      ]
    },
    {
      "cell_type": "markdown",
      "id": "70cc5368-18b8-49c7-b561-41888b092311",
      "metadata": {},
      "source": [
        "## 数据类（Dataclass）\n",
        "\n",
        "Python's [dataclasses](https://docs.python.org/3/library/dataclasses.html) provide [another way to define structured data](https://www.datacamp.com/tutorial/python-data-classes).\n",
        "\n",
        "Python 的 [dataclasses](https://docs.python.org/3/library/dataclasses.html) 提供 [another way to define structured data](https://www.datacamp.com/tutorial/python-data-classes)。\n",
        "\n",
        "Dataclasses offer a concise syntax for creating classes that are primarily used to store data.\n",
        "\n",
        "数据类提供了一种简洁的语法，用于创建主要用于存储数据的类。\n",
        "\n"
      ]
    },
    {
      "cell_type": "code",
      "execution_count": 14,
      "id": "d576fc2c-350b-42ad-89e5-f93ae102dbf8",
      "metadata": {},
      "outputs": [],
      "source": [
        "from dataclasses import dataclass\n",
        "\n",
        "@dataclass\n",
        "class DataclassState:\n",
        "    name: str\n",
        "    mood: Literal[\"happy\",\"sad\"]"
      ]
    },
    {
      "cell_type": "markdown",
      "id": "64482b93-3c8f-4a30-925f-9be64e4b8b6f",
      "metadata": {},
      "source": [
        "To access the keys of a `dataclass`, we just need to modify the subscripting used in `node_1`: \n",
        "\n",
        "要访问 `dataclass` 的键，我们只需修改在 `node_1` 中使用的下标即可：\n",
        "\n",
        "* We use `state.name` for the `dataclass` state rather than `state[\"name\"]` for the `TypedDict` above\n",
        "\n",
        "* 我们使用 `state.name` 来表示 `dataclass` 状态，而不是使用 `state[\"name\"]` 来表示上面的 `TypedDict`。\n",
        "\n",
        "You'll notice something a bit odd: in each node, we still return a dictionary to perform the state updates.\n",
        " \n",
        "This is possible because LangGraph stores each key of your state object separately.\n",
        "\n",
        "你会注意到一个有点奇怪的地方：在每个节点中，我们仍然返回一个字典来执行状态更新。\n",
        "\n",
        "这之所以可行，是因为 LangGraph 会单独存储状态对象的每个键。\n",
        "\n",
        "The object returned by the node only needs to have keys (attributes) that match those in the state!\n",
        "\n",
        "节点返回的对象只需要具有与状态中的键（属性）匹配的键！\n",
        "\n",
        "In this case, the `dataclass` has key `name` so we can update it by passing a dict from our node, just as we did when state was a `TypedDict`.\n",
        "\n",
        "在这种情况下，`dataclass` 拥有键 `name`，因此我们可以通过从节点传递一个字典来更新它，就像在状态为 `TypedDict` 时所做的那样。\n",
        "\n"
      ]
    },
    {
      "cell_type": "code",
      "execution_count": 15,
      "id": "1e1eda69-916f-4f6e-b400-6e65f73d8716",
      "metadata": {},
      "outputs": [
        {
          "data": {
            "image/png": "[encoded data removed]",
            "text/plain": [
              "<IPython.core.display.Image object>"
            ]
          },
          "metadata": {},
          "output_type": "display_data"
        }
      ],
      "source": [
        "def node_1(state):\n",
        "    print(\"---Node 1---\")\n",
        "    return {\"name\": state.name + \" is ... \"}\n",
        "\n",
        "# Build graph\n",
        "builder = StateGraph(DataclassState)\n",
        "builder.add_node(\"node_1\", node_1)\n",
        "builder.add_node(\"node_2\", node_2)\n",
        "builder.add_node(\"node_3\", node_3)\n",
        "\n",
        "# Logic\n",
        "builder.add_edge(START, \"node_1\")\n",
        "builder.add_conditional_edges(\"node_1\", decide_mood)\n",
        "builder.add_edge(\"node_2\", END)\n",
        "builder.add_edge(\"node_3\", END)\n",
        "\n",
        "# Add\n",
        "graph = builder.compile()\n",
        "\n",
        "# View\n",
        "display(Image(graph.get_graph().draw_mermaid_png()))"
      ]
    },
    {
      "cell_type": "markdown",
      "id": "06beb50a-4878-4d7e-ac6c-d60a0f417eb3",
      "metadata": {},
      "source": [
        "We invoke with a `dataclass` to set the initial values of each key / channel in our state!\n",
        "\n",
        "我们通过 `dataclass` 来设置状态中每个键/通道的初始值！\n",
        "\n"
      ]
    },
    {
      "cell_type": "code",
      "execution_count": 21,
      "id": "8c042325-e93d-43e1-9ac7-a0e20c2fb08d",
      "metadata": {},
      "outputs": [
        {
          "name": "stdout",
          "output_type": "stream",
          "text": [
            "---Node 1---\n",
            "---Node 2---\n"
          ]
        },
        {
          "data": {
            "text/plain": [
              "{'name': 'Lance is ... ', 'mood': 'happy'}"
            ]
          },
          "execution_count": 21,
          "metadata": {},
          "output_type": "execute_result"
        }
      ],
      "source": [
        "graph.invoke(DataclassState(name=\"Lance\",mood=\"sad\"))"
      ]
    },
    {
      "cell_type": "markdown",
      "id": "2405e49b-e786-4bf9-ac85-1fb941d01bcd",
      "metadata": {},
      "source": [
        "## Pydantic\n",
        "\n",
        "As mentioned, `TypedDict` and `dataclasses` provide type hints but they don't enforce types at runtime. \n",
        " \n",
        "This means you could potentially assign invalid values without raising an error!\n",
        "\n",
        "如前所述，`TypedDict` 和 `dataclasses` 提供类型提示，但它们不会在运行时强制执行类型。\n",
        "\n",
        "这意味着你可能会在不引发错误的情况下分配无效值！\n",
        "\n",
        "For example, we can set `mood` to `mad` even though our type hint specifies `mood: list[Literal[\"happy\",\"sad\"]]`.\n",
        "\n",
        "例如，即使我们的类型提示指定为 `mood: list[Literal[\"happy\",\"sad\"]]`，我们也可以将 `mood` 设置为 `mad`。\n",
        "\n"
      ]
    },
    {
      "cell_type": "code",
      "execution_count": 8,
      "id": "522fcc76-abf7-452a-9d7b-000e06942d94",
      "metadata": {},
      "outputs": [],
      "source": [
        "dataclass_instance = DataclassState(name=\"Lance\", mood=\"mad\")"
      ]
    },
    {
      "cell_type": "markdown",
      "id": "4f095c3a-96b5-4318-9303-20424b4455e9",
      "metadata": {},
      "source": [
        "[Pydantic](https://docs.pydantic.dev/latest/api/base_model/) is a data validation and settings management library using Python type annotations. \n",
        "\n",
        "[Pydantic](https://docs.pydantic.dev/latest/api/base_model/) 是一个使用 Python 类型注解的数据验证和设置管理库。\n",
        "\n",
        "It's particularly well-suited [for defining state schemas in LangGraph](https://langchain-ai.github.io/langgraph/how-tos/state-model/) due to its validation capabilities.\n",
        "\n",
        "它特别适合 [for defining state schemas in LangGraph](https://langchain-ai.github.io/langgraph/how-tos/state-model/)，因为它的验证功能。\n",
        "\n",
        "Pydantic can perform validation to check whether data conforms to the specified types and constraints at runtime.\n",
        "\n",
        "Pydantic 可以在运行时执行验证，以检查数据是否符合指定的类型和约束。\n",
        "\n"
      ]
    },
    {
      "cell_type": "code",
      "execution_count": null,
      "id": "62e8720e-217f-4b98-837a-af45c3fa577f",
      "metadata": {},
      "outputs": [
        {
          "name": "stdout",
          "output_type": "stream",
          "text": [
            "Validation Error: 1 validation error for PydanticState\n",
            "mood\n",
            "  Input should be 'happy' or 'sad' [type=literal_error, input_value='mad', input_type=str]\n",
            "    For further information visit https://errors.pydantic.dev/2.8/v/literal_error\n"
          ]
        }
      ],
      "source": [
        "from pydantic import BaseModel, field_validator, ValidationError\n",
        "\n",
        "class PydanticState(BaseModel):\n",
        "    name: str\n",
        "    mood: str # \"happy\" or \"sad\" \n",
        "\n",
        "    @field_validator('mood')\n",
        "    @classmethod\n",
        "    def validate_mood(cls, value):\n",
        "        # Ensure the mood is either \"happy\" or \"sad\"\n",
        "        if value not in [\"happy\", \"sad\"]:\n",
        "            raise ValueError(\"Each mood must be either 'happy' or 'sad'\")\n",
        "        return value\n",
        "\n",
        "try:\n",
        "    state = PydanticState(name=\"John Doe\", mood=\"mad\")\n",
        "except ValidationError as e:\n",
        "    print(\"Validation Error:\", e)"
      ]
    },
    {
      "cell_type": "markdown",
      "id": "f29913ca-0295-48eb-af4e-cae515dd9a9c",
      "metadata": {},
      "source": [
        "We can use `PydanticState` in our graph seamlessly. \n",
        "\n",
        "我们可以无缝地在图表中使用 `PydanticState`。\n",
        "\n"
      ]
    },
    {
      "cell_type": "code",
      "execution_count": null,
      "id": "91db3393-b7f8-46e5-8129-0e7539b2804c",
      "metadata": {},
      "outputs": [
        {
          "data": {
            "image/jpeg": "[encoded data removed]",
            "text/plain": [
              "<IPython.core.display.Image object>"
            ]
          },
          "metadata": {},
          "output_type": "display_data"
        }
      ],
      "source": [
        "# Build graph\n",
        "builder = StateGraph(PydanticState)\n",
        "builder.add_node(\"node_1\", node_1)\n",
        "builder.add_node(\"node_2\", node_2)\n",
        "builder.add_node(\"node_3\", node_3)\n",
        "\n",
        "# Logic\n",
        "builder.add_edge(START, \"node_1\")\n",
        "builder.add_conditional_edges(\"node_1\", decide_mood)\n",
        "builder.add_edge(\"node_2\", END)\n",
        "builder.add_edge(\"node_3\", END)\n",
        "\n",
        "# Add\n",
        "graph = builder.compile()\n",
        "\n",
        "# View\n",
        "display(Image(graph.get_graph().draw_mermaid_png()))"
      ]
    },
    {
      "cell_type": "code",
      "execution_count": null,
      "id": "e96c78be-b483-4fa4-949b-62d4274e97ac",
      "metadata": {},
      "outputs": [
        {
          "name": "stdout",
          "output_type": "stream",
          "text": [
            "---Node 1---\n",
            "---Node 3---\n"
          ]
        },
        {
          "data": {
            "text/plain": [
              "{'name': 'Lance is ... ', 'mood': 'sad'}"
            ]
          },
          "execution_count": 12,
          "metadata": {},
          "output_type": "execute_result"
        }
      ],
      "source": [
        "graph.invoke(PydanticState(name=\"Lance\",mood=\"sad\"))"
      ]
    },
    {
      "cell_type": "code",
      "execution_count": null,
      "id": "8119232a-7d56-4abc-b0ef-18bf5f0cc9fd",
      "metadata": {},
      "outputs": [],
      "source": []
    }
  ],
  "metadata": {
    "kernelspec": {
      "display_name": "Python 3",
      "language": "python",
      "name": "python3"
    },
    "language_info": {
      "codemirror_mode": {
        "name": "ipython",
        "version": 3
      },
      "file_extension": ".py",
      "mimetype": "text/x-python",
      "name": "python",
      "nbconvert_exporter": "python",
      "pygments_lexer": "ipython3",
      "version": "3.11.1"
    }
  },
  "nbformat": 4,
  "nbformat_minor": 5
}
