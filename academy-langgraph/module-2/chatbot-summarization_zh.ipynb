{
  "cells": [
    {
      "cell_type": "markdown",
      "id": "83fcadf3",
      "metadata": {},
      "source": [
        "[PROTECTED$11$](https://colab.research.google.com/github/langchain-ai/langchain-academy/blob/main/module-2/chatbot-summarization.ipynb) [PROTECTED$12$](https://academy.langchain.com/courses/take/intro-to-langgraph/lessons/58239436-lesson-5-chatbot-w-summarizing-messages-and-memory)\n",
        "\n"
      ]
    },
    {
      "cell_type": "markdown",
      "id": "b651ead9-5504-45ee-938d-f91ac78dddd1",
      "metadata": {},
      "source": [
        "# 带有消息总结功能的聊天机器人（Chatbot with message summarization）\n",
        "\n",
        "## 评审（Review）\n",
        "\n",
        "We've covered how to customize graph state schema and reducer. \n",
        " \n",
        "We've also shown a number of ways to trim or filter messages in graph state. \n",
        "\n",
        "我们已经介绍了如何自定义图状态模式和 reducer。  \n",
        "  \n",
        "我们还展示了多种修剪或过滤图状态中消息的方法。\n",
        "\n",
        "## 目标（Goals）\n",
        "\n",
        "Now, let's take it one step further! \n",
        "\n",
        "现在，让我们更进一步！\n",
        "\n",
        "Rather than just trimming or filtering messages, we'll show how to use LLMs to produce a running summary of the conversation.\n",
        " \n",
        "This allows us to retain a compressed representation of the full conversation, rather than just removing it with trimming or filtering.\n",
        "\n",
        "与其仅仅修剪或过滤消息，我们将展示如何使用大型语言模型（LLMs）来生成对话的实时摘要。\n",
        "\n",
        "这使我们能够保留整个对话的压缩表示，而不仅仅是通过修剪或过滤将其移除。\n",
        "\n",
        "We'll incorporate this summarization into a simple Chatbot.  \n",
        "\n",
        "我们将把这个摘要整合到一个简单的聊天机器人中。\n",
        "\n",
        "And we'll equip that Chatbot with memory, supporting long-running conversations without incurring high token cost / latency. \n",
        "\n",
        "我们将为该聊天机器人配备记忆功能，支持长时间对话，同时不会产生高昂的 token 成本或延迟。\n",
        "\n"
      ]
    },
    {
      "cell_type": "code",
      "execution_count": 11,
      "id": "000a6daa-92ad-4e57-a060-d1c81176eb0d",
      "metadata": {},
      "outputs": [],
      "source": [
        "%%capture --no-stderr\n",
        "%pip install --quiet -U langchain_core langgraph langchain_openai"
      ]
    },
    {
      "cell_type": "code",
      "execution_count": 7,
      "id": "09201a62",
      "metadata": {},
      "outputs": [],
      "source": [
        "import os, getpass\n",
        "\n",
        "def _set_env(var: str):\n",
        "    if not os.environ.get(var):\n",
        "        os.environ[var] = getpass.getpass(f\"{var}: \")\n",
        "\n",
        "_set_env(\"OPENAI_API_KEY\")"
      ]
    },
    {
      "cell_type": "markdown",
      "id": "dfddfce9-3a9b-4b35-a76d-28265515aabd",
      "metadata": {},
      "source": [
        "We'll use [LangSmith](https://docs.smith.langchain.com/) for [tracing](https://docs.smith.langchain.com/concepts/tracing).\n",
        "\n",
        "我们将使用 [LangSmith](https://docs.smith.langchain.com/) 用于 [tracing](https://docs.smith.langchain.com/concepts/tracing)。\n",
        "\n"
      ]
    },
    {
      "cell_type": "code",
      "execution_count": 2,
      "id": "464856d4",
      "metadata": {},
      "outputs": [],
      "source": [
        "_set_env(\"LANGSMITH_API_KEY\")\n",
        "os.environ[\"LANGSMITH_TRACING\"] = \"true\"\n",
        "os.environ[\"LANGSMITH_PROJECT\"] = \"langchain-academy\""
      ]
    },
    {
      "cell_type": "code",
      "execution_count": 2,
      "id": "537ade30-6a0e-4b6b-8bcd-ce90790b6392",
      "metadata": {},
      "outputs": [],
      "source": [
        "from langchain_openai import ChatOpenAI\n",
        "model =ChatOpenAI(\n",
        "    model=\"qwen-plus-2025-04-28\",\n",
        "    api_key=\"sk-ba2dda3817f145d7af141fdf32e31d90\",\n",
        "    base_url=\"https://dashscope.aliyuncs.com/compatible-mode/v1\"\n",
        ")"
      ]
    },
    {
      "cell_type": "markdown",
      "id": "db3afac3-8b7a-45db-a3c1-7e4125c1bc8b",
      "metadata": {},
      "source": [
        "We'll use `MessagesState`, as before.\n",
        "\n",
        "我们将再次使用 `MessagesState`。\n",
        "\n",
        "In addition to the built-in `messages` key, we'll now include a custom key (`summary`).\n",
        "\n",
        "除了内置的 `messages` 键之外，我们现在还将包含一个自定义键（`summary`）。\n",
        "\n"
      ]
    },
    {
      "cell_type": "code",
      "execution_count": 1,
      "id": "948e60f0-5c76-4235-b40e-cf523205d40e",
      "metadata": {},
      "outputs": [],
      "source": [
        "from langgraph.graph import MessagesState\n",
        "class State(MessagesState):\n",
        "    summary: str"
      ]
    },
    {
      "cell_type": "markdown",
      "id": "6855ea31-5cc1-4277-a189-0b72459f67ec",
      "metadata": {},
      "source": [
        "We'll define a node to call our LLM that incorporates a summary, if it exists, into the prompt.\n",
        "\n",
        "我们将定义一个节点来调用我们的LLM，如果存在摘要，则将其纳入提示中。\n",
        "\n"
      ]
    },
    {
      "cell_type": "code",
      "execution_count": null,
      "id": "c3f7d19b-afe0-4381-9b1a-0a832b162e7b",
      "metadata": {},
      "outputs": [],
      "source": [
        "from langchain_core.messages import SystemMessage, HumanMessage, RemoveMessage \n",
        " \n",
        " # 定义调用模型的逻辑\n",
        "def call_model(state: State): \n",
        "     \n",
        "     # 获取摘要（如果存在） \n",
        "     summary = state.get(\"summary\", \"\") \n",
        " \n",
        "     # 如果有摘要，则添加它\n",
        "     if summary: \n",
        "         \n",
        "         # 将摘要添加到系统消息中\n",
        "         system_message = f\"先前对话的摘要：{summary}\" \n",
        " \n",
        "         # 将摘要附加到任何较新的消息中\n",
        "         messages = [SystemMessage(content=system_message)] + state[\"messages\"] \n",
        "     \n",
        "     else: \n",
        "         messages = state[\"messages\"] \n",
        "     \n",
        "     response = model.invoke(messages) \n",
        "     return {\"messages\": response}"
      ]
    },
    {
      "cell_type": "markdown",
      "id": "6882042c-b42d-4d52-a6a7-6ec8efa72450",
      "metadata": {},
      "source": [
        "We'll define a node to produce a summary.\n",
        "\n",
        "我们将定义一个节点来生成摘要。\n",
        "\n",
        "Note, here we'll use `RemoveMessage` to filter our state after we've produced the summary.\n",
        "\n",
        "请注意，这里我们将使用 `RemoveMessage` 在生成摘要后过滤我们的状态。\n",
        "\n"
      ]
    },
    {
      "cell_type": "code",
      "execution_count": 5,
      "id": "78c7aa59-3760-4e76-93f1-bc713e3ec39e",
      "metadata": {},
      "outputs": [],
      "source": [
        "def summarize_conversation(state: State): \n",
        "     \n",
        "     # 首先，我们获取任何现有的摘要\n",
        "     summary = state.get(\"summary\", \"\") \n",
        " \n",
        "     # 创建我们的摘要提示\n",
        "     if summary: \n",
        "         \n",
        "         # 摘要已存在\n",
        "         summary_message = ( \n",
        "             f\"这是迄今为止对话的摘要：{summary}\\n\\n\" \n",
        "             \"请结合以上新消息扩展摘要：\" \n",
        "         ) \n",
        "         \n",
        "     else: \n",
        "         summary_message = \"创建以上对话的摘要：\" \n",
        " \n",
        "     # 将提示添加到我们的历史记录中\n",
        "     messages = state[\"messages\"] + [HumanMessage(content=summary_message)] \n",
        "     response = model.invoke(messages) \n",
        "     \n",
        "     # 删除除最近2条消息外的所有消息\n",
        "     delete_messages = [RemoveMessage(id=m.id) for m in state[\"messages\"][:-2]] \n",
        "     return {\"summary\": response.content, \"messages\": delete_messages} "
      ]
    },
    {
      "cell_type": "markdown",
      "id": "f982993e-f4be-4ff7-9a38-886f75398b3d",
      "metadata": {},
      "source": [
        "We'll add a conditional edge to determine whether to produce a summary based on the conversation length.\n",
        "\n",
        "我们将添加一个条件边，以根据对话长度确定是否生成摘要。\n",
        "\n"
      ]
    },
    {
      "cell_type": "code",
      "execution_count": null,
      "id": "b507665d-7f5d-442a-b498-218c94c5dd8b",
      "metadata": {},
      "outputs": [],
      "source": [
        "from langgraph.graph import END\n",
        "from langgraph.types import Command\n",
        "\n",
        "def should_continue(state: State) -> Command:\n",
        "    \"\"\"返回要执行的下一个节点。\"\"\"\n",
        "    messages = state[\"messages\"]\n",
        "\n",
        "    # 如果消息超过六条，那么我们总结对话\n",
        "    if len(messages) > 6:\n",
        "        return \"summarize_conversation\"\n",
        "\n",
        "    # 否则我们就可以结束了\n",
        "    return END\n"
      ]
    },
    {
      "cell_type": "markdown",
      "id": "5a838f4c-7067-4f7f-a4c4-6654e11214cd",
      "metadata": {},
      "source": [
        "## 添加内存（Adding memory）\n",
        "\n",
        "Recall that [state is transient](https://github.com/langchain-ai/langgraph/discussions/352#discussioncomment-9291220) to a single graph execution.\n",
        "\n",
        "回忆一下，[state is transient](https://github.com/langchain-ai/langgraph/discussions/352#discussioncomment-9291220) 对应单一图执行。\n",
        "\n",
        "This limits our ability to have multi-turn conversations with interruptions. \n",
        "\n",
        "这限制了我们进行带有中断的多轮对话的能力。\n",
        "\n",
        "As introduced at the end of Module 1, we can use [persistence](https://langchain-ai.github.io/langgraph/how-tos/persistence/) to address this! \n",
        " \n",
        "LangGraph can use a checkpointer to automatically save the graph state after each step.\n",
        "\n",
        "正如在第1模块末尾介绍的，我们可以使用 [persistence](https://langchain-ai.github.io/langgraph/how-tos/persistence/) 来解决这个问题！  \n",
        "\n",
        "LangGraph 可以使用检查点工具自动保存每一步之后的图状态。\n",
        "\n",
        "This built-in persistence layer gives us memory, allowing LangGraph to pick up from the last state update. \n",
        "\n",
        "这一内置的持久化层为我们提供了内存支持，使 LangGraph 能够从最后一次状态更新处继续运行。\n",
        "\n",
        "As we previously showed, one of the easiest to work with is `MemorySaver`, an in-memory key-value store for Graph state.\n",
        "\n",
        "正如我们之前展示的，其中一个最容易使用的是 `MemorySaver`，一个用于图形状态的内存键值存储。\n",
        "\n",
        "All we need to do is compile the graph with a checkpointer, and our graph has memory!\n",
        "\n",
        "我们需要做的只是用检查点编译器编译图，然后我们的图就具备了记忆功能！\n",
        "\n"
      ]
    },
    {
      "cell_type": "code",
      "execution_count": 7,
      "id": "1d57516d-f9f1-4d3c-a84a-7277b5ce6df6",
      "metadata": {},
      "outputs": [
        {
          "data": {
            "image/png": "[encoded data removed]",
            "text/plain": [
              "<IPython.core.display.Image object>"
            ]
          },
          "metadata": {},
          "output_type": "display_data"
        }
      ],
      "source": [
        "from IPython.display import Image, display\n",
        "from langgraph.checkpoint.memory import MemorySaver\n",
        "from langgraph.graph import StateGraph, START\n",
        "\n",
        "# Define a new graph\n",
        "workflow = StateGraph(State)\n",
        "workflow.add_node(\"conversation\", call_model)\n",
        "workflow.add_node(\"summarize_conversation\",summarize_conversation)\n",
        "\n",
        "# Set the entrypoint as conversation\n",
        "workflow.add_edge(START, \"conversation\")\n",
        "workflow.add_conditional_edges(\"conversation\", should_continue)\n",
        "workflow.add_edge(\"summarize_conversation\", END)\n",
        "\n",
        "\n",
        "\n",
        "# Compile\n",
        "memory = MemorySaver()\n",
        "graph = workflow.compile(checkpointer=memory)\n",
        "display(Image(graph.get_graph().draw_mermaid_png()))"
      ]
    },
    {
      "attachments": {},
      "cell_type": "markdown",
      "id": "d0bd5d23-ac3b-4496-a049-9a9f97d2feb9",
      "metadata": {},
      "source": [
        "## 线程（Threads）\n",
        "\n",
        "The checkpointer saves the state at each step as a checkpoint.\n",
        "\n",
        "检查点保存器在每一步将状态保存为一个检查点。\n",
        "\n",
        "These saved checkpoints can be grouped into a `thread` of conversation.\n",
        "\n",
        "这些保存的检查点可以被分组为一个 `thread` 对话。\n",
        "\n",
        "Think about Slack as an analog: different channels carry different conversations.\n",
        "\n",
        "将 Slack 作为类比来思考：不同的频道承载着不同的对话。\n",
        "\n",
        "Threads are like Slack channels, capturing grouped collections of state (e.g., conversation).\n",
        "\n",
        "线程类似于 Slack 频道，捕获成组的状态集合（例如，对话）。\n",
        "\n",
        "Below, we use `configurable` to set a thread ID.\n",
        "\n",
        "下面，我们使用 `configurable` 来设置线程 ID。\n",
        "\n",
        "![state.jpg](https://cdn.prod.website-files.com/65b8cd72835ceeacd4449a53/66dbadf3b379c2ee621adfd1_chatbot-summarization1.png)\n",
        "\n"
      ]
    },
    {
      "cell_type": "code",
      "execution_count": 14,
      "id": "2566c93b-13e6-4a53-bc0f-b00fff691d30",
      "metadata": {},
      "outputs": [
        {
          "name": "stdout",
          "output_type": "stream",
          "text": [
            "==================================\u001b[1m Ai Message \u001b[0m==================================\n",
            "\n",
            "你好，张锡军！有什么我可以帮你的吗？😊\n",
            "==================================\u001b[1m Ai Message \u001b[0m==================================\n",
            "\n",
            "我是通义千问，阿里巴巴集团旗下的超大规模语言模型。我可以帮助你回答问题、创作文字、进行逻辑推理、编程等任务。有什么我可以帮你的吗？😊\n",
            "==================================\u001b[1m Ai Message \u001b[0m==================================\n",
            "\n",
            "那太棒了！游戏是一个很有趣的领域。你平时喜欢玩什么类型的游戏呢？是动作、冒险、角色扮演，还是策略类游戏？如果你有喜欢的游戏，可以告诉我，我们可以一起讨论或者分享一些游戏心得哦！😊\n"
          ]
        }
      ],
      "source": [
        "# Create a thread\n",
        "config = {\"configurable\": {\"thread_id\": \"2\"}}\n",
        "\n",
        "# Start conversation\n",
        "input_message = HumanMessage(content=\"你好我是张锡军\")\n",
        "output = graph.invoke({\"messages\": [input_message]}, config) \n",
        "for m in output['messages'][-1:]:\n",
        "    m.pretty_print()\n",
        "\n",
        "input_message = HumanMessage(content=\"你是谁\")\n",
        "output = graph.invoke({\"messages\": [input_message]}, config) \n",
        "for m in output['messages'][-1:]:\n",
        "    m.pretty_print()\n",
        "\n",
        "input_message = HumanMessage(content=\"我喜欢玩游戏\")\n",
        "output = graph.invoke({\"messages\": [input_message]}, config) \n",
        "for m in output['messages'][-1:]:\n",
        "    m.pretty_print()"
      ]
    },
    {
      "cell_type": "markdown",
      "id": "531e5b63-5e8b-486e-baa0-a45521e2fbc2",
      "metadata": {},
      "source": [
        "Now, we don't yet have a summary of the state because we still have < = 6 messages.\n",
        "\n",
        "现在，我们还没有状态摘要，因为我们仍然有 < = 6 条消息。\n",
        "\n",
        "This was set in `should_continue`. \n",
        "\n",
        "这被设置在 `should_continue`。\n",
        "\n",
        "```\n",
        "    # If there are more than six messages, then we summarize the conversation\n",
        "    if len(messages) > 6:\n",
        "        return \"summarize_conversation\"\n",
        "```\n",
        "\n",
        "We can pick up the conversation because we have the thread.\n",
        "\n",
        "我们可以继续对话，因为我们有线索。\n",
        "\n"
      ]
    },
    {
      "cell_type": "code",
      "execution_count": 15,
      "id": "91b82aaa-17f9-49e2-9528-f4b22e23ebcb",
      "metadata": {},
      "outputs": [
        {
          "data": {
            "text/plain": [
              "''"
            ]
          },
          "execution_count": 15,
          "metadata": {},
          "output_type": "execute_result"
        }
      ],
      "source": [
        "graph.get_state(config).values.get(\"summary\",\"\")"
      ]
    },
    {
      "cell_type": "markdown",
      "id": "068a93e9-f716-4980-8edf-94115017d865",
      "metadata": {},
      "source": [
        "The `config` with thread ID allows us to proceed from the previously logged state!\n",
        "\n",
        "带有 `config` 线程 ID 让我们能够从之前记录的状态继续！\n",
        "\n"
      ]
    },
    {
      "cell_type": "code",
      "execution_count": 16,
      "id": "24b34f0f-62ef-4008-8e96-480cbe92ea3e",
      "metadata": {},
      "outputs": [
        {
          "name": "stdout",
          "output_type": "stream",
          "text": [
            "==================================\u001b[1m Ai Message \u001b[0m==================================\n",
            "\n",
            "当然知道！《英雄联盟》（League of Legends，简称 **LOL**）是一款非常受欢迎的多人在线战术竞技游戏（MOBA），由Riot Games开发。玩家在游戏中扮演“召唤师”，操控拥有独特技能的英雄，在一个名为召唤师峡谷的地图上与敌方队伍对抗，目标是通过团队合作和策略推倒敌方主基地。\n",
            "\n",
            "你玩了多久啦？有特别喜欢的英雄或者位置（比如上单、打野、中单、AD、辅助）吗？如果你愿意分享，我可以陪你聊聊游戏心得，或者帮你分析对局哦！🎮😄\n"
          ]
        }
      ],
      "source": [
        "input_message = HumanMessage(content=\"我喜欢玩lol，你知道这个游戏吗\")\n",
        "output = graph.invoke({\"messages\": [input_message]}, config) \n",
        "for m in output['messages'][-1:]:\n",
        "    m.pretty_print()"
      ]
    },
    {
      "cell_type": "code",
      "execution_count": 17,
      "id": "22f1b35f-e4bb-47f6-87b1-d84d8aed9aa9",
      "metadata": {},
      "outputs": [
        {
          "data": {
            "text/plain": [
              "'以下是对以上对话的简要摘要：\\n\\n用户是张锡军，他表示自己喜欢玩游戏，特别是《英雄联盟》（LOL）。他确认了通义千问对这款游戏的了解。通义千问作为阿里巴巴集团旗下的超大规模语言模型，不仅能回答问题、创作文字，还能进行逻辑推理和编程等任务。对话中体现了用户对游戏的兴趣，以及希望在游戏方面获得更多互动与帮助的意愿。'"
            ]
          },
          "execution_count": 17,
          "metadata": {},
          "output_type": "execute_result"
        }
      ],
      "source": [
        "graph.get_state(config).values.get(\"summary\",\"\")"
      ]
    },
    {
      "cell_type": "markdown",
      "id": "ad7cc0ab-905a-4037-b7cb-69db5b89591e",
      "metadata": {},
      "source": [
        "## 朗史密斯（LangSmith）\n",
        "\n",
        "Let's review the trace!\n",
        "\n",
        "让我们回顾一下trace！\n",
        "\n"
      ]
    }
  ],
  "metadata": {
    "kernelspec": {
      "display_name": "Python 3",
      "language": "python",
      "name": "python3"
    },
    "language_info": {
      "codemirror_mode": {
        "name": "ipython",
        "version": 3
      },
      "file_extension": ".py",
      "mimetype": "text/x-python",
      "name": "python",
      "nbconvert_exporter": "python",
      "pygments_lexer": "ipython3",
      "version": "3.11.1"
    }
  },
  "nbformat": 4,
  "nbformat_minor": 5
}
