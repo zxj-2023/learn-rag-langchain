{
  "cells": [
    {
      "cell_type": "markdown",
      "metadata": {},
      "source": [
        "# 创建部署（Creating a deployment）\n\n",
        "Let's create a deployment of the `task_maistro` app that we created in module 5.\n\n让我们创建一个我们在第5模块中创建的 `task_maistro` 应用的部署。\n\n",
        "## 代码结构（Code structure）\n\n",
        "[The following information should be provided](https://langchain-ai.github.io/langgraph/concepts/application_structure/) to create a LangGraph Platform deployment:\n\n[The following information should be provided](https://langchain-ai.github.io/langgraph/concepts/application_structure/) 创建一个 LangGraph Platform 部署：\n\n",
        "* A [LangGraph API Configuration file](https://langchain-ai.github.io/langgraph/concepts/application_structure/#configuration-file) - `langgraph.json`\n* The graphs that implement the logic of the application - e.g., `task_maistro.py`\n* A file that specifies dependencies required to run the application - `requirements.txt`\n* Supply environment variables needed for the application to run - `.env` or `docker-compose.yml`\n\n*一个 [LangGraph API Configuration file](https://langchain-ai.github.io/langgraph/concepts/application_structure/#configuration-file) - `langgraph.json`* 实现应用程序逻辑的图形结构 —— 例如，`task_maistro.py`\n*指定运行应用程序所需依赖项的文件 —— `requirements.txt`* 提供应用程序运行所需的环境变量 —— `.env` 或 `docker-compose.yml`\n\n",
        "We have this already in the `module-6/deployment` directory! \n\n我们已经在 `module-6/deployment` 目录中了！\n\n",
        "## 命令行界面（CLI）\n\n",
        "The [LangGraph CLI](https://langchain-ai.github.io/langgraph/concepts/langgraph_cli/) is a command-line interface for creating a LangGraph Platform deployment.\n\n[LangGraph CLI](https://langchain-ai.github.io/langgraph/concepts/langgraph_cli/) 是用于创建 LangGraph Platform 部署的命令行界面。\n\n"
      ]
    },
    {
      "cell_type": "code",
      "execution_count": 1,
      "metadata": {},
      "outputs": [],
      "source": [
        "%%capture --no-stderr\n",
        "%pip install -U langgraph-cli"
      ]
    },
    {
      "cell_type": "markdown",
      "metadata": {},
      "source": [
        "To create a [self-hosted deployment](https://langchain-ai.github.io/langgraph/how-tos/deploy-self-hosted/#how-to-do-a-self-hosted-deployment-of-langgraph), we'll follow a few steps. \n\n要创建一个 [self-hosted deployment](https://langchain-ai.github.io/langgraph/how-tos/deploy-self-hosted/#how-to-do-a-self-hosted-deployment-of-langgraph)，我们将遵循几个步骤。\n\n",
        "### 为 LangGraph 服务器构建 Docker 镜像（Build Docker Image for LangGraph Server）\n\n",
        "We first use the langgraph CLI to create a Docker image for the [LangGraph Server](https://docs.google.com/presentation/d/18MwIaNR2m4Oba6roK_2VQcBE_8Jq_SI7VHTXJdl7raU/edit#slide=id.g313fb160676_0_32).\n\n我们首先使用 langgraph CLI 为 [LangGraph Server](https://docs.google.com/presentation/d/18MwIaNR2m4Oba6roK_2VQcBE_8Jq_SI7VHTXJdl7raU/edit#slide=id.g313fb160676_0_32) 创建一个 Docker 镜像。\n\n",
        "This will package our graph and dependencies into a Docker image.\n\n这将把我们的图和依赖项打包进一个 Docker 镜像。\n\n",
        "A Docker image is a template for a Docker container that contains the code and dependencies required to run the application.\n\nDocker 镜像是一个包含运行应用程序所需代码和依赖项的 Docker 容器模板。\n\n",
        "Ensure that [Docker](https://docs.docker.com/engine/install/) is installed and then run the following command to create the Docker image, `my-image`:\n\n确保 [Docker](https://docs.docker.com/engine/install/) 已安装，然后运行以下命令来创建 Docker 镜像，`my-image`：\n\n",
        "```\n$ cd module-6/deployment\n$ langgraph build -t my-image\n```\n\n",
        "### 设置 Redis 和 PostgreSQL（Set Up Redis and PostgreSQL）\n\n",
        "If you already have Redis and PostgreSQL running (e.g., locally or on other servers), then create and run the LangGraph Server container [by itself](https://langchain-ai.github.io/langgraph/how-tos/deploy-self-hosted/#running-the-application-locally) with the URIs for Redis and PostgreSQL:\n\n如果您已经运行了 Redis 和 PostgreSQL（例如，本地或其他服务器上），则可以通过 Redis 和 PostgreSQL 的 URI 创建并运行 LangGraph Server 容器 [by itself](https://langchain-ai.github.io/langgraph/how-tos/deploy-self-hosted/#running-the-application-locally)。\n\n",
        "```\ndocker run \\\n    --env-file .env \\\n    -p 8123:8000 \\\n    -e REDIS_URI=\"foo\" \\\n    -e DATABASE_URI=\"bar\" \\\n    -e LANGSMITH_API_KEY=\"baz\" \\\n    my-image\n```\n\n",
        "Alternatively, you can use the provided `docker-compose.yml` file to create three separate containers based on the services defined: \n\n或者，您可以使用提供的 `docker-compose.yml` 文件根据定义的服务创建三个单独的容器：\n\n",
        "* `langgraph-redis`: Creates a new container using the official Redis image.\n* `langgraph-postgres`: Creates a new container using the official Postgres image.\n* `langgraph-api`: Creates a new container using your pre-built image.\n\n*`langgraph-redis`：使用官方的 Redis 镜像创建一个新的容器。* `langgraph-postgres`：使用官方的 Postgres 镜像创建一个新的容器。  \n* `langgraph-api`：使用您预先构建的镜像创建一个新的容器。\n\n",
        "Simply copy the `docker-compose-example.yml` and add the following environment variables to run the deployed `task_maistro` app:\n\n只需复制 `docker-compose-example.yml` 并添加以下环境变量以运行已部署的 `task_maistro` 应用程序：\n\n",
        "* `IMAGE_NAME` (e.g., `my-image`) \n* `LANGSMITH_API_KEY`\n* `OPENAI_API_KEY`\n\n*`IMAGE_NAME`（例如，`my-image`）* `LANGSMITH_API_KEY`  \n* `OPENAI_API_KEY`\n\n",
        "Then, [launch the deployment](https://langchain-ai.github.io/langgraph/how-tos/deploy-self-hosted/#using-docker-compose):\n\n然后，[launch the deployment](https://langchain-ai.github.io/langgraph/how-tos/deploy-self-hosted/#using-docker-compose)：\n\n",
        "```\n$ cd module-6/deployment\n$ docker compose up\n```\n\n"
      ]
    },
    {
      "cell_type": "markdown",
      "metadata": {},
      "source": [
        "\n"
      ]
    }
  ],
  "metadata": {
    "kernelspec": {
      "display_name": "Python 3 (ipykernel)",
      "language": "python",
      "name": "python3"
    },
    "language_info": {
      "codemirror_mode": {
        "name": "ipython",
        "version": 3
      },
      "file_extension": ".py",
      "mimetype": "text/x-python",
      "name": "python",
      "nbconvert_exporter": "python",
      "pygments_lexer": "ipython3",
      "version": "3.11.8"
    }
  },
  "nbformat": 4,
  "nbformat_minor": 4
}