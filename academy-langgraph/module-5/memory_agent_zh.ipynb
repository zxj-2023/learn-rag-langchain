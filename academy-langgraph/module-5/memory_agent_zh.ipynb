{
  "cells": [
    {
      "cell_type": "markdown",
      "metadata": {},
      "source": [
        "# 内存代理（Memory Agent）\n",
        "\n",
        "## 评审（Review）\n",
        "\n",
        "We created a chatbot that saves semantic memories to a single [user profile](https://langchain-ai.github.io/langgraph/concepts/memory/#profile) or [collection](https://langchain-ai.github.io/langgraph/concepts/memory/#collection).\n",
        "\n",
        "我们创建了一个聊天机器人，它将语义记忆保存到单一的 [user profile](https://langchain-ai.github.io/langgraph/concepts/memory/#profile) 或 [collection](https://langchain-ai.github.io/langgraph/concepts/memory/#collection)。\n",
        "\n",
        "We introduced [Trustcall](https://github.com/hinthornw/trustcall) as a way to update either schema.\n",
        "\n",
        "我们介绍了 [Trustcall](https://github.com/hinthornw/trustcall) 作为一种更新任一模式的方法。\n",
        "\n",
        "## 目标（Goals）\n",
        "\n",
        "Now, we're going to pull together the pieces we've learned to build an [agent](https://langchain-ai.github.io/langgraph/concepts/agentic_concepts/) with long-term memory.\n",
        "\n",
        "现在，我们将把学到的内容整合起来，构建一个具有长期记忆的 [agent](https://langchain-ai.github.io/langgraph/concepts/agentic_concepts/)。\n",
        "\n",
        "Our agent, `task_mAIstro`, will help us manage a ToDo list! \n",
        "\n",
        "我们的代理 `task_mAIstro` 将帮助我们管理待办事项列表！\n",
        "\n",
        "The chatbots we built previously *always* reflected on the conversation and saved memories. \n",
        "\n",
        "我们之前构建的聊天机器人 *始终* 会反思对话并保存记忆。\n",
        "\n",
        "`task_mAIstro` will decide *when* to save memories (items to our ToDo list).\n",
        "\n",
        "`task_mAIstro` 将决定 *何时* 保存记忆（待办事项列表中的项目）。\n",
        "\n",
        "The chatbots we built previously always saved one type of memory, a profile or a collection. \n",
        "\n",
        "我们之前构建的聊天机器人始终保存一种类型的记忆，即个人资料或集合。\n",
        "\n",
        "`task_mAIstro` can decide to save to either a user profile or a collection of ToDo items.\n",
        "\n",
        "`task_mAIstro` 可以决定将数据保存到用户个人资料或 ToDo 事项集合中。\n",
        "\n",
        "In addition semantic memory, `task_mAIstro` also will manage procedural memory.\n",
        "\n",
        "除此之外，`task_mAIstro` 还将管理程序性记忆。\n",
        "\n",
        "This allows the user to update their preferences for creating ToDo items. \n",
        "\n",
        "这允许用户更新创建ToDo项的偏好设置。\n",
        "\n"
      ]
    },
    {
      "cell_type": "code",
      "execution_count": 19,
      "metadata": {},
      "outputs": [],
      "source": [
        "%%capture --no-stderr\n",
        "%pip install -U langchain_openai langgraph trustcall langchain_core"
      ]
    },
    {
      "cell_type": "code",
      "execution_count": 1,
      "metadata": {},
      "outputs": [],
      "source": [
        "import os, getpass\n",
        "\n",
        "def _set_env(var: str):\n",
        "    # Check if the variable is set in the OS environment\n",
        "    env_value = os.environ.get(var)\n",
        "    if not env_value:\n",
        "        # If not set, prompt the user for input\n",
        "        env_value = getpass.getpass(f\"{var}: \")\n",
        "    \n",
        "    # Set the environment variable for the current process\n",
        "    os.environ[var] = env_value\n",
        "\n",
        "os.environ[\"LANGSMITH_API_KEY\"]=\"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\"\n",
        "os.environ[\"LANGSMITH_TRACING\"] = \"true\"\n",
        "os.environ[\"LANGSMITH_PROJECT\"] = \"langchain-academy\""
      ]
    },
    {
      "cell_type": "code",
      "execution_count": null,
      "metadata": {},
      "outputs": [],
      "source": [
        "_set_env(\"OPENAI_API_KEY\")"
      ]
    },
    {
      "cell_type": "markdown",
      "metadata": {},
      "source": [
        "## 对 Trustcall 更新的可见性（Visibility into Trustcall updates）\n",
        "\n",
        "Trustcall creates and updates JSON schemas.\n",
        "\n",
        "Trustcall 创建和更新 JSON 模式。\n",
        "\n",
        "What if we want visibility into the *specific changes* made by Trustcall?\n",
        "For example, we saw before that Trustcall has some of its own tools to:\n",
        "\n",
        "例如，我们之前看到过，Trustcall 有一些自己的工具来：\n",
        "\n",
        "* Self-correct from validation failures -- [see trace example here](https://smith.langchain.com/public/5cd23009-3e05-4b00-99f0-c66ee3edd06e/r/9684db76-2003-443b-9aa2-9a9dbc5498b7) \n",
        "* Update existing documents -- [see trace example here](https://smith.langchain.com/public/f45bdaf0-6963-4c19-8ec9-f4b7fe0f68ad/r/760f90e1-a5dc-48f1-8c34-79d6a3414ac3)\n",
        "\n",
        "*自纠正验证失败 -- [see trace example here](https://smith.langchain.com/public/5cd23009-3e05-4b00-99f0-c66ee3edd06e/r/9684db76-2003-443b-9aa2-9a9dbc5498b7)* 更新现有文档 -- [see trace example here](https://smith.langchain.com/public/f45bdaf0-6963-4c19-8ec9-f4b7fe0f68ad/r/760f90e1-a5dc-48f1-8c34-79d6a3414ac3)\n",
        "\n",
        "Visibility into these tools can be useful for the agent we're going to build.\n",
        "\n",
        "这些工具的可见性对我们即将构建的代理很有用。\n",
        "\n",
        "Below, we'll show how to do this!\n",
        "\n",
        "下面，我们将展示如何做到这一点！\n",
        "\n"
      ]
    },
    {
      "cell_type": "code",
      "execution_count": 2,
      "metadata": {},
      "outputs": [],
      "source": [
        "from pydantic import BaseModel, Field\n",
        "\n",
        "class Memory(BaseModel):\n",
        "    content: str = Field(description=\"记忆的主要内容。例如：用户表达了学习法语的兴趣。\")\n",
        "\n",
        "class MemoryCollection(BaseModel):\n",
        "    memories: list[Memory] = Field(description=\"关于用户的一系列记忆。\")"
      ]
    },
    {
      "cell_type": "markdown",
      "metadata": {},
      "source": [
        "We can add a [listener](https://python.langchain.com/docs/how_to/lcel_cheatsheet/#add-lifecycle-listeners) to the Trustcall extractor.\n",
        "\n",
        "我们可以向 Trustcall 提取器添加一个 [listener](https://python.langchain.com/docs/how_to/lcel_cheatsheet/#add-lifecycle-listeners)。\n",
        "\n",
        "This will pass runs from the extractor's execution to a class, `Spy`, that we will define.\n",
        "\n",
        "这将把提取器执行过程中的运行传递到我们定义的一个类，`Spy`。\n",
        "\n",
        "Our `Spy` class will extract information about what tool calls were made by Trustcall.\n",
        "\n",
        "我们的 `Spy` 类将提取 Trustcall 所调用工具的相关信息。\n",
        "\n"
      ]
    },
    {
      "cell_type": "code",
      "execution_count": 5,
      "metadata": {},
      "outputs": [],
      "source": [
        "from trustcall import create_extractor\n",
        "from langchain_openai import ChatOpenAI\n",
        "\n",
        "# 检查Trustcall进行的工具调用\n",
        "class Spy:\n",
        "    def __init__(self):\n",
        "        self.called_tools = []\n",
        "\n",
        "    def __call__(self, run):\n",
        "        # 收集提取器进行的工具调用信息。\n",
        "        q = [run]\n",
        "        while q:\n",
        "            r = q.pop()\n",
        "            if r.child_runs:\n",
        "                q.extend(r.child_runs)\n",
        "            if r.run_type == \"chat_model\":\n",
        "                self.called_tools.append(\n",
        "                    r.outputs[\"generations\"][0][0][\"message\"][\"kwargs\"][\"tool_calls\"]\n",
        "                )\n",
        "\n",
        "# 初始化监视器\n",
        "spy = Spy()\n",
        "\n",
        "# 初始化模型\n",
        "from langchain_community.chat_models import ChatTongyi\n",
        "model = ChatTongyi(\n",
        "    model=\"qwen-plus-2025-07-14\",\n",
        "    api_key=\"sk-ba2dda3817f145d7af141fdf32e31d90\"\n",
        ")\n",
        "\n",
        "# 创建提取器\n",
        "trustcall_extractor = create_extractor(\n",
        "    model,\n",
        "    tools=[Memory],\n",
        "    enable_inserts=True,\n",
        ")\n",
        "\n",
        "# 添加监视器作为监听器\n",
        "trustcall_extractor_see_all_tool_calls = trustcall_extractor.with_listeners(on_end=spy)"
      ]
    },
    {
      "cell_type": "code",
      "execution_count": 6,
      "metadata": {},
      "outputs": [],
      "source": [
        "from langchain_core.messages import HumanMessage, SystemMessage, AIMessage\n",
        "\n",
        "# 指令\n",
        "instruction = \"\"\"从以下对话中提取记忆：\"\"\"\n",
        "\n",
        "# 对话\n",
        "conversation = [HumanMessage(content=\"嗨，我是兰斯。\"), \n",
        "                AIMessage(content=\"很高兴认识你，兰斯。\"), \n",
        "                HumanMessage(content=\"今天早上我在旧金山骑了一次很棒的自行车。\")]\n",
        "\n",
        "# 调用提取器\n",
        "result = trustcall_extractor.invoke({\"messages\": [SystemMessage(content=instruction)] + conversation})"
      ]
    },
    {
      "cell_type": "code",
      "execution_count": 7,
      "metadata": {},
      "outputs": [
        {
          "name": "stdout",
          "output_type": "stream",
          "text": [
            "==================================\u001b[1m Ai Message \u001b[0m==================================\n",
            "Tool Calls:\n",
            "  Memory (call_c12fc2f5da584c6ca54228)\n",
            " Call ID: call_c12fc2f5da584c6ca54228\n",
            "  Args:\n",
            "    content: 用户今天早上在旧金山骑了一次很棒的自行车。\n"
          ]
        }
      ],
      "source": [
        "# Messages contain the tool calls\n",
        "for m in result[\"messages\"]:\n",
        "    m.pretty_print()"
      ]
    },
    {
      "cell_type": "code",
      "execution_count": 8,
      "metadata": {},
      "outputs": [
        {
          "name": "stdout",
          "output_type": "stream",
          "text": [
            "content='用户今天早上在旧金山骑了一次很棒的自行车。'\n"
          ]
        }
      ],
      "source": [
        "# Responses contain the memories that adhere to the schema\n",
        "for m in result[\"responses\"]: \n",
        "    print(m)"
      ]
    },
    {
      "cell_type": "code",
      "execution_count": 9,
      "metadata": {},
      "outputs": [
        {
          "name": "stdout",
          "output_type": "stream",
          "text": [
            "{'id': 'call_c12fc2f5da584c6ca54228'}\n"
          ]
        }
      ],
      "source": [
        "# Metadata contains the tool call  \n",
        "for m in result[\"response_metadata\"]: \n",
        "    print(m)"
      ]
    },
    {
      "cell_type": "code",
      "execution_count": 10,
      "metadata": {},
      "outputs": [
        {
          "data": {
            "text/plain": [
              "[('0', 'Memory', {'content': '用户今天早上在旧金山骑了一次很棒的自行车。'})]"
            ]
          },
          "execution_count": 10,
          "metadata": {},
          "output_type": "execute_result"
        }
      ],
      "source": [
        "# 更新对话\n",
        "updated_conversation = [AIMessage(content=\"太好了，之后你做了什么？\"), \n",
        "                        HumanMessage(content=\"我去了Tartine，吃了一个可颂面包。\"),                        \n",
        "                        AIMessage(content=\"还有什么想法吗？\"),\n",
        "                        HumanMessage(content=\"我在想我的日本之行，今年冬天想再去一次！\")]\n",
        "\n",
        "# 更新指令\n",
        "system_msg = \"\"\"根据以下对话更新现有记忆并创建新的记忆：\"\"\"\n",
        "\n",
        "# 我们将保存现有记忆，给它们分配ID、键（工具名称）和值\n",
        "tool_name = \"Memory\"\n",
        "existing_memories = [(str(i), tool_name, memory.model_dump()) for i, memory in enumerate(result[\"responses\"])] if result[\"responses\"] else None\n",
        "existing_memories"
      ]
    },
    {
      "cell_type": "code",
      "execution_count": 14,
      "metadata": {},
      "outputs": [
        {
          "ename": "GraphRecursionError",
          "evalue": "Recursion limit of 100 reached without hitting a stop condition. You can increase the limit by setting the `recursion_limit` config key.\nFor troubleshooting, visit: https://python.langchain.com/docs/troubleshooting/errors/GRAPH_RECURSION_LIMIT",
          "output_type": "error",
          "traceback": [
            "\u001b[31m---------------------------------------------------------------------------\u001b[39m",
            "\u001b[31mGraphRecursionError\u001b[39m                       Traceback (most recent call last)",
            "\u001b[36mCell\u001b[39m\u001b[36m \u001b[39m\u001b[32mIn[14]\u001b[39m\u001b[32m, line 2\u001b[39m\n\u001b[32m      1\u001b[39m \u001b[38;5;66;03m# 使用更新的对话和现有记忆调用提取器，增加递归限制\u001b[39;00m\n\u001b[32m----> \u001b[39m\u001b[32m2\u001b[39m result = \u001b[43mtrustcall_extractor_see_all_tool_calls\u001b[49m\u001b[43m.\u001b[49m\u001b[43minvoke\u001b[49m\u001b[43m(\u001b[49m\n\u001b[32m      3\u001b[39m \u001b[43m    \u001b[49m\u001b[43m{\u001b[49m\u001b[33;43m\"\u001b[39;49m\u001b[33;43mmessages\u001b[39;49m\u001b[33;43m\"\u001b[39;49m\u001b[43m:\u001b[49m\u001b[43m \u001b[49m\u001b[43mupdated_conversation\u001b[49m\u001b[43m,\u001b[49m\u001b[43m \u001b[49m\n\u001b[32m      4\u001b[39m \u001b[43m     \u001b[49m\u001b[33;43m\"\u001b[39;49m\u001b[33;43mexisting\u001b[39;49m\u001b[33;43m\"\u001b[39;49m\u001b[43m:\u001b[49m\u001b[43m \u001b[49m\u001b[43mexisting_memories\u001b[49m\u001b[43m}\u001b[49m\u001b[43m,\u001b[49m\n\u001b[32m      5\u001b[39m \u001b[43m    \u001b[49m\u001b[43m{\u001b[49m\u001b[33;43m\"\u001b[39;49m\u001b[33;43mrecursion_limit\u001b[39;49m\u001b[33;43m\"\u001b[39;49m\u001b[43m:\u001b[49m\u001b[43m \u001b[49m\u001b[32;43m100\u001b[39;49m\u001b[43m}\u001b[49m\u001b[43m \u001b[49m\u001b[38;5;66;43;03m#增加递归限制到50\u001b[39;49;00m\n\u001b[32m      6\u001b[39m \u001b[43m)\u001b[49m\n",
            "\u001b[36mFile \u001b[39m\u001b[32m~/.pyenv/versions/3.11.1/lib/python3.11/site-packages/langchain_core/runnables/base.py:5434\u001b[39m, in \u001b[36mRunnableBindingBase.invoke\u001b[39m\u001b[34m(self, input, config, **kwargs)\u001b[39m\n\u001b[32m   5427\u001b[39m \u001b[38;5;129m@override\u001b[39m\n\u001b[32m   5428\u001b[39m \u001b[38;5;28;01mdef\u001b[39;00m\u001b[38;5;250m \u001b[39m\u001b[34minvoke\u001b[39m(\n\u001b[32m   5429\u001b[39m     \u001b[38;5;28mself\u001b[39m,\n\u001b[32m   (...)\u001b[39m\u001b[32m   5432\u001b[39m     **kwargs: Optional[Any],\n\u001b[32m   5433\u001b[39m ) -> Output:\n\u001b[32m-> \u001b[39m\u001b[32m5434\u001b[39m     \u001b[38;5;28;01mreturn\u001b[39;00m \u001b[38;5;28;43mself\u001b[39;49m\u001b[43m.\u001b[49m\u001b[43mbound\u001b[49m\u001b[43m.\u001b[49m\u001b[43minvoke\u001b[49m\u001b[43m(\u001b[49m\n\u001b[32m   5435\u001b[39m \u001b[43m        \u001b[49m\u001b[38;5;28;43minput\u001b[39;49m\u001b[43m,\u001b[49m\n\u001b[32m   5436\u001b[39m \u001b[43m        \u001b[49m\u001b[38;5;28;43mself\u001b[39;49m\u001b[43m.\u001b[49m\u001b[43m_merge_configs\u001b[49m\u001b[43m(\u001b[49m\u001b[43mconfig\u001b[49m\u001b[43m)\u001b[49m\u001b[43m,\u001b[49m\n\u001b[32m   5437\u001b[39m \u001b[43m        \u001b[49m\u001b[43m*\u001b[49m\u001b[43m*\u001b[49m\u001b[43m{\u001b[49m\u001b[43m*\u001b[49m\u001b[43m*\u001b[49m\u001b[38;5;28;43mself\u001b[39;49m\u001b[43m.\u001b[49m\u001b[43mkwargs\u001b[49m\u001b[43m,\u001b[49m\u001b[43m \u001b[49m\u001b[43m*\u001b[49m\u001b[43m*\u001b[49m\u001b[43mkwargs\u001b[49m\u001b[43m}\u001b[49m\u001b[43m,\u001b[49m\n\u001b[32m   5438\u001b[39m \u001b[43m    \u001b[49m\u001b[43m)\u001b[49m\n",
            "\u001b[36mFile \u001b[39m\u001b[32m~/.pyenv/versions/3.11.1/lib/python3.11/site-packages/langchain_core/runnables/base.py:3046\u001b[39m, in \u001b[36mRunnableSequence.invoke\u001b[39m\u001b[34m(self, input, config, **kwargs)\u001b[39m\n\u001b[32m   3044\u001b[39m                 input_ = context.run(step.invoke, input_, config, **kwargs)\n\u001b[32m   3045\u001b[39m             \u001b[38;5;28;01melse\u001b[39;00m:\n\u001b[32m-> \u001b[39m\u001b[32m3046\u001b[39m                 input_ = context.run(step.invoke, input_, config)\n\u001b[32m   3047\u001b[39m \u001b[38;5;66;03m# finish the root run\u001b[39;00m\n\u001b[32m   3048\u001b[39m \u001b[38;5;28;01mexcept\u001b[39;00m \u001b[38;5;167;01mBaseException\u001b[39;00m \u001b[38;5;28;01mas\u001b[39;00m e:\n",
            "\u001b[36mFile \u001b[39m\u001b[32m~/.pyenv/versions/3.11.1/lib/python3.11/site-packages/langgraph/pregel/__init__.py:2844\u001b[39m, in \u001b[36mPregel.invoke\u001b[39m\u001b[34m(self, input, config, stream_mode, print_mode, output_keys, interrupt_before, interrupt_after, **kwargs)\u001b[39m\n\u001b[32m   2841\u001b[39m chunks: \u001b[38;5;28mlist\u001b[39m[\u001b[38;5;28mdict\u001b[39m[\u001b[38;5;28mstr\u001b[39m, Any] | Any] = []\n\u001b[32m   2842\u001b[39m interrupts: \u001b[38;5;28mlist\u001b[39m[Interrupt] = []\n\u001b[32m-> \u001b[39m\u001b[32m2844\u001b[39m \u001b[43m\u001b[49m\u001b[38;5;28;43;01mfor\u001b[39;49;00m\u001b[43m \u001b[49m\u001b[43mchunk\u001b[49m\u001b[43m \u001b[49m\u001b[38;5;129;43;01min\u001b[39;49;00m\u001b[43m \u001b[49m\u001b[38;5;28;43mself\u001b[39;49m\u001b[43m.\u001b[49m\u001b[43mstream\u001b[49m\u001b[43m(\u001b[49m\n\u001b[32m   2845\u001b[39m \u001b[43m    \u001b[49m\u001b[38;5;28;43minput\u001b[39;49m\u001b[43m,\u001b[49m\n\u001b[32m   2846\u001b[39m \u001b[43m    \u001b[49m\u001b[43mconfig\u001b[49m\u001b[43m,\u001b[49m\n\u001b[32m   2847\u001b[39m \u001b[43m    \u001b[49m\u001b[43mstream_mode\u001b[49m\u001b[43m=\u001b[49m\u001b[43m[\u001b[49m\u001b[33;43m\"\u001b[39;49m\u001b[33;43mupdates\u001b[39;49m\u001b[33;43m\"\u001b[39;49m\u001b[43m,\u001b[49m\u001b[43m \u001b[49m\u001b[33;43m\"\u001b[39;49m\u001b[33;43mvalues\u001b[39;49m\u001b[33;43m\"\u001b[39;49m\u001b[43m]\u001b[49m\n\u001b[32m   2848\u001b[39m \u001b[43m    \u001b[49m\u001b[38;5;28;43;01mif\u001b[39;49;00m\u001b[43m \u001b[49m\u001b[43mstream_mode\u001b[49m\u001b[43m \u001b[49m\u001b[43m==\u001b[49m\u001b[43m \u001b[49m\u001b[33;43m\"\u001b[39;49m\u001b[33;43mvalues\u001b[39;49m\u001b[33;43m\"\u001b[39;49m\n\u001b[32m   2849\u001b[39m \u001b[43m    \u001b[49m\u001b[38;5;28;43;01melse\u001b[39;49;00m\u001b[43m \u001b[49m\u001b[43mstream_mode\u001b[49m\u001b[43m,\u001b[49m\n\u001b[32m   2850\u001b[39m \u001b[43m    \u001b[49m\u001b[43mprint_mode\u001b[49m\u001b[43m=\u001b[49m\u001b[43mprint_mode\u001b[49m\u001b[43m,\u001b[49m\n\u001b[32m   2851\u001b[39m \u001b[43m    \u001b[49m\u001b[43moutput_keys\u001b[49m\u001b[43m=\u001b[49m\u001b[43moutput_keys\u001b[49m\u001b[43m,\u001b[49m\n\u001b[32m   2852\u001b[39m \u001b[43m    \u001b[49m\u001b[43minterrupt_before\u001b[49m\u001b[43m=\u001b[49m\u001b[43minterrupt_before\u001b[49m\u001b[43m,\u001b[49m\n\u001b[32m   2853\u001b[39m \u001b[43m    \u001b[49m\u001b[43minterrupt_after\u001b[49m\u001b[43m=\u001b[49m\u001b[43minterrupt_after\u001b[49m\u001b[43m,\u001b[49m\n\u001b[32m   2854\u001b[39m \u001b[43m    \u001b[49m\u001b[43m*\u001b[49m\u001b[43m*\u001b[49m\u001b[43mkwargs\u001b[49m\u001b[43m,\u001b[49m\n\u001b[32m   2855\u001b[39m \u001b[43m\u001b[49m\u001b[43m)\u001b[49m\u001b[43m:\u001b[49m\n\u001b[32m   2856\u001b[39m \u001b[43m    \u001b[49m\u001b[38;5;28;43;01mif\u001b[39;49;00m\u001b[43m \u001b[49m\u001b[43mstream_mode\u001b[49m\u001b[43m \u001b[49m\u001b[43m==\u001b[49m\u001b[43m \u001b[49m\u001b[33;43m\"\u001b[39;49m\u001b[33;43mvalues\u001b[39;49m\u001b[33;43m\"\u001b[39;49m\u001b[43m:\u001b[49m\n\u001b[32m   2857\u001b[39m \u001b[43m        \u001b[49m\u001b[38;5;28;43;01mif\u001b[39;49;00m\u001b[43m \u001b[49m\u001b[38;5;28;43mlen\u001b[39;49m\u001b[43m(\u001b[49m\u001b[43mchunk\u001b[49m\u001b[43m)\u001b[49m\u001b[43m \u001b[49m\u001b[43m==\u001b[49m\u001b[43m \u001b[49m\u001b[32;43m2\u001b[39;49m\u001b[43m:\u001b[49m\n",
            "\u001b[36mFile \u001b[39m\u001b[32m~/.pyenv/versions/3.11.1/lib/python3.11/site-packages/langgraph/pregel/__init__.py:2559\u001b[39m, in \u001b[36mPregel.stream\u001b[39m\u001b[34m(self, input, config, stream_mode, print_mode, output_keys, interrupt_before, interrupt_after, checkpoint_during, debug, subgraphs)\u001b[39m\n\u001b[32m   2550\u001b[39m \u001b[38;5;28;01mif\u001b[39;00m loop.status == \u001b[33m\"\u001b[39m\u001b[33mout_of_steps\u001b[39m\u001b[33m\"\u001b[39m:\n\u001b[32m   2551\u001b[39m     msg = create_error_message(\n\u001b[32m   2552\u001b[39m         message=(\n\u001b[32m   2553\u001b[39m             \u001b[33mf\u001b[39m\u001b[33m\"\u001b[39m\u001b[33mRecursion limit of \u001b[39m\u001b[38;5;132;01m{\u001b[39;00mconfig[\u001b[33m'\u001b[39m\u001b[33mrecursion_limit\u001b[39m\u001b[33m'\u001b[39m]\u001b[38;5;132;01m}\u001b[39;00m\u001b[33m reached \u001b[39m\u001b[33m\"\u001b[39m\n\u001b[32m   (...)\u001b[39m\u001b[32m   2557\u001b[39m         error_code=ErrorCode.GRAPH_RECURSION_LIMIT,\n\u001b[32m   2558\u001b[39m     )\n\u001b[32m-> \u001b[39m\u001b[32m2559\u001b[39m     \u001b[38;5;28;01mraise\u001b[39;00m GraphRecursionError(msg)\n\u001b[32m   2560\u001b[39m \u001b[38;5;66;03m# set final channel values as run output\u001b[39;00m\n\u001b[32m   2561\u001b[39m run_manager.on_chain_end(loop.output)\n",
            "\u001b[31mGraphRecursionError\u001b[39m: Recursion limit of 100 reached without hitting a stop condition. You can increase the limit by setting the `recursion_limit` config key.\nFor troubleshooting, visit: https://python.langchain.com/docs/troubleshooting/errors/GRAPH_RECURSION_LIMIT"
          ]
        }
      ],
      "source": [
        "\n",
        "# 使用更新的对话和现有记忆调用提取器，增加递归限制\n",
        "result = trustcall_extractor_see_all_tool_calls.invoke(\n",
        "    {\"messages\": updated_conversation, \n",
        "     \"existing\": existing_memories},\n",
        "    {\"recursion_limit\": 100} #增加递归限制到50\n",
        ")"
      ]
    },
    {
      "cell_type": "code",
      "execution_count": 14,
      "metadata": {},
      "outputs": [
        {
          "name": "stdout",
          "output_type": "stream",
          "text": [
            "{'id': 'call_bF0w0hE4YZmGyDbuJVe1mh5H', 'json_doc_id': '0'}\n",
            "{'id': 'call_fQAxxRypV914Xev6nJ9VKw3X'}\n"
          ]
        }
      ],
      "source": [
        "# Metadata contains the tool call  \n",
        "for m in result[\"response_metadata\"]: \n",
        "    print(m)"
      ]
    },
    {
      "cell_type": "code",
      "execution_count": 10,
      "metadata": {},
      "outputs": [
        {
          "name": "stdout",
          "output_type": "stream",
          "text": [
            "==================================\u001b[1m Ai Message \u001b[0m==================================\n",
            "Tool Calls:\n",
            "  Memory (call_bF0w0hE4YZmGyDbuJVe1mh5H)\n",
            " Call ID: call_bF0w0hE4YZmGyDbuJVe1mh5H\n",
            "  Args:\n",
            "    content: Lance had a nice bike ride in San Francisco this morning. Afterward, he went to Tartine and ate a croissant. He was also thinking about his trip to Japan and going back this winter.\n",
            "  Memory (call_fQAxxRypV914Xev6nJ9VKw3X)\n",
            " Call ID: call_fQAxxRypV914Xev6nJ9VKw3X\n",
            "  Args:\n",
            "    content: Lance went to Tartine and ate a croissant. He was also thinking about his trip to Japan and going back this winter.\n"
          ]
        }
      ],
      "source": [
        "# Messages contain the tool calls\n",
        "for m in result[\"messages\"]:\n",
        "    m.pretty_print()"
      ]
    },
    {
      "cell_type": "code",
      "execution_count": 18,
      "metadata": {},
      "outputs": [
        {
          "name": "stdout",
          "output_type": "stream",
          "text": [
            "content='Lance had a nice bike ride in San Francisco this morning. Afterward, he went to Tartine and ate a croissant. He was also thinking about his trip to Japan and going back this winter.'\n",
            "content='Lance went to Tartine and ate a croissant. He was also thinking about his trip to Japan and going back this winter.'\n"
          ]
        }
      ],
      "source": [
        "# Parsed responses\n",
        "for m in result[\"responses\"]:\n",
        "    print(m)"
      ]
    },
    {
      "cell_type": "code",
      "execution_count": 12,
      "metadata": {},
      "outputs": [
        {
          "data": {
            "text/plain": [
              "[[{'name': 'PatchDoc',\n",
              "   'args': {'json_doc_id': '0',\n",
              "    'planned_edits': '1. Replace the existing content with the updated memory that includes the new activities: going to Tartine for a croissant and thinking about going back to Japan this winter.',\n",
              "    'patches': [{'op': 'replace',\n",
              "      'path': '/content',\n",
              "      'value': 'Lance had a nice bike ride in San Francisco this morning. Afterward, he went to Tartine and ate a croissant. He was also thinking about his trip to Japan and going back this winter.'}]},\n",
              "   'id': 'call_bF0w0hE4YZmGyDbuJVe1mh5H',\n",
              "   'type': 'tool_call'},\n",
              "  {'name': 'Memory',\n",
              "   'args': {'content': 'Lance went to Tartine and ate a croissant. He was also thinking about his trip to Japan and going back this winter.'},\n",
              "   'id': 'call_fQAxxRypV914Xev6nJ9VKw3X',\n",
              "   'type': 'tool_call'}]]"
            ]
          },
          "execution_count": 12,
          "metadata": {},
          "output_type": "execute_result"
        }
      ],
      "source": [
        "# Inspect the tool calls made by Trustcall\n",
        "spy.called_tools"
      ]
    },
    {
      "cell_type": "code",
      "execution_count": 19,
      "metadata": {},
      "outputs": [
        {
          "name": "stdout",
          "output_type": "stream",
          "text": [
            "Document 0 updated:\n",
            "Plan: 1. Replace the existing content with the updated memory that includes the new activities: going to Tartine for a croissant and thinking about going back to Japan this winter.\n",
            "Added content: Lance had a nice bike ride in San Francisco this morning. Afterward, he went to Tartine and ate a croissant. He was also thinking about his trip to Japan and going back this winter.\n",
            "\n",
            "New Memory created:\n",
            "Content: {'content': 'Lance went to Tartine and ate a croissant. He was also thinking about his trip to Japan and going back this winter.'}\n"
          ]
        }
      ],
      "source": [
        "def extract_tool_info(tool_calls, schema_name=\"Memory\"):\n",
        "    \"\"\"Extract information from tool calls for both patches and new memories.\n",
        "    \n",
        "    Args:\n",
        "        tool_calls: List of tool calls from the model\n",
        "        schema_name: Name of the schema tool (e.g., \"Memory\", \"ToDo\", \"Profile\")\n",
        "    \"\"\"\n",
        "\n",
        "    # Initialize list of changes\n",
        "    changes = []\n",
        "    \n",
        "    for call_group in tool_calls:\n",
        "        for call in call_group:\n",
        "            if call['name'] == 'PatchDoc':\n",
        "                changes.append({\n",
        "                    'type': 'update',\n",
        "                    'doc_id': call['args']['json_doc_id'],\n",
        "                    'planned_edits': call['args']['planned_edits'],\n",
        "                    'value': call['args']['patches'][0]['value']\n",
        "                })\n",
        "            elif call['name'] == schema_name:\n",
        "                changes.append({\n",
        "                    'type': 'new',\n",
        "                    'value': call['args']\n",
        "                })\n",
        "\n",
        "    # Format results as a single string\n",
        "    result_parts = []\n",
        "    for change in changes:\n",
        "        if change['type'] == 'update':\n",
        "            result_parts.append(\n",
        "                f\"Document {change['doc_id']} updated:\\n\"\n",
        "                f\"Plan: {change['planned_edits']}\\n\"\n",
        "                f\"Added content: {change['value']}\"\n",
        "            )\n",
        "        else:\n",
        "            result_parts.append(\n",
        "                f\"New {schema_name} created:\\n\"\n",
        "                f\"Content: {change['value']}\"\n",
        "            )\n",
        "    \n",
        "    return \"\\n\\n\".join(result_parts)\n",
        "\n",
        "# Inspect spy.called_tools to see exactly what happened during the extraction\n",
        "schema_name = \"Memory\"\n",
        "changes = extract_tool_info(spy.called_tools, schema_name)\n",
        "print(changes)"
      ]
    },
    {
      "cell_type": "markdown",
      "metadata": {},
      "source": [
        "## 创建一个代理（Creating an agent）\n",
        "\n",
        "There are many different [agent](https://langchain-ai.github.io/langgraph/concepts/high_level/) architectures to choose from.\n",
        "\n",
        "有许多不同的 [agent](https://langchain-ai.github.io/langgraph/concepts/high_level/) 架构可供选择。\n",
        "\n",
        "Here, we'll implement something simple, a [ReAct](https://langchain-ai.github.io/langgraph/concepts/agentic_concepts/#react-implementation) agent.\n",
        "\n",
        "在这里，我们将实现一个简单的内容，一个 [ReAct](https://langchain-ai.github.io/langgraph/concepts/agentic_concepts/#react-implementation) 代理。\n",
        "\n",
        "This agent will be a helpful companion for creating and managing a ToDo list.\n",
        "\n",
        "这个代理将成为创建和管理待办事项列表的得力助手。\n",
        "\n",
        "This agent can make a decision to update three types of long-term memory: \n",
        "\n",
        "此代理可以决定更新三种类型的长期记忆：\n",
        "\n",
        "(a) Create or update a user `profile` with general user information \n",
        "\n",
        "(a) 创建或更新具有普通用户信息的用户 `profile`\n",
        "\n",
        "(b) Add or update items in a ToDo list `collection`\n",
        "\n",
        "(b) 在ToDo列表中添加或更新项目 `collection`\n",
        "\n",
        "(c) Update its own `instructions` on how to update items to the ToDo list\n",
        "\n",
        "(c) 更新其自身的 `instructions` 以了解如何更新待办事项列表中的项目\n",
        "\n"
      ]
    },
    {
      "cell_type": "code",
      "execution_count": 18,
      "metadata": {},
      "outputs": [],
      "source": [
        "from typing import TypedDict, Literal\n",
        "\n",
        "# 更新记忆工具\n",
        "class UpdateMemory(TypedDict):\n",
        "    \"\"\" 决定更新哪种记忆类型 \"\"\"\n",
        "    update_type: Literal['user', 'todo', 'instructions']"
      ]
    },
    {
      "cell_type": "code",
      "execution_count": 33,
      "metadata": {},
      "outputs": [],
      "source": [
        "def extract_tool_info(tool_calls, schema_name=\"Memory\"):\n",
        "    \"\"\"从工具调用中提取信息，包括补丁和新记忆。\n",
        "    \n",
        "    参数:\n",
        "        tool_calls: 模型的工具调用列表\n",
        "        schema_name: 模式工具的名称（例如，\"Memory\", \"ToDo\", \"Profile\"）\n",
        "    \"\"\"\n",
        "\n",
        "    # 初始化变更列表\n",
        "    changes = []\n",
        "    \n",
        "    for call_group in tool_calls:\n",
        "        for call in call_group:\n",
        "            if call['name'] == 'PatchDoc':\n",
        "                changes.append({\n",
        "                    'type': 'update',\n",
        "                    'doc_id': call['args']['json_doc_id'],\n",
        "                    'planned_edits': call['args']['planned_edits'],\n",
        "                    'value': call['args']['patches'][0]['value']\n",
        "                })\n",
        "            elif call['name'] == schema_name:\n",
        "                changes.append({\n",
        "                    'type': 'new',\n",
        "                    'value': call['args']\n",
        "                })\n",
        "\n",
        "    # 将结果格式化为单个字符串\n",
        "    result_parts = []\n",
        "    for change in changes:\n",
        "        if change['type'] == 'update':\n",
        "            result_parts.append(\n",
        "                f\"文档 {change['doc_id']} 已更新:\\n\"\n",
        "                f\"计划: {change['planned_edits']}\\n\"\n",
        "                f\"新增内容: {change['value']}\"\n",
        "            )\n",
        "        else:\n",
        "            result_parts.append(\n",
        "                f\"新 {schema_name} 已创建:\\n\"\n",
        "                f\"内容: {change['value']}\"\n",
        "            )\n",
        "    \n",
        "    return \"\\n\\n\".join(result_parts)"
      ]
    },
    {
      "cell_type": "code",
      "execution_count": 3,
      "metadata": {},
      "outputs": [],
      "source": [
        "_set_env(\"OPENAI_API_KEY\")"
      ]
    },
    {
      "cell_type": "markdown",
      "metadata": {},
      "source": [
        "## 图定义（Graph definition）\n",
        "\n",
        "We add a simple router, `route_message`, that makes a binary decision to save memories.\n",
        "\n",
        "我们添加了一个简单的路由器 `route_message`，它通过二元决策来节省内存。\n",
        "\n",
        "The memory collection updating is handled by `Trustcall` in the `write_memory` node, as before!\n",
        "\n",
        "内存集合的更新由 `Trustcall` 在 `write_memory` 节点中处理，和之前一样！\n",
        "\n"
      ]
    },
    {
      "cell_type": "code",
      "execution_count": 34,
      "metadata": {},
      "outputs": [
        {
          "data": {
            "image/png": "[encoded data removed]",
            "text/plain": [
              "<IPython.core.display.Image object>"
            ]
          },
          "metadata": {},
          "output_type": "display_data"
        }
      ],
      "source": [
        "import uuid\n",
        "from IPython.display import Image, display\n",
        "from datetime import datetime\n",
        "from trustcall import create_extractor\n",
        "from typing import Optional\n",
        "from pydantic import BaseModel, Field\n",
        "from langchain_core.runnables import RunnableConfig\n",
        "from langchain_core.messages import merge_message_runs, HumanMessage, SystemMessage\n",
        "from langgraph.checkpoint.memory import MemorySaver\n",
        "from langgraph.graph import StateGraph, MessagesState, END, START\n",
        "from langgraph.store.base import BaseStore\n",
        "from langgraph.store.memory import InMemoryStore\n",
        "from langchain_openai import ChatOpenAI\n",
        "from langchain_community.chat_models import ChatTongyi\n",
        "from typing import Optional, Literal\n",
        "# 初始化模型\n",
        "model = ChatTongyi(\n",
        "    model=\"qwen-plus-2025-07-14\",\n",
        "    api_key=\"sk-ba2dda3817f145d7af141fdf32e31d90\"\n",
        ")\n",
        "\n",
        "# 用户档案模式\n",
        "class Profile(BaseModel):\n",
        "    \"\"\"这是您聊天用户的档案\"\"\"\n",
        "    name: Optional[str] = Field(description=\"用户的姓名\", default=None)\n",
        "    location: Optional[str] = Field(description=\"用户的位置\", default=None)\n",
        "    job: Optional[str] = Field(description=\"用户的工作\", default=None)\n",
        "    connections: list[str] = Field(\n",
        "        description=\"用户的个人联系人，如家人、朋友或同事\",\n",
        "        default_factory=list\n",
        "    )\n",
        "    interests: list[str] = Field(\n",
        "        description=\"用户的兴趣\", \n",
        "        default_factory=list\n",
        "    )\n",
        "\n",
        "# 待办事项模式\n",
        "class ToDo(BaseModel):\n",
        "    task: str = Field(description=\"要完成的任务。\")\n",
        "    time_to_complete: Optional[int] = Field(description=\"完成任务的估计时间（分钟）。\")\n",
        "    deadline: Optional[datetime] = Field(\n",
        "        description=\"任务需要完成的时间（如果适用）\",\n",
        "        default=None\n",
        "    )\n",
        "    solutions: list[str] = Field(\n",
        "        description=\"具体可行的解决方案列表（例如，与完成任务相关的具体想法、服务提供商或具体选项）\",\n",
        "        min_items=1,\n",
        "        default_factory=list\n",
        "    )\n",
        "    status: Literal[\"not started\", \"in progress\", \"done\", \"archived\"] = Field(\n",
        "        description=\"任务的当前状态\",\n",
        "        default=\"not started\"\n",
        "    )\n",
        "\n",
        "# 创建Trustcall提取器用于更新用户档案\n",
        "profile_extractor = create_extractor(\n",
        "    model,\n",
        "    tools=[Profile]\n",
        ")\n",
        "\n",
        "# 聊天机器人指令，用于选择要更新的内容和调用的工具\n",
        "MODEL_SYSTEM_MESSAGE = \"\"\"您是一个有用的聊天机器人。\n",
        "您被设计为用户的伴侣，帮助他们跟踪待办事项列表。\n",
        "您有一个长期记忆，用于跟踪三件事：\n",
        "1. 用户档案（关于他们的通用信息）\n",
        "2. 用户的待办事项列表\n",
        "3. 更新待办事项列表的通用指令\n",
        "\n",
        "以下是当前用户档案（如果没有收集到信息则可能为空）：\n",
        "<user_profile>\n",
        "{user_profile}\n",
        "</user_profile>\n",
        "\n",
        "以下是当前待办事项列表（如果没有添加任务则可能为空）：\n",
        "<todo>\n",
        "{todo}\n",
        "</todo>\n",
        "\n",
        "以下是用户指定的更新待办事项列表的当前偏好（如果没有指定偏好则可能为空）：\n",
        "<instructions>\n",
        "{instructions}\n",
        "</instructions>\n",
        "\n",
        "以下是您处理用户消息的指令：\n",
        "1. 仔细思考下面呈现的用户消息。\n",
        "2. 决定是否需要更新您的长期记忆：\n",
        "- 如果提供了关于用户的个人信息，通过调用UpdateMemory工具（类型为`user`）更新用户档案\n",
        "- 如果提到了任务，通过调用UpdateMemory工具（类型为`todo`）更新待办事项列表\n",
        "- 如果用户指定了更新待办事项列表的偏好，通过调用UpdateMemory工具（类型为`instructions`）更新指令\n",
        "3. 在适当的时候告诉用户您已更新记忆：\n",
        "- 不要告诉用户您已更新用户档案\n",
        "- 当您更新待办事项列表时要告诉用户\n",
        "- 不要告诉用户您已更新指令\n",
        "4. 倾向于更新待办事项列表。无需请求明确许可。\n",
        "5. 在工具调用保存记忆后，或如果没有进行工具调用时，自然地回应用户。\"\"\"\n",
        "\n",
        "# Trustcall指令\n",
        "TRUSTCALL_INSTRUCTION = \"\"\"反思以下互动。\n",
        "使用提供的工具保留关于用户的任何必要记忆。\n",
        "使用并行工具调用来同时处理更新和插入。\n",
        "系统时间：{time}\"\"\"\n",
        "\n",
        "# 更新待办事项列表的指令\n",
        "CREATE_INSTRUCTIONS = \"\"\"反思以下互动。\n",
        "基于此互动，更新您更新待办事项列表项的指令。\n",
        "使用用户提供的任何反馈来更新他们喜欢如何添加项目等。\n",
        "您当前的指令是：\n",
        "<current_instructions>\n",
        "{current_instructions}\n",
        "</current_instructions>\"\"\"\n",
        "\n",
        "# 节点定义\n",
        "def task_mAIstro(state: MessagesState, config: RunnableConfig, store: BaseStore):\n",
        "    \"\"\"从存储中加载记忆，并使用它们来个性化聊天机器人的回应。\"\"\"\n",
        "    # 从配置中获取用户ID\n",
        "    user_id = config[\"configurable\"][\"user_id\"]\n",
        "    # 从存储中检索档案记忆\n",
        "    namespace = (\"profile\", user_id)\n",
        "    memories = store.search(namespace)\n",
        "    if memories:\n",
        "        user_profile = memories[0].value\n",
        "    else:\n",
        "        user_profile = None\n",
        "    # 从存储中检索任务记忆\n",
        "    namespace = (\"todo\", user_id)\n",
        "    memories = store.search(namespace)\n",
        "    todo = \"\\n\".join(f\"{mem.value}\" for mem in memories)\n",
        "    # 检索自定义指令\n",
        "    namespace = (\"instructions\", user_id)\n",
        "    memories = store.search(namespace)\n",
        "    if memories:\n",
        "        instructions = memories[0].value\n",
        "    else:\n",
        "        instructions = \"\"\n",
        "    system_msg = MODEL_SYSTEM_MESSAGE.format(user_profile=user_profile, todo=todo, instructions=instructions)\n",
        "    # 使用记忆以及聊天历史来回应\n",
        "    response = model.bind_tools([UpdateMemory], parallel_tool_calls=False).invoke([SystemMessage(content=system_msg)]+state[\"messages\"])\n",
        "    return {\"messages\": [response]}\n",
        "\n",
        "def update_profile(state: MessagesState, config: RunnableConfig, store: BaseStore):\n",
        "    \"\"\"反思聊天历史并更新记忆集合。\"\"\"\n",
        "    # 从配置中获取用户ID\n",
        "    user_id = config[\"configurable\"][\"user_id\"]\n",
        "    # 定义记忆的命名空间\n",
        "    namespace = (\"profile\", user_id)\n",
        "    # 检索最近的记忆作为上下文\n",
        "    existing_items = store.search(namespace)\n",
        "    # 为Trustcall提取器格式化现有记忆\n",
        "    tool_name = \"Profile\"\n",
        "    existing_memories = ([(existing_item.key, tool_name, existing_item.value)\n",
        "                          for existing_item in existing_items]\n",
        "                          if existing_items\n",
        "                          else None\n",
        "                        )\n",
        "    # 合并聊天历史和指令\n",
        "    TRUSTCALL_INSTRUCTION_FORMATTED=TRUSTCALL_INSTRUCTION.format(time=datetime.now().isoformat())\n",
        "    updated_messages=list(merge_message_runs(messages=[SystemMessage(content=TRUSTCALL_INSTRUCTION_FORMATTED)] + state[\"messages\"][:-1]))\n",
        "    # 调用提取器\n",
        "    result = profile_extractor.invoke({\"messages\": updated_messages, \n",
        "                                         \"existing\": existing_memories})\n",
        "    # 将Trustcall的记忆保存到存储中\n",
        "    for r, rmeta in zip(result[\"responses\"], result[\"response_metadata\"]):\n",
        "        store.put(namespace,\n",
        "                  rmeta.get(\"json_doc_id\", str(uuid.uuid4())),\n",
        "                  r.model_dump(mode=\"json\"),\n",
        "            )\n",
        "    tool_calls = state['messages'][-1].tool_calls\n",
        "    return {\"messages\": [{\"role\": \"tool\", \"content\": \"已更新档案\", \"tool_call_id\":tool_calls[0]['id']}]}\n",
        "\n",
        "def update_todos(state: MessagesState, config: RunnableConfig, store: BaseStore):\n",
        "    \"\"\"反思聊天历史并更新记忆集合。\"\"\"\n",
        "    # 从配置中获取用户ID\n",
        "    user_id = config[\"configurable\"][\"user_id\"]\n",
        "    # 定义记忆的命名空间\n",
        "    namespace = (\"todo\", user_id)\n",
        "    # 检索最近的记忆作为上下文\n",
        "    existing_items = store.search(namespace)\n",
        "    # 为Trustcall提取器格式化现有记忆\n",
        "    tool_name = \"ToDo\"\n",
        "    existing_memories = ([(existing_item.key, tool_name, existing_item.value)\n",
        "                          for existing_item in existing_items]\n",
        "                          if existing_items\n",
        "                          else None\n",
        "                        )\n",
        "    # 合并聊天历史和指令\n",
        "    TRUSTCALL_INSTRUCTION_FORMATTED=TRUSTCALL_INSTRUCTION.format(time=datetime.now().isoformat())\n",
        "    updated_messages=list(merge_message_runs(messages=[SystemMessage(content=TRUSTCALL_INSTRUCTION_FORMATTED)] + state[\"messages\"][:-1]))\n",
        "    # 初始化监视器以查看Trustcall进行的工具调用\n",
        "    spy = Spy()\n",
        "    # 创建Trustcall提取器用于更新待办事项列表\n",
        "    todo_extractor = create_extractor(\n",
        "    model,\n",
        "    tools=[ToDo],\n",
        "    enable_inserts=True\n",
        "    ).with_listeners(on_end=spy)\n",
        "    # 调用提取器\n",
        "    result = todo_extractor.invoke({\"messages\": updated_messages, \n",
        "                                    \"existing\": existing_memories})\n",
        "    # 将Trustcall的记忆保存到存储中\n",
        "    for r, rmeta in zip(result[\"responses\"], result[\"response_metadata\"]):\n",
        "        store.put(namespace,\n",
        "                  rmeta.get(\"json_doc_id\", str(uuid.uuid4())),\n",
        "                  r.model_dump(mode=\"json\"),\n",
        "            )\n",
        "    # 回应task_mAIstro中的工具调用，确认更新\n",
        "    tool_calls = state['messages'][-1].tool_calls\n",
        "    # 提取Trustcall所做的更改，并添加到返回给task_mAIstro的ToolMessage中\n",
        "    todo_update_msg = extract_tool_info(spy.called_tools, tool_name)\n",
        "    return {\"messages\": [{\"role\": \"tool\", \"content\": todo_update_msg, \"tool_call_id\":tool_calls[0]['id']}]}\n",
        "\n",
        "def update_instructions(state: MessagesState, config: RunnableConfig, store: BaseStore):\n",
        "    \"\"\"反思聊天历史并更新记忆集合。\"\"\"\n",
        "    # 从配置中获取用户ID\n",
        "    user_id = config[\"configurable\"][\"user_id\"]\n",
        "    namespace = (\"instructions\", user_id)\n",
        "    existing_memory = store.get(namespace, \"user_instructions\")\n",
        "    # 在系统提示中格式化记忆\n",
        "    system_msg = CREATE_INSTRUCTIONS.format(current_instructions=existing_memory.value if existing_memory else None)\n",
        "    new_memory = model.invoke([SystemMessage(content=system_msg)]+state['messages'][:-1] + [HumanMessage(content=\"请根据对话更新指令\")])\n",
        "    # 覆盖存储中的现有记忆\n",
        "    key = \"user_instructions\"\n",
        "    store.put(namespace, key, {\"memory\": new_memory.content})\n",
        "    tool_calls = state['messages'][-1].tool_calls\n",
        "    return {\"messages\": [{\"role\": \"tool\", \"content\": \"已更新指令\", \"tool_call_id\":tool_calls[0]['id']}]}\n",
        "\n",
        "# 条件边\n",
        "def route_message(state: MessagesState, config: RunnableConfig, store: BaseStore) -> Literal[END, \"update_todos\", \"update_instructions\", \"update_profile\"]:\n",
        "    \"\"\"反思记忆和聊天历史以决定是否更新记忆集合。\"\"\"\n",
        "    message = state['messages'][-1]\n",
        "    if len(message.tool_calls) ==0:\n",
        "        return END\n",
        "    else:\n",
        "        tool_call = message.tool_calls[0]\n",
        "        if tool_call['args']['update_type'] == \"user\":\n",
        "            return \"update_profile\"\n",
        "        elif tool_call['args']['update_type'] == \"todo\":\n",
        "            return \"update_todos\"\n",
        "        elif tool_call['args']['update_type'] == \"instructions\":\n",
        "            return \"update_instructions\"\n",
        "        else:\n",
        "            raise ValueError\n",
        "\n",
        "# 创建图+所有节点\n",
        "builder = StateGraph(MessagesState)\n",
        "# 定义记忆提取过程的流程\n",
        "builder.add_node(task_mAIstro)\n",
        "builder.add_node(update_todos)\n",
        "builder.add_node(update_profile)\n",
        "builder.add_node(update_instructions)\n",
        "builder.add_edge(START, \"task_mAIstro\")\n",
        "builder.add_conditional_edges(\"task_mAIstro\", route_message)\n",
        "builder.add_edge(\"update_todos\", \"task_mAIstro\")\n",
        "builder.add_edge(\"update_profile\", \"task_mAIstro\")\n",
        "builder.add_edge(\"update_instructions\", \"task_mAIstro\")\n",
        "\n",
        "# 用于长期（跨线程）记忆的存储\n",
        "across_thread_memory = InMemoryStore()\n",
        "# 用于短期（线程内）记忆的检查点\n",
        "within_thread_memory = MemorySaver()\n",
        "# 我们使用检查点和存储来编译图\n",
        "graph = builder.compile(checkpointer=within_thread_memory, store=across_thread_memory)\n",
        "# 查看\n",
        "display(Image(graph.get_graph(xray=1).draw_mermaid_png()))"
      ]
    },
    {
      "cell_type": "code",
      "execution_count": 36,
      "metadata": {},
      "outputs": [
        {
          "name": "stdout",
          "output_type": "stream",
          "text": [
            "================================\u001b[1m Human Message \u001b[0m=================================\n",
            "\n",
            "我的名字是Lance。我和我的妻子住在旧金山。我有一个1岁的女儿。\n",
            "==================================\u001b[1m Ai Message \u001b[0m==================================\n",
            "\n",
            "已了解，Lance！旧金山有家人陪伴一定很幸福。如果你有任何需要帮忙管理的任务或事项，随时告诉我，我会帮你记着。\n"
          ]
        }
      ],
      "source": [
        "# 我们为短期（线程内）记忆提供线程ID\n",
        "# 我们为长期（跨线程）记忆提供用户ID\n",
        "config = {\"configurable\": {\"thread_id\": \"1\", \"user_id\": \"Lance\"}}\n",
        "\n",
        "# 用户输入以创建档案记忆\n",
        "input_messages = [HumanMessage(content=\"我的名字是Lance。我和我的妻子住在旧金山。我有一个1岁的女儿。\")]\n",
        "\n",
        "# 运行图\n",
        "for chunk in graph.stream({\"messages\": input_messages}, config, stream_mode=\"values\"):\n",
        "    chunk[\"messages\"][-1].pretty_print()"
      ]
    },
    {
      "cell_type": "code",
      "execution_count": 37,
      "metadata": {},
      "outputs": [
        {
          "name": "stdout",
          "output_type": "stream",
          "text": [
            "================================\u001b[1m Human Message \u001b[0m=================================\n",
            "\n",
            "我妻子让我为宝宝预订游泳课。\n",
            "==================================\u001b[1m Ai Message \u001b[0m==================================\n",
            "Tool Calls:\n",
            "  UpdateMemory (call_6977090b86d94250b68b2d)\n",
            " Call ID: call_6977090b86d94250b68b2d\n",
            "  Args:\n",
            "    update_type: todo\n",
            "=================================\u001b[1m Tool Message \u001b[0m=================================\n",
            "\n",
            "新 ToDo 已创建:\n",
            "内容: {'task': '为宝宝预订游泳课', 'time_to_complete': 30, 'solutions': ['查找旧金山地区提供婴儿游泳课程的机构，如Goldfish Swim School或Dive Rite Swim School', '查看Yelp或Google评价选择评分高的课程', '联系2-3家机构咨询课程安排、费用和试听课'], 'deadline': '2025-08-10T00:00:00', 'status': 'not started'}\n",
            "==================================\u001b[1m Ai Message \u001b[0m==================================\n",
            "\n",
            "好的，Lance，我已经为你创建了一个待办事项：为宝宝预订游泳课。我会帮你跟踪这个任务，直到完成。目前状态是“未开始”，如果你需要我协助查找课程或联系机构，随时告诉我！\n"
          ]
        }
      ],
      "source": [
        "# 用户输入待办事项\n",
        "input_messages = [HumanMessage(content=\"我妻子让我为宝宝预订游泳课。\")]\n",
        "\n",
        "# 运行图\n",
        "for chunk in graph.stream({\"messages\": input_messages}, config, stream_mode=\"values\"):\n",
        "    chunk[\"messages\"][-1].pretty_print()"
      ]
    },
    {
      "cell_type": "code",
      "execution_count": 38,
      "metadata": {},
      "outputs": [
        {
          "name": "stdout",
          "output_type": "stream",
          "text": [
            "================================\u001b[1m Human Message \u001b[0m=================================\n",
            "\n",
            "在创建或更新待办事项时，包含特定的本地企业/供应商。\n",
            "==================================\u001b[1m Ai Message \u001b[0m==================================\n",
            "Tool Calls:\n",
            "  UpdateMemory (call_7b570af7c32240eabc06cc)\n",
            " Call ID: call_7b570af7c32240eabc06cc\n",
            "  Args:\n",
            "    update_type: instructions\n",
            "=================================\u001b[1m Tool Message \u001b[0m=================================\n",
            "\n",
            "已更新指令\n",
            "==================================\u001b[1m Ai Message \u001b[0m==================================\n",
            "\n",
            "已更新你的偏好：在创建或更新待办事项时，我会包含具体的本地企业或供应商建议。例如，在为宝宝预订游泳课的任务中，我已经列出了像Goldfish Swim School和Dive Rite Swim School这样的本地机构。如果你有其他任务，我也会照此处理。\n"
          ]
        }
      ],
      "source": [
        "# 用户输入以更新创建待办事项的指令\n",
        "input_messages = [HumanMessage(content=\"在创建或更新待办事项时，包含特定的本地企业/供应商。\")]\n",
        "\n",
        "# 运行图\n",
        "for chunk in graph.stream({\"messages\": input_messages}, config, stream_mode=\"values\"):\n",
        "    chunk[\"messages\"][-1].pretty_print()"
      ]
    },
    {
      "cell_type": "code",
      "execution_count": 40,
      "metadata": {},
      "outputs": [
        {
          "name": "stdout",
          "output_type": "stream",
          "text": [
            "{'memory': ''}\n"
          ]
        }
      ],
      "source": [
        "# 检查更新的指令\n",
        "user_id = \"Lance\"\n",
        "\n",
        "# 搜索\n",
        "for memory in across_thread_memory.search((\"instructions\", user_id)):\n",
        "    print(memory.value)"
      ]
    },
    {
      "cell_type": "code",
      "execution_count": 41,
      "metadata": {},
      "outputs": [
        {
          "name": "stdout",
          "output_type": "stream",
          "text": [
            "================================\u001b[1m Human Message \u001b[0m=================================\n",
            "\n",
            "我需要修理门上卡住的电动耶鲁锁。\n",
            "==================================\u001b[1m Ai Message \u001b[0m==================================\n",
            "Tool Calls:\n",
            "  UpdateMemory (call_b68dc286b69845c6bd0d4f)\n",
            " Call ID: call_b68dc286b69845c6bd0d4f\n",
            "  Args:\n",
            "    update_type: todo\n"
          ]
        },
        {
          "ename": "GraphRecursionError",
          "evalue": "Recursion limit of 25 reached without hitting a stop condition. You can increase the limit by setting the `recursion_limit` config key.\nFor troubleshooting, visit: https://python.langchain.com/docs/troubleshooting/errors/GRAPH_RECURSION_LIMIT",
          "output_type": "error",
          "traceback": [
            "\u001b[31m---------------------------------------------------------------------------\u001b[39m",
            "\u001b[31mGraphRecursionError\u001b[39m                       Traceback (most recent call last)",
            "\u001b[36mCell\u001b[39m\u001b[36m \u001b[39m\u001b[32mIn[41]\u001b[39m\u001b[32m, line 5\u001b[39m\n\u001b[32m      2\u001b[39m input_messages = [HumanMessage(content=\u001b[33m\"\u001b[39m\u001b[33m我需要修理门上卡住的电动耶鲁锁。\u001b[39m\u001b[33m\"\u001b[39m)]\n\u001b[32m      4\u001b[39m \u001b[38;5;66;03m# 运行图\u001b[39;00m\n\u001b[32m----> \u001b[39m\u001b[32m5\u001b[39m \u001b[38;5;28;43;01mfor\u001b[39;49;00m\u001b[43m \u001b[49m\u001b[43mchunk\u001b[49m\u001b[43m \u001b[49m\u001b[38;5;129;43;01min\u001b[39;49;00m\u001b[43m \u001b[49m\u001b[43mgraph\u001b[49m\u001b[43m.\u001b[49m\u001b[43mstream\u001b[49m\u001b[43m(\u001b[49m\u001b[43m{\u001b[49m\u001b[33;43m\"\u001b[39;49m\u001b[33;43mmessages\u001b[39;49m\u001b[33;43m\"\u001b[39;49m\u001b[43m:\u001b[49m\u001b[43m \u001b[49m\u001b[43minput_messages\u001b[49m\u001b[43m}\u001b[49m\u001b[43m,\u001b[49m\u001b[43m \u001b[49m\u001b[43mconfig\u001b[49m\u001b[43m,\u001b[49m\u001b[43m \u001b[49m\u001b[43mstream_mode\u001b[49m\u001b[43m=\u001b[49m\u001b[33;43m\"\u001b[39;49m\u001b[33;43mvalues\u001b[39;49m\u001b[33;43m\"\u001b[39;49m\u001b[43m)\u001b[49m\u001b[43m:\u001b[49m\n\u001b[32m      6\u001b[39m \u001b[43m    \u001b[49m\u001b[43mchunk\u001b[49m\u001b[43m[\u001b[49m\u001b[33;43m\"\u001b[39;49m\u001b[33;43mmessages\u001b[39;49m\u001b[33;43m\"\u001b[39;49m\u001b[43m]\u001b[49m\u001b[43m[\u001b[49m\u001b[43m-\u001b[49m\u001b[32;43m1\u001b[39;49m\u001b[43m]\u001b[49m\u001b[43m.\u001b[49m\u001b[43mpretty_print\u001b[49m\u001b[43m(\u001b[49m\u001b[43m)\u001b[49m\n",
            "\u001b[36mFile \u001b[39m\u001b[32m~/.pyenv/versions/3.11.1/lib/python3.11/site-packages/langgraph/pregel/__init__.py:2534\u001b[39m, in \u001b[36mPregel.stream\u001b[39m\u001b[34m(self, input, config, stream_mode, print_mode, output_keys, interrupt_before, interrupt_after, checkpoint_during, debug, subgraphs)\u001b[39m\n\u001b[32m   2532\u001b[39m \u001b[38;5;28;01mfor\u001b[39;00m task \u001b[38;5;129;01min\u001b[39;00m loop.match_cached_writes():\n\u001b[32m   2533\u001b[39m     loop.output_writes(task.id, task.writes, cached=\u001b[38;5;28;01mTrue\u001b[39;00m)\n\u001b[32m-> \u001b[39m\u001b[32m2534\u001b[39m \u001b[43m\u001b[49m\u001b[38;5;28;43;01mfor\u001b[39;49;00m\u001b[43m \u001b[49m\u001b[43m_\u001b[49m\u001b[43m \u001b[49m\u001b[38;5;129;43;01min\u001b[39;49;00m\u001b[43m \u001b[49m\u001b[43mrunner\u001b[49m\u001b[43m.\u001b[49m\u001b[43mtick\u001b[49m\u001b[43m(\u001b[49m\n\u001b[32m   2535\u001b[39m \u001b[43m    \u001b[49m\u001b[43m[\u001b[49m\u001b[43mt\u001b[49m\u001b[43m \u001b[49m\u001b[38;5;28;43;01mfor\u001b[39;49;00m\u001b[43m \u001b[49m\u001b[43mt\u001b[49m\u001b[43m \u001b[49m\u001b[38;5;129;43;01min\u001b[39;49;00m\u001b[43m \u001b[49m\u001b[43mloop\u001b[49m\u001b[43m.\u001b[49m\u001b[43mtasks\u001b[49m\u001b[43m.\u001b[49m\u001b[43mvalues\u001b[49m\u001b[43m(\u001b[49m\u001b[43m)\u001b[49m\u001b[43m \u001b[49m\u001b[38;5;28;43;01mif\u001b[39;49;00m\u001b[43m \u001b[49m\u001b[38;5;129;43;01mnot\u001b[39;49;00m\u001b[43m \u001b[49m\u001b[43mt\u001b[49m\u001b[43m.\u001b[49m\u001b[43mwrites\u001b[49m\u001b[43m]\u001b[49m\u001b[43m,\u001b[49m\n\u001b[32m   2536\u001b[39m \u001b[43m    \u001b[49m\u001b[43mtimeout\u001b[49m\u001b[43m=\u001b[49m\u001b[38;5;28;43mself\u001b[39;49m\u001b[43m.\u001b[49m\u001b[43mstep_timeout\u001b[49m\u001b[43m,\u001b[49m\n\u001b[32m   2537\u001b[39m \u001b[43m    \u001b[49m\u001b[43mget_waiter\u001b[49m\u001b[43m=\u001b[49m\u001b[43mget_waiter\u001b[49m\u001b[43m,\u001b[49m\n\u001b[32m   2538\u001b[39m \u001b[43m    \u001b[49m\u001b[43mschedule_task\u001b[49m\u001b[43m=\u001b[49m\u001b[43mloop\u001b[49m\u001b[43m.\u001b[49m\u001b[43maccept_push\u001b[49m\u001b[43m,\u001b[49m\n\u001b[32m   2539\u001b[39m \u001b[43m\u001b[49m\u001b[43m)\u001b[49m\u001b[43m:\u001b[49m\n\u001b[32m   2540\u001b[39m \u001b[43m    \u001b[49m\u001b[38;5;66;43;03m# emit output\u001b[39;49;00m\n\u001b[32m   2541\u001b[39m \u001b[43m    \u001b[49m\u001b[38;5;28;43;01myield from\u001b[39;49;00m\u001b[43m \u001b[49m\u001b[43m_output\u001b[49m\u001b[43m(\u001b[49m\n\u001b[32m   2542\u001b[39m \u001b[43m        \u001b[49m\u001b[43mstream_mode\u001b[49m\u001b[43m,\u001b[49m\u001b[43m \u001b[49m\u001b[43mprint_mode\u001b[49m\u001b[43m,\u001b[49m\u001b[43m \u001b[49m\u001b[43msubgraphs\u001b[49m\u001b[43m,\u001b[49m\u001b[43m \u001b[49m\u001b[43mstream\u001b[49m\u001b[43m.\u001b[49m\u001b[43mget\u001b[49m\u001b[43m,\u001b[49m\u001b[43m \u001b[49m\u001b[43mqueue\u001b[49m\u001b[43m.\u001b[49m\u001b[43mEmpty\u001b[49m\n\u001b[32m   2543\u001b[39m \u001b[43m    \u001b[49m\u001b[43m)\u001b[49m\n\u001b[32m   2544\u001b[39m loop.after_tick()\n",
            "\u001b[36mCell\u001b[39m\u001b[36m \u001b[39m\u001b[32mIn[34]\u001b[39m\u001b[32m, line 197\u001b[39m, in \u001b[36mupdate_todos\u001b[39m\u001b[34m(state, config, store)\u001b[39m\n\u001b[32m    191\u001b[39m todo_extractor = create_extractor(\n\u001b[32m    192\u001b[39m model,\n\u001b[32m    193\u001b[39m tools=[ToDo],\n\u001b[32m    194\u001b[39m enable_inserts=\u001b[38;5;28;01mTrue\u001b[39;00m\n\u001b[32m    195\u001b[39m ).with_listeners(on_end=spy)\n\u001b[32m    196\u001b[39m \u001b[38;5;66;03m# 调用提取器\u001b[39;00m\n\u001b[32m--> \u001b[39m\u001b[32m197\u001b[39m result = \u001b[43mtodo_extractor\u001b[49m\u001b[43m.\u001b[49m\u001b[43minvoke\u001b[49m\u001b[43m(\u001b[49m\u001b[43m{\u001b[49m\u001b[33;43m\"\u001b[39;49m\u001b[33;43mmessages\u001b[39;49m\u001b[33;43m\"\u001b[39;49m\u001b[43m:\u001b[49m\u001b[43m \u001b[49m\u001b[43mupdated_messages\u001b[49m\u001b[43m,\u001b[49m\u001b[43m \u001b[49m\n\u001b[32m    198\u001b[39m \u001b[43m                                \u001b[49m\u001b[33;43m\"\u001b[39;49m\u001b[33;43mexisting\u001b[39;49m\u001b[33;43m\"\u001b[39;49m\u001b[43m:\u001b[49m\u001b[43m \u001b[49m\u001b[43mexisting_memories\u001b[49m\u001b[43m}\u001b[49m\u001b[43m)\u001b[49m\n\u001b[32m    199\u001b[39m \u001b[38;5;66;03m# 将Trustcall的记忆保存到存储中\u001b[39;00m\n\u001b[32m    200\u001b[39m \u001b[38;5;28;01mfor\u001b[39;00m r, rmeta \u001b[38;5;129;01min\u001b[39;00m \u001b[38;5;28mzip\u001b[39m(result[\u001b[33m\"\u001b[39m\u001b[33mresponses\u001b[39m\u001b[33m\"\u001b[39m], result[\u001b[33m\"\u001b[39m\u001b[33mresponse_metadata\u001b[39m\u001b[33m\"\u001b[39m]):\n",
            "\u001b[36mFile \u001b[39m\u001b[32m~/.pyenv/versions/3.11.1/lib/python3.11/site-packages/langchain_core/runnables/base.py:5434\u001b[39m, in \u001b[36mRunnableBindingBase.invoke\u001b[39m\u001b[34m(self, input, config, **kwargs)\u001b[39m\n\u001b[32m   5427\u001b[39m \u001b[38;5;129m@override\u001b[39m\n\u001b[32m   5428\u001b[39m \u001b[38;5;28;01mdef\u001b[39;00m\u001b[38;5;250m \u001b[39m\u001b[34minvoke\u001b[39m(\n\u001b[32m   5429\u001b[39m     \u001b[38;5;28mself\u001b[39m,\n\u001b[32m   (...)\u001b[39m\u001b[32m   5432\u001b[39m     **kwargs: Optional[Any],\n\u001b[32m   5433\u001b[39m ) -> Output:\n\u001b[32m-> \u001b[39m\u001b[32m5434\u001b[39m     \u001b[38;5;28;01mreturn\u001b[39;00m \u001b[38;5;28;43mself\u001b[39;49m\u001b[43m.\u001b[49m\u001b[43mbound\u001b[49m\u001b[43m.\u001b[49m\u001b[43minvoke\u001b[49m\u001b[43m(\u001b[49m\n\u001b[32m   5435\u001b[39m \u001b[43m        \u001b[49m\u001b[38;5;28;43minput\u001b[39;49m\u001b[43m,\u001b[49m\n\u001b[32m   5436\u001b[39m \u001b[43m        \u001b[49m\u001b[38;5;28;43mself\u001b[39;49m\u001b[43m.\u001b[49m\u001b[43m_merge_configs\u001b[49m\u001b[43m(\u001b[49m\u001b[43mconfig\u001b[49m\u001b[43m)\u001b[49m\u001b[43m,\u001b[49m\n\u001b[32m   5437\u001b[39m \u001b[43m        \u001b[49m\u001b[43m*\u001b[49m\u001b[43m*\u001b[49m\u001b[43m{\u001b[49m\u001b[43m*\u001b[49m\u001b[43m*\u001b[49m\u001b[38;5;28;43mself\u001b[39;49m\u001b[43m.\u001b[49m\u001b[43mkwargs\u001b[49m\u001b[43m,\u001b[49m\u001b[43m \u001b[49m\u001b[43m*\u001b[49m\u001b[43m*\u001b[49m\u001b[43mkwargs\u001b[49m\u001b[43m}\u001b[49m\u001b[43m,\u001b[49m\n\u001b[32m   5438\u001b[39m \u001b[43m    \u001b[49m\u001b[43m)\u001b[49m\n",
            "\u001b[36mFile \u001b[39m\u001b[32m~/.pyenv/versions/3.11.1/lib/python3.11/site-packages/langchain_core/runnables/base.py:3046\u001b[39m, in \u001b[36mRunnableSequence.invoke\u001b[39m\u001b[34m(self, input, config, **kwargs)\u001b[39m\n\u001b[32m   3044\u001b[39m                 input_ = context.run(step.invoke, input_, config, **kwargs)\n\u001b[32m   3045\u001b[39m             \u001b[38;5;28;01melse\u001b[39;00m:\n\u001b[32m-> \u001b[39m\u001b[32m3046\u001b[39m                 input_ = context.run(step.invoke, input_, config)\n\u001b[32m   3047\u001b[39m \u001b[38;5;66;03m# finish the root run\u001b[39;00m\n\u001b[32m   3048\u001b[39m \u001b[38;5;28;01mexcept\u001b[39;00m \u001b[38;5;167;01mBaseException\u001b[39;00m \u001b[38;5;28;01mas\u001b[39;00m e:\n",
            "\u001b[36mFile \u001b[39m\u001b[32m~/.pyenv/versions/3.11.1/lib/python3.11/site-packages/langgraph/pregel/__init__.py:2844\u001b[39m, in \u001b[36mPregel.invoke\u001b[39m\u001b[34m(self, input, config, stream_mode, print_mode, output_keys, interrupt_before, interrupt_after, **kwargs)\u001b[39m\n\u001b[32m   2841\u001b[39m chunks: \u001b[38;5;28mlist\u001b[39m[\u001b[38;5;28mdict\u001b[39m[\u001b[38;5;28mstr\u001b[39m, Any] | Any] = []\n\u001b[32m   2842\u001b[39m interrupts: \u001b[38;5;28mlist\u001b[39m[Interrupt] = []\n\u001b[32m-> \u001b[39m\u001b[32m2844\u001b[39m \u001b[43m\u001b[49m\u001b[38;5;28;43;01mfor\u001b[39;49;00m\u001b[43m \u001b[49m\u001b[43mchunk\u001b[49m\u001b[43m \u001b[49m\u001b[38;5;129;43;01min\u001b[39;49;00m\u001b[43m \u001b[49m\u001b[38;5;28;43mself\u001b[39;49m\u001b[43m.\u001b[49m\u001b[43mstream\u001b[49m\u001b[43m(\u001b[49m\n\u001b[32m   2845\u001b[39m \u001b[43m    \u001b[49m\u001b[38;5;28;43minput\u001b[39;49m\u001b[43m,\u001b[49m\n\u001b[32m   2846\u001b[39m \u001b[43m    \u001b[49m\u001b[43mconfig\u001b[49m\u001b[43m,\u001b[49m\n\u001b[32m   2847\u001b[39m \u001b[43m    \u001b[49m\u001b[43mstream_mode\u001b[49m\u001b[43m=\u001b[49m\u001b[43m[\u001b[49m\u001b[33;43m\"\u001b[39;49m\u001b[33;43mupdates\u001b[39;49m\u001b[33;43m\"\u001b[39;49m\u001b[43m,\u001b[49m\u001b[43m \u001b[49m\u001b[33;43m\"\u001b[39;49m\u001b[33;43mvalues\u001b[39;49m\u001b[33;43m\"\u001b[39;49m\u001b[43m]\u001b[49m\n\u001b[32m   2848\u001b[39m \u001b[43m    \u001b[49m\u001b[38;5;28;43;01mif\u001b[39;49;00m\u001b[43m \u001b[49m\u001b[43mstream_mode\u001b[49m\u001b[43m \u001b[49m\u001b[43m==\u001b[49m\u001b[43m \u001b[49m\u001b[33;43m\"\u001b[39;49m\u001b[33;43mvalues\u001b[39;49m\u001b[33;43m\"\u001b[39;49m\n\u001b[32m   2849\u001b[39m \u001b[43m    \u001b[49m\u001b[38;5;28;43;01melse\u001b[39;49;00m\u001b[43m \u001b[49m\u001b[43mstream_mode\u001b[49m\u001b[43m,\u001b[49m\n\u001b[32m   2850\u001b[39m \u001b[43m    \u001b[49m\u001b[43mprint_mode\u001b[49m\u001b[43m=\u001b[49m\u001b[43mprint_mode\u001b[49m\u001b[43m,\u001b[49m\n\u001b[32m   2851\u001b[39m \u001b[43m    \u001b[49m\u001b[43moutput_keys\u001b[49m\u001b[43m=\u001b[49m\u001b[43moutput_keys\u001b[49m\u001b[43m,\u001b[49m\n\u001b[32m   2852\u001b[39m \u001b[43m    \u001b[49m\u001b[43minterrupt_before\u001b[49m\u001b[43m=\u001b[49m\u001b[43minterrupt_before\u001b[49m\u001b[43m,\u001b[49m\n\u001b[32m   2853\u001b[39m \u001b[43m    \u001b[49m\u001b[43minterrupt_after\u001b[49m\u001b[43m=\u001b[49m\u001b[43minterrupt_after\u001b[49m\u001b[43m,\u001b[49m\n\u001b[32m   2854\u001b[39m \u001b[43m    \u001b[49m\u001b[43m*\u001b[49m\u001b[43m*\u001b[49m\u001b[43mkwargs\u001b[49m\u001b[43m,\u001b[49m\n\u001b[32m   2855\u001b[39m \u001b[43m\u001b[49m\u001b[43m)\u001b[49m\u001b[43m:\u001b[49m\n\u001b[32m   2856\u001b[39m \u001b[43m    \u001b[49m\u001b[38;5;28;43;01mif\u001b[39;49;00m\u001b[43m \u001b[49m\u001b[43mstream_mode\u001b[49m\u001b[43m \u001b[49m\u001b[43m==\u001b[49m\u001b[43m \u001b[49m\u001b[33;43m\"\u001b[39;49m\u001b[33;43mvalues\u001b[39;49m\u001b[33;43m\"\u001b[39;49m\u001b[43m:\u001b[49m\n\u001b[32m   2857\u001b[39m \u001b[43m        \u001b[49m\u001b[38;5;28;43;01mif\u001b[39;49;00m\u001b[43m \u001b[49m\u001b[38;5;28;43mlen\u001b[39;49m\u001b[43m(\u001b[49m\u001b[43mchunk\u001b[49m\u001b[43m)\u001b[49m\u001b[43m \u001b[49m\u001b[43m==\u001b[49m\u001b[43m \u001b[49m\u001b[32;43m2\u001b[39;49m\u001b[43m:\u001b[49m\n",
            "\u001b[36mFile \u001b[39m\u001b[32m~/.pyenv/versions/3.11.1/lib/python3.11/site-packages/langgraph/pregel/__init__.py:2559\u001b[39m, in \u001b[36mPregel.stream\u001b[39m\u001b[34m(self, input, config, stream_mode, print_mode, output_keys, interrupt_before, interrupt_after, checkpoint_during, debug, subgraphs)\u001b[39m\n\u001b[32m   2550\u001b[39m \u001b[38;5;28;01mif\u001b[39;00m loop.status == \u001b[33m\"\u001b[39m\u001b[33mout_of_steps\u001b[39m\u001b[33m\"\u001b[39m:\n\u001b[32m   2551\u001b[39m     msg = create_error_message(\n\u001b[32m   2552\u001b[39m         message=(\n\u001b[32m   2553\u001b[39m             \u001b[33mf\u001b[39m\u001b[33m\"\u001b[39m\u001b[33mRecursion limit of \u001b[39m\u001b[38;5;132;01m{\u001b[39;00mconfig[\u001b[33m'\u001b[39m\u001b[33mrecursion_limit\u001b[39m\u001b[33m'\u001b[39m]\u001b[38;5;132;01m}\u001b[39;00m\u001b[33m reached \u001b[39m\u001b[33m\"\u001b[39m\n\u001b[32m   (...)\u001b[39m\u001b[32m   2557\u001b[39m         error_code=ErrorCode.GRAPH_RECURSION_LIMIT,\n\u001b[32m   2558\u001b[39m     )\n\u001b[32m-> \u001b[39m\u001b[32m2559\u001b[39m     \u001b[38;5;28;01mraise\u001b[39;00m GraphRecursionError(msg)\n\u001b[32m   2560\u001b[39m \u001b[38;5;66;03m# set final channel values as run output\u001b[39;00m\n\u001b[32m   2561\u001b[39m run_manager.on_chain_end(loop.output)\n",
            "\u001b[31mGraphRecursionError\u001b[39m: Recursion limit of 25 reached without hitting a stop condition. You can increase the limit by setting the `recursion_limit` config key.\nFor troubleshooting, visit: https://python.langchain.com/docs/troubleshooting/errors/GRAPH_RECURSION_LIMIT",
            "During task with name 'update_todos' and id 'e6933fca-4e79-bbbc-6e70-15849aa8311e'"
          ]
        }
      ],
      "source": [
        "# 用户输入待办事项\n",
        "input_messages = [HumanMessage(content=\"我需要修理门上卡住的电动耶鲁锁。\")]\n",
        "\n",
        "# 运行图\n",
        "for chunk in graph.stream({\"messages\": input_messages}, config, stream_mode=\"values\"):\n",
        "    chunk[\"messages\"][-1].pretty_print()"
      ]
    },
    {
      "cell_type": "code",
      "execution_count": 28,
      "metadata": {},
      "outputs": [
        {
          "name": "stdout",
          "output_type": "stream",
          "text": [
            "{'task': 'Book swim lessons for 1-year-old daughter.', 'time_to_complete': 30, 'deadline': None, 'solutions': ['Check local swim schools in SF', 'Look for baby swim classes online', 'Ask friends for recommendations', 'Contact La Petite Baleen Swim School', 'Check with SF Recreation and Parks for classes'], 'status': 'not started'}\n",
            "{'task': 'Fix the jammed electric Yale lock on the door.', 'time_to_complete': 60, 'deadline': None, 'solutions': ['Contact a local locksmith in SF', \"Check Yale's customer support for troubleshooting\", 'Look for repair guides online'], 'status': 'not started'}\n"
          ]
        }
      ],
      "source": [
        "# Namespace for the memory to save\n",
        "user_id = \"Lance\"\n",
        "\n",
        "# Search \n",
        "for memory in across_thread_memory.search((\"todo\", user_id)):\n",
        "    print(memory.value)"
      ]
    },
    {
      "cell_type": "code",
      "execution_count": 29,
      "metadata": {},
      "outputs": [
        {
          "name": "stdout",
          "output_type": "stream",
          "text": [
            "================================\u001b[1m Human Message \u001b[0m=================================\n",
            "\n",
            "For the swim lessons, I need to get that done by end of November.\n",
            "==================================\u001b[1m Ai Message \u001b[0m==================================\n",
            "Tool Calls:\n",
            "  UpdateMemory (call_6AbsrTps4EPyD0gKBzkMIC90)\n",
            " Call ID: call_6AbsrTps4EPyD0gKBzkMIC90\n",
            "  Args:\n",
            "    update_type: todo\n",
            "=================================\u001b[1m Tool Message \u001b[0m=================================\n",
            "\n",
            "Document ed0af900-52fa-4f15-907c-1aed1e17b0ce updated:\n",
            "Plan: Add a deadline for the swim lessons task to ensure it is completed by the end of November.\n",
            "Added content: 2024-11-30T23:59:59\n",
            "==================================\u001b[1m Ai Message \u001b[0m==================================\n",
            "\n",
            "I've updated the swim lessons task with a deadline to be completed by the end of November. If there's anything else you need, just let me know!\n"
          ]
        }
      ],
      "source": [
        "# User input to update an existing ToDo\n",
        "input_messages = [HumanMessage(content=\"For the swim lessons, I need to get that done by end of November.\")]\n",
        "\n",
        "# Run the graph\n",
        "for chunk in graph.stream({\"messages\": input_messages}, config, stream_mode=\"values\"):\n",
        "    chunk[\"messages\"][-1].pretty_print()"
      ]
    },
    {
      "cell_type": "markdown",
      "metadata": {},
      "source": [
        "We can see that Trustcall performs patching of the existing memory:\n",
        "\n",
        "我们可以看到 Trustcall 对现有内存进行了修补：\n",
        "\n",
        "https://smith.langchain.com/public/4ad3a8af-3b1e-493d-b163-3111aa3d575a/r\n",
        "\n"
      ]
    },
    {
      "cell_type": "code",
      "execution_count": 30,
      "metadata": {},
      "outputs": [
        {
          "name": "stdout",
          "output_type": "stream",
          "text": [
            "================================\u001b[1m Human Message \u001b[0m=================================\n",
            "\n",
            "Need to call back City Toyota to schedule car service.\n",
            "==================================\u001b[1m Ai Message \u001b[0m==================================\n",
            "Tool Calls:\n",
            "  UpdateMemory (call_tDuYZL7njpwOkg2YMEcf6DDJ)\n",
            " Call ID: call_tDuYZL7njpwOkg2YMEcf6DDJ\n",
            "  Args:\n",
            "    update_type: todo\n",
            "=================================\u001b[1m Tool Message \u001b[0m=================================\n",
            "\n",
            "New ToDo created:\n",
            "Content: {'task': 'Call back City Toyota to schedule car service.', 'time_to_complete': 10, 'solutions': [\"Find City Toyota's contact number\", 'Check car service availability', 'Prepare car details for service scheduling'], 'status': 'not started'}\n",
            "\n",
            "Document a77482f0-d654-4b41-ab74-d6f2b343a969 updated:\n",
            "Plan: Add specific local businesses or vendors to the solutions for fixing the jammed electric Yale lock.\n",
            "Added content: Contact City Locksmith SF\n",
            "==================================\u001b[1m Ai Message \u001b[0m==================================\n",
            "\n",
            "I've added \"Call back City Toyota to schedule car service\" to your ToDo list. If you need any assistance with that, just let me know!\n"
          ]
        }
      ],
      "source": [
        "# User input for a ToDo\n",
        "input_messages = [HumanMessage(content=\"Need to call back City Toyota to schedule car service.\")]\n",
        "\n",
        "# Run the graph\n",
        "for chunk in graph.stream({\"messages\": input_messages}, config, stream_mode=\"values\"):\n",
        "    chunk[\"messages\"][-1].pretty_print()"
      ]
    },
    {
      "cell_type": "code",
      "execution_count": 31,
      "metadata": {},
      "outputs": [
        {
          "name": "stdout",
          "output_type": "stream",
          "text": [
            "{'task': 'Book swim lessons for 1-year-old daughter.', 'time_to_complete': 30, 'deadline': '2024-11-30T23:59:59', 'solutions': ['Check local swim schools in SF', 'Look for baby swim classes online', 'Ask friends for recommendations', 'Contact La Petite Baleen Swim School', 'Check with SF Recreation and Parks for classes'], 'status': 'not started'}\n",
            "{'task': 'Fix the jammed electric Yale lock on the door.', 'time_to_complete': 60, 'deadline': None, 'solutions': ['Contact a local locksmith in SF', \"Check Yale's customer support for troubleshooting\", 'Look for repair guides online', 'Contact City Locksmith SF', 'Visit SF Lock and Key for assistance'], 'status': 'not started'}\n",
            "{'task': 'Call back City Toyota to schedule car service.', 'time_to_complete': 10, 'deadline': None, 'solutions': [\"Find City Toyota's contact number\", 'Check car service availability', 'Prepare car details for service scheduling'], 'status': 'not started'}\n"
          ]
        }
      ],
      "source": [
        "# Namespace for the memory to save\n",
        "user_id = \"Lance\"\n",
        "\n",
        "# Search \n",
        "for memory in across_thread_memory.search((\"todo\", user_id)):\n",
        "    print(memory.value)"
      ]
    },
    {
      "cell_type": "markdown",
      "metadata": {},
      "source": [
        "Now we can create a new thread.\n",
        "\n",
        "现在我们可以创建一个新线程。\n",
        "\n",
        "This creates a new session. \n",
        "\n",
        "这将创建一个新会话。\n",
        "\n",
        "Profile, ToDos, and Instructions saved to long-term memory are accessed. \n",
        "\n",
        "访问了保存到长期记忆中的个人资料、待办事项和指示。\n",
        "\n"
      ]
    },
    {
      "cell_type": "code",
      "execution_count": 32,
      "metadata": {},
      "outputs": [
        {
          "name": "stdout",
          "output_type": "stream",
          "text": [
            "================================\u001b[1m Human Message \u001b[0m=================================\n",
            "\n",
            "I have 30 minutes, what tasks can I get done?\n",
            "==================================\u001b[1m Ai Message \u001b[0m==================================\n",
            "\n",
            "You can work on the following tasks that fit within your 30-minute timeframe:\n",
            "\n",
            "1. **Book swim lessons for your 1-year-old daughter.** \n",
            "   - Estimated time to complete: 30 minutes\n",
            "   - Solutions include checking local swim schools in SF, looking for baby swim classes online, asking friends for recommendations, contacting La Petite Baleen Swim School, or checking with SF Recreation and Parks for classes.\n",
            "\n",
            "2. **Call back City Toyota to schedule car service.**\n",
            "   - Estimated time to complete: 10 minutes\n",
            "   - Solutions include finding City Toyota's contact number, checking car service availability, and preparing car details for service scheduling.\n",
            "\n",
            "You can choose either of these tasks to complete within your available time.\n"
          ]
        }
      ],
      "source": [
        "# We supply a thread ID for short-term (within-thread) memory\n",
        "# We supply a user ID for long-term (across-thread) memory \n",
        "config = {\"configurable\": {\"thread_id\": \"2\", \"user_id\": \"Lance\"}}\n",
        "\n",
        "# Chat with the chatbot\n",
        "input_messages = [HumanMessage(content=\"I have 30 minutes, what tasks can I get done?\")]\n",
        "\n",
        "# Run the graph\n",
        "for chunk in graph.stream({\"messages\": input_messages}, config, stream_mode=\"values\"):\n",
        "    chunk[\"messages\"][-1].pretty_print()"
      ]
    },
    {
      "cell_type": "code",
      "execution_count": 33,
      "metadata": {},
      "outputs": [
        {
          "name": "stdout",
          "output_type": "stream",
          "text": [
            "================================\u001b[1m Human Message \u001b[0m=================================\n",
            "\n",
            "Yes, give me some options to call for swim lessons.\n",
            "==================================\u001b[1m Ai Message \u001b[0m==================================\n",
            "\n",
            "Here are some options you can consider for booking swim lessons for your 1-year-old daughter in San Francisco:\n",
            "\n",
            "1. **La Petite Baleen Swim School**: Known for their baby swim classes, you can contact them to inquire about their schedule and availability.\n",
            "\n",
            "2. **SF Recreation and Parks**: They often offer swim classes for young children. Check their website or contact them for more information.\n",
            "\n",
            "3. **Local Swim Schools**: Search for other local swim schools in SF that offer baby swim classes. You might find some good options nearby.\n",
            "\n",
            "4. **Ask Friends for Recommendations**: Reach out to friends or family in the area who might have experience with swim lessons for young children.\n",
            "\n",
            "These options should help you get started on booking swim lessons.\n"
          ]
        }
      ],
      "source": [
        "# Chat with the chatbot\n",
        "input_messages = [HumanMessage(content=\"Yes, give me some options to call for swim lessons.\")]\n",
        "\n",
        "# Run the graph\n",
        "for chunk in graph.stream({\"messages\": input_messages}, config, stream_mode=\"values\"):\n",
        "    chunk[\"messages\"][-1].pretty_print()"
      ]
    },
    {
      "cell_type": "markdown",
      "metadata": {},
      "source": [
        "Trace: \n",
        "\n",
        "https://smith.langchain.com/public/84768705-be91-43e4-8a6f-f9d3cee93782/r\n",
        "\n",
        "## Studio\n",
        "![Screenshot 2024-11-04 at 1.00.19 PM.png](https://cdn.prod.website-files.com/65b8cd72835ceeacd4449a53/6732cfb05d9709862eba4e6c_Screenshot%202024-11-11%20at%207.46.40%E2%80%AFPM.png)\n",
        "\n"
      ]
    }
  ],
  "metadata": {
    "kernelspec": {
      "display_name": "Python 3",
      "language": "python",
      "name": "python3"
    },
    "language_info": {
      "codemirror_mode": {
        "name": "ipython",
        "version": 3
      },
      "file_extension": ".py",
      "mimetype": "text/x-python",
      "name": "python",
      "nbconvert_exporter": "python",
      "pygments_lexer": "ipython3",
      "version": "3.11.1"
    }
  },
  "nbformat": 4,
  "nbformat_minor": 4
}
