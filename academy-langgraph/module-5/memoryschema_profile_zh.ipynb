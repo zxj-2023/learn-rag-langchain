{
  "cells": [
    {
      "cell_type": "markdown",
      "metadata": {},
      "source": [
        "# 带有配置文件模式的聊天机器人（Chatbot with Profile Schema）\n",
        "\n",
        "## 评审（Review）\n",
        "\n",
        "We introduced the [LangGraph Memory Store](https://langchain-ai.github.io/langgraph/reference/store/#langgraph.store.base.BaseStore) as a way to save and retrieve long-term memories.\n",
        "\n",
        "我们介绍了 [LangGraph Memory Store](https://langchain-ai.github.io/langgraph/reference/store/#langgraph.store.base.BaseStore) 作为一种保存和检索长期记忆的方法。\n",
        "\n",
        "We built a simple chatbot that uses both `short-term (within-thread)` and `long-term (across-thread)` memory.\n",
        "\n",
        "我们构建了一个简单的聊天机器人，它同时使用了 `short-term (within-thread)` 和 `long-term (across-thread)` 内存。\n",
        "\n",
        "It saved long-term [semantic memory](https://langchain-ai.github.io/langgraph/concepts/memory/#semantic-memory) (facts about the user) [\"in the hot path\"](https://langchain-ai.github.io/langgraph/concepts/memory/#writing-memories), as the user is chatting with it.\n",
        "\n",
        "它保存了长期的 [semantic memory](https://langchain-ai.github.io/langgraph/concepts/memory/#semantic-memory)（关于用户的事实）[\"in the hot path\"](https://langchain-ai.github.io/langgraph/concepts/memory/#writing-memories)，当用户与其聊天时。\n",
        "\n",
        "## 目标（Goals）\n",
        "\n",
        "Our chatbot saved memories as a string. In practice, we often want memories to have a structure. \n",
        " \n",
        "For example, memories can be a [single, continuously updated schema]((https://langchain-ai.github.io/langgraph/concepts/memory/#profile)). \n",
        " \n",
        "In our case, we want this to be a single user profile.\n",
        " \n",
        "We'll extend our chatbot to save semantic memories to a single [user profile](https://langchain-ai.github.io/langgraph/concepts/memory/#profile). \n",
        "\n",
        "我们的聊天机器人将记忆保存为字符串。在实际应用中，我们通常希望记忆具有结构。\n",
        "\n",
        "例如，记忆可以是 [single, continuously updated schema]((https://langchain-ai.github.io/langgraph/concepts/memory/#profile))。\n",
        "\n",
        "在我们的例子中，我们希望这是一个单一的用户配置文件。\n",
        "\n",
        "我们将扩展我们的聊天机器人，以将语义记忆保存到单一的 [user profile](https://langchain-ai.github.io/langgraph/concepts/memory/#profile)。\n",
        "\n",
        "We'll also introduce a library, [Trustcall](https://github.com/hinthornw/trustcall), to update this schema with new information. \n",
        "\n",
        "我们还将介绍一个库 [Trustcall](https://github.com/hinthornw/trustcall)，用于使用新信息更新此模式。\n",
        "\n"
      ]
    },
    {
      "cell_type": "code",
      "execution_count": 7,
      "metadata": {},
      "outputs": [],
      "source": [
        "%%capture --no-stderr\n",
        "%pip install -U langchain_openai langgraph trustcall langchain_core"
      ]
    },
    {
      "cell_type": "code",
      "execution_count": 1,
      "metadata": {},
      "outputs": [],
      "source": [
        "import os, getpass\n",
        "\n",
        "def _set_env(var: str):\n",
        "    # 检查环境变量是否已在操作系统中设置\n",
        "    env_value = os.environ.get(var)\n",
        "    if not env_value:\n",
        "        # 如果未设置，则提示用户输入\n",
        "        env_value = getpass.getpass(f\"{var}: \")\n",
        "    \n",
        "    # 为当前进程设置环境变量\n",
        "    os.environ[var] = env_value\n",
        "\n",
        "_set_env(\"LANGSMITH_API_KEY\")  # 设置LangSmith API密钥\n",
        "os.environ[\"LANGSMITH_TRACING\"] = \"true\"  # 启用LangSmith追踪\n",
        "os.environ[\"LANGSMITH_PROJECT\"] = \"langchain-academy\"  # 设置LangSmith项目名称"
      ]
    },
    {
      "cell_type": "markdown",
      "metadata": {},
      "source": [
        "## 定义用户配置文件模式（Defining a user profile schema）\n",
        "\n",
        "Python has many different types for [structured data](https://python.langchain.com/docs/concepts/structured_outputs/#schema-definition), such as TypedDict, Dictionaries, JSON, and [Pydantic](https://docs.pydantic.dev/latest/). \n",
        "\n",
        "Python 有许多不同类型的 [structured data](https://python.langchain.com/docs/concepts/structured_outputs/#schema-definition)，例如 TypedDict、字典、JSON 和 [Pydantic](https://docs.pydantic.dev/latest/)。\n",
        "\n",
        "Let's start by using TypedDict to define a user profile schema.\n",
        "\n",
        "让我们先使用 TypedDict 来定义一个用户资料模式。\n",
        "\n"
      ]
    },
    {
      "cell_type": "code",
      "execution_count": 2,
      "metadata": {},
      "outputs": [],
      "source": [
        "from typing import TypedDict, List\n",
        "\n",
        "class UserProfile(TypedDict):\n",
        "    \"\"\"带有类型字段的用户档案模式\"\"\"\n",
        "    user_name: str  # 用户的首选名称\n",
        "    interests: List[str]  # 用户兴趣列表"
      ]
    },
    {
      "cell_type": "markdown",
      "metadata": {},
      "source": [
        "## 将模式保存到存储中（Saving a schema to the store）\n",
        "\n",
        "The [LangGraph Store](https://langchain-ai.github.io/langgraph/reference/store/#langgraph.store.base.BaseStore) accepts any Python dictionary as the `value`. \n",
        "\n",
        "[LangGraph Store](https://langchain-ai.github.io/langgraph/reference/store/#langgraph.store.base.BaseStore) 接受任何 Python 字典作为 `value`。\n",
        "\n"
      ]
    },
    {
      "cell_type": "code",
      "execution_count": 3,
      "metadata": {},
      "outputs": [
        {
          "data": {
            "text/plain": [
              "{'user_name': 'Lance', 'interests': ['骑行', '科技', '咖啡']}"
            ]
          },
          "execution_count": 3,
          "metadata": {},
          "output_type": "execute_result"
        }
      ],
      "source": [
        "# TypedDict 实例\n",
        "user_profile: UserProfile = {\n",
        "    \"user_name\": \"Lance\",  # 用户名\n",
        "    \"interests\": [\"骑行\", \"科技\", \"咖啡\"]  # 兴趣爱好\n",
        "}\n",
        "user_profile"
      ]
    },
    {
      "cell_type": "markdown",
      "metadata": {},
      "source": [
        "We use the [put](https://langchain-ai.github.io/langgraph/reference/store/#langgraph.store.base.BaseStore.put) method to save the TypedDict to the store.\n",
        "\n",
        "我们使用 [put](https://langchain-ai.github.io/langgraph/reference/store/#langgraph.store.base.BaseStore.put) 方法将 TypedDict 保存到存储中。\n",
        "\n"
      ]
    },
    {
      "cell_type": "code",
      "execution_count": 4,
      "metadata": {},
      "outputs": [],
      "source": [
        "import uuid\n",
        "from langgraph.store.memory import InMemoryStore\n",
        "\n",
        "# 初始化内存存储\n",
        "in_memory_store = InMemoryStore()\n",
        "\n",
        "# 为要保存的记忆创建命名空间\n",
        "user_id = \"1\"\n",
        "namespace_for_memory = (user_id, \"memory\")\n",
        "\n",
        "# 将记忆以键值对的形式保存到命名空间中\n",
        "key = \"user_profile\"\n",
        "value = user_profile\n",
        "in_memory_store.put(namespace_for_memory, key, value)"
      ]
    },
    {
      "cell_type": "markdown",
      "metadata": {},
      "source": [
        "We use [search](https://langchain-ai.github.io/langgraph/reference/store/#langgraph.store.base.BaseStore.search) to retrieve objects from the store by namespace.\n",
        "\n",
        "我们使用 [search](https://langchain-ai.github.io/langgraph/reference/store/#langgraph.store.base.BaseStore.search) 按命名空间从存储中检索对象。\n",
        "\n"
      ]
    },
    {
      "cell_type": "code",
      "execution_count": 5,
      "metadata": {},
      "outputs": [
        {
          "name": "stdout",
          "output_type": "stream",
          "text": [
            "{'namespace': ['1', 'memory'], 'key': 'user_profile', 'value': {'user_name': 'Lance', 'interests': ['骑行', '科技', '咖啡']}, 'created_at': '2025-07-26T02:04:08.614489+00:00', 'updated_at': '2025-07-26T02:04:08.614494+00:00', 'score': None}\n"
          ]
        }
      ],
      "source": [
        "# Search \n",
        "for m in in_memory_store.search(namespace_for_memory):\n",
        "    print(m.dict())"
      ]
    },
    {
      "cell_type": "markdown",
      "metadata": {},
      "source": [
        "We can also use [get](https://langchain-ai.github.io/langgraph/reference/store/#langgraph.store.base.BaseStore.get) to retrieve a specific object by namespace and key.\n",
        "\n",
        "我们还可以使用 [get](https://langchain-ai.github.io/langgraph/reference/store/#langgraph.store.base.BaseStore.get) 通过命名空间和键来检索特定对象。\n",
        "\n"
      ]
    },
    {
      "cell_type": "code",
      "execution_count": 6,
      "metadata": {},
      "outputs": [
        {
          "data": {
            "text/plain": [
              "{'user_name': 'Lance', 'interests': ['骑行', '科技', '咖啡']}"
            ]
          },
          "execution_count": 6,
          "metadata": {},
          "output_type": "execute_result"
        }
      ],
      "source": [
        "# Get the memory by namespace and key\n",
        "profile = in_memory_store.get(namespace_for_memory, \"user_profile\")\n",
        "profile.value"
      ]
    },
    {
      "cell_type": "markdown",
      "metadata": {},
      "source": [
        "## 带有配置文件模式的聊天机器人（Chatbot with profile schema）\n",
        "\n",
        "Now we know how to specify a schema for the memories and save it to the store.\n",
        "\n",
        "现在我们知道了如何为记忆指定一个模式，并将其保存到存储中。\n",
        "\n",
        "Now, how do we actually *create* memories with this particular schema?\n",
        "\n",
        "现在，我们如何根据这个特定的模式 *创建* 记忆？\n",
        "\n",
        "In our chatbot, we [want to create memories from a user chat](https://langchain-ai.github.io/langgraph/concepts/memory/#profile). \n",
        "\n",
        "在我们的聊天机器人中，我们 [想要从一个聊天里创建记忆](https://langchain-ai.github.io/langgraph/concepts/memory/#profile).\n",
        "\n",
        "This is where the concept of [structured outputs](https://python.langchain.com/docs/concepts/structured_outputs/#recommended-usage) is useful. \n",
        "\n",
        "这就是 [structured outputs格式化输出](https://python.langchain.com/docs/concepts/structured_outputs/#recommended-usage) 概念有用的地方。\n",
        "\n",
        "LangChain's [chat model](https://python.langchain.com/docs/concepts/chat_models/) interface has a [PROTECTED$11$](https://python.langchain.com/docs/concepts/structured_outputs/#recommended-usage) method to enforce structured output.\n",
        "\n",
        "LangChain 的 [chat model](https://python.langchain.com/docs/concepts/chat_models/) 接口有一个 [PROTECTED$11$](https://python.langchain.com/docs/concepts/structured_outputs/#recommended-usage) 方法用于强制结构化输出。\n",
        "\n",
        "This is useful when we want to enforce that the output conforms to a schema, and it parses the output for us.\n",
        "\n",
        "这在我们需要确保输出符合某个模式时非常有用，而且它会为我们解析输出。\n",
        "\n"
      ]
    },
    {
      "cell_type": "code",
      "execution_count": 7,
      "metadata": {},
      "outputs": [],
      "source": [
        "_set_env(\"OPENAI_API_KEY\")"
      ]
    },
    {
      "cell_type": "markdown",
      "metadata": {},
      "source": [
        "Let's pass the `UserProfile` schema we created to the `with_structured_output` method.\n",
        "\n",
        "让我们将创建的 `UserProfile` 模式 传递给 `with_structured_output` 方法。\n",
        "\n",
        "We can then invoke the chat model with a list of [messages](https://python.langchain.com/docs/concepts/messages/) and get a structured output that conforms to our schema.\n",
        "\n",
        "然后，我们可以用一组 [messages](https://python.langchain.com/docs/concepts/messages/) 调用聊天模型，并获得符合我们模式的结构化输出。\n",
        "\n"
      ]
    },
    {
      "cell_type": "code",
      "execution_count": 9,
      "metadata": {},
      "outputs": [
        {
          "data": {
            "text/plain": [
              "{'user_name': 'Lance', 'interests': ['骑自行车']}"
            ]
          },
          "execution_count": 9,
          "metadata": {},
          "output_type": "execute_result"
        }
      ],
      "source": [
        "from pydantic import BaseModel, Field\n",
        "\n",
        "from langchain_core.messages import HumanMessage\n",
        "from langchain_openai import ChatOpenAI\n",
        "from langchain_community.chat_models import ChatTongyi\n",
        "# 初始化模型\n",
        "# model = ChatOpenAI(\n",
        "#     model=\"qwen-plus-2025-07-14\",\n",
        "#     api_key=\"sk-ba2dda3817f145d7af141fdf32e31d90\",\n",
        "#     base_url=\"https://dashscope.aliyuncs.com/compatible-mode/v1\"\n",
        "# )\n",
        "\n",
        "model=ChatTongyi(\n",
        "    model=\"qwen-plus-2025-07-14\",\n",
        "    api_key=\"sk-ba2dda3817f145d7af141fdf32e31d90\"\n",
        ")\n",
        "\n",
        "# 将模式绑定到模型\n",
        "model_with_structure = model.with_structured_output(UserProfile)\n",
        "\n",
        "# 调用模型生成符合模式的结构化输出\n",
        "structured_output = model_with_structure.invoke([HumanMessage(\"我的名字是Lance，我喜欢骑自行车。\")])\n",
        "structured_output"
      ]
    },
    {
      "cell_type": "markdown",
      "metadata": {},
      "source": [
        "Now, let's use this with our chatbot.\n",
        "\n",
        "现在，让我们在聊天机器人中使用它。\n",
        "\n",
        "This only requires minor changes to the `write_memory` function. \n",
        "\n",
        "这只需要对 `write_memory` 函数进行轻微修改。\n",
        "\n",
        "We use `model_with_structure`, as defined above, to produce a profile that matches our schema. \n",
        "\n",
        "我们使用 `model_with_structure`，如上所述，来生成一个与我们模式匹配的配置文件。\n",
        "\n"
      ]
    },
    {
      "cell_type": "code",
      "execution_count": 10,
      "metadata": {},
      "outputs": [
        {
          "data": {
            "image/png": "[encoded data removed]",
            "text/plain": [
              "<IPython.core.display.Image object>"
            ]
          },
          "metadata": {},
          "output_type": "display_data"
        }
      ],
      "source": [
        "from IPython.display import Image, display\n",
        "\n",
        "from langgraph.checkpoint.memory import MemorySaver\n",
        "from langgraph.graph import StateGraph, MessagesState, START, END\n",
        "from langgraph.store.base import BaseStore\n",
        "\n",
        "from langchain_core.messages import HumanMessage, SystemMessage, AIMessage\n",
        "from langchain_core.runnables.config import RunnableConfig\n",
        "\n",
        "# 聊天机器人指令\n",
        "MODEL_SYSTEM_MESSAGE = \"\"\"你是一个拥有记忆功能的 helpful 助手，可以提供关于用户的信息。\n",
        "如果你有这个用户的记忆，请使用它来个性化你的回复。\n",
        "以下是记忆内容（可能为空）：{memory}\"\"\"\n",
        "\n",
        "# 根据聊天历史和任何现有记忆创建新记忆\n",
        "CREATE_MEMORY_INSTRUCTION = \"\"\"根据用户的聊天历史创建或更新用户档案记忆。\n",
        "这将被保存为长期记忆。如果存在现有记忆，只需更新它。\n",
        "以下是现有记忆（可能为空）：{memory}\"\"\"\n",
        "\n",
        "def call_model(state: MessagesState, config: RunnableConfig, store: BaseStore):\n",
        "\n",
        "    \"\"\"从存储中加载记忆并使用它来个性化聊天机器人的回复。\"\"\"\n",
        "    \n",
        "    # 从配置中获取用户ID\n",
        "    user_id = config[\"configurable\"][\"user_id\"]\n",
        "\n",
        "    # 从存储中检索记忆\n",
        "    namespace = (\"memory\", user_id)\n",
        "    existing_memory = store.get(namespace, \"user_memory\")\n",
        "\n",
        "    # 为系统提示格式化记忆\n",
        "    if existing_memory and existing_memory.value:\n",
        "        memory_dict = existing_memory.value\n",
        "        formatted_memory = (\n",
        "            f\"姓名: {memory_dict.get('user_name', '未知')}\\n\"\n",
        "            f\"兴趣: {', '.join(memory_dict.get('interests', []))}\"\n",
        "        )\n",
        "    else:\n",
        "        formatted_memory = None\n",
        "\n",
        "    # 在系统提示中格式化记忆\n",
        "    system_msg = MODEL_SYSTEM_MESSAGE.format(memory=formatted_memory)\n",
        "\n",
        "    # 使用记忆以及聊天历史来回复\n",
        "    response = model.invoke([SystemMessage(content=system_msg)]+state[\"messages\"])\n",
        "\n",
        "    return {\"messages\": response}\n",
        "\n",
        "def write_memory(state: MessagesState, config: RunnableConfig, store: BaseStore):\n",
        "\n",
        "    \"\"\"反思聊天历史并将记忆保存到存储中。\"\"\"\n",
        "    \n",
        "    # 从配置中获取用户ID\n",
        "    user_id = config[\"configurable\"][\"user_id\"]\n",
        "\n",
        "    # 从存储中检索现有记忆\n",
        "    namespace = (\"memory\", user_id)\n",
        "    existing_memory = store.get(namespace, \"user_memory\")\n",
        "\n",
        "    # 为系统提示格式化记忆\n",
        "    if existing_memory and existing_memory.value:\n",
        "        memory_dict = existing_memory.value\n",
        "        formatted_memory = (\n",
        "            f\"姓名: {memory_dict.get('user_name', '未知')}\\n\"\n",
        "            f\"兴趣: {', '.join(memory_dict.get('interests', []))}\"\n",
        "        )\n",
        "    else:\n",
        "        formatted_memory = None\n",
        "        \n",
        "    # 在指令中格式化现有记忆\n",
        "    system_msg = CREATE_MEMORY_INSTRUCTION.format(memory=formatted_memory)\n",
        "\n",
        "    # 调用模型生成符合模式的结构化输出\n",
        "    new_memory = model_with_structure.invoke([SystemMessage(content=system_msg)]+state['messages'])\n",
        "\n",
        "    # 覆盖现有的用户档案记忆\n",
        "    key = \"user_memory\"\n",
        "    store.put(namespace, key, new_memory)\n",
        "\n",
        "# 定义图\n",
        "builder = StateGraph(MessagesState)\n",
        "builder.add_node(\"call_model\", call_model)\n",
        "builder.add_node(\"write_memory\", write_memory)\n",
        "builder.add_edge(START, \"call_model\")\n",
        "builder.add_edge(\"call_model\", \"write_memory\")\n",
        "builder.add_edge(\"write_memory\", END)\n",
        "\n",
        "# 用于长期（跨线程）记忆的存储\n",
        "across_thread_memory = InMemoryStore()\n",
        "\n",
        "# 用于短期（线程内）记忆的检查点\n",
        "within_thread_memory = MemorySaver()\n",
        "\n",
        "# 使用检查点和存储编译图\n",
        "graph = builder.compile(checkpointer=within_thread_memory, store=across_thread_memory)\n",
        "\n",
        "# 显示\n",
        "display(Image(graph.get_graph(xray=1).draw_mermaid_png()))"
      ]
    },
    {
      "cell_type": "code",
      "execution_count": 11,
      "metadata": {},
      "outputs": [
        {
          "name": "stdout",
          "output_type": "stream",
          "text": [
            "================================\u001b[1m Human Message \u001b[0m=================================\n",
            "\n",
            "你好，我的名字是Lance，我喜欢在旧金山骑自行车和在面包店吃饭。\n",
            "==================================\u001b[1m Ai Message \u001b[0m==================================\n",
            "\n",
            "你好，Lance！很高兴认识你。旧金山是个骑自行车的绝佳地方，尤其是沿着海滨骑行，风景非常壮观。你有特别喜欢的骑行路线吗？还有，你提到喜欢在面包店吃饭——旧金山有很多出色的面包店，比如Tartine或B.P. Fallon，你有最喜欢的吗？我很乐意听听你的推荐！\n"
          ]
        }
      ],
      "source": [
        "# 我们提供线程ID用于短期（线程内）记忆\n",
        "# 我们提供用户ID用于长期（跨线程）记忆 \n",
        "config = {\"configurable\": {\"thread_id\": \"1\", \"user_id\": \"1\"}}\n",
        "\n",
        "# 用户输入 \n",
        "input_messages = [HumanMessage(content=\"你好，我的名字是Lance，我喜欢在旧金山骑自行车和在面包店吃饭。\")]\n",
        "\n",
        "# 运行图\n",
        "for chunk in graph.stream({\"messages\": input_messages}, config, stream_mode=\"values\"):\n",
        "    chunk[\"messages\"][-1].pretty_print()"
      ]
    },
    {
      "cell_type": "markdown",
      "metadata": {},
      "source": [
        "Let's check the memory in the store. \n",
        "\n",
        "让我们检查存储中的内存。\n",
        "\n",
        "We can see that the memory is a dictionary that matches our schema.\n",
        "\n",
        "我们可以看到，内存是一个与我们模式匹配的字典。\n",
        "\n"
      ]
    },
    {
      "cell_type": "code",
      "execution_count": 12,
      "metadata": {},
      "outputs": [
        {
          "data": {
            "text/plain": [
              "{'user_name': 'Lance', 'interests': ['骑自行车', '在面包店吃饭']}"
            ]
          },
          "execution_count": 12,
          "metadata": {},
          "output_type": "execute_result"
        }
      ],
      "source": [
        "# Namespace for the memory to save\n",
        "user_id = \"1\"\n",
        "namespace = (\"memory\", user_id)\n",
        "existing_memory = across_thread_memory.get(namespace, \"user_memory\")\n",
        "existing_memory.value"
      ]
    },
    {
      "cell_type": "markdown",
      "metadata": {},
      "source": [
        "## 何时可能会失败？（When can this fail?）\n",
        "\n",
        "[PROTECTED$11$](https://python.langchain.com/docs/concepts/structured_outputs/#recommended-usage) is very useful, but what happens if we're working with a more complex schema? \n",
        "\n",
        "[结构化输出](https://python.langchain.com/docs/concepts/structured_outputs/#recommended-usage) 非常有用，但如果我们处理的是更复杂的模式，会发生什么情况？\n",
        "\n",
        "[Here's](https://github.com/hinthornw/trustcall?tab=readme-ov-file#complex-schema) an example of a more complex schema, which we'll test below. \n",
        "\n",
        "[这里](https://github.com/hinthornw/trustcall?tab=readme-ov-file#complex-schema) 一个更复杂模式的示例，我们将在下面进行测试。\n",
        "\n",
        "This is a [Pydantic](https://docs.pydantic.dev/latest/) model that describes a user's preferences for communication and trust fall.\n",
        "\n",
        "这是一个描述用户沟通和信任偏好的 [Pydantic](https://docs.pydantic.dev/latest/) 模型。\n",
        "\n"
      ]
    },
    {
      "cell_type": "code",
      "execution_count": 13,
      "metadata": {},
      "outputs": [],
      "source": [
        "from typing import List, Optional\n",
        "from pydantic import BaseModel\n",
        "\n",
        "class OutputFormat(BaseModel):\n",
        "    \"\"\"输出格式基类，用于存储用户的偏好信息\"\"\"\n",
        "    preference: str  # 用户的偏好名称\n",
        "    sentence_preference_revealed: str  # 揭示偏好的句子描述\n",
        "\n",
        "class TelegramPreferences(BaseModel):\n",
        "    \"\"\"电报通信偏好设置\"\"\"\n",
        "    preferred_encoding: Optional[List[OutputFormat]] = None  # 偏好的编码方式列表\n",
        "    favorite_telegram_operators: Optional[List[OutputFormat]] = None  # 喜欢的电报操作员列表\n",
        "    preferred_telegram_paper: Optional[List[OutputFormat]] = None  # 偏好的电报纸张类型列表\n",
        "\n",
        "class MorseCode(BaseModel):\n",
        "    \"\"\"摩尔斯电码偏好设置\"\"\"\n",
        "    preferred_key_type: Optional[List[OutputFormat]] = None  # 偏好的按键类型列表\n",
        "    favorite_morse_abbreviations: Optional[List[OutputFormat]] = None  # 喜欢的摩尔斯缩写列表\n",
        "\n",
        "class Semaphore(BaseModel):\n",
        "    \"\"\"旗语通信偏好设置\"\"\"\n",
        "    preferred_flag_color: Optional[List[OutputFormat]] = None  # 偏好的旗帜颜色列表\n",
        "    semaphore_skill_level: Optional[List[OutputFormat]] = None  # 旗语技能水平列表\n",
        "\n",
        "class TrustFallPreferences(BaseModel):\n",
        "    \"\"\"信任跌倒游戏偏好设置\"\"\"\n",
        "    preferred_fall_height: Optional[List[OutputFormat]] = None  # 偏好的跌倒高度列表\n",
        "    trust_level: Optional[List[OutputFormat]] = None  # 信任程度列表\n",
        "    preferred_catching_technique: Optional[List[OutputFormat]] = None  # 偏好的接住技巧列表\n",
        "\n",
        "class CommunicationPreferences(BaseModel):\n",
        "    \"\"\"通信偏好设置集合\"\"\"\n",
        "    telegram: TelegramPreferences  # 电报偏好\n",
        "    morse_code: MorseCode  # 摩尔斯电码偏好\n",
        "    semaphore: Semaphore  # 旗语偏好\n",
        "\n",
        "class UserPreferences(BaseModel):\n",
        "    \"\"\"用户偏好设置的完整模型\"\"\"\n",
        "    communication_preferences: CommunicationPreferences  # 通信偏好设置\n",
        "    trust_fall_preferences: TrustFallPreferences  # 信任跌倒游戏偏好设置\n",
        "\n",
        "class TelegramAndTrustFallPreferences(BaseModel):\n",
        "    \"\"\"电报和信任跌倒偏好的综合模型\"\"\"\n",
        "    pertinent_user_preferences: UserPreferences  # 相关的用户偏好设置"
      ]
    },
    {
      "cell_type": "markdown",
      "metadata": {},
      "source": [
        "Now, let's try extraction of this schema using the `with_structured_output` method.\n",
        "\n",
        "现在，让我们尝试使用 `with_structured_output` 方法提取此模式。\n",
        "\n"
      ]
    },
    {
      "cell_type": "code",
      "execution_count": 16,
      "metadata": {},
      "outputs": [
        {
          "name": "stdout",
          "output_type": "stream",
          "text": [
            "提取的用户偏好：\n",
            "pertinent_user_preferences=UserPreferences(communication_preferences=CommunicationPreferences(telegram=TelegramPreferences(preferred_encoding=[OutputFormat(preference='摩尔斯电码', sentence_preference_revealed='请用摩尔斯电码。')], favorite_telegram_operators=None, preferred_telegram_paper=[OutputFormat(preference='\"敢死队\"纸张', sentence_preference_revealed='我应该使用我们的\"敢死队\"纸张来发送这条大胆的消息吗？')]), morse_code=MorseCode(preferred_key_type=[OutputFormat(preference='直键', sentence_preference_revealed='我喜欢使用直键。')], favorite_morse_abbreviations=None), semaphore=Semaphore(preferred_flag_color=None, semaphore_skill_level=None)), trust_fall_preferences=TrustFallPreferences(preferred_fall_height=[OutputFormat(preference='更高的跌落', sentence_preference_revealed='我准备好了更高的跌落')], trust_level=None, preferred_catching_technique=[OutputFormat(preference='钻石队形', sentence_preference_revealed='我更喜欢钻石队形来接住。')]))\n"
          ]
        }
      ],
      "source": [
        "from pydantic import ValidationError\n",
        "\n",
        "# 将模式绑定到模型\n",
        "model_with_structure = model.with_structured_output(TelegramAndTrustFallPreferences)\n",
        "\n",
        "# 对话内容\n",
        "conversation = \"\"\"操作员：先生，我如何为您处理电报？\n",
        "客户：我需要发送一条关于我们信任跌倒练习的消息。\n",
        "操作员：当然可以。摩尔斯电码还是标准编码？\n",
        "客户：请用摩尔斯电码。我喜欢使用直键。\n",
        "操作员：很好。您的消息是什么？\n",
        "客户：告诉他我准备好了更高的跌落，并且我更喜欢钻石队形来接住。\n",
        "操作员：完成了。我应该使用我们的\"敢死队\"纸张来发送这条大胆的消息吗？\n",
        "客户：完美！用你最快的信鸽发送。\n",
        "操作员：先生，一小时内就会送达。\"\"\"\n",
        "\n",
        "# 调用模型\n",
        "try:\n",
        "    result=model_with_structure.invoke(f\"\"\"从以下对话中提取偏好信息：\n",
        "    <convo>\n",
        "    {conversation}\n",
        "    </convo>\"\"\")\n",
        "    # 输出结果\n",
        "    print(\"提取的用户偏好：\")\n",
        "    print(result)\n",
        "except ValidationError as e:\n",
        "    print(e)\n"
      ]
    },
    {
      "cell_type": "markdown",
      "metadata": {},
      "source": [
        "If we naively extract more complex schemas, even using high capacity model like `gpt-4o`, it is prone to failure.\n",
        "\n"
      ]
    },
    {
      "cell_type": "markdown",
      "metadata": {},
      "source": [
        "## Trustcall 用于创建和更新配置文件模式（Trustcall for creating and updating profile schemas）\n",
        "\n",
        "As we can see, working with schemas can be tricky.\n",
        "\n",
        "正如我们所见，处理模式可能会很棘手。\n",
        "\n",
        "Complex schemas can be difficult to extract. \n",
        "\n",
        "复杂模式可能难以提取。\n",
        "\n",
        "In addition, updating even simple schemas can pose challenges.\n",
        "\n",
        "此外，即使更新简单的模式也可能带来挑战。\n",
        "\n",
        "Consider our above chatbot. \n",
        "\n",
        "考虑我们上面提到的聊天机器人。\n",
        "\n",
        "We regenerated the profile schema *from scratch* each time we chose to save a new memory.\n",
        "This is inefficient, potentially wasting model tokens if the schema contains a lot of information to re-generate each time.\n",
        "\n",
        "这很低效，如果模式包含大量信息，则可能会浪费模型令牌，因为每次都需要重新生成。\n",
        "\n",
        "Worse, we may loose information when regenerating the profile from scratch.\n",
        "\n",
        "更糟的是，当从头重新生成配置文件时，我们可能会丢失信息。\n",
        "\n",
        "Addressing these problems is the motivation for [TrustCall](https://github.com/hinthornw/trustcall)!\n",
        "\n",
        "解决这些问题正是 [TrustCall](https://github.com/hinthornw/trustcall) 的动机！\n",
        "\n",
        "This is an open-source library for updating JSON schemas developed by one [Will Fu-Hinthorn](https://github.com/hinthornw) on the LangChain team.\n",
        "\n",
        "这是一个由 LangChain 团队中的一位 [Will Fu-Hinthorn](https://github.com/hinthornw) 开发的开源库，用于更新 JSON 模式。\n",
        "\n",
        "It's motivated by exactly these challenges while working on memory.\n",
        "\n",
        "它正是出于在研究记忆时所面临的这些挑战而被推动的。\n",
        "\n",
        "Let's first show simple usage of extraction with TrustCall on this list of [messages](https://python.langchain.com/docs/concepts/messages/).\n",
        "\n",
        "\n",
        "让我们首先展示在此 [messages](https://python.langchain.com/docs/concepts/messages/) 列表上使用 TrustCall 进行简单提取的用法。\n",
        "\n"
      ]
    },
    {
      "cell_type": "code",
      "execution_count": 23,
      "metadata": {},
      "outputs": [],
      "source": [
        "# 对话\n",
        "conversation = [HumanMessage(content=\"嗨，我是兰斯。\"), \n",
        "                AIMessage(content=\"很高兴认识你，兰斯。\"), \n",
        "                HumanMessage(content=\"我非常喜欢在旧金山骑自行车。\")]"
      ]
    },
    {
      "cell_type": "markdown",
      "metadata": {},
      "source": [
        "We use `create_extractor`, passing in the model as well as our schema as a [tool](https://python.langchain.com/docs/concepts/tools/).\n",
        "\n",
        "我们使用 `create_extractor`，传入模型以及我们的模式作为 [tool](https://python.langchain.com/docs/concepts/tools/)。\n",
        "\n",
        "With TrustCall, can supply supply the schema in various ways. \n",
        "\n",
        "使用 TrustCall 时，可以以多种方式提供模式。\n",
        "\n",
        "For example, we can pass a JSON object / Python dictionary or Pydantic model.\n",
        "\n",
        "例如，我们可以传递一个 JSON 对象 / Python 字典或 Pydantic 模型。\n",
        "\n",
        "Under the hood, TrustCall uses [tool calling](https://python.langchain.com/docs/concepts/tool_calling/) to produce [structured output](https://python.langchain.com/docs/concepts/structured_outputs/) from an input list of [messages](https://python.langchain.com/docs/concepts/messages/).\n",
        "\n",
        "在底层，TrustCall 使用 [tool calling](https://python.langchain.com/docs/concepts/tool_calling/) 从输入的 [messages](https://python.langchain.com/docs/concepts/messages/) 列表中生成 [structured output](https://python.langchain.com/docs/concepts/structured_outputs/)。\n",
        "\n",
        "To force Trustcall to produce [structured output](https://python.langchain.com/docs/concepts/structured_outputs/), we can include the schema name in the `tool_choice` argument.\n",
        "\n",
        "为了强制 Trustcall 生成 [structured output](https://python.langchain.com/docs/concepts/structured_outputs/)，我们可以在 `tool_choice` 参数中包含模式名称。\n",
        "\n",
        "We can invoke the extractor with  the above conversation.\n",
        "\n",
        "我们可以使用上述对话调用提取器。\n",
        "\n"
      ]
    },
    {
      "cell_type": "code",
      "execution_count": null,
      "metadata": {},
      "outputs": [],
      "source": [
        "# 从trustcall导入create_extractor\n",
        "from trustcall import create_extractor\n",
        "# 模式定义\n",
        "class UserProfile(BaseModel):\n",
        "    \"\"\"带类型字段的用户档案模式\"\"\"\n",
        "    user_name: str = Field(description=\"用户的偏好姓名\")\n",
        "    interests: List[str] = Field(description=\"用户兴趣列表\")\n",
        "\n",
        "# 初始化模型\n",
        "model = ChatTongyi(\n",
        "    model=\"qwen-plus-2025-07-14\",\n",
        "    api_key=\"sk-ba2dda3817f145d7af141fdf32e31d90\"\n",
        ")\n",
        "\n",
        "# 创建提取器\n",
        "#tools=[UserProfile] 告诉 LLM 要提取什么结构，而 tool_choice=\"UserProfile\" 强制它只提取这个结构，确保结果精准可控。\n",
        "trustcall_extractor = create_extractor(\n",
        "    model,\n",
        "    tools=[UserProfile],\n",
        "    tool_choice=\"UserProfile\"\n",
        ")\n",
        "\n",
        "# 指令\n",
        "system_msg = \"从以下对话中提取用户档案\"\n",
        "\n",
        "# 调用提取器\n",
        "result = trustcall_extractor.invoke({\"messages\": [SystemMessage(content=system_msg)]+conversation})"
      ]
    },
    {
      "cell_type": "markdown",
      "metadata": {},
      "source": [
        "When we invoke the extractor, we get a few things:\n",
        "\n",
        "当我们调用提取器时，我们会得到一些内容：\n",
        "\n",
        "* `messages`: The list of `AIMessages` that contain the tool calls. \n",
        "* `responses`: The resulting parsed tool calls that match our schema.\n",
        "* `response_metadata`: Applicable if updating existing tool calls. It says which of the responses correspond to which of the existing objects.\n",
        "\n",
        "\n",
        "*`messages`：包含工具调用的 `AIMessages` 列表。* `responses`：与我们模式匹配的解析后的工具调用结果。  \n",
        "* `response_metadata`：在更新现有工具调用时适用。它说明哪些响应对应于哪些现有的对象。\n",
        "\n"
      ]
    },
    {
      "cell_type": "code",
      "execution_count": 28,
      "metadata": {},
      "outputs": [
        {
          "name": "stdout",
          "output_type": "stream",
          "text": [
            "==================================\u001b[1m Ai Message \u001b[0m==================================\n",
            "Tool Calls:\n",
            "  UserProfile (call_61393dc3f1154161ba51a9)\n",
            " Call ID: call_61393dc3f1154161ba51a9\n",
            "  Args:\n",
            "    user_name: 兰斯\n",
            "    interests: ['在旧金山骑自行车']\n"
          ]
        }
      ],
      "source": [
        "for m in result[\"messages\"]: \n",
        "    m.pretty_print()"
      ]
    },
    {
      "cell_type": "code",
      "execution_count": 29,
      "metadata": {},
      "outputs": [
        {
          "data": {
            "text/plain": [
              "[UserProfile(user_name='兰斯', interests=['在旧金山骑自行车'])]"
            ]
          },
          "execution_count": 29,
          "metadata": {},
          "output_type": "execute_result"
        }
      ],
      "source": [
        "schema = result[\"responses\"]\n",
        "schema"
      ]
    },
    {
      "cell_type": "code",
      "execution_count": 30,
      "metadata": {},
      "outputs": [
        {
          "data": {
            "text/plain": [
              "{'user_name': '兰斯', 'interests': ['在旧金山骑自行车']}"
            ]
          },
          "execution_count": 30,
          "metadata": {},
          "output_type": "execute_result"
        }
      ],
      "source": [
        "schema[0].model_dump()"
      ]
    },
    {
      "cell_type": "code",
      "execution_count": 33,
      "metadata": {},
      "outputs": [
        {
          "data": {
            "text/plain": [
              "[{'id': 'call_61393dc3f1154161ba51a9'}]"
            ]
          },
          "execution_count": 33,
          "metadata": {},
          "output_type": "execute_result"
        }
      ],
      "source": [
        "result[\"response_metadata\"]"
      ]
    },
    {
      "cell_type": "markdown",
      "metadata": {},
      "source": [
        "Let's see how we can use it to *update* the profile.\n",
        "\n",
        "让我们看看如何使用它来 *更新* 个人资料。\n",
        "\n",
        "For updating, TrustCall takes a set of messages as well as the existing schema. \n",
        "\n",
        "对于更新，TrustCall 采用一组消息以及现有的模式。\n",
        "\n",
        "The central idea is that it prompts the model to produce a [JSON Patch](https://jsonpatch.com/) to update only the relevant parts of the schema.\n",
        "\n",
        "核心思想是它提示模型生成一个 [JSON Patch](https://jsonpatch.com/)，以仅更新模式的相关部分。\n",
        "\n",
        "This is less error-prone than naively overwriting the entire schema.\n",
        "\n",
        "这比天真地覆盖整个模式更不容易出错。\n",
        "\n",
        "It's also more efficient since the model only needs to generate the parts of the schema that have changed.\n",
        "\n",
        "它也更高效，因为模型只需要生成已更改的模式部分。\n",
        "\n",
        "We can save the existing schema as a dict.\n",
        "\n",
        "我们可以将现有的模式保存为字典。\n",
        "\n",
        "We can use `model_dump()` to serialize a Pydantic model instance into a dict. \n",
        "\n",
        "我们可以使用 `model_dump()` 将 Pydantic 模型实例序列化为字典。\n",
        "\n",
        "We pass it to the `\"existing\"` argument along with the schema name, `UserProfile`. \n",
        "\n",
        "我们将它与模式名称一起传递给 `\"existing\"` 参数，`UserProfile`。\n",
        "\n"
      ]
    },
    {
      "cell_type": "code",
      "execution_count": 34,
      "metadata": {},
      "outputs": [],
      "source": [
        "# 更新对话\n",
        "updated_conversation = [HumanMessage(content=\"嗨，我是兰斯。\"), \n",
        "                        AIMessage(content=\"很高兴认识你，兰斯。\"), \n",
        "                        HumanMessage(content=\"我非常喜欢在旧金山骑自行车。\"),\n",
        "                        AIMessage(content=\"旧金山是个很棒的城市！骑车后你会去哪里？\"),\n",
        "                        HumanMessage(content=\"骑车后我真的很喜欢去面包店。\")]\n",
        "\n",
        "# 更新指令\n",
        "system_msg = f\"\"\"更新记忆（JSON文档），以整合来自以下对话的新信息\"\"\"\n",
        "\n",
        "# 使用更新的指令和现有档案调用提取器，对应工具名称为UserProfile\n",
        "result = trustcall_extractor.invoke({\"messages\": [SystemMessage(content=system_msg)]+updated_conversation}, \n",
        "                                    {\"existing\": {\"UserProfile\": schema[0].model_dump()}})"
      ]
    },
    {
      "cell_type": "code",
      "execution_count": 35,
      "metadata": {},
      "outputs": [
        {
          "name": "stdout",
          "output_type": "stream",
          "text": [
            "==================================\u001b[1m Ai Message \u001b[0m==================================\n",
            "Tool Calls:\n",
            "  UserProfile (call_5186b8cfb03e44a3b701b9)\n",
            " Call ID: call_5186b8cfb03e44a3b701b9\n",
            "  Args:\n",
            "    user_name: 兰斯\n",
            "    interests: ['骑自行车', '面包店']\n"
          ]
        }
      ],
      "source": [
        "for m in result[\"messages\"]: \n",
        "    m.pretty_print()"
      ]
    },
    {
      "cell_type": "code",
      "execution_count": 36,
      "metadata": {},
      "outputs": [
        {
          "data": {
            "text/plain": [
              "[{'id': 'call_5186b8cfb03e44a3b701b9'}]"
            ]
          },
          "execution_count": 36,
          "metadata": {},
          "output_type": "execute_result"
        }
      ],
      "source": [
        "result[\"response_metadata\"]"
      ]
    },
    {
      "cell_type": "code",
      "execution_count": 37,
      "metadata": {},
      "outputs": [
        {
          "data": {
            "text/plain": [
              "{'user_name': '兰斯', 'interests': ['骑自行车', '面包店']}"
            ]
          },
          "execution_count": 37,
          "metadata": {},
          "output_type": "execute_result"
        }
      ],
      "source": [
        "updated_schema = result[\"responses\"][0]\n",
        "updated_schema.model_dump()"
      ]
    },
    {
      "cell_type": "markdown",
      "metadata": {},
      "source": [
        "LangSmith trace:\n",
        "\n",
        "LangSmith 跟踪：\n",
        "\n",
        "https://smith.langchain.com/public/229eae22-1edb-44c6-93e6-489124a43968/r\n",
        "\n",
        "Now, let's also test Trustcall on the [challenging schema](https://github.com/hinthornw/trustcall?tab=readme-ov-file#complex-schema) that we saw earlier.\n",
        "\n",
        "现在，让我们也在之前看到的 [challenging schema](https://github.com/hinthornw/trustcall?tab=readme-ov-file#complex-schema) 上测试 Trustcall。\n",
        "\n"
      ]
    },
    {
      "cell_type": "code",
      "execution_count": 41,
      "metadata": {},
      "outputs": [
        {
          "name": "stderr",
          "output_type": "stream",
          "text": [
            "6 validation errors for TelegramAndTrustFallPreferences\n",
            "pertinent_user_preferences.communication_preferences.telegram.preferred_encoding.0\n",
            "  Input should be a valid dictionary or instance of OutputFormat [type=model_type, input_value='Morse code', input_type=str]\n",
            "    For further information visit https://errors.pydantic.dev/2.11/v/model_type\n",
            "pertinent_user_preferences.communication_preferences.telegram.favorite_telegram_operators.0\n",
            "  Input should be a valid dictionary or instance of OutputFormat [type=model_type, input_value='fastest pigeon', input_type=str]\n",
            "    For further information visit https://errors.pydantic.dev/2.11/v/model_type\n",
            "pertinent_user_preferences.communication_preferences.telegram.preferred_telegram_paper.0\n",
            "  Input should be a valid dictionary or instance of OutputFormat [type=model_type, input_value='Daredevils paper', input_type=str]\n",
            "    For further information visit https://errors.pydantic.dev/2.11/v/model_type\n",
            "pertinent_user_preferences.communication_preferences.morse_code.preferred_key_type.0\n",
            "  Input should be a valid dictionary or instance of OutputFormat [type=model_type, input_value='hand key', input_type=str]\n",
            "    For further information visit https://errors.pydantic.dev/2.11/v/model_type\n",
            "pertinent_user_preferences.trust_fall_preferences.preferred_fall_height.0\n",
            "  Input should be a valid dictionary or instance of OutputFormat [type=model_type, input_value='higher falls', input_type=str]\n",
            "    For further information visit https://errors.pydantic.dev/2.11/v/model_type\n",
            "pertinent_user_preferences.trust_fall_preferences.preferred_catching_technique.0\n",
            "  Input should be a valid dictionary or instance of OutputFormat [type=model_type, input_value='diamond formation', input_type=str]\n",
            "    For further information visit https://errors.pydantic.dev/2.11/v/model_type\n"
          ]
        },
        {
          "data": {
            "text/plain": [
              "[]"
            ]
          },
          "execution_count": 41,
          "metadata": {},
          "output_type": "execute_result"
        }
      ],
      "source": [
        "bound = create_extractor(\n",
        "    model,\n",
        "    tools=[TelegramAndTrustFallPreferences]\n",
        ")\n",
        "\n",
        "# 对话\n",
        "conversation = \"\"\"接线员：先生，您的电报有什么需要帮助的吗？\n",
        "客户：我需要发送一条关于我们的信任坠落练习的消息。\n",
        "接线员：当然可以。摩尔斯电码还是标准编码？\n",
        "客户：请用摩尔斯电码。我喜欢使用手键。\n",
        "接线员：很好。您的消息是什么？\n",
        "客户：告诉他我已准备好进行更高的坠落，我更喜欢钻石队形来接住。\n",
        "接线员：完成了。我应该为这条大胆的消息使用我们的\"敢死队\"纸张吗？\n",
        "客户：完美！用你最快的信鸽发送。\n",
        "接线员：先生，一小时内就会送到。\"\"\"\n",
        "\n",
        "result = bound.invoke(\n",
        "    f\"\"\"从以下对话中提取偏好设置：\n",
        "<convo>\n",
        "{conversation}\n",
        "</convo>\"\"\"\n",
        ")\n",
        "\n",
        "# 提取偏好设置\n",
        "result[\"responses\"]"
      ]
    },
    {
      "cell_type": "markdown",
      "metadata": {},
      "source": [
        "Trace: \n",
        "\n",
        "https://smith.langchain.com/public/5cd23009-3e05-4b00-99f0-c66ee3edd06e/r\n",
        "\n",
        "For more examples, you can see an overview video [here](https://www.youtube.com/watch?v=-H4s0jQi-QY).\n",
        "\n",
        "如需更多示例，您可以查看概述视频 [here](https://www.youtube.com/watch?v=-H4s0jQi-QY)。\n",
        "\n"
      ]
    },
    {
      "cell_type": "markdown",
      "metadata": {},
      "source": [
        "## 带有配置架构更新的聊天机器人（Chatbot with profile schema updating）\n",
        "\n",
        "Now, let's bring Trustcall into our chatbot to create *and update* a memory profile.\n",
        "\n",
        "现在，让我们将 Trustcall 引入我们的聊天机器人中，以 *创建并更新* 内存配置文件。\n",
        "\n"
      ]
    },
    {
      "cell_type": "code",
      "execution_count": 22,
      "metadata": {},
      "outputs": [
        {
          "data": {
            "image/jpeg": "[encoded data removed]",
            "text/plain": [
              "<IPython.core.display.Image object>"
            ]
          },
          "metadata": {},
          "output_type": "display_data"
        }
      ],
      "source": [
        "from IPython.display import Image, display\n",
        "\n",
        "from langchain_core.messages import HumanMessage, SystemMessage\n",
        "from langgraph.graph import StateGraph, MessagesState, START, END\n",
        "from langchain_core.runnables.config import RunnableConfig\n",
        "from langgraph.checkpoint.memory import MemorySaver\n",
        "from langgraph.store.base import BaseStore\n",
        "\n",
        "# Initialize the model\n",
        "model = ChatOpenAI(model=\"gpt-4o\", temperature=0)\n",
        "\n",
        "# Schema \n",
        "class UserProfile(BaseModel):\n",
        "    \"\"\" Profile of a user \"\"\"\n",
        "    user_name: str = Field(description=\"The user's preferred name\")\n",
        "    user_location: str = Field(description=\"The user's location\")\n",
        "    interests: list = Field(description=\"A list of the user's interests\")\n",
        "\n",
        "# Create the extractor\n",
        "trustcall_extractor = create_extractor(\n",
        "    model,\n",
        "    tools=[UserProfile],\n",
        "    tool_choice=\"UserProfile\", # Enforces use of the UserProfile tool\n",
        ")\n",
        "\n",
        "# Chatbot instruction\n",
        "MODEL_SYSTEM_MESSAGE = \"\"\"You are a helpful assistant with memory that provides information about the user. \n",
        "If you have memory for this user, use it to personalize your responses.\n",
        "Here is the memory (it may be empty): {memory}\"\"\"\n",
        "\n",
        "# Extraction instruction\n",
        "TRUSTCALL_INSTRUCTION = \"\"\"Create or update the memory (JSON doc) to incorporate information from the following conversation:\"\"\"\n",
        "\n",
        "def call_model(state: MessagesState, config: RunnableConfig, store: BaseStore):\n",
        "\n",
        "    \"\"\"Load memory from the store and use it to personalize the chatbot's response.\"\"\"\n",
        "    \n",
        "    # Get the user ID from the config\n",
        "    user_id = config[\"configurable\"][\"user_id\"]\n",
        "\n",
        "    # Retrieve memory from the store\n",
        "    namespace = (\"memory\", user_id)\n",
        "    existing_memory = store.get(namespace, \"user_memory\")\n",
        "\n",
        "    # Format the memories for the system prompt\n",
        "    if existing_memory and existing_memory.value:\n",
        "        memory_dict = existing_memory.value\n",
        "        formatted_memory = (\n",
        "            f\"Name: {memory_dict.get('user_name', 'Unknown')}\\n\"\n",
        "            f\"Location: {memory_dict.get('user_location', 'Unknown')}\\n\"\n",
        "            f\"Interests: {', '.join(memory_dict.get('interests', []))}\"      \n",
        "        )\n",
        "    else:\n",
        "        formatted_memory = None\n",
        "\n",
        "    # Format the memory in the system prompt\n",
        "    system_msg = MODEL_SYSTEM_MESSAGE.format(memory=formatted_memory)\n",
        "\n",
        "    # Respond using memory as well as the chat history\n",
        "    response = model.invoke([SystemMessage(content=system_msg)]+state[\"messages\"])\n",
        "\n",
        "    return {\"messages\": response}\n",
        "\n",
        "def write_memory(state: MessagesState, config: RunnableConfig, store: BaseStore):\n",
        "\n",
        "    \"\"\"Reflect on the chat history and save a memory to the store.\"\"\"\n",
        "    \n",
        "    # Get the user ID from the config\n",
        "    user_id = config[\"configurable\"][\"user_id\"]\n",
        "\n",
        "    # Retrieve existing memory from the store\n",
        "    namespace = (\"memory\", user_id)\n",
        "    existing_memory = store.get(namespace, \"user_memory\")\n",
        "        \n",
        "    # Get the profile as the value from the list, and convert it to a JSON doc\n",
        "    existing_profile = {\"UserProfile\": existing_memory.value} if existing_memory else None\n",
        "    \n",
        "    # Invoke the extractor\n",
        "    result = trustcall_extractor.invoke({\"messages\": [SystemMessage(content=TRUSTCALL_INSTRUCTION)]+state[\"messages\"], \"existing\": existing_profile})\n",
        "    \n",
        "    # Get the updated profile as a JSON object\n",
        "    updated_profile = result[\"responses\"][0].model_dump()\n",
        "\n",
        "    # Save the updated profile\n",
        "    key = \"user_memory\"\n",
        "    store.put(namespace, key, updated_profile)\n",
        "\n",
        "# Define the graph\n",
        "builder = StateGraph(MessagesState)\n",
        "builder.add_node(\"call_model\", call_model)\n",
        "builder.add_node(\"write_memory\", write_memory)\n",
        "builder.add_edge(START, \"call_model\")\n",
        "builder.add_edge(\"call_model\", \"write_memory\")\n",
        "builder.add_edge(\"write_memory\", END)\n",
        "\n",
        "# Store for long-term (across-thread) memory\n",
        "across_thread_memory = InMemoryStore()\n",
        "\n",
        "# Checkpointer for short-term (within-thread) memory\n",
        "within_thread_memory = MemorySaver()\n",
        "\n",
        "# Compile the graph with the checkpointer fir and store\n",
        "graph = builder.compile(checkpointer=within_thread_memory, store=across_thread_memory)\n",
        "\n",
        "# View\n",
        "display(Image(graph.get_graph(xray=1).draw_mermaid_png()))"
      ]
    },
    {
      "cell_type": "code",
      "execution_count": 23,
      "metadata": {},
      "outputs": [
        {
          "name": "stdout",
          "output_type": "stream",
          "text": [
            "================================\u001b[1m Human Message \u001b[0m=================================\n",
            "\n",
            "Hi, my name is Lance\n",
            "==================================\u001b[1m Ai Message \u001b[0m==================================\n",
            "\n",
            "Hello, Lance! It's nice to meet you. How can I assist you today?\n"
          ]
        }
      ],
      "source": [
        "# We supply a thread ID for short-term (within-thread) memory\n",
        "# We supply a user ID for long-term (across-thread) memory \n",
        "config = {\"configurable\": {\"thread_id\": \"1\", \"user_id\": \"1\"}}\n",
        "\n",
        "# User input \n",
        "input_messages = [HumanMessage(content=\"Hi, my name is Lance\")]\n",
        "\n",
        "# Run the graph\n",
        "for chunk in graph.stream({\"messages\": input_messages}, config, stream_mode=\"values\"):\n",
        "    chunk[\"messages\"][-1].pretty_print()"
      ]
    },
    {
      "cell_type": "code",
      "execution_count": 24,
      "metadata": {},
      "outputs": [
        {
          "name": "stdout",
          "output_type": "stream",
          "text": [
            "================================\u001b[1m Human Message \u001b[0m=================================\n",
            "\n",
            "I like to bike around San Francisco\n",
            "==================================\u001b[1m Ai Message \u001b[0m==================================\n",
            "\n",
            "That sounds like a great way to explore the city! San Francisco has some beautiful routes and views. Do you have any favorite trails or spots you like to visit while biking?\n"
          ]
        }
      ],
      "source": [
        "# User input \n",
        "input_messages = [HumanMessage(content=\"I like to bike around San Francisco\")]\n",
        "\n",
        "# Run the graph\n",
        "for chunk in graph.stream({\"messages\": input_messages}, config, stream_mode=\"values\"):\n",
        "    chunk[\"messages\"][-1].pretty_print()"
      ]
    },
    {
      "cell_type": "code",
      "execution_count": 25,
      "metadata": {},
      "outputs": [
        {
          "data": {
            "text/plain": [
              "{'value': {'user_name': 'Lance',\n",
              "  'user_location': 'San Francisco',\n",
              "  'interests': ['biking']},\n",
              " 'key': 'user_memory',\n",
              " 'namespace': ['memory', '1'],\n",
              " 'created_at': '2024-11-04T23:51:17.662428+00:00',\n",
              " 'updated_at': '2024-11-04T23:51:41.697652+00:00'}"
            ]
          },
          "execution_count": 25,
          "metadata": {},
          "output_type": "execute_result"
        }
      ],
      "source": [
        "# Namespace for the memory to save\n",
        "user_id = \"1\"\n",
        "namespace = (\"memory\", user_id)\n",
        "existing_memory = across_thread_memory.get(namespace, \"user_memory\")\n",
        "existing_memory.dict()"
      ]
    },
    {
      "cell_type": "code",
      "execution_count": 26,
      "metadata": {},
      "outputs": [
        {
          "data": {
            "text/plain": [
              "{'user_name': 'Lance',\n",
              " 'user_location': 'San Francisco',\n",
              " 'interests': ['biking']}"
            ]
          },
          "execution_count": 26,
          "metadata": {},
          "output_type": "execute_result"
        }
      ],
      "source": [
        "# The user profile saved as a JSON object\n",
        "existing_memory.value"
      ]
    },
    {
      "cell_type": "code",
      "execution_count": 27,
      "metadata": {},
      "outputs": [
        {
          "name": "stdout",
          "output_type": "stream",
          "text": [
            "================================\u001b[1m Human Message \u001b[0m=================================\n",
            "\n",
            "I also enjoy going to bakeries\n",
            "==================================\u001b[1m Ai Message \u001b[0m==================================\n",
            "\n",
            "Biking and visiting bakeries sounds like a delightful combination! San Francisco has some fantastic bakeries. Do you have any favorites, or are you looking for new recommendations to try out?\n"
          ]
        }
      ],
      "source": [
        "# User input \n",
        "input_messages = [HumanMessage(content=\"I also enjoy going to bakeries\")]\n",
        "\n",
        "# Run the graph\n",
        "for chunk in graph.stream({\"messages\": input_messages}, config, stream_mode=\"values\"):\n",
        "    chunk[\"messages\"][-1].pretty_print()"
      ]
    },
    {
      "cell_type": "markdown",
      "metadata": {},
      "source": [
        "Continue the conversation in a new thread.\n",
        "\n",
        "在新线程中继续对话。\n",
        "\n"
      ]
    },
    {
      "cell_type": "code",
      "execution_count": 28,
      "metadata": {},
      "outputs": [
        {
          "name": "stdout",
          "output_type": "stream",
          "text": [
            "================================\u001b[1m Human Message \u001b[0m=================================\n",
            "\n",
            "What bakeries do you recommend for me?\n",
            "==================================\u001b[1m Ai Message \u001b[0m==================================\n",
            "\n",
            "Since you're in San Francisco and enjoy going to bakeries, here are a few recommendations you might like:\n",
            "\n",
            "1. **Tartine Bakery** - Known for its delicious bread and pastries, it's a must-visit for any bakery enthusiast.\n",
            "2. **B. Patisserie** - Offers a delightful selection of French pastries, including their famous kouign-amann.\n",
            "3. **Arsicault Bakery** - Renowned for its croissants, which have been praised as some of the best in the country.\n",
            "4. **Craftsman and Wolves** - Known for their inventive pastries and the \"Rebel Within,\" a savory muffin with a soft-cooked egg inside.\n",
            "5. **Mr. Holmes Bakehouse** - Famous for their cruffins and other creative pastries.\n",
            "\n",
            "These spots should offer a great variety of treats for you to enjoy. Happy bakery hopping!\n"
          ]
        }
      ],
      "source": [
        "# We supply a thread ID for short-term (within-thread) memory\n",
        "# We supply a user ID for long-term (across-thread) memory \n",
        "config = {\"configurable\": {\"thread_id\": \"2\", \"user_id\": \"1\"}}\n",
        "\n",
        "# User input \n",
        "input_messages = [HumanMessage(content=\"What bakeries do you recommend for me?\")]\n",
        "\n",
        "# Run the graph\n",
        "for chunk in graph.stream({\"messages\": input_messages}, config, stream_mode=\"values\"):\n",
        "    chunk[\"messages\"][-1].pretty_print()"
      ]
    },
    {
      "cell_type": "markdown",
      "metadata": {},
      "source": [
        "Trace:\n",
        "\n",
        "https://smith.langchain.com/public/f45bdaf0-6963-4c19-8ec9-f4b7fe0f68ad/r\n",
        "\n",
        "## 工作室（Studio）\n",
        "\n",
        "![Screenshot 2024-10-30 at 11.26.31 AM.png](https://cdn.prod.website-files.com/65b8cd72835ceeacd4449a53/6732d0437060f1754ea79908_Screenshot%202024-11-11%20at%207.48.53%E2%80%AFPM.png)\n",
        "\n"
      ]
    },
    {
      "cell_type": "code",
      "execution_count": null,
      "metadata": {},
      "outputs": [],
      "source": []
    }
  ],
  "metadata": {
    "kernelspec": {
      "display_name": "Python 3",
      "language": "python",
      "name": "python3"
    },
    "language_info": {
      "codemirror_mode": {
        "name": "ipython",
        "version": 3
      },
      "file_extension": ".py",
      "mimetype": "text/x-python",
      "name": "python",
      "nbconvert_exporter": "python",
      "pygments_lexer": "ipython3",
      "version": "3.11.1"
    }
  },
  "nbformat": 4,
  "nbformat_minor": 4
}
